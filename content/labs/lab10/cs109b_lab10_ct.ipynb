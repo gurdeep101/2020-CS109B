{
 "cells": [
  {
   "cell_type": "markdown",
   "metadata": {
    "colab_type": "text",
    "id": "REOZAjrkAo_r"
   },
   "source": [
    "# <img style=\"float: left; padding-right: 10px; width: 45px\" src=\"https://raw.githubusercontent.com/Harvard-IACS/2018-CS109A/master/content/styles/iacs.png\"> CS109B Data Science 2: Advanced Topics in Data Science \n",
    "## Lab 10: Variational Autoencoders and GANs\n",
    "\n",
    "**Harvard University**<br>\n",
    "**Fall 2020**<br>\n",
    "**Instructors:** Mark Glickman, Pavlos Protopapas, and Chris Tanner<br>\n",
    "**Lab Instructors:** Chris Tanner and Eleni Angelaki Kaxiras<br>\n",
    "**Content:** Srivatsan Srinivasan, Pavlos Protopapas, Chris Tanner \n",
    "\n",
    "\n",
    "<hr style=\"height:2pt\">"
   ]
  },
  {
   "cell_type": "code",
   "execution_count": 1,
   "metadata": {
    "colab": {
     "base_uri": "https://localhost:8080/",
     "height": 17
    },
    "colab_type": "code",
    "id": "9kiDBVI5Ao_s",
    "outputId": "d7cf5b06-03dc-4f94-8b5f-47eb7acf1d51"
   },
   "outputs": [
    {
     "data": {
      "text/html": [
       "<style>\n",
       "blockquote { background: #AEDE94; }\n",
       "h1 { \n",
       "    padding-top: 25px;\n",
       "    padding-bottom: 25px;\n",
       "    text-align: left; \n",
       "    padding-left: 10px;\n",
       "    background-color: #DDDDDD; \n",
       "    color: black;\n",
       "}\n",
       "h2 { \n",
       "    padding-top: 10px;\n",
       "    padding-bottom: 10px;\n",
       "    text-align: left; \n",
       "    padding-left: 5px;\n",
       "    background-color: #EEEEEE; \n",
       "    color: black;\n",
       "}\n",
       "\n",
       "div.exercise {\n",
       "\tbackground-color: #ffcccc;\n",
       "\tborder-color: #E9967A; \t\n",
       "\tborder-left: 5px solid #800080; \n",
       "\tpadding: 0.5em;\n",
       "}\n",
       "div.discussion {\n",
       "\tbackground-color: #ccffcc;\n",
       "\tborder-color: #88E97A;\n",
       "\tborder-left: 5px solid #0A8000; \n",
       "\tpadding: 0.5em;\n",
       "}\n",
       "div.theme {\n",
       "\tbackground-color: #DDDDDD;\n",
       "\tborder-color: #E9967A; \t\n",
       "\tborder-left: 5px solid #800080; \n",
       "\tpadding: 0.5em;\n",
       "\tfont-size: 18pt;\n",
       "}\n",
       "div.gc { \n",
       "\tbackground-color: #AEDE94;\n",
       "\tborder-color: #E9967A; \t \n",
       "\tborder-left: 5px solid #800080; \n",
       "\tpadding: 0.5em;\n",
       "\tfont-size: 12pt;\n",
       "}\n",
       "p.q1 { \n",
       "    padding-top: 5px;\n",
       "    padding-bottom: 5px;\n",
       "    text-align: left; \n",
       "    padding-left: 5px;\n",
       "    background-color: #EEEEEE; \n",
       "    color: black;\n",
       "}\n",
       "header {\n",
       "   padding-top: 35px;\n",
       "    padding-bottom: 35px;\n",
       "    text-align: left; \n",
       "    padding-left: 10px;\n",
       "    background-color: #DDDDDD; \n",
       "    color: black;\n",
       "}\n",
       "</style>\n",
       "\n"
      ],
      "text/plain": [
       "<IPython.core.display.HTML object>"
      ]
     },
     "execution_count": 1,
     "metadata": {},
     "output_type": "execute_result"
    }
   ],
   "source": [
    "# RUN THIS CELL TO PROPERLY HIGHLIGHT THE EXERCISES\n",
    "import requests\n",
    "from IPython.core.display import HTML\n",
    "styles = requests.get(\"https://raw.githubusercontent.com/Harvard-IACS/2019-CS109B/master/content/styles/cs109.css\").text\n",
    "HTML(styles)\n"
   ]
  },
  {
   "cell_type": "code",
   "execution_count": 3,
   "metadata": {
    "colab": {
     "base_uri": "https://localhost:8080/",
     "height": 51
    },
    "colab_type": "code",
    "id": "P_mbEf6AAo_w",
    "outputId": "944d8f0f-fa5b-4421-b04b-dda3944501c9"
   },
   "outputs": [
    {
     "name": "stdout",
     "output_type": "stream",
     "text": [
      "2.0.0\n"
     ]
    }
   ],
   "source": [
    "# system libraries \n",
    "import sys\n",
    "import warnings\n",
    "import os\n",
    "import glob\n",
    "warnings.filterwarnings(\"ignore\")\n",
    "\n",
    "# image libraries\n",
    "import cv2 # requires installing opencv (e.g., pip install opencv-python)\n",
    "from imgaug import augmenters # requires installing imgaug (e.g., pip install imgaug)\n",
    "\n",
    "# math/numerical libraries\n",
    "import matplotlib.pyplot as plt\n",
    "import numpy as np\n",
    "import pandas as pd\n",
    "import scipy\n",
    "from scipy.stats import norm\n",
    "from sklearn.model_selection import train_test_split\n",
    "\n",
    "import tensorflow as tf\n",
    "\n",
    "# deep learning libraries\n",
    "from tensorflow.keras.models import Model, Sequential\n",
    "from tensorflow.keras.optimizers import Adam, RMSprop\n",
    "\n",
    "from tensorflow.keras.layers import *\n",
    "from tensorflow.keras import backend as K\n",
    "# from keras.callbacks import EarlyStopping\n",
    "# from keras.utils import to_categorical\n",
    "# from keras.metrics import *\n",
    "# from keras.preprocessing import image, sequence\n",
    "# \n",
    "\n",
    "print(tf.__version__)"
   ]
  },
  {
   "cell_type": "markdown",
   "metadata": {
    "colab_type": "text",
    "id": "rpO07ploAo_y"
   },
   "source": [
    "## Part 1: Recap of Autoencoders (AEs)\n",
    "As a reminder, this is the typical architecture of a 'vanilla/standard/traditional' autoencoder.\n",
    "\n",
    "<div>\n",
    "<img src=\"https://cdn-images-1.medium.com/max/1600/1*ZEvDcg1LP7xvrTSHt0B5-Q@2x.png\" width=\"400\"/>\n",
    "</div>"
   ]
  },
  {
   "cell_type": "markdown",
   "metadata": {
    "colab_type": "text",
    "id": "fOIDJTBUAo_z"
   },
   "source": [
    "\n",
    "### Data: obtainment and pre-processing\n",
    "\n",
    "We will be using Fashion-MNIST, the same dataset that we used in Lab 7 when we studied traditional autoencoders. Again, we can conveniently access the dataset since it is included with Keras:"
   ]
  },
  {
   "cell_type": "code",
   "execution_count": 4,
   "metadata": {
    "colab": {
     "base_uri": "https://localhost:8080/",
     "height": 762
    },
    "colab_type": "code",
    "id": "KKoy-yLjAo_z",
    "outputId": "a0a3842a-529d-48d0-e523-919e67787809"
   },
   "outputs": [
    {
     "name": "stdout",
     "output_type": "stream",
     "text": [
      "X_train shape: (60000, 28, 28), X_test shape: (10000, 28, 28)\n",
      "y_train shape: (60000,), and y_test shape: (10000,)\n"
     ]
    },
    {
     "data": {
      "image/png": "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\n",
      "text/plain": [
       "<Figure size 720x720 with 25 Axes>"
      ]
     },
     "metadata": {},
     "output_type": "display_data"
    }
   ],
   "source": [
    "# get the data from keras - how convenient!\n",
    "fashion_mnist = tf.keras.datasets.fashion_mnist\n",
    "\n",
    "# load the data and split it into training and testing sets\n",
    "(X_train, y_train),(X_test, y_test) = fashion_mnist.load_data()\n",
    "\n",
    "# normalize the data by dividing with pixel intensity\n",
    "# (each pixel is 8 bits so its value ranges from 0 to 255)\n",
    "X_train, X_test = X_train / 255.0, X_test / 255.0\n",
    "\n",
    "print(f'X_train shape: {X_train.shape}, X_test shape: {X_test.shape}')\n",
    "print(f'y_train shape: {y_train.shape}, and y_test shape: {y_test.shape}')\n",
    "\n",
    "# classes are named 0-9 so define names for plotting clarity\n",
    "class_names = ['T-shirt/top', 'Trouser', 'Pullover', 'Dress', 'Coat',\n",
    "               'Sandal', 'Shirt', 'Sneaker', 'Bag', 'Ankle boot']\n",
    "\n",
    "# display the first 25 garments from the training set\n",
    "plt.figure(figsize=(10,10))\n",
    "for i in range(25):\n",
    "    plt.subplot(5,5,i+1)\n",
    "    plt.xticks([])\n",
    "    plt.yticks([])\n",
    "    plt.grid(False)\n",
    "    plt.imshow(X_train[i], cmap=plt.cm.binary)\n",
    "    plt.xlabel(class_names[y_train[i]])\n",
    "plt.show()"
   ]
  },
  {
   "cell_type": "markdown",
   "metadata": {
    "colab_type": "text",
    "id": "lR_f-ziPAo_2"
   },
   "source": [
    "### Add Noise to Images\n",
    "In attempt to make the autoencoder more robust and not just memorize the inputs, let's add noise to the inputs but calculate its loss based on how similar its outputs are to the original (non-denoised) images.\n",
    "\n",
    "Check out [imgaug docs](https://imgaug.readthedocs.io/en/latest/source/api_augmenters_arithmetic.html) for more info and other ways to add noise."
   ]
  },
  {
   "cell_type": "code",
   "execution_count": 5,
   "metadata": {
    "colab": {},
    "colab_type": "code",
    "id": "9BEuq5ulAo_2"
   },
   "outputs": [],
   "source": [
    "# NNs want the inputs to be 3D\n",
    "n_samples, h, w = X_train.shape\n",
    "\n",
    "X_train = X_train.reshape(-1, h, w, 1)\n",
    "X_test = X_test.reshape(-1, h, w, 1)"
   ]
  },
  {
   "cell_type": "code",
   "execution_count": 6,
   "metadata": {
    "colab": {},
    "colab_type": "code",
    "id": "yHaPL6pxAo_5",
    "outputId": "c4ab3884-939d-408f-fcd7-68fc7ed5bab5"
   },
   "outputs": [
    {
     "data": {
      "image/png": "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\n",
      "text/plain": [
       "<Figure size 5760x2880 with 5 Axes>"
      ]
     },
     "metadata": {
      "needs_background": "light"
     },
     "output_type": "display_data"
    }
   ],
   "source": [
    "# Lets add sample noise - Salt and Pepper\n",
    "noise = augmenters.SaltAndPepper(0.1)\n",
    "seq_object = augmenters.Sequential([noise])\n",
    "\n",
    "X_train_n = seq_object.augment_images(X_train * 255) / 255\n",
    "X_test_n = seq_object.augment_images(X_test * 255) / 255\n",
    "\n",
    "f, ax = plt.subplots(1,5)\n",
    "f.set_size_inches(80, 40)\n",
    "for i in range(5,10):\n",
    "    ax[i-5].imshow(X_train_n[i, :, :, 0].reshape(28, 28), cmap=plt.cm.binary)\n",
    "    ax[i-5].set_xlabel('Clean '+class_names[y_train[i]])"
   ]
  },
  {
   "cell_type": "markdown",
   "metadata": {
    "colab_type": "text",
    "id": "XCS7-c4PAo_7"
   },
   "source": [
    "### Create the Autoencoder"
   ]
  },
  {
   "cell_type": "code",
   "execution_count": 7,
   "metadata": {
    "colab": {},
    "colab_type": "code",
    "id": "taKw82fxAo_8",
    "outputId": "fd02f46b-7d3c-465e-efe5-dcf280e8e660"
   },
   "outputs": [
    {
     "name": "stdout",
     "output_type": "stream",
     "text": [
      "Model: \"model\"\n",
      "_________________________________________________________________\n",
      "Layer (type)                 Output Shape              Param #   \n",
      "=================================================================\n",
      "input_1 (InputLayer)         [(None, 28, 28, 1)]       0         \n",
      "_________________________________________________________________\n",
      "conv2d (Conv2D)              (None, 28, 28, 64)        640       \n",
      "_________________________________________________________________\n",
      "max_pooling2d (MaxPooling2D) (None, 14, 14, 64)        0         \n",
      "_________________________________________________________________\n",
      "conv2d_1 (Conv2D)            (None, 14, 14, 32)        18464     \n",
      "_________________________________________________________________\n",
      "max_pooling2d_1 (MaxPooling2 (None, 7, 7, 32)          0         \n",
      "_________________________________________________________________\n",
      "conv2d_2 (Conv2D)            (None, 7, 7, 16)          4624      \n",
      "_________________________________________________________________\n",
      "max_pooling2d_2 (MaxPooling2 (None, 4, 4, 16)          0         \n",
      "_________________________________________________________________\n",
      "conv2d_3 (Conv2D)            (None, 4, 4, 16)          2320      \n",
      "_________________________________________________________________\n",
      "up_sampling2d (UpSampling2D) (None, 8, 8, 16)          0         \n",
      "_________________________________________________________________\n",
      "conv2d_4 (Conv2D)            (None, 8, 8, 32)          4640      \n",
      "_________________________________________________________________\n",
      "up_sampling2d_1 (UpSampling2 (None, 16, 16, 32)        0         \n",
      "_________________________________________________________________\n",
      "conv2d_5 (Conv2D)            (None, 14, 14, 64)        18496     \n",
      "_________________________________________________________________\n",
      "up_sampling2d_2 (UpSampling2 (None, 28, 28, 64)        0         \n",
      "_________________________________________________________________\n",
      "conv2d_6 (Conv2D)            (None, 28, 28, 1)         577       \n",
      "=================================================================\n",
      "Total params: 49,761\n",
      "Trainable params: 49,761\n",
      "Non-trainable params: 0\n",
      "_________________________________________________________________\n"
     ]
    }
   ],
   "source": [
    "# input layer\n",
    "input_layer = tf.keras.layers.Input(shape=(28, 28, 1))\n",
    "\n",
    "# encoding architecture\n",
    "encoded_layer1 = tf.keras.layers.Conv2D(64,(3, 3), activation='relu', padding='same')(input_layer)\n",
    "encoded_layer1 = tf.keras.layers.MaxPool2D((2, 2), padding='same')(encoded_layer1)\n",
    "encoded_layer2 = tf.keras.layers.Conv2D(32,(3, 3), activation='relu', padding='same')(encoded_layer1)\n",
    "encoded_layer2 = tf.keras.layers.MaxPool2D((2, 2), padding='same')(encoded_layer2)\n",
    "encoded_layer3 = tf.keras.layers.Conv2D(16,(3, 3), activation='relu', padding='same')(encoded_layer2)\n",
    "latent_view = tf.keras.layers.MaxPool2D((2, 2), padding='same')(encoded_layer3)\n",
    "\n",
    "# decoding architecture\n",
    "decoded_layer1 = tf.keras.layers.Conv2D(16, (3, 3), activation='relu', padding='same')(latent_view)\n",
    "decoded_layer1 = tf.keras.layers.UpSampling2D((2, 2))(decoded_layer1)\n",
    "decoded_layer2 = tf.keras.layers.Conv2D(32, (3, 3), activation='relu', padding='same')(decoded_layer1)\n",
    "decoded_layer2 = tf.keras.layers.UpSampling2D((2, 2))(decoded_layer2)\n",
    "decoded_layer3 = tf.keras.layers.Conv2D(64, (3, 3), activation='relu')(decoded_layer2)\n",
    "decoded_layer3 = tf.keras.layers.UpSampling2D((2, 2))(decoded_layer3)\n",
    "output_layer = tf.keras.layers.Conv2D(1,(3, 3), padding='same')(decoded_layer3)\n",
    "\n",
    "# compile the model\n",
    "model = tf.keras.Model(input_layer, output_layer)\n",
    "model.compile(optimizer='adam', loss='mse')\n",
    "model.summary()"
   ]
  },
  {
   "cell_type": "markdown",
   "metadata": {
    "colab_type": "text",
    "id": "iNYLnJwtAo_-"
   },
   "source": [
    "### Train AE"
   ]
  },
  {
   "cell_type": "code",
   "execution_count": null,
   "metadata": {
    "colab": {},
    "colab_type": "code",
    "id": "haucney-Ao__",
    "outputId": "60232ead-6bf7-443c-f7a9-e63e9530be58",
    "scrolled": true
   },
   "outputs": [],
   "source": [
    "early_stopping = tf.keras.callbacks.EarlyStopping(monitor='val_loss', min_delta=0, patience=10, verbose=5, mode='auto')\n",
    "\n",
    "# epochs=20 for better results\n",
    "history = model.fit(X_train_n, X_train, epochs=5, batch_size=2048, validation_data=(X_test_n, X_test), callbacks=[early_stopping])"
   ]
  },
  {
   "cell_type": "code",
   "execution_count": null,
   "metadata": {
    "colab": {},
    "colab_type": "code",
    "id": "8W58lPSMApAB"
   },
   "outputs": [],
   "source": [
    "n = np.random.randint(0,len(X_test)-5) # pick a random starting index within our test set"
   ]
  },
  {
   "cell_type": "markdown",
   "metadata": {
    "colab_type": "text",
    "id": "QhZPjiWwApAE"
   },
   "source": [
    "### Visualize Samples reconstructed by AE\n",
    "**Denoised Images:**"
   ]
  },
  {
   "cell_type": "code",
   "execution_count": null,
   "metadata": {
    "colab": {},
    "colab_type": "code",
    "id": "-dcgQSF8ApAE",
    "outputId": "c66c9bd2-8b75-4a03-a9ef-267fd8a09e0e"
   },
   "outputs": [],
   "source": [
    "f, ax = plt.subplots(1,5)\n",
    "f.set_size_inches(80, 40)\n",
    "for i,a in enumerate(range(n,n+5)):\n",
    "    ax[i].imshow(X_test_n[a, :, :, 0].reshape(28, 28), cmap='gray')"
   ]
  },
  {
   "cell_type": "markdown",
   "metadata": {
    "colab_type": "text",
    "id": "8wDT2of4ApAG"
   },
   "source": [
    "**Actual Targets (i.e., Original inputs):**"
   ]
  },
  {
   "cell_type": "code",
   "execution_count": null,
   "metadata": {
    "colab": {},
    "colab_type": "code",
    "id": "B0kggJk9ApAG",
    "outputId": "7733684b-4b82-476d-de0f-6f42d9f7fdd7"
   },
   "outputs": [],
   "source": [
    "f, ax = plt.subplots(1,5)\n",
    "f.set_size_inches(80, 40)\n",
    "for i,a in enumerate(range(n,n+5)): # display the 5 images starting at our random index\n",
    "    ax[i].imshow(X_test[a, :, :, 0].reshape(28, 28), cmap='gray')"
   ]
  },
  {
   "cell_type": "markdown",
   "metadata": {
    "colab_type": "text",
    "id": "CMhKAHHwApAJ"
   },
   "source": [
    "**Predicted Images:**"
   ]
  },
  {
   "cell_type": "code",
   "execution_count": null,
   "metadata": {
    "colab": {},
    "colab_type": "code",
    "id": "xFWB2lNzApAJ",
    "outputId": "2a5079db-9ff0-4d86-fc37-640e1b631130",
    "scrolled": true
   },
   "outputs": [],
   "source": [
    "preds = model.predict(X_test_n[n:n+5])\n",
    "f, ax = plt.subplots(1,5)\n",
    "f.set_size_inches(80, 40)\n",
    "for i,a in enumerate(range(n,n+5)):\n",
    "    ax[i].imshow(preds[i].reshape(28, 28), cmap='gray')\n",
    "plt.show()"
   ]
  },
  {
   "cell_type": "markdown",
   "metadata": {
    "colab_type": "text",
    "id": "8CIZ2GGXApAL"
   },
   "source": [
    "## Part 2: Variational Autoencoders (VAEs)\n",
    "<div class=\"discussion\"  style=\"background-color:#F5E4C3\">\n",
    "    <b>Discussion:</b> Why do we care to use VAEs? (i.e., what are the limitations of traditional AEs?)\n",
    "</div>"
   ]
  },
  {
   "cell_type": "markdown",
   "metadata": {
    "colab_type": "text",
    "id": "xcu6XiX9ApAL"
   },
   "source": [
    "### VAE architecture"
   ]
  },
  {
   "cell_type": "markdown",
   "metadata": {
    "colab_type": "text",
    "id": "n8XI_M3QApAM"
   },
   "source": [
    "<div>\n",
    "<img src=\"http://www.cvc.uab.es/people/joans/slides_tensorflow/tensorflow_html/vae_files/ae.png\" width=\"550\"/>\n",
    "</div>"
   ]
  },
  {
   "cell_type": "markdown",
   "metadata": {
    "colab_type": "text",
    "id": "dU59vve2ApAM"
   },
   "source": [
    "### Reset data"
   ]
  },
  {
   "cell_type": "code",
   "execution_count": 4,
   "metadata": {
    "colab": {
     "base_uri": "https://localhost:8080/",
     "height": 52
    },
    "colab_type": "code",
    "id": "aavQEcIIApAM",
    "outputId": "26b6e713-b081-41d9-c1b8-a49087780ad5"
   },
   "outputs": [
    {
     "name": "stdout",
     "output_type": "stream",
     "text": [
      "X_train shape: (60000, 28, 28), X_test shape: (10000, 28, 28)\n",
      "y_train shape: (60000,), and y_test shape: (10000,)\n"
     ]
    }
   ],
   "source": [
    "# get the data from keras - how convenient!\n",
    "fashion_mnist = tf.keras.datasets.fashion_mnist\n",
    "\n",
    "# load the data and split it into training and testing sets\n",
    "(X_train, y_train),(X_test, y_test) = fashion_mnist.load_data()\n",
    "\n",
    "# normalize the data by dividing with pixel intensity\n",
    "# (each pixel is 8 bits so its value ranges from 0 to 255)\n",
    "X_train, X_test = X_train / 255.0, X_test / 255.0\n",
    "\n",
    "print(f'X_train shape: {X_train.shape}, X_test shape: {X_test.shape}')\n",
    "print(f'y_train shape: {y_train.shape}, and y_test shape: {y_test.shape}')"
   ]
  },
  {
   "cell_type": "code",
   "execution_count": 5,
   "metadata": {
    "colab": {},
    "colab_type": "code",
    "id": "MzbLSBNxApAO"
   },
   "outputs": [],
   "source": [
    "#train_x = train_x.reshape(-1, 28, 28, 1)\n",
    "#val_x = val_x.reshape(-1, 28, 28, 1)"
   ]
  },
  {
   "cell_type": "markdown",
   "metadata": {
    "colab_type": "text",
    "id": "t7ExQPUcApAQ"
   },
   "source": [
    "### Setup Encoder Neural Network\n",
    "Try different number of hidden layers, nodes?"
   ]
  },
  {
   "cell_type": "code",
   "execution_count": null,
   "metadata": {
    "colab": {},
    "colab_type": "code",
    "id": "7BYd_DjSApAQ"
   },
   "outputs": [],
   "source": [
    "batch_size = 16\n",
    "latent_dim = 2  # Number of latent dimension parameters\n",
    "\n",
    "input_img = tf.keras.layers.Input(shape=(784,), name=\"input\")\n",
    "x = tf.keras.layers.Dense(512, activation='relu', name=\"intermediate_encoder\")(input_img)\n",
    "x = tf.keras.layers.Dense(2, activation='relu', name=\"latent_encoder\")(x)\n",
    "\n",
    "z_mu = tf.keras.layers.Dense(latent_dim)(x)\n",
    "z_log_sigma = tf.keras.layers.Dense(latent_dim)(x)"
   ]
  },
  {
   "cell_type": "code",
   "execution_count": 1,
   "metadata": {
    "colab": {},
    "colab_type": "code",
    "id": "OaoPdnyDApAS"
   },
   "outputs": [],
   "source": [
    "#import keras.backend as K"
   ]
  },
  {
   "cell_type": "code",
   "execution_count": 2,
   "metadata": {
    "colab": {},
    "colab_type": "code",
    "id": "vNzOZ9e4ApAU"
   },
   "outputs": [
    {
     "ename": "NameError",
     "evalue": "name 'tf' is not defined",
     "output_type": "error",
     "traceback": [
      "\u001b[0;31m---------------------------------------------------------------------------\u001b[0m",
      "\u001b[0;31mNameError\u001b[0m                                 Traceback (most recent call last)",
      "\u001b[0;32m<ipython-input-2-2498f6c5644a>\u001b[0m in \u001b[0;36m<module>\u001b[0;34m\u001b[0m\n\u001b[1;32m      7\u001b[0m \u001b[0;34m\u001b[0m\u001b[0m\n\u001b[1;32m      8\u001b[0m \u001b[0;31m# sample vector from the latent distribution\u001b[0m\u001b[0;34m\u001b[0m\u001b[0;34m\u001b[0m\u001b[0;34m\u001b[0m\u001b[0m\n\u001b[0;32m----> 9\u001b[0;31m \u001b[0mz\u001b[0m \u001b[0;34m=\u001b[0m \u001b[0mtf\u001b[0m\u001b[0;34m.\u001b[0m\u001b[0mkeras\u001b[0m\u001b[0;34m.\u001b[0m\u001b[0mlayers\u001b[0m\u001b[0;34m.\u001b[0m\u001b[0mLambda\u001b[0m\u001b[0;34m(\u001b[0m\u001b[0msampling\u001b[0m\u001b[0;34m)\u001b[0m\u001b[0;34m(\u001b[0m\u001b[0;34m[\u001b[0m\u001b[0mz_mu\u001b[0m\u001b[0;34m,\u001b[0m \u001b[0mz_log_sigma\u001b[0m\u001b[0;34m]\u001b[0m\u001b[0;34m)\u001b[0m\u001b[0;34m\u001b[0m\u001b[0;34m\u001b[0m\u001b[0m\n\u001b[0m",
      "\u001b[0;31mNameError\u001b[0m: name 'tf' is not defined"
     ]
    }
   ],
   "source": [
    "# sampling function\n",
    "def sampling(args):\n",
    "    z_mu, z_log_sigma = args\n",
    "    epsilon = tf.keras.backend.random_normal(shape=(tf.keras.backend.shape(z_mu)[0], latent_dim))\n",
    "    z = z_mu + tf.keras.backend.exp(z_log_sigma) * epsilon\n",
    "    return z\n",
    "\n",
    "# sample vector from the latent distribution\n",
    "z = tf.keras.layers.Lambda(sampling)([z_mu, z_log_sigma])"
   ]
  },
  {
   "cell_type": "code",
   "execution_count": null,
   "metadata": {
    "colab": {},
    "colab_type": "code",
    "id": "_9UweIEEApAW"
   },
   "outputs": [],
   "source": [
    "# decoder takes the latent distribution sample as input\n",
    "decoder_input = tf.keras.layers.Input((2,), name=\"input_decoder\")\n",
    "\n",
    "x = tf.keras.layers.Dense(512, activation='relu', name=\"intermediate_decoder\", input_shape=(2,))(decoder_input)\n",
    "\n",
    "# Expand to 784 total pixels\n",
    "x = tf.keras.layers.Dense(784, activation='sigmoid', name=\"original_decoder\")(x)\n",
    "\n",
    "# decoder model statement\n",
    "decoder = tf.keras.Model(decoder_input, x)\n",
    "\n",
    "# apply the decoder to the sample from the latent distribution\n",
    "z_decoded = decoder(z)"
   ]
  },
  {
   "cell_type": "code",
   "execution_count": null,
   "metadata": {
    "colab": {
     "base_uri": "https://localhost:8080/",
     "height": 259
    },
    "colab_type": "code",
    "id": "iG6dHlc2ApAY",
    "outputId": "7b2894cc-7c94-4723-82f8-ded3b2860162"
   },
   "outputs": [],
   "source": [
    "decoder.summary()"
   ]
  },
  {
   "cell_type": "code",
   "execution_count": null,
   "metadata": {
    "colab": {},
    "colab_type": "code",
    "id": "bz6Tbb70ApAZ"
   },
   "outputs": [],
   "source": [
    "# construct a custom layer to calculate the loss\n",
    "class CustomVariationalLayer(tf.keras.layers.Layer):\n",
    "\n",
    "    def vae_loss(self, x, z_decoded):\n",
    "        x = tf.keras.backend.flatten(x)\n",
    "        z_decoded = tf.keras.backend.flatten(z_decoded)\n",
    "        # Reconstruction loss\n",
    "        xent_loss = tf.keras.losses.binary_crossentropy(x, z_decoded)\n",
    "        return xent_loss\n",
    "\n",
    "    # adds the custom loss to the class\n",
    "    def call(self, inputs):\n",
    "        x = inputs[0]\n",
    "        z_decoded = inputs[1]\n",
    "        loss = self.vae_loss(x, z_decoded)\n",
    "        self.add_loss(loss, inputs=inputs)\n",
    "        return x\n",
    "\n",
    "# apply the custom loss to the input images and the decoded latent distribution sampley = \n",
    "y = CustomVariationalLayer()([input_img, z_decoded])"
   ]
  },
  {
   "cell_type": "code",
   "execution_count": null,
   "metadata": {
    "colab": {
     "base_uri": "https://localhost:8080/",
     "height": 35
    },
    "colab_type": "code",
    "id": "SqlEgFAPApAb",
    "outputId": "2e11d68e-4946-4133-cec1-6fcc04c5a9a9"
   },
   "outputs": [],
   "source": [
    "z_decoded"
   ]
  },
  {
   "cell_type": "code",
   "execution_count": null,
   "metadata": {
    "colab": {},
    "colab_type": "code",
    "id": "uhMQs0fsApAc"
   },
   "outputs": [],
   "source": [
    "# VAE model statement\n",
    "vae = tf.keras.Model(input_img, y)\n",
    "vae.compile(optimizer='rmsprop', loss=None)"
   ]
  },
  {
   "cell_type": "code",
   "execution_count": null,
   "metadata": {
    "colab": {
     "base_uri": "https://localhost:8080/",
     "height": 466
    },
    "colab_type": "code",
    "id": "eHNL8MYUApAe",
    "outputId": "2099456a-2965-4b52-fe79-d0818f34e0d4"
   },
   "outputs": [],
   "source": [
    "vae.summary()"
   ]
  },
  {
   "cell_type": "code",
   "execution_count": null,
   "metadata": {
    "colab": {
     "base_uri": "https://localhost:8080/",
     "height": 35
    },
    "colab_type": "code",
    "id": "RYkBZm7-ApAg",
    "outputId": "d45874bf-fe5f-49dd-f50c-ac770be26ea1"
   },
   "outputs": [],
   "source": [
    "X_train.shape"
   ]
  },
  {
   "cell_type": "code",
   "execution_count": null,
   "metadata": {
    "colab": {},
    "colab_type": "code",
    "id": "LKaE6YM3ApAi"
   },
   "outputs": [],
   "source": [
    "train_x = X_train.reshape(-1,784) # train_x.reshape(-1, 784)\n",
    "val_x = X_test.reshape(-1,784) #val_x.reshape(-1, 784)"
   ]
  },
  {
   "cell_type": "code",
   "execution_count": null,
   "metadata": {
    "colab": {
     "base_uri": "https://localhost:8080/",
     "height": 173
    },
    "colab_type": "code",
    "id": "Nxt_heUDApAm",
    "outputId": "1fe3c7cf-584f-4d77-ae3c-15462a9d0b77"
   },
   "outputs": [],
   "source": [
    "vae.fit(x=train_x, y=None,\n",
    "        shuffle=True,\n",
    "        epochs=4,\n",
    "        batch_size=batch_size,\n",
    "        validation_data=(val_x, None))"
   ]
  },
  {
   "cell_type": "code",
   "execution_count": null,
   "metadata": {
    "colab": {},
    "colab_type": "code",
    "id": "aNF6f5YjApAn",
    "outputId": "408014c5-a83d-4ec8-9292-854e21ae70a7",
    "scrolled": true
   },
   "outputs": [],
   "source": [
    "# Display a 2D manifold of the samples\n",
    "n = 20  # figure with 20x20 samples\n",
    "digit_size = 28\n",
    "figure = np.zeros((digit_size * n, digit_size * n))\n",
    "\n",
    "# Construct grid of latent variable values - can change values here to generate different things\n",
    "grid_x = norm.ppf(np.linspace(0.05, 0.95, n))\n",
    "grid_y = norm.ppf(np.linspace(0.05, 0.95, n))\n",
    "\n",
    "# decode for each square in the grid\n",
    "for i, yi in enumerate(grid_x):\n",
    "    for j, xi in enumerate(grid_y):\n",
    "        z_sample = np.array([[xi, yi]])\n",
    "        z_sample = np.tile(z_sample, batch_size).reshape(batch_size, 2)\n",
    "        \n",
    "        x_decoded = decoder.predict(z_sample, batch_size=batch_size)\n",
    "        \n",
    "        digit = x_decoded[0].reshape(digit_size, digit_size)\n",
    "        \n",
    "        figure[i * digit_size: (i + 1) * digit_size,\n",
    "               j * digit_size: (j + 1) * digit_size] = digit\n",
    "\n",
    "plt.figure(figsize=(20, 20))\n",
    "plt.imshow(figure, cmap='gray')\n",
    "plt.show()  "
   ]
  },
  {
   "cell_type": "code",
   "execution_count": null,
   "metadata": {
    "colab": {},
    "colab_type": "code",
    "id": "3SPCKFZoApAp",
    "outputId": "e8b1e226-e9cc-41b9-94a7-a424d3248f0f"
   },
   "outputs": [],
   "source": [
    "# Translate into the latent space\n",
    "encoder = tf.keras.Model(input_img, z_mu) # works on older version of TF and Keras\n",
    "x_valid_noTest_encoded = encoder.predict(train_x, batch_size=batch_size)\n",
    "plt.figure(figsize=(10, 10))\n",
    "plt.scatter(x_valid_noTest_encoded[:, 0], x_valid_noTest_encoded[:, 1], c=y_train, cmap='brg')\n",
    "plt.colorbar()\n",
    "plt.show()"
   ]
  },
  {
   "cell_type": "markdown",
   "metadata": {
    "colab_type": "text",
    "id": "ETnq_l15ApAr"
   },
   "source": [
    "### Part 2B: Adding CNNs and KL Divergence Loss\n",
    "#### Generating new fashion!"
   ]
  },
  {
   "cell_type": "code",
   "execution_count": null,
   "metadata": {
    "colab": {},
    "colab_type": "code",
    "id": "LvZToLpmApAr"
   },
   "outputs": [],
   "source": [
    "batch_size = 16\n",
    "latent_dim = 2  # Number of latent dimension parameters\n",
    "\n",
    "# Encoder architecture: Input -> Conv2D*4 -> Flatten -> Dense\n",
    "input_img = Input(shape=(28, 28, 1))\n",
    "\n",
    "x = Conv2D(32,3,padding='same', activation='relu')(input_img)\n",
    "x = Conv2D(64,3,padding='same', activation='relu',strides=(2, 2))(x)\n",
    "x = Conv2D(64,3,padding='same', activation='relu')(x)\n",
    "x = Conv2D(64,3,padding='same', activation='relu')(x)\n",
    "\n",
    "# need to know the shape of the network here for the decoder\n",
    "shape_before_flattening = K.int_shape(x)\n",
    "\n",
    "x = Flatten()(x)\n",
    "x = Dense(32, activation='relu')(x)\n",
    "\n",
    "# Two outputs, latent mean and (log)variance\n",
    "z_mu = Dense(latent_dim)(x)\n",
    "z_log_sigma = Dense(latent_dim)(x)"
   ]
  },
  {
   "cell_type": "markdown",
   "metadata": {
    "colab_type": "text",
    "id": "4MYKFULfApAt"
   },
   "source": [
    "### Set up sampling function"
   ]
  },
  {
   "cell_type": "code",
   "execution_count": null,
   "metadata": {
    "colab": {},
    "colab_type": "code",
    "id": "FqJJbD3tApAt"
   },
   "outputs": [],
   "source": [
    "# sampling function\n",
    "def sampling(args):\n",
    "    z_mu, z_log_sigma = args\n",
    "    epsilon = K.random_normal(shape=(K.shape(z_mu)[0], latent_dim), mean=0., stddev=1.)\n",
    "    return z_mu + K.exp(z_log_sigma) * epsilon\n",
    "\n",
    "# sample vector from the latent distribution\n",
    "z = Lambda(sampling)([z_mu, z_log_sigma])"
   ]
  },
  {
   "cell_type": "markdown",
   "metadata": {
    "colab_type": "text",
    "id": "glYnQXePApAv"
   },
   "source": [
    "### Setup Decoder Neural Network"
   ]
  },
  {
   "cell_type": "markdown",
   "metadata": {
    "colab_type": "text",
    "id": "ZNj3cSRUApAv"
   },
   "source": [
    "Try different number of hidden layers, nodes?"
   ]
  },
  {
   "cell_type": "code",
   "execution_count": null,
   "metadata": {
    "colab": {},
    "colab_type": "code",
    "id": "vxsYPKxUApAv"
   },
   "outputs": [],
   "source": [
    "# decoder takes the latent distribution sample as input\n",
    "decoder_input = Input(K.int_shape(z)[1:])\n",
    "\n",
    "# Expand to 784 total pixels\n",
    "x = Dense(np.prod(shape_before_flattening[1:]),\n",
    "                 activation='relu')(decoder_input)\n",
    "\n",
    "# reshape\n",
    "x = Reshape(shape_before_flattening[1:])(x)\n",
    "\n",
    "# use Conv2DTranspose to reverse the conv layers from the encoder\n",
    "x = Conv2DTranspose(32, 3,\n",
    "                           padding='same', \n",
    "                           activation='relu',\n",
    "                           strides=(2, 2))(x)\n",
    "x = Conv2D(1, 3,\n",
    "                  padding='same', \n",
    "                  activation='sigmoid')(x)\n",
    "\n",
    "# decoder model statement\n",
    "decoder = Model(decoder_input, x)\n",
    "\n",
    "# apply the decoder to the sample from the latent distribution\n",
    "z_decoded = decoder(z)"
   ]
  },
  {
   "cell_type": "markdown",
   "metadata": {
    "colab_type": "text",
    "id": "y2meR17GApAx"
   },
   "source": [
    "### Set up loss function (reconstruction + KL divergence)"
   ]
  },
  {
   "cell_type": "code",
   "execution_count": null,
   "metadata": {
    "colab": {},
    "colab_type": "code",
    "id": "LSH_mFZUApAx"
   },
   "outputs": [],
   "source": [
    "# construct a custom layer to calculate the loss\n",
    "class CustomVariationalLayer(Layer):\n",
    "\n",
    "    def vae_loss(self, x, z_decoded):\n",
    "        x = K.flatten(x)\n",
    "        z_decoded = K.flatten(z_decoded)\n",
    "\n",
    "        # Reconstruction loss\n",
    "        xent_loss = tf.keras.losses.binary_crossentropy(x, z_decoded)\n",
    "        \n",
    "        # KL divergence\n",
    "        kl_loss = -5e-4 * K.mean(1 + z_log_sigma - K.square(z_mu) - K.exp(z_log_sigma), axis=-1)\n",
    "        return K.mean(xent_loss + kl_loss)\n",
    "\n",
    "    # adds the custom loss to the class\n",
    "    def call(self, inputs):\n",
    "        x = inputs[0]\n",
    "        z_decoded = inputs[1]\n",
    "        loss = self.vae_loss(x, z_decoded)\n",
    "        self.add_loss(loss, inputs=inputs)\n",
    "        return x\n",
    "\n",
    "# apply the custom loss to the input images and the decoded latent distribution sample\n",
    "y = CustomVariationalLayer()([input_img, z_decoded])"
   ]
  },
  {
   "cell_type": "markdown",
   "metadata": {
    "colab_type": "text",
    "id": "M-2E6FOrApAz"
   },
   "source": [
    "### Train VAE"
   ]
  },
  {
   "cell_type": "code",
   "execution_count": null,
   "metadata": {
    "colab": {},
    "colab_type": "code",
    "id": "SFUPh2mfApAz"
   },
   "outputs": [],
   "source": [
    "# VAE model statement\n",
    "vae = Model(input_img, y)\n",
    "vae.compile(optimizer='rmsprop', loss=None)"
   ]
  },
  {
   "cell_type": "code",
   "execution_count": null,
   "metadata": {
    "colab": {
     "base_uri": "https://localhost:8080/",
     "height": 605
    },
    "colab_type": "code",
    "id": "ZTC84W-tApA1",
    "outputId": "d8a95f59-d3ff-4645-f24f-9d4fe6b12705"
   },
   "outputs": [],
   "source": [
    "vae.summary()"
   ]
  },
  {
   "cell_type": "code",
   "execution_count": null,
   "metadata": {
    "colab": {},
    "colab_type": "code",
    "id": "-N6pXkU1ApA3"
   },
   "outputs": [],
   "source": [
    "train_x = train_x.reshape(-1, 28, 28, 1)\n",
    "val_x = val_x.reshape(-1, 28, 28, 1)"
   ]
  },
  {
   "cell_type": "code",
   "execution_count": null,
   "metadata": {
    "colab": {},
    "colab_type": "code",
    "id": "cvaR54k5ApA4",
    "outputId": "611a5275-18ec-410e-bb54-defbbd2d6f71",
    "scrolled": true
   },
   "outputs": [],
   "source": [
    "vae.fit(x=train_x, y=None,\n",
    "        shuffle=True,\n",
    "        epochs=20,\n",
    "        batch_size=batch_size,\n",
    "        validation_data=(val_x, None))"
   ]
  },
  {
   "cell_type": "markdown",
   "metadata": {
    "colab_type": "text",
    "id": "Ffrna49aApA6"
   },
   "source": [
    "### Visualize Samples reconstructed by VAE"
   ]
  },
  {
   "cell_type": "code",
   "execution_count": null,
   "metadata": {
    "colab": {},
    "colab_type": "code",
    "id": "nGMpIFo1ApA6",
    "outputId": "f4ff3e1e-4241-4100-820d-75fabde7e826",
    "scrolled": true
   },
   "outputs": [],
   "source": [
    "# Display a 2D manifold of the samples\n",
    "n = 20  # figure with 20x20 samples\n",
    "digit_size = 28\n",
    "figure = np.zeros((digit_size * n, digit_size * n))\n",
    "\n",
    "# Construct grid of latent variable values - can change values here to generate different things\n",
    "grid_x = norm.ppf(np.linspace(0.05, 0.95, n))\n",
    "grid_y = norm.ppf(np.linspace(0.05, 0.95, n))\n",
    "\n",
    "# decode for each square in the grid\n",
    "for i, yi in enumerate(grid_x):\n",
    "    for j, xi in enumerate(grid_y):\n",
    "        z_sample = np.array([[xi, yi]])\n",
    "        z_sample = np.tile(z_sample, batch_size).reshape(batch_size, 2)\n",
    "        x_decoded = decoder.predict(z_sample, batch_size=batch_size)\n",
    "        digit = x_decoded[0].reshape(digit_size, digit_size)\n",
    "        figure[i * digit_size: (i + 1) * digit_size,\n",
    "               j * digit_size: (j + 1) * digit_size] = digit\n",
    "\n",
    "plt.figure(figsize=(20, 20))\n",
    "plt.imshow(figure)\n",
    "plt.show()  "
   ]
  },
  {
   "cell_type": "markdown",
   "metadata": {
    "colab_type": "text",
    "id": "uDCuMjnYApA8"
   },
   "source": [
    "\n",
    "### VAE: Visualize latent space"
   ]
  },
  {
   "cell_type": "code",
   "execution_count": null,
   "metadata": {
    "colab": {},
    "colab_type": "code",
    "id": "ty4InmVHApA_",
    "outputId": "d48c9a5f-bf30-44d6-fd75-2921c2ee6183"
   },
   "outputs": [],
   "source": [
    "# Translate into the latent space\n",
    "encoder = Model(input_img, z_mu)\n",
    "x_valid_noTest_encoded = encoder.predict(train_x, batch_size=batch_size)\n",
    "plt.figure(figsize=(10, 10))\n",
    "plt.scatter(x_valid_noTest_encoded[:, 0], x_valid_noTest_encoded[:, 1], c=y_train, cmap='brg')\n",
    "plt.colorbar()\n",
    "plt.show()"
   ]
  },
  {
   "cell_type": "markdown",
   "metadata": {
    "colab_type": "text",
    "id": "9ns5qvuUApBC"
   },
   "source": [
    "## Part 3: Generative Adversarial Networks (GANs)\n",
    "\n",
    "### EXERCISE 1 : Generate 1-D Gaussian Distribution from Uniform Noise\n",
    "\n",
    "In this exercise, we are going to generate 1-D Gaussian distribution from a n-D uniform distribution. This is a toy exercise in order to understand the ability of GANs (generators) to generate arbitrary distributions from random noise.\n",
    "\n",
    "Generate training data - Gaussian Distribution"
   ]
  },
  {
   "cell_type": "code",
<<<<<<< HEAD
   "execution_count": null,
=======
   "execution_count": 1,
   "metadata": {},
   "outputs": [],
   "source": [
    "# system libraries \n",
    "import sys\n",
    "import warnings\n",
    "import os\n",
    "import glob\n",
    "warnings.filterwarnings(\"ignore\")\n",
    "\n",
    "# image libraries\n",
    "import cv2 # requires installing opencv (e.g., pip install opencv-python)\n",
    "from imgaug import augmenters # requires installing imgaug (e.g., pip install imgaug)\n",
    "\n",
    "# math/numerical libraries\n",
    "import matplotlib.pyplot as plt\n",
    "import numpy as np\n",
    "import pandas as pd\n",
    "import scipy\n",
    "from scipy.stats import norm\n",
    "from sklearn.model_selection import train_test_split\n",
    "\n",
    "import tensorflow as tf"
   ]
  },
  {
   "cell_type": "code",
   "execution_count": 0,
>>>>>>> upstream/master
   "metadata": {
    "colab": {},
    "colab_type": "code",
    "id": "9mPSsdmPApBC"
   },
   "outputs": [],
   "source": [
    "def generate_data(n_samples = 10000,n_dim=1):\n",
    "  return np.random.randn(n_samples, n_dim)  "
   ]
  },
  {
   "cell_type": "markdown",
   "metadata": {
    "colab_type": "text",
    "id": "bXRNFnw-ApBE"
   },
   "source": [
    "A general function to define feedforward architectures"
   ]
  },
  {
   "cell_type": "code",
   "execution_count": null,
   "metadata": {
    "colab": {},
    "colab_type": "code",
    "id": "V3A0QXBdApBF"
   },
   "outputs": [],
   "source": [
    "def set_model(input_dim, output_dim, hidden_dim=64,n_layers = 1,activation='tanh',optimizer='adam', loss = 'binary_crossentropy'):\n",
    "  model = Sequential()\n",
    "  model.add(Dense(hidden_dim,input_dim=input_dim,activation=activation))\n",
    "\n",
    "  for _ in range(n_layers-1):\n",
    "    model.add(Dense(hidden_dim),activation=activation)\n",
    "  model.add(Dense(output_dim))\n",
    "\n",
    "  model.compile(loss=loss, optimizer=optimizer)\n",
    "  print(model.summary())\n",
    "  return model"
   ]
  },
  {
   "cell_type": "markdown",
   "metadata": {
    "colab_type": "text",
    "id": "coWxE1PqApBG"
   },
   "source": [
    "Setting GAN training and losses here"
   ]
  },
  {
   "cell_type": "code",
   "execution_count": null,
   "metadata": {
    "colab": {},
    "colab_type": "code",
    "id": "5LnUxRv-ApBH"
   },
   "outputs": [],
   "source": [
    "def get_gan_network(discriminator, random_dim, generator, optimizer = 'adam'):\n",
    "  discriminator.trainable = False\n",
    "  gan_input = Input(shape=(random_dim,))\n",
    "  x = generator(gan_input)\n",
    "  gan_output = discriminator(x)\n",
    "  gan = Model(inputs = gan_input,outputs=gan_output)\n",
    "  gan.compile( loss='binary_crossentropy', optimizer=optimizer)\n",
    "  return gan"
   ]
  },
  {
   "cell_type": "code",
   "execution_count": null,
   "metadata": {
    "colab": {},
    "colab_type": "code",
    "id": "2lwFiS64ApBJ"
   },
   "outputs": [],
   "source": [
    "# hyper-parameters\n",
    "NOISE_DIM = 10\n",
    "DATA_DIM = 1\n",
    "G_LAYERS = 1\n",
    "D_LAYERS = 1"
   ]
  },
  {
   "cell_type": "code",
   "execution_count": null,
   "metadata": {
    "colab": {},
    "colab_type": "code",
    "id": "Y7ZECa-4ApBK"
   },
   "outputs": [],
   "source": [
    "def train_gan(epochs=1,batch_size=128):\n",
    "    x_train = generate_data(n_samples=12800,n_dim=DATA_DIM)\n",
    "    batch_count = x_train.shape[0]/batch_size\n",
    "  \n",
    "    generator = set_model(NOISE_DIM, DATA_DIM, n_layers=G_LAYERS, activation='tanh',loss = 'mean_squared_error')\n",
    "    discriminator = set_model(DATA_DIM, 1, n_layers= D_LAYERS, activation='sigmoid')\n",
    "    gan = get_gan_network(discriminator, NOISE_DIM, generator, 'adam')\n",
    "\n",
    "    for e in range(1,epochs+1):   \n",
    "\n",
    "        # generate noise from a uniform distribution\n",
    "        noise = np.random.rand(batch_size,NOISE_DIM)\n",
    "        true_batch = x_train[np.random.choice(x_train.shape[0], batch_size, replace=False), :]\n",
    "\n",
    "        generated_values = generator.predict(noise)\n",
    "        X = np.concatenate([generated_values,true_batch])\n",
    "\n",
    "        y_dis = np.zeros(2*batch_size)\n",
    "\n",
    "        #One-sided label smoothing to avoid overconfidence. In GAN, if the discriminator depends on a small set of features to detect real images, \n",
    "        #the generator may just produce these features only to exploit the discriminator. \n",
    "        #The optimization may turn too greedy and produces no long term benefit.\n",
    "        #To avoid the problem, we penalize the discriminator when the prediction for any real images go beyond 0.9 (D(real image)>0.9). \n",
    "        y_dis[:batch_size] = 0.9\n",
    "\n",
    "        discriminator.trainable = True\n",
    "        disc_history = discriminator.train_on_batch(X, y_dis)\n",
    "        discriminator.trainable = False\n",
    "\n",
    "        # Train generator\n",
    "        noise = np.random.rand(batch_size,NOISE_DIM)\n",
    "        y_gen = np.zeros(batch_size)    \n",
    "        gan.train_on_batch(noise, y_gen)  \n",
    " \n",
    "    return generator, discriminator"
   ]
  },
  {
   "cell_type": "code",
   "execution_count": null,
   "metadata": {
    "colab": {
     "base_uri": "https://localhost:8080/",
     "height": 466
    },
    "colab_type": "code",
    "id": "iz6rA8aXApBM",
    "outputId": "54e0a30c-0e4e-4b97-a78a-f2f7ddbd194b"
   },
   "outputs": [],
   "source": [
    "generator, discriminator = train_gan()"
   ]
  },
  {
   "cell_type": "code",
   "execution_count": null,
   "metadata": {
    "colab": {
     "base_uri": "https://localhost:8080/",
     "height": 334
    },
    "colab_type": "code",
    "id": "YzA5BNAFApBO",
    "outputId": "d579b766-86db-41c3-b825-d1e7982c3b76"
   },
   "outputs": [],
   "source": [
    "noise = np.random.rand(10000,NOISE_DIM)\n",
    "generated_values = generator.predict(noise)\n",
    "plt.hist(generated_values,bins=100)\n",
    "\n",
    "true_gaussian = [np.random.randn() for x in range(10000)]\n",
    "\n",
    "print('1st order moment - ', 'True : ', scipy.stats.moment(true_gaussian, 1) , ', GAN :', scipy.stats.moment(generated_values,1))\n",
    "print('2nd order moment - ', 'True : ', scipy.stats.moment(true_gaussian, 2) , ', GAN :', scipy.stats.moment(generated_values,2))\n",
    "print('3rd order moment - ', 'True : ', scipy.stats.moment(true_gaussian, 3) , ', GAN :', scipy.stats.moment(generated_values,3))\n",
    "print('4th order moment - ', 'True : ', scipy.stats.moment(true_gaussian, 4) , ', GAN :', scipy.stats.moment(generated_values,4))\n",
    "plt.show()"
   ]
  },
  {
   "cell_type": "markdown",
   "metadata": {
    "colab_type": "text",
    "id": "hB2-JTw-ApBQ"
   },
   "source": [
    "#### CONCLUSIONS\n",
    "\n",
    "1. GANs are able to learn a generative model from general noise distributions.\n",
    "\n",
    "2. Traditional GANs do not learn the higher-order moments well. Possible issues : Number of samples, approximating higher moments is hard. Usually known to under-predict higher order variances. For people interested in learning why, read more about divergence measures between distributions (particularly about Wasserstein etc.)"
   ]
  },
  {
   "cell_type": "markdown",
   "metadata": {
    "colab_type": "text",
    "id": "mgEBiyPFApBQ"
   },
   "source": [
    "### EXERCISE 2: MNIST GAN - Learn to generate MNIST digits"
   ]
  },
  {
   "cell_type": "code",
   "execution_count": null,
   "metadata": {
    "colab": {},
    "colab_type": "code",
    "id": "Uubh4vvaApBQ"
   },
   "outputs": [],
   "source": [
    "from keras.datasets import mnist\n",
    "from keras.utils import np_utils\n",
    "from keras.models import Sequential, Model\n",
    "from keras.layers import Input, Dense, Dropout, Activation, Flatten\n",
    "from keras.layers.advanced_activations import LeakyReLU\n",
    "from keras.optimizers import Adam, RMSprop\n",
    "import numpy as np\n",
    "import matplotlib.pyplot as plt\n",
    "import random\n",
    "from tqdm import tqdm_notebook\n",
    "\n",
    "# Dataset of 60,000 28x28 grayscale images of the 10 digits, along with a test set of 10,000 images.\n",
    "(X_train, Y_train), (X_test, Y_test) = mnist.load_data()"
   ]
  },
  {
   "cell_type": "markdown",
   "metadata": {
    "colab_type": "text",
    "id": "OdsNHyiLApBS"
   },
   "source": [
    "Re-scale data since we are using ReLU activations. WHY ?"
   ]
  },
  {
   "cell_type": "code",
   "execution_count": null,
   "metadata": {
    "colab": {},
    "colab_type": "code",
    "id": "WEnsFkkYApBT"
   },
   "outputs": [],
   "source": [
    "X_train = X_train.reshape(60000, 784)\n",
    "X_test = X_test.reshape(10000, 784)\n",
    "X_train = X_train.astype('float32')/255\n",
    "X_test = X_test.astype('float32')/255"
   ]
  },
  {
   "cell_type": "markdown",
   "metadata": {
    "colab_type": "text",
    "id": "FuC5kb8hApBV"
   },
   "source": [
    "Set noise dimension \n",
    "\n",
    "**EXERCISE** : Play around with different noise dimensions and plot the performance with respect to the size of the noise vector."
   ]
  },
  {
   "cell_type": "code",
   "execution_count": null,
   "metadata": {
    "colab": {},
    "colab_type": "code",
    "id": "j9UAi3jjApBW"
   },
   "outputs": [],
   "source": [
    "z_dim = 100"
   ]
  },
  {
   "cell_type": "markdown",
   "metadata": {
    "colab_type": "text",
    "id": "JyiUJ5MkApBY"
   },
   "source": [
    "### BUILD MODEL\n",
    "\n",
    "We are using LeakyReLU activations. \n",
    "\n",
    "We will build: (a) Generator; (b) Discriminator; and (c) GAN as feed-forward networks with multiple layers, dropout, and LeakyReLU as the activation function."
   ]
  },
  {
   "cell_type": "code",
   "execution_count": null,
   "metadata": {
    "colab": {
     "base_uri": "https://localhost:8080/",
     "height": 265
    },
    "colab_type": "code",
    "id": "eDF20dksApBZ",
    "outputId": "539d7550-2265-43e5-976c-4d3f1492d0fe"
   },
   "outputs": [],
   "source": [
    "def leakyReLU(x,neg_scale=0.01):\n",
    "    if x > 0:\n",
    "        return x\n",
    "    else:\n",
    "        return neg_scale*x\n",
    "\n",
    "std_relu = []\n",
    "leaky_relu = []\n",
    "\n",
    "std_relu = [leakyReLU(x,neg_scale=0) for x in np.linspace(-100,100,10000)]\n",
    "leaky_relu = [leakyReLU(x,neg_scale=0.1) for x in np.linspace(-100,100,10000)]\n",
    "\n",
    "plt.plot(np.linspace(-100,100,10000),std_relu, label='standard_RELU')\n",
    "plt.plot(np.linspace(-100,100,10000),leaky_relu, label='leaky_RELU')\n",
    "plt.legend()\n",
    "plt.show()"
   ]
  },
  {
   "cell_type": "code",
   "execution_count": null,
   "metadata": {
    "colab": {},
    "colab_type": "code",
    "id": "-hQI9084ApBa"
   },
   "outputs": [],
   "source": [
    "#@title\n",
    "adam = Adam(lr=0.0002, beta_1=0.5)\n",
    "\n",
    "\n",
    "# (a) GENERATOR\n",
    "g = Sequential()\n",
    "g.add(Dense(256, input_dim=z_dim, activation=LeakyReLU(alpha=0.2)))\n",
    "g.add(Dense(512, activation=LeakyReLU(alpha=0.2)))\n",
    "g.add(Dense(1024, activation=LeakyReLU(alpha=0.2)))\n",
    "g.add(Dense(784, activation='sigmoid'))  # Values between 0 and 1\n",
    "g.compile(loss='binary_crossentropy', optimizer=adam, metrics=['accuracy'])\n",
    "\n",
    "# (b) DISCRIMINATOR\n",
    "d = Sequential()\n",
    "d.add(Dense(1024, input_dim=784, activation=LeakyReLU(alpha=0.2)))\n",
    "d.add(Dropout(0.3))\n",
    "d.add(Dense(512, activation=LeakyReLU(alpha=0.2)))\n",
    "d.add(Dropout(0.3))\n",
    "d.add(Dense(256, activation=LeakyReLU(alpha=0.2)))\n",
    "d.add(Dropout(0.3))\n",
    "d.add(Dense(1, activation='sigmoid'))  # Values between 0 and 1\n",
    "d.compile(loss='binary_crossentropy', optimizer=adam, metrics=['accuracy'])\n",
    "\n",
    "# (c) GAN\n",
    "d.trainable = False\n",
    "inputs = Input(shape=(z_dim, ))\n",
    "hidden = g(inputs)\n",
    "output = d(hidden)\n",
    "gan = Model(inputs, output)\n",
    "gan.compile(loss='binary_crossentropy', optimizer=adam, metrics=['accuracy'])"
   ]
  },
  {
   "cell_type": "markdown",
   "metadata": {
    "colab_type": "text",
    "id": "Ku2l6FzsApBb"
   },
   "source": [
    "Plot losses and generated images preiodically to monitor what the model does."
   ]
  },
  {
   "cell_type": "code",
   "execution_count": null,
   "metadata": {
    "colab": {},
    "colab_type": "code",
    "id": "Vu0mQHqSApBc"
   },
   "outputs": [],
   "source": [
    "def plot_loss(losses):\n",
    "    \"\"\"\n",
    "    @losses.keys():\n",
    "        0: loss\n",
    "        1: accuracy\n",
    "    \"\"\"\n",
    "    d_loss = [v[0] for v in losses[\"D\"]]\n",
    "    g_loss = [v[0] for v in losses[\"G\"]]\n",
    "    \n",
    "    plt.figure(figsize=(10,8))\n",
    "    plt.plot(d_loss, label=\"Discriminator loss\")\n",
    "    plt.plot(g_loss, label=\"Generator loss\")\n",
    "    plt.xlabel('Epochs')\n",
    "    plt.ylabel('Loss')\n",
    "    plt.legend()\n",
    "    plt.show()\n",
    "    \n",
    "def plot_generated(n_ex=10, dim=(1, 10), figsize=(12, 2)):\n",
    "    noise = np.random.normal(0, 1, size=(n_ex, z_dim))\n",
    "    generated_images = g.predict(noise)\n",
    "    generated_images = generated_images.reshape(n_ex, 28, 28)\n",
    "\n",
    "    plt.figure(figsize=figsize)\n",
    "    for i in range(generated_images.shape[0]):\n",
    "        plt.subplot(dim[0], dim[1], i+1)\n",
    "        plt.imshow(generated_images[i], interpolation='nearest', cmap='gray_r')\n",
    "        plt.axis('off')\n",
    "    plt.tight_layout()\n",
    "    plt.show()"
   ]
  },
  {
   "cell_type": "markdown",
   "metadata": {
    "colab_type": "text",
    "id": "DHtDWoKWApBd"
   },
   "source": [
    "### TRAIN THE MODEL\n",
    "\n",
    "Generate noise, feed into generator, compare them with discriminator, train the GAN and REPEAT."
   ]
  },
  {
   "cell_type": "code",
   "execution_count": null,
   "metadata": {
    "colab": {},
    "colab_type": "code",
    "id": "MPUzyZLLApBd"
   },
   "outputs": [],
   "source": [
    "losses = {\"D\":[], \"G\":[]}\n",
    "\n",
    "def train(epochs=1, plt_frq=1, BATCH_SIZE=128):\n",
    "    batchCount = int(X_train.shape[0] / BATCH_SIZE)\n",
    "    print('Epochs:', epochs)\n",
    "    print('Batch size:', BATCH_SIZE)\n",
    "    print('Batches per epoch:', batchCount)\n",
    "    \n",
    "    for e in tqdm_notebook(range(1, epochs+1)):\n",
    "        if e == 1 or e%plt_frq == 0:\n",
    "            print('-'*15, 'Epoch %d' % e, '-'*15)\n",
    "            \n",
    "        for _ in range(batchCount):  # tqdm_notebook(range(batchCount), leave=False):\n",
    "            # Create a batch by drawing random index numbers from the training set\n",
    "            image_batch = X_train[np.random.randint(0, X_train.shape[0], size=BATCH_SIZE)]\n",
    "            # Create noise vectors for the generator\n",
    "            noise = np.random.normal(0, 1, size=(BATCH_SIZE, z_dim))\n",
    "            \n",
    "            # Generate the images from the noise\n",
    "            generated_images = g.predict(noise)\n",
    "            X = np.concatenate((image_batch, generated_images))\n",
    "            # Create labels\n",
    "            y = np.zeros(2*BATCH_SIZE)\n",
    "            y[:BATCH_SIZE] = 0.9  # One-sided label smoothing\n",
    "\n",
    "            # Train discriminator on generated images\n",
    "            d.trainable = True\n",
    "            d_loss = d.train_on_batch(X, y)\n",
    "\n",
    "            # Train generator\n",
    "            noise = np.random.normal(0, 1, size=(BATCH_SIZE, z_dim))\n",
    "            y2 = np.ones(BATCH_SIZE)\n",
    "            d.trainable = False\n",
    "            g_loss = gan.train_on_batch(noise, y2)\n",
    "\n",
    "        # Only store losses from final\n",
    "        losses[\"D\"].append(d_loss)\n",
    "        losses[\"G\"].append(g_loss)\n",
    "\n",
    "        # Update the plots\n",
    "        if e == 1 or e%plt_frq == 0:\n",
    "            plot_generated()\n",
    "    plot_loss(losses)"
   ]
  },
  {
   "cell_type": "code",
   "execution_count": null,
   "metadata": {
    "colab": {
     "base_uri": "https://localhost:8080/",
     "height": 1000,
     "referenced_widgets": [
      "8ba20e173b06484da22fcb45dbdeccf3",
      "2612530724f14b729fe2333e8fcab721",
      "6cb1f9bd698f43978e0cd00c74ebbbcb",
      "da4271c58b044199bf1307e93c165240",
      "59322cbe7d3246d586820229d9c82577",
      "6720b82ccb83470bbae5162f8ff8c771",
      "1a39352c039a4e29afd4c90ec23d9e52",
      "645d53c2482841b69478de1f42410715"
     ]
    },
    "colab_type": "code",
    "id": "znETZnGYApBf",
    "outputId": "a761a728-5e0f-4eee-d727-56dcf01ce2ae"
   },
   "outputs": [],
   "source": [
    "train(epochs=200, plt_frq=40, BATCH_SIZE=128)"
   ]
  },
  {
   "cell_type": "markdown",
   "metadata": {
    "colab_type": "text",
    "id": "-qAliPZrApBg"
   },
   "source": [
    "### DISCUSSION: Why can GANs potentially experience _model collapse?_"
   ]
  }
 ],
 "metadata": {
  "accelerator": "GPU",
  "colab": {
   "collapsed_sections": [
    "hB2-JTw-ApBQ",
    "JyiUJ5MkApBY",
    "-qAliPZrApBg"
   ],
   "name": "cs109b_lab10_solutions_rashmi.ipynb",
   "provenance": []
  },
  "kernelspec": {
   "display_name": "python3",
   "language": "python",
   "name": "python3"
  },
  "language_info": {
   "codemirror_mode": {
    "name": "ipython",
    "version": 3
   },
   "file_extension": ".py",
   "mimetype": "text/x-python",
   "name": "python",
   "nbconvert_exporter": "python",
   "pygments_lexer": "ipython3",
   "version": "3.7.4"
  },
  "widgets": {
   "application/vnd.jupyter.widget-state+json": {
    "1a39352c039a4e29afd4c90ec23d9e52": {
     "model_module": "@jupyter-widgets/controls",
     "model_name": "DescriptionStyleModel",
     "state": {
      "_model_module": "@jupyter-widgets/controls",
      "_model_module_version": "1.5.0",
      "_model_name": "DescriptionStyleModel",
      "_view_count": null,
      "_view_module": "@jupyter-widgets/base",
      "_view_module_version": "1.2.0",
      "_view_name": "StyleView",
      "description_width": ""
     }
    },
    "2612530724f14b729fe2333e8fcab721": {
     "model_module": "@jupyter-widgets/base",
     "model_name": "LayoutModel",
     "state": {
      "_model_module": "@jupyter-widgets/base",
      "_model_module_version": "1.2.0",
      "_model_name": "LayoutModel",
      "_view_count": null,
      "_view_module": "@jupyter-widgets/base",
      "_view_module_version": "1.2.0",
      "_view_name": "LayoutView",
      "align_content": null,
      "align_items": null,
      "align_self": null,
      "border": null,
      "bottom": null,
      "display": null,
      "flex": null,
      "flex_flow": null,
      "grid_area": null,
      "grid_auto_columns": null,
      "grid_auto_flow": null,
      "grid_auto_rows": null,
      "grid_column": null,
      "grid_gap": null,
      "grid_row": null,
      "grid_template_areas": null,
      "grid_template_columns": null,
      "grid_template_rows": null,
      "height": null,
      "justify_content": null,
      "justify_items": null,
      "left": null,
      "margin": null,
      "max_height": null,
      "max_width": null,
      "min_height": null,
      "min_width": null,
      "object_fit": null,
      "object_position": null,
      "order": null,
      "overflow": null,
      "overflow_x": null,
      "overflow_y": null,
      "padding": null,
      "right": null,
      "top": null,
      "visibility": null,
      "width": null
     }
    },
    "59322cbe7d3246d586820229d9c82577": {
     "model_module": "@jupyter-widgets/controls",
     "model_name": "ProgressStyleModel",
     "state": {
      "_model_module": "@jupyter-widgets/controls",
      "_model_module_version": "1.5.0",
      "_model_name": "ProgressStyleModel",
      "_view_count": null,
      "_view_module": "@jupyter-widgets/base",
      "_view_module_version": "1.2.0",
      "_view_name": "StyleView",
      "bar_color": null,
      "description_width": "initial"
     }
    },
    "645d53c2482841b69478de1f42410715": {
     "model_module": "@jupyter-widgets/base",
     "model_name": "LayoutModel",
     "state": {
      "_model_module": "@jupyter-widgets/base",
      "_model_module_version": "1.2.0",
      "_model_name": "LayoutModel",
      "_view_count": null,
      "_view_module": "@jupyter-widgets/base",
      "_view_module_version": "1.2.0",
      "_view_name": "LayoutView",
      "align_content": null,
      "align_items": null,
      "align_self": null,
      "border": null,
      "bottom": null,
      "display": null,
      "flex": null,
      "flex_flow": null,
      "grid_area": null,
      "grid_auto_columns": null,
      "grid_auto_flow": null,
      "grid_auto_rows": null,
      "grid_column": null,
      "grid_gap": null,
      "grid_row": null,
      "grid_template_areas": null,
      "grid_template_columns": null,
      "grid_template_rows": null,
      "height": null,
      "justify_content": null,
      "justify_items": null,
      "left": null,
      "margin": null,
      "max_height": null,
      "max_width": null,
      "min_height": null,
      "min_width": null,
      "object_fit": null,
      "object_position": null,
      "order": null,
      "overflow": null,
      "overflow_x": null,
      "overflow_y": null,
      "padding": null,
      "right": null,
      "top": null,
      "visibility": null,
      "width": null
     }
    },
    "6720b82ccb83470bbae5162f8ff8c771": {
     "model_module": "@jupyter-widgets/base",
     "model_name": "LayoutModel",
     "state": {
      "_model_module": "@jupyter-widgets/base",
      "_model_module_version": "1.2.0",
      "_model_name": "LayoutModel",
      "_view_count": null,
      "_view_module": "@jupyter-widgets/base",
      "_view_module_version": "1.2.0",
      "_view_name": "LayoutView",
      "align_content": null,
      "align_items": null,
      "align_self": null,
      "border": null,
      "bottom": null,
      "display": null,
      "flex": null,
      "flex_flow": null,
      "grid_area": null,
      "grid_auto_columns": null,
      "grid_auto_flow": null,
      "grid_auto_rows": null,
      "grid_column": null,
      "grid_gap": null,
      "grid_row": null,
      "grid_template_areas": null,
      "grid_template_columns": null,
      "grid_template_rows": null,
      "height": null,
      "justify_content": null,
      "justify_items": null,
      "left": null,
      "margin": null,
      "max_height": null,
      "max_width": null,
      "min_height": null,
      "min_width": null,
      "object_fit": null,
      "object_position": null,
      "order": null,
      "overflow": null,
      "overflow_x": null,
      "overflow_y": null,
      "padding": null,
      "right": null,
      "top": null,
      "visibility": null,
      "width": null
     }
    },
    "6cb1f9bd698f43978e0cd00c74ebbbcb": {
     "model_module": "@jupyter-widgets/controls",
     "model_name": "IntProgressModel",
     "state": {
      "_dom_classes": [],
      "_model_module": "@jupyter-widgets/controls",
      "_model_module_version": "1.5.0",
      "_model_name": "IntProgressModel",
      "_view_count": null,
      "_view_module": "@jupyter-widgets/controls",
      "_view_module_version": "1.5.0",
      "_view_name": "ProgressView",
      "bar_style": "danger",
      "description": "  0%",
      "description_tooltip": null,
      "layout": "IPY_MODEL_6720b82ccb83470bbae5162f8ff8c771",
      "max": 200,
      "min": 0,
      "orientation": "horizontal",
      "style": "IPY_MODEL_59322cbe7d3246d586820229d9c82577",
      "value": 0
     }
    },
    "8ba20e173b06484da22fcb45dbdeccf3": {
     "model_module": "@jupyter-widgets/controls",
     "model_name": "HBoxModel",
     "state": {
      "_dom_classes": [],
      "_model_module": "@jupyter-widgets/controls",
      "_model_module_version": "1.5.0",
      "_model_name": "HBoxModel",
      "_view_count": null,
      "_view_module": "@jupyter-widgets/controls",
      "_view_module_version": "1.5.0",
      "_view_name": "HBoxView",
      "box_style": "",
      "children": [
       "IPY_MODEL_6cb1f9bd698f43978e0cd00c74ebbbcb",
       "IPY_MODEL_da4271c58b044199bf1307e93c165240"
      ],
      "layout": "IPY_MODEL_2612530724f14b729fe2333e8fcab721"
     }
    },
    "da4271c58b044199bf1307e93c165240": {
     "model_module": "@jupyter-widgets/controls",
     "model_name": "HTMLModel",
     "state": {
      "_dom_classes": [],
      "_model_module": "@jupyter-widgets/controls",
      "_model_module_version": "1.5.0",
      "_model_name": "HTMLModel",
      "_view_count": null,
      "_view_module": "@jupyter-widgets/controls",
      "_view_module_version": "1.5.0",
      "_view_name": "HTMLView",
      "description": "",
      "description_tooltip": null,
      "layout": "IPY_MODEL_645d53c2482841b69478de1f42410715",
      "placeholder": "​",
      "style": "IPY_MODEL_1a39352c039a4e29afd4c90ec23d9e52",
      "value": " 0/200 [00:01&lt;?, ?it/s]"
     }
    }
   }
  }
 },
 "nbformat": 4,
 "nbformat_minor": 1
}
