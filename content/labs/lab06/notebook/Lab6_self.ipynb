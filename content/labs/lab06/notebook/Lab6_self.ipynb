{
 "cells": [
  {
   "cell_type": "code",
   "execution_count": 0,
   "metadata": {
    "colab": {
     "base_uri": "https://localhost:8080/",
     "height": 104
    },
    "colab_type": "code",
    "id": "_WiBVQHVjaHt",
    "outputId": "adbb44b6-904e-43ec-f428-0100c4e15fc4"
   },
   "outputs": [
    {
     "name": "stdout",
     "output_type": "stream",
     "text": [
      "`%tensorflow_version` only switches the major version: 1.x or 2.x.\n",
      "You set: `2.0.0`. This will be interpreted as: `2.x`.\n",
      "\n",
      "\n",
      "TensorFlow 2.x selected.\n"
     ]
    }
   ],
   "source": [
    "%tensorflow_version 2.0.0"
   ]
  },
  {
   "cell_type": "code",
   "execution_count": 0,
   "metadata": {
    "colab": {
     "base_uri": "https://localhost:8080/",
     "height": 555
    },
    "colab_type": "code",
    "id": "QHYOB9N4jnEB",
    "outputId": "4d5513f6-230e-4d43-8b1d-07b9b76ecf7a"
   },
   "outputs": [
    {
     "name": "stdout",
     "output_type": "stream",
     "text": [
      "[name: \"/device:CPU:0\"\n",
      "device_type: \"CPU\"\n",
      "memory_limit: 268435456\n",
      "locality {\n",
      "}\n",
      "incarnation: 157350749527295270\n",
      ", name: \"/device:XLA_CPU:0\"\n",
      "device_type: \"XLA_CPU\"\n",
      "memory_limit: 17179869184\n",
      "locality {\n",
      "}\n",
      "incarnation: 16830325905300789242\n",
      "physical_device_desc: \"device: XLA_CPU device\"\n",
      ", name: \"/device:XLA_GPU:0\"\n",
      "device_type: \"XLA_GPU\"\n",
      "memory_limit: 17179869184\n",
      "locality {\n",
      "}\n",
      "incarnation: 11246941470116961202\n",
      "physical_device_desc: \"device: XLA_GPU device\"\n",
      ", name: \"/device:GPU:0\"\n",
      "device_type: \"GPU\"\n",
      "memory_limit: 7470045594\n",
      "locality {\n",
      "  bus_id: 1\n",
      "  links {\n",
      "  }\n",
      "}\n",
      "incarnation: 10717897418227776421\n",
      "physical_device_desc: \"device: 0, name: Tesla P4, pci bus id: 0000:00:04.0, compute capability: 6.1\"\n",
      "]\n"
     ]
    }
   ],
   "source": [
    "from tensorflow.python.client import device_lib\n",
    "print(device_lib.list_local_devices())\n",
    "\n"
   ]
  },
  {
   "cell_type": "code",
   "execution_count": 0,
   "metadata": {
    "colab": {
     "base_uri": "https://localhost:8080/",
     "height": 34
    },
    "colab_type": "code",
    "id": "d5DFDTWvkFzq",
    "outputId": "856f9d07-897c-4e83-dbd6-579a83e0015f"
   },
   "outputs": [
    {
     "name": "stdout",
     "output_type": "stream",
     "text": [
      "Drive already mounted at /content/gdrive; to attempt to forcibly remount, call drive.mount(\"/content/gdrive\", force_remount=True).\n"
     ]
    }
   ],
   "source": [
    "#mount your own drive\n",
    "from google.colab import drive\n",
    "drive.mount('/content/gdrive')"
   ]
  },
  {
   "cell_type": "code",
   "execution_count": 0,
   "metadata": {
    "colab": {},
    "colab_type": "code",
    "id": "so9ikzN2kJZc"
   },
   "outputs": [],
   "source": [
    "#Getting all pip packages\n",
    "import subprocess\n",
    "import sys\n",
    "\n",
    "reqs = subprocess.check_output([sys.executable, '-m', 'pip', 'freeze'])\n",
    "installed_packages = [r.decode().split('==') for r in reqs.split()]\n"
   ]
  },
  {
   "cell_type": "code",
   "execution_count": 0,
   "metadata": {
    "colab": {},
    "colab_type": "code",
    "id": "ZRcYKsk8kSA0"
   },
   "outputs": [],
   "source": [
    "#installing tensorflow-datasets==2.1.0\n",
    "if ['tensorflow-datasets', '2.1.0'] not in installed_packages:\n",
    "  !pip uninstall tensorflow-datasets\n",
    "  !pip install tensorflow-datasets "
   ]
  },
  {
   "cell_type": "code",
   "execution_count": 0,
   "metadata": {
    "colab": {
     "base_uri": "https://localhost:8080/",
     "height": 104
    },
    "colab_type": "code",
    "id": "sKQYTnvnk6Ki",
    "outputId": "9f65e1b2-d6cc-4d07-b355-1803db182ac8"
   },
   "outputs": [
    {
     "name": "stdout",
     "output_type": "stream",
     "text": [
      "Requirement already satisfied: tf-keras-vis in /usr/local/lib/python3.6/dist-packages (0.2.1)\n",
      "Requirement already satisfied: imageio in /usr/local/lib/python3.6/dist-packages (from tf-keras-vis) (2.4.1)\n",
      "Requirement already satisfied: pillow in /usr/local/lib/python3.6/dist-packages (from tf-keras-vis) (7.0.0)\n",
      "Requirement already satisfied: numpy in /usr/local/lib/python3.6/dist-packages (from tf-keras-vis) (1.18.2)\n",
      "Requirement already satisfied: scipy in /usr/local/lib/python3.6/dist-packages (from tf-keras-vis) (1.4.1)\n"
     ]
    }
   ],
   "source": [
    "!pip install tf-keras-vis"
   ]
  },
  {
   "cell_type": "code",
   "execution_count": 9,
   "metadata": {
    "colab": {
     "base_uri": "https://localhost:8080/",
     "height": 121
    },
    "colab_type": "code",
    "id": "eMh_X-6gjp0T",
    "outputId": "ca3fe524-c892-4e49-b854-d6fb311b7ba1"
   },
   "outputs": [],
   "source": [
    "from tensorflow import keras\n",
    "\n",
    "from tensorflow.keras.models import load_model\n",
    "\n",
    "#%tensorflow_version 2.0\n",
    "import tensorflow as tf\n",
    "\n",
    "tf.keras.backend.clear_session()\n",
    "\n",
    "import numpy as np\n",
    "from scipy.optimize import minimize\n",
    "from sklearn.utils import shuffle\n",
    "\n",
    "\n",
    "from PIL import Image\n",
    "\n",
    "from matplotlib import pyplot\n",
    "import matplotlib.pylab as plt \n",
    "from scipy.signal import convolve2d\n",
    "%matplotlib inline\n",
    "plt.style.use('dark_background')\n",
    "\n",
    "import os\n",
    "\n",
    "from tensorflow.keras.models import Sequential, Model\n",
    "from tensorflow.keras.layers import Dense, Dropout, Flatten, Activation, Input\n",
    "from tensorflow.keras.layers import Conv2D, MaxPooling2D\n",
    "from tensorflow.keras.optimizers import Adam, SGD\n",
    "from tensorflow.keras.utils import to_categorical\n",
    "from tensorflow.keras.metrics import AUC, Precision, Recall, FalsePositives, \\\n",
    "                                     FalseNegatives, TruePositives, TrueNegatives\n",
    "from tensorflow.keras.preprocessing import image\n",
    "from tensorflow.keras.regularizers import l2"
   ]
  },
  {
   "cell_type": "code",
   "execution_count": 10,
   "metadata": {
    "colab": {
     "base_uri": "https://localhost:8080/",
     "height": 52
    },
    "colab_type": "code",
    "id": "6G6g64Bxkx2T",
    "outputId": "0f3f9f70-60c6-43bf-bd3a-4dc2abdf7ef2"
   },
   "outputs": [
    {
     "name": "stdout",
     "output_type": "stream",
     "text": [
      "2.0.0\n",
      "1 Physical GPUs, 1 Logical GPU\n"
     ]
    }
   ],
   "source": [
    "from __future__ import absolute_import, division, print_function, unicode_literals\n",
    "tf.keras.backend.clear_session()  # For easy reset of notebook state.\n",
    "print(tf.__version__)  # You should see a > 2.0.0 here!\n",
    "from tf_keras_vis.utils import print_gpus\n",
    "print_gpus()"
   ]
  },
  {
   "cell_type": "code",
   "execution_count": null,
   "metadata": {},
   "outputs": [],
   "source": []
  },
  {
   "cell_type": "code",
   "execution_count": 13,
   "metadata": {
    "colab": {},
    "colab_type": "code",
    "id": "gKJmlP5GlFaK"
   },
   "outputs": [],
   "source": [
    "#import tensorflow_addons as tfa\n",
    "import tensorflow_datasets as tfds"
   ]
  },
  {
   "cell_type": "code",
   "execution_count": 14,
   "metadata": {
    "colab": {},
    "colab_type": "code",
    "id": "oT07e6EGlIFk"
   },
   "outputs": [],
   "source": [
    "np.random.seed(109)\n",
    "tf.random.set_seed(109)"
   ]
  },
  {
   "cell_type": "code",
   "execution_count": 17,
   "metadata": {
    "colab": {},
    "colab_type": "code",
    "id": "_Vxg9J9wkTwT"
   },
   "outputs": [],
   "source": [
    "import certifi\n",
    "import urllib3  # For handling https certificate verification \n",
    "import scipy.ndimage as ndimage\n",
    "import tensorflow_datasets as tfds\n",
    "#import tensorflow_addons as tfa\n",
    "\n",
    "\n",
    "# This line will download the CelebA dataset. The download will only happen the first time you ever run this cell.\n",
    "train_celeb, test_celeb = tfds.load('celeb_a', split=['train', 'test'], shuffle_files=False, download=False) # data_dir = 'gdrive/My Drive/', "
   ]
  },
  {
   "cell_type": "markdown",
   "metadata": {
    "colab_type": "text",
    "id": "6ZgmVTfKlr1w"
   },
   "source": [
    "* tf.data API neables you to build complex input ipelines from simple reusable pieces\n",
    "\n",
    "* Aggregate data from different files; apply random perturbations to each image, merge randomly selected images\n",
    "\n",
    "* tf.data API makes it possible to handle large amounts of data, read from different data formats and perform complex transformations.\n",
    "\n",
    "* tf.data API introduces a tf.data.Dataset that represents a sequence of elements - consisting of 1 or more components\n",
    "\n",
    "* e.g. Image pipeline - An element is a single example; Image and components are 2 tensor components\n",
    "\n",
    "* to construct a dataset from data in memory use tf.data.Dataset.from_tensors() or tf.data.Dataset.from_tensor_slices().\n",
    "\n",
    "* If input data is stored in a file in the recommended format use tf.data.TFRecordDataset().\n",
    "\n",
    "* A dataset object so created is a Python iterable; its elements can be viewed using a for loop "
   ]
  },
  {
   "cell_type": "code",
   "execution_count": 0,
   "metadata": {
    "colab": {
     "base_uri": "https://localhost:8080/",
     "height": 86
    },
    "colab_type": "code",
    "id": "CGpwnmDZkXrW",
    "outputId": "3212c53d-ed64-4f30-9a3b-9030b332376f"
   },
   "outputs": [
    {
     "name": "stdout",
     "output_type": "stream",
     "text": [
      "tf.Tensor([4 3 1 9 7 4 8 9 4 6], shape=(10,), dtype=int32)\n",
      "tf.Tensor([9 6 2 2 6 4 7 2 9 8], shape=(10,), dtype=int32)\n",
      "tf.Tensor([5 7 5 4 8 5 6 4 8 4], shape=(10,), dtype=int32)\n",
      "tf.Tensor([6 2 2 2 6 6 4 2 2 2], shape=(10,), dtype=int32)\n"
     ]
    }
   ],
   "source": [
    "# create a datset object\n",
    "dataset = tf.data.Dataset.from_tensor_slices(tf.random.uniform ([4,10], minval = 1, maxval = 10, dtype = tf.int32))\n",
    "\n",
    "#view elements\n",
    "for elem in dataset:\n",
    "  print(elem)"
   ]
  },
  {
   "cell_type": "markdown",
   "metadata": {},
   "source": [
    "* Datasets are powerful objects because they are effectively dictionaries.\n",
    "* That can store tensors and other data such as the response variable.\n",
    "\n",
    "We can also construct them by passing small sized numpy arrays, such as in the following example."
   ]
  },
  {
   "cell_type": "code",
   "execution_count": 0,
   "metadata": {
    "colab": {
     "base_uri": "https://localhost:8080/",
     "height": 86
    },
    "colab_type": "code",
    "id": "o9oaqiSyoE88",
    "outputId": "68e7a91d-1e62-4e26-8db9-82cc56ebe451"
   },
   "outputs": [
    {
     "name": "stdout",
     "output_type": "stream",
     "text": [
      "[4 3 1 9 7 4 8 9 4 6]\n",
      "[9 6 2 2 6 4 7 2 9 8]\n",
      "[5 7 5 4 8 5 6 4 8 4]\n",
      "[6 2 2 2 6 6 4 2 2 2]\n"
     ]
    }
   ],
   "source": [
    "for elem in dataset:\n",
    "  print(elem.numpy())"
   ]
  },
  {
   "cell_type": "markdown",
   "metadata": {
    "colab_type": "text",
    "id": "m2VZwDWvsEbm"
   },
   "source": [
    "* Transform a dataset object into a new dataset by chaining method calls on the tf.data.Dataset object\n",
    "\n",
    "* Dataset.map() - per element transformations\n",
    "\n",
    "* Dataset.batch() - multi-element transformations"
   ]
  },
  {
   "cell_type": "code",
   "execution_count": 0,
   "metadata": {
    "colab": {
     "base_uri": "https://localhost:8080/",
     "height": 86
    },
    "colab_type": "code",
    "id": "y5t-W5EEoZ3I",
    "outputId": "6b530172-2919-42b6-c34c-020e5fa9d9ed"
   },
   "outputs": [
    {
     "name": "stdout",
     "output_type": "stream",
     "text": [
      "tf.Tensor([ 8  6  2 18 14  8 16 18  8 12], shape=(10,), dtype=int32)\n",
      "tf.Tensor([18 12  4  4 12  8 14  4 18 16], shape=(10,), dtype=int32)\n",
      "tf.Tensor([10 14 10  8 16 10 12  8 16  8], shape=(10,), dtype=int32)\n",
      "tf.Tensor([12  4  4  4 12 12  8  4  4  4], shape=(10,), dtype=int32)\n"
     ]
    }
   ],
   "source": [
    "dataset = dataset.map(lambda x: x*2)\n",
    "\n",
    "for elem in dataset:\n",
    "  print(elem) # print elem.numpy()"
   ]
  },
  {
   "cell_type": "code",
   "execution_count": 0,
   "metadata": {
    "colab": {
     "base_uri": "https://localhost:8080/",
     "height": 69
    },
    "colab_type": "code",
    "id": "aQkLNxL0soZ0",
    "outputId": "560760a1-4f31-496e-e1d6-e36033804ad2"
   },
   "outputs": [
    {
     "name": "stdout",
     "output_type": "stream",
     "text": [
      "Downloading data from https://s3.amazonaws.com/img-datasets/mnist.npz\n",
      "11493376/11490434 [==============================] - 1s 0us/step\n"
     ]
    },
    {
     "data": {
      "text/plain": [
       "((60000, 28, 28), (60000,))"
      ]
     },
     "execution_count": 15,
     "metadata": {
      "tags": []
     },
     "output_type": "execute_result"
    }
   ],
   "source": [
    "# load mnist which is in numpy array\n",
    "(x_train, y_train), (x_test, y_test) = keras.datasets.mnist.load_data()\n",
    "x_train.shape, y_train.shape"
   ]
  },
  {
   "cell_type": "code",
   "execution_count": 0,
   "metadata": {
    "colab": {},
    "colab_type": "code",
    "id": "N_7ne7igs68z"
   },
   "outputs": [],
   "source": [
    "# take only 10 images\n",
    "# take creates a dataset with max num of elements specified in the function\n",
    "train_dataset = tf.data.Dataset.from_tensor_slices((x_train, y_train)).take(10)"
   ]
  },
  {
   "cell_type": "code",
   "execution_count": 0,
   "metadata": {
    "colab": {
     "base_uri": "https://localhost:8080/",
     "height": 34
    },
    "colab_type": "code",
    "id": "1kLIDd87w6gR",
    "outputId": "743ad687-f8e6-4e1b-d982-68bce3dd0fb0"
   },
   "outputs": [
    {
     "data": {
      "text/plain": [
       "10"
      ]
     },
     "execution_count": 17,
     "metadata": {
      "tags": []
     },
     "output_type": "execute_result"
    }
   ],
   "source": [
    "len(list(train_dataset))"
   ]
  },
  {
   "cell_type": "code",
   "execution_count": 0,
   "metadata": {
    "colab": {
     "base_uri": "https://localhost:8080/",
     "height": 34
    },
    "colab_type": "code",
    "id": "yo1qMvXiw8i_",
    "outputId": "4667f930-6547-4051-b876-e0581e4091d3"
   },
   "outputs": [
    {
     "data": {
      "text/plain": [
       "10"
      ]
     },
     "execution_count": 18,
     "metadata": {
      "tags": []
     },
     "output_type": "execute_result"
    }
   ],
   "source": [
    "tf.data.experimental.cardinality(train_dataset).numpy()"
   ]
  },
  {
   "cell_type": "code",
   "execution_count": 0,
   "metadata": {
    "colab": {},
    "colab_type": "code",
    "id": "Uirbd6gUxrvZ"
   },
   "outputs": [],
   "source": [
    "train_dataset = tf.data.Dataset.from_tensor_slices((x_train, y_train))\n",
    "test_dataset = tf.data.Dataset.from_tensor_slices((x_test, y_test))"
   ]
  },
  {
   "cell_type": "code",
   "execution_count": 0,
   "metadata": {
    "colab": {
     "base_uri": "https://localhost:8080/",
     "height": 34
    },
    "colab_type": "code",
    "id": "kqhnDMakx6ay",
    "outputId": "d21fbe13-2d58-48f7-8e40-824220dbd0b3"
   },
   "outputs": [
    {
     "name": "stdout",
     "output_type": "stream",
     "text": [
      "(28, 28)\n"
     ]
    }
   ],
   "source": [
    "# Retreive images\n",
    "for elem in train_dataset.take(1):\n",
    "  print(elem[0].numpy().shape)\n",
    "  # elem is a tuple of image and label\n",
    "  # convert elem[0] to numpy array and then take shape"
   ]
  },
  {
   "cell_type": "code",
   "execution_count": 0,
   "metadata": {
    "colab": {
     "base_uri": "https://localhost:8080/",
     "height": 282
    },
    "colab_type": "code",
    "id": "MxL2BXGzyO2T",
    "outputId": "cccac6bf-a73d-445c-895a-d807eac820ee"
   },
   "outputs": [
    {
     "name": "stdout",
     "output_type": "stream",
     "text": [
      "(28, 28)\n"
     ]
    },
    {
     "data": {
      "image/png": "[encoded data removed]",
      "text/plain": [
       "<Figure size 432x288 with 1 Axes>"
      ]
     },
     "metadata": {
      "tags": []
     },
     "output_type": "display_data"
    }
   ],
   "source": [
    "for elem in train_dataset.take(1):\n",
    "  image = elem[0].numpy() # image as numpy array\n",
    "  print(image.shape)\n",
    "  plt.imshow(image, cmap = 'gray')"
   ]
  },
  {
   "cell_type": "markdown",
   "metadata": {
    "colab_type": "text",
    "id": "d3C0QRMRzFUi"
   },
   "source": [
    "* Images and labels are now both passed as a single dataset object\n",
    "* Dataset instance can be passed directly to the methods fit(), evaluate() and predict()"
   ]
  },
  {
   "cell_type": "markdown",
   "metadata": {
    "colab_type": "text",
    "id": "R3oMyg3EzUfG"
   },
   "source": [
    "# Data Augmentation"
   ]
  },
  {
   "cell_type": "code",
   "execution_count": 0,
   "metadata": {
    "colab": {
     "base_uri": "https://localhost:8080/",
     "height": 185
    },
    "colab_type": "code",
    "id": "scMiYhDLy9Yc",
    "outputId": "008f72bc-f42d-4377-e2aa-25867d2fea94"
   },
   "outputs": [
    {
     "data": {
      "image/png": "[encoded data removed]",
      "text/plain": [
       "<Figure size 720x216 with 4 Axes>"
      ]
     },
     "metadata": {
      "tags": []
     },
     "output_type": "display_data"
    }
   ],
   "source": [
    "fig, axes = plt.subplots(1,4, figsize = (10,3))\n",
    "\n",
    "for i, (img, label) in enumerate(train_dataset.take(4)):\n",
    "  axes[i].imshow(img)\n",
    "  axes[i].set_title(f'{label:.2f}') # :.2f for 2 decimals"
   ]
  },
  {
   "cell_type": "code",
   "execution_count": 0,
   "metadata": {
    "colab": {
     "base_uri": "https://localhost:8080/",
     "height": 300
    },
    "colab_type": "code",
    "id": "ke_dQTGz3Cbn",
    "outputId": "3a38dc12-91e4-49ae-e535-28f0074878d0"
   },
   "outputs": [
    {
     "data": {
      "text/plain": [
       "(28, 28)"
      ]
     },
     "metadata": {
      "tags": []
     },
     "output_type": "display_data"
    },
    {
     "data": {
      "text/plain": [
       "(28, 28, 1)"
      ]
     },
     "execution_count": 23,
     "metadata": {
      "tags": []
     },
     "output_type": "execute_result"
    },
    {
     "data": {
      "image/png": "[encoded data removed]",
      "text/plain": [
       "<Figure size 432x288 with 1 Axes>"
      ]
     },
     "metadata": {
      "tags": []
     },
     "output_type": "display_data"
    }
   ],
   "source": [
    "# elem is a tuple of image and label\n",
    "# convert elem[0] to numpy array and then take shape\n",
    "# by default image in elem[0] is stored as 2D array\n",
    "# convert to 3D array for feeding to tensorflow functions  flip, rotate etc.\n",
    "# convert backto 2D array for display using imshow()\n",
    "\n",
    "plt.imshow(image)\n",
    "display(image.shape)\n",
    "\n",
    "image = np.expand_dims(image, axis = 2)\n",
    "image.shape # convert to 3d tensor for feeding to image flip up, rotate, etc."
   ]
  },
  {
   "cell_type": "code",
   "execution_count": 0,
   "metadata": {
    "colab": {
     "base_uri": "https://localhost:8080/",
     "height": 282
    },
    "colab_type": "code",
    "id": "a9fACJ5V9LZU",
    "outputId": "74a0ea3a-d617-4f02-d27e-b77fd5b0c198"
   },
   "outputs": [
    {
     "data": {
      "text/plain": [
       "<matplotlib.image.AxesImage at 0x7f66483f0710>"
      ]
     },
     "execution_count": 24,
     "metadata": {
      "tags": []
     },
     "output_type": "execute_result"
    },
    {
     "data": {
      "image/png": "[encoded data removed]",
      "text/plain": [
       "<Figure size 432x288 with 1 Axes>"
      ]
     },
     "metadata": {
      "tags": []
     },
     "output_type": "display_data"
    }
   ],
   "source": [
    "image_flip_up = tf.image.flip_up_down(image).numpy()\n",
    "# .numpy() to process as numpy\n",
    "plt.imshow(image_flip_up.reshape(28,-1))# convert back to 2D for display"
   ]
  },
  {
   "cell_type": "code",
   "execution_count": 0,
   "metadata": {
    "colab": {
     "base_uri": "https://localhost:8080/",
     "height": 282
    },
    "colab_type": "code",
    "id": "4ZjEHmw70pVr",
    "outputId": "1bd05aff-d1fc-49d9-f949-dc9cbc8713f6"
   },
   "outputs": [
    {
     "data": {
      "text/plain": [
       "<matplotlib.image.AxesImage at 0x7f66483582b0>"
      ]
     },
     "execution_count": 25,
     "metadata": {
      "tags": []
     },
     "output_type": "execute_result"
    },
    {
     "data": {
      "image/png": "[encoded data removed]",
      "text/plain": [
       "<Figure size 432x288 with 1 Axes>"
      ]
     },
     "metadata": {
      "tags": []
     },
     "output_type": "display_data"
    }
   ],
   "source": [
    "\n",
    "# expand_dims since image needs to be 3D\n",
    "image_flip = tf.image.flip_up_down(np.expand_dims(image, axis = 1)).numpy()\n",
    "image_rot_90 = tf.image.rot90(np.expand_dims(image, axis = 2), k=1).numpy()\n",
    "# rot90 - rotates images counter-clockwise by 90 degrees\n",
    "# k - number of times the image is rotated\n",
    "plt.imshow(image_flip.reshape(28,-1))"
   ]
  },
  {
   "cell_type": "markdown",
   "metadata": {
    "colab_type": "text",
    "id": "HVtBn7YsCJ2j"
   },
   "source": [
    "* tf.data API is a set of utilities in TF2.0 for loading and preprocessing data.\n",
    "* Can also use keras ImageDataGenerator; which accepts numpy arrays\n",
    "* Rule\n",
    "  * Numpy arrays if data is small and can fit in memory\n",
    "  * tf.data.Datasets if data is large and cannot fit in memore"
   ]
  },
  {
   "cell_type": "markdown",
   "metadata": {
    "colab_type": "text",
    "id": "8skgTxCuwc99"
   },
   "source": [
    "# TensorFlow Datasets\n",
    "* TFDS is a collection of ready to use datasets\n",
    "* Handles downloading and prepping of data and constructing a tf.data.Dataset\n",
    "* TFDS is different from tf.data which is an API to build data pipelines\n",
    "* Use tfds.load to build and load a tf.data.Dataset"
   ]
  },
  {
   "cell_type": "markdown",
   "metadata": {
    "colab_type": "text",
    "id": "uRHODta0rf0c"
   },
   "source": [
    "## Street View House Numbers Dataset\n",
    "\n",
    "* 600K images size 32*32\n",
    "* Loading the .mat file creates 2 variables\n",
    "* X - 4D matrix containing images\n",
    "* Y - vector of class labels"
   ]
  },
  {
   "cell_type": "code",
   "execution_count": 20,
   "metadata": {
    "colab": {},
    "colab_type": "code",
    "id": "f0kAQ0Ot1Nx6"
   },
   "outputs": [
    {
     "name": "stdout",
     "output_type": "stream",
     "text": [
      "\u001b[1mDownloading and preparing dataset svhn_cropped/3.0.0 (download: 1.47 GiB, generated: Unknown size, total: 1.47 GiB) to /home/11372120/tensorflow_datasets/svhn_cropped/3.0.0...\u001b[0m\n"
     ]
    },
    {
     "data": {
      "application/vnd.jupyter.widget-view+json": {
       "model_id": "a334956211b248af99943c48f6b10780",
       "version_major": 2,
       "version_minor": 0
      },
      "text/plain": [
       "HBox(children=(IntProgress(value=1, bar_style='info', description='Dl Completed...', max=1, style=ProgressStyl…"
      ]
     },
     "metadata": {},
     "output_type": "display_data"
    },
    {
     "data": {
      "application/vnd.jupyter.widget-view+json": {
       "model_id": "cae77118ed2647ad90a18c3b1be1b8bc",
       "version_major": 2,
       "version_minor": 0
      },
      "text/plain": [
       "HBox(children=(IntProgress(value=1, bar_style='info', description='Dl Size...', max=1, style=ProgressStyle(des…"
      ]
     },
     "metadata": {},
     "output_type": "display_data"
    },
    {
     "name": "stdout",
     "output_type": "stream",
     "text": [
      "\n",
      "\n",
      "\n",
      "\n"
     ]
    },
    {
     "data": {
      "application/vnd.jupyter.widget-view+json": {
       "model_id": "",
       "version_major": 2,
       "version_minor": 0
      },
      "text/plain": [
       "HBox(children=(IntProgress(value=1, bar_style='info', max=1), HTML(value='')))"
      ]
     },
     "metadata": {},
     "output_type": "display_data"
    },
    {
     "name": "stdout",
     "output_type": "stream",
     "text": [
      "\r",
      "Shuffling and writing examples to /home/11372120/tensorflow_datasets/svhn_cropped/3.0.0.incompleteJY08OQ/svhn_cropped-train.tfrecord\n"
     ]
    },
    {
     "data": {
      "application/vnd.jupyter.widget-view+json": {
       "model_id": "111ea1898cb04c56b64e8f3349484f38",
       "version_major": 2,
       "version_minor": 0
      },
      "text/plain": [
       "HBox(children=(IntProgress(value=0, max=73257), HTML(value='')))"
      ]
     },
     "metadata": {},
     "output_type": "display_data"
    },
    {
     "data": {
      "application/vnd.jupyter.widget-view+json": {
       "model_id": "",
       "version_major": 2,
       "version_minor": 0
      },
      "text/plain": [
       "HBox(children=(IntProgress(value=1, bar_style='info', max=1), HTML(value='')))"
      ]
     },
     "metadata": {},
     "output_type": "display_data"
    },
    {
     "name": "stdout",
     "output_type": "stream",
     "text": [
      "Shuffling and writing examples to /home/11372120/tensorflow_datasets/svhn_cropped/3.0.0.incompleteJY08OQ/svhn_cropped-test.tfrecord\n"
     ]
    },
    {
     "data": {
      "application/vnd.jupyter.widget-view+json": {
       "model_id": "fa5efc484ecc4463877ef31e4499841b",
       "version_major": 2,
       "version_minor": 0
      },
      "text/plain": [
       "HBox(children=(IntProgress(value=0, max=26032), HTML(value='')))"
      ]
     },
     "metadata": {},
     "output_type": "display_data"
    },
    {
     "name": "stdout",
     "output_type": "stream",
     "text": [
      "\r"
     ]
    },
    {
     "data": {
      "application/vnd.jupyter.widget-view+json": {
       "model_id": "",
       "version_major": 2,
       "version_minor": 0
      },
      "text/plain": [
       "HBox(children=(IntProgress(value=1, bar_style='info', max=1), HTML(value='')))"
      ]
     },
     "metadata": {},
     "output_type": "display_data"
    },
    {
     "name": "stdout",
     "output_type": "stream",
     "text": [
      "\r",
      "Shuffling and writing examples to /home/11372120/tensorflow_datasets/svhn_cropped/3.0.0.incompleteJY08OQ/svhn_cropped-extra.tfrecord\n"
     ]
    },
    {
     "data": {
      "application/vnd.jupyter.widget-view+json": {
       "model_id": "d12c6c2d8c9b453e86b5e72fe791d245",
       "version_major": 2,
       "version_minor": 0
      },
      "text/plain": [
       "HBox(children=(IntProgress(value=0, max=531131), HTML(value='')))"
      ]
     },
     "metadata": {},
     "output_type": "display_data"
    },
    {
     "name": "stdout",
     "output_type": "stream",
     "text": [
      "\u001b[1mDataset svhn_cropped downloaded and prepared to /home/11372120/tensorflow_datasets/svhn_cropped/3.0.0. Subsequent calls will reuse this data.\u001b[0m\n",
      "\r"
     ]
    }
   ],
   "source": [
    "train_svhn_cropped, test_svhn_cropped = tfds.load('svhn_cropped', split = ['train', 'test'], shuffle_files = False)\n"
   ]
  },
  {
   "cell_type": "code",
   "execution_count": 0,
   "metadata": {
    "colab": {
     "base_uri": "https://localhost:8080/",
     "height": 34
    },
    "colab_type": "code",
    "id": "nxGZVqam8eK-",
    "outputId": "fdf16702-117a-46cd-c8c9-0d687f2e39b9"
   },
   "outputs": [
    {
     "data": {
      "text/plain": [
       "True"
      ]
     },
     "execution_count": 27,
     "metadata": {
      "tags": []
     },
     "output_type": "execute_result"
    }
   ],
   "source": [
    "# check if downloaded dataset is a part of tf.data.Dataset\n",
    "isinstance(train_svhn_cropped, tf.data.Dataset)"
   ]
  },
  {
   "cell_type": "code",
   "execution_count": 0,
   "metadata": {
    "colab": {
     "base_uri": "https://localhost:8080/",
     "height": 52
    },
    "colab_type": "code",
    "id": "fhrgdX8qy3aR",
    "outputId": "a5d85f61-5788-45d3-f392-a76943e2ced9"
   },
   "outputs": [
    {
     "data": {
      "text/plain": [
       "dict"
      ]
     },
     "metadata": {
      "tags": []
     },
     "output_type": "display_data"
    },
    {
     "data": {
      "text/plain": [
       "dict_keys(['image', 'label'])"
      ]
     },
     "execution_count": 28,
     "metadata": {
      "tags": []
     },
     "output_type": "execute_result"
    }
   ],
   "source": [
    "# convert to numpy if needed\n",
    "\n",
    "features = next(iter(train_svhn_cropped))\n",
    "display(type(features))\n",
    "features.keys() # returns a dict with image and label as keys"
   ]
  },
  {
   "cell_type": "code",
   "execution_count": 0,
   "metadata": {
    "colab": {
     "base_uri": "https://localhost:8080/",
     "height": 903
    },
    "colab_type": "code",
    "id": "plWt7BOW0sEc",
    "outputId": "11f39e26-8dee-4c52-eab4-8d5b8a39784e"
   },
   "outputs": [
    {
     "data": {
      "text/plain": [
       "[('image', <tf.Tensor: shape=(32, 32, 3), dtype=uint8, numpy=\n",
       "  array([[[126, 138, 136],\n",
       "          [128, 138, 137],\n",
       "          [129, 139, 138],\n",
       "          ...,\n",
       "          [ 19,  19,  19],\n",
       "          [ 19,  21,  20],\n",
       "          [ 19,  21,  20]],\n",
       "  \n",
       "         [[127, 139, 137],\n",
       "          [127, 139, 137],\n",
       "          [129, 140, 138],\n",
       "          ...,\n",
       "          [ 19,  21,  20],\n",
       "          [ 19,  21,  20],\n",
       "          [ 17,  21,  20]],\n",
       "  \n",
       "         [[128, 140, 139],\n",
       "          [127, 139, 138],\n",
       "          [128, 138, 137],\n",
       "          ...,\n",
       "          [ 19,  21,  20],\n",
       "          [ 20,  22,  21],\n",
       "          [ 17,  21,  20]],\n",
       "  \n",
       "         ...,\n",
       "  \n",
       "         [[ 91,  89,  96],\n",
       "          [ 76,  75,  83],\n",
       "          [ 69,  68,  77],\n",
       "          ...,\n",
       "          [ 94,  96,  91],\n",
       "          [ 68,  70,  65],\n",
       "          [ 43,  45,  42]],\n",
       "  \n",
       "         [[ 81,  78,  87],\n",
       "          [ 70,  68,  78],\n",
       "          [ 66,  65,  76],\n",
       "          ...,\n",
       "          [ 99, 100,  95],\n",
       "          [ 73,  75,  70],\n",
       "          [ 48,  48,  46]],\n",
       "  \n",
       "         [[ 73,  70,  79],\n",
       "          [ 66,  64,  74],\n",
       "          [ 66,  65,  75],\n",
       "          ...,\n",
       "          [102, 106, 101],\n",
       "          [ 78,  80,  75],\n",
       "          [ 52,  52,  50]]], dtype=uint8)>),\n",
       " ('label', <tf.Tensor: shape=(), dtype=int64, numpy=4>)]"
      ]
     },
     "execution_count": 29,
     "metadata": {
      "tags": []
     },
     "output_type": "execute_result"
    }
   ],
   "source": [
    "list(features.items())[:2]"
   ]
  },
  {
   "cell_type": "code",
   "execution_count": 0,
   "metadata": {
    "colab": {
     "base_uri": "https://localhost:8080/",
     "height": 34
    },
    "colab_type": "code",
    "id": "yCwk0rZV0uJm",
    "outputId": "783f6674-bb1a-456d-8b4b-4d3c734b3a20"
   },
   "outputs": [
    {
     "data": {
      "text/plain": [
       "((32, 32, 3), ())"
      ]
     },
     "execution_count": 30,
     "metadata": {
      "tags": []
     },
     "output_type": "execute_result"
    }
   ],
   "source": [
    "# convert elements to numpy if needed\n",
    "images = features['image'].numpy()\n",
    "labels = features['label'].numpy()\n",
    "images.shape, labels.shape\n"
   ]
  },
  {
   "cell_type": "code",
   "execution_count": 0,
   "metadata": {
    "colab": {
     "base_uri": "https://localhost:8080/",
     "height": 34
    },
    "colab_type": "code",
    "id": "gASxgr741tqk",
    "outputId": "b29eb62b-ee69-402c-9065-198e148d1908"
   },
   "outputs": [
    {
     "name": "stdout",
     "output_type": "stream",
     "text": [
      "tf.Tensor(4, shape=(), dtype=int64)\n"
     ]
    }
   ],
   "source": [
    "for i, element in enumerate(train_svhn_cropped):\n",
    "  image = element['image']\n",
    "  label = element['label']\n",
    "  print(label)\n",
    "  #print(element) # returns full numpy array\n",
    "  break"
   ]
  },
  {
   "cell_type": "code",
   "execution_count": 0,
   "metadata": {
    "colab": {
     "base_uri": "https://localhost:8080/",
     "height": 544
    },
    "colab_type": "code",
    "id": "JE46EgEf2Gzy",
    "outputId": "33fcb4f1-3655-413b-eba9-894a3bd3f213"
   },
   "outputs": [
    {
     "data": {
      "image/png": "[encoded data removed]",
      "text/plain": [
       "<Figure size 720x720 with 15 Axes>"
      ]
     },
     "metadata": {
      "tags": []
     },
     "output_type": "display_data"
    }
   ],
   "source": [
    "# Dataset can be divided into batches\n",
    "# batch_size defines size of the batch\n",
    "# each batch has images and labels\n",
    "# take_size - define number of batches\n",
    "\n",
    "batch_size = 5\n",
    "take_size = 3\n",
    "\n",
    "# Plot\n",
    "# dfine subplot of range take_size and batch_size - 3 rows and 5 columns\n",
    "fig, axes = plt.subplots(take_size, batch_size, figsize = (10,10))\n",
    "\n",
    "# for each of the batch_size(3) * take_size(5) = 15 elements\n",
    "for i, elem in enumerate(train_svhn_cropped.batch(batch_size).take(take_size)):\n",
    "  for j in range(batch_size):\n",
    "    # for each of the elements in 1 batch\n",
    "    image = elem['image'][j]\n",
    "    label = elem['label'][j]\n",
    "    axes[i][j].imshow(image) # show image & label a specified location\n",
    "    axes[i][j].set_title(f'true label = {label:d}')\n"
   ]
  },
  {
   "cell_type": "markdown",
   "metadata": {
    "colab_type": "text",
    "id": "ao3q5b2N-JzH"
   },
   "source": [
    "* Convert from a collection of diectionaries to a collection of tuples"
   ]
  },
  {
   "cell_type": "code",
   "execution_count": 0,
   "metadata": {
    "colab": {},
    "colab_type": "code",
    "id": "7r9gZSnQ6sNt"
   },
   "outputs": [],
   "source": [
    "# Process the image\n",
    "\n",
    "def normalize_image(img):\n",
    "  # cast a tensor to a new type\n",
    "  return(tf.cast(img, tf.float32)/255.)\n",
    "\n",
    "def normalize_dataset(element):\n",
    "  img = element['image']\n",
    "  lbl = element['label']\n",
    "  return normalize_image(img), lbl"
   ]
  },
  {
   "cell_type": "code",
   "execution_count": 0,
   "metadata": {
    "colab": {},
    "colab_type": "code",
    "id": "IWhJo3yc_lyU"
   },
   "outputs": [],
   "source": [
    "train_svhn = train_svhn_cropped.map(normalize_dataset)\n",
    "test_svhn = test_svhn_cropped.map(normalize_dataset)"
   ]
  },
  {
   "cell_type": "code",
   "execution_count": 0,
   "metadata": {
    "colab": {
     "base_uri": "https://localhost:8080/",
     "height": 34
    },
    "colab_type": "code",
    "id": "CHr8MPv7_xjc",
    "outputId": "46af6dc1-6784-4cb9-c0df-3d47cb16a9e6"
   },
   "outputs": [
    {
     "data": {
      "text/plain": [
       "True"
      ]
     },
     "execution_count": 35,
     "metadata": {
      "tags": []
     },
     "output_type": "execute_result"
    }
   ],
   "source": [
    "isinstance(train_svhn, tf.data.Dataset)"
   ]
  },
  {
   "cell_type": "markdown",
   "metadata": {
    "colab_type": "text",
    "id": "-uLYy6BRA3Fl"
   },
   "source": [
    "## CNN Model for SVHN Dataset"
   ]
  },
  {
   "cell_type": "code",
   "execution_count": 0,
   "metadata": {
    "colab": {
     "base_uri": "https://localhost:8080/",
     "height": 434
    },
    "colab_type": "code",
    "id": "ozuv9wLk_2NU",
    "outputId": "c1c0c8ed-307a-4bef-bbab-cc77e5d4a46f"
   },
   "outputs": [
    {
     "name": "stdout",
     "output_type": "stream",
     "text": [
      "Model: \"sequential\"\n",
      "_________________________________________________________________\n",
      "Layer (type)                 Output Shape              Param #   \n",
      "=================================================================\n",
      "conv2d (Conv2D)              (None, 30, 30, 16)        448       \n",
      "_________________________________________________________________\n",
      "max_pooling2d (MaxPooling2D) (None, 15, 15, 16)        0         \n",
      "_________________________________________________________________\n",
      "conv2d_1 (Conv2D)            (None, 13, 13, 32)        4640      \n",
      "_________________________________________________________________\n",
      "max_pooling2d_1 (MaxPooling2 (None, 6, 6, 32)          0         \n",
      "_________________________________________________________________\n",
      "conv2d_2 (Conv2D)            (None, 4, 4, 64)          18496     \n",
      "_________________________________________________________________\n",
      "flatten (Flatten)            (None, 1024)              0         \n",
      "_________________________________________________________________\n",
      "dense (Dense)                (None, 32)                32800     \n",
      "_________________________________________________________________\n",
      "dense_1 (Dense)              (None, 10)                330       \n",
      "=================================================================\n",
      "Total params: 56,714\n",
      "Trainable params: 56,714\n",
      "Non-trainable params: 0\n",
      "_________________________________________________________________\n"
     ]
    }
   ],
   "source": [
    "n_filters = 16\n",
    "input_shape = (32, 32, 3)\n",
    "\n",
    "svhn_model = Sequential() \n",
    "svhn_model.add(Conv2D(n_filters, (3, 3), activation='relu', input_shape=input_shape))\n",
    "svhn_model.add(MaxPooling2D((2, 2)))\n",
    "svhn_model.add(Conv2D(n_filters*2, (3, 3), activation='relu')) \n",
    "svhn_model.add(MaxPooling2D((2, 2)))\n",
    "svhn_model.add(Conv2D(n_filters*4, (3, 3), activation='relu'))\n",
    "svhn_model.add(Flatten())\n",
    "svhn_model.add(Dense(n_filters*2, activation='relu'))\n",
    "svhn_model.add(Dense(10, activation='softmax'))\n",
    "svhn_model.summary()"
   ]
  },
  {
   "cell_type": "code",
   "execution_count": 0,
   "metadata": {
    "colab": {},
    "colab_type": "code",
    "id": "n0AobipvekEj"
   },
   "outputs": [],
   "source": [
    "loss = 'sparse_categorical_crossentropy' # we use this because we did not 1-hot encode the labels\n",
    "optimaz = Adam(lr=0.001)\n",
    "metrics = ['accuracy'] \n",
    "\n",
    "# Compile model\n",
    "svhn_model.compile(optimizer=optimaz,\n",
    "                   loss=loss,\n",
    "                   metrics=metrics)"
   ]
  },
  {
   "cell_type": "code",
   "execution_count": 0,
   "metadata": {
    "colab": {
     "base_uri": "https://localhost:8080/",
     "height": 52
    },
    "colab_type": "code",
    "id": "ggRri9kmjnzv",
    "outputId": "eb46d3d1-2771-4d51-f1a7-0f6e36c8b1a2"
   },
   "outputs": [
    {
     "name": "stdout",
     "output_type": "stream",
     "text": [
      "CPU times: user 28 µs, sys: 3 µs, total: 31 µs\n",
      "Wall time: 36.7 µs\n"
     ]
    }
   ],
   "source": [
    "# Fit with early stopping\n",
    "\n",
    "%%time\n",
    "\n",
    "batch_size = 64\n",
    "epochs = 10\n",
    "\n",
    "callbacks = [keras.callbacks.EarlyStopping(\n",
    "    # stop training when val_accuracy is no longer improving\n",
    "    monitor = 'val_accuracy',\n",
    "    patience = 2,\n",
    "    verbose = 1)]"
   ]
  },
  {
   "cell_type": "code",
   "execution_count": 0,
   "metadata": {
    "colab": {
     "base_uri": "https://localhost:8080/",
     "height": 402
    },
    "colab_type": "code",
    "id": "krmohzWRnqgU",
    "outputId": "c8bdc9f0-0377-4034-f22b-eb1048d5cb24"
   },
   "outputs": [
    {
     "name": "stdout",
     "output_type": "stream",
     "text": [
      "Epoch 1/10\n",
      "1145/1145 [==============================] - 44s 38ms/step - loss: 1.1345 - accuracy: 0.6324 - val_loss: 0.7842 - val_accuracy: 0.7668\n",
      "Epoch 2/10\n",
      "1145/1145 [==============================] - 38s 33ms/step - loss: 0.5510 - accuracy: 0.8405 - val_loss: 0.5931 - val_accuracy: 0.8307\n",
      "Epoch 3/10\n",
      "1145/1145 [==============================] - 37s 32ms/step - loss: 0.4641 - accuracy: 0.8648 - val_loss: 0.4944 - val_accuracy: 0.8607\n",
      "Epoch 4/10\n",
      "1145/1145 [==============================] - 36s 32ms/step - loss: 0.4133 - accuracy: 0.8804 - val_loss: 0.4532 - val_accuracy: 0.8721\n",
      "Epoch 5/10\n",
      "1145/1145 [==============================] - 37s 32ms/step - loss: 0.3774 - accuracy: 0.8907 - val_loss: 0.4445 - val_accuracy: 0.8754\n",
      "Epoch 6/10\n",
      "1145/1145 [==============================] - 37s 32ms/step - loss: 0.3525 - accuracy: 0.8978 - val_loss: 0.4326 - val_accuracy: 0.8796\n",
      "Epoch 7/10\n",
      "1145/1145 [==============================] - 37s 32ms/step - loss: 0.3336 - accuracy: 0.9029 - val_loss: 0.4219 - val_accuracy: 0.8821\n",
      "Epoch 8/10\n",
      "1145/1145 [==============================] - 37s 32ms/step - loss: 0.3162 - accuracy: 0.9084 - val_loss: 0.4168 - val_accuracy: 0.8858\n",
      "Epoch 9/10\n",
      "1145/1145 [==============================] - 34s 29ms/step - loss: 0.3022 - accuracy: 0.9123 - val_loss: 0.4222 - val_accuracy: 0.8840\n",
      "Epoch 10/10\n",
      "1145/1145 [==============================] - 36s 32ms/step - loss: 0.2892 - accuracy: 0.9154 - val_loss: 0.4236 - val_accuracy: 0.8848\n",
      "Epoch 00010: early stopping\n"
     ]
    }
   ],
   "source": [
    "history = svhn_model.fit(train_svhn.batch(batch_size), #.take(50), # change 50 only\n",
    "                         epochs=epochs,\n",
    "                         callbacks=callbacks,\n",
    "                         validation_data=test_svhn.batch(batch_size)) #.take(50))"
   ]
  },
  {
   "cell_type": "code",
   "execution_count": 0,
   "metadata": {
    "colab": {
     "base_uri": "https://localhost:8080/",
     "height": 577
    },
    "colab_type": "code",
    "id": "bAEzVJO9nvNY",
    "outputId": "80587401-364a-4fd8-9155-27a05e13b2ae"
   },
   "outputs": [
    {
     "data": {
      "image/png": "[encoded data removed]",
      "text/plain": [
       "<Figure size 576x288 with 1 Axes>"
      ]
     },
     "metadata": {
      "tags": []
     },
     "output_type": "display_data"
    },
    {
     "data": {
      "image/png": "[encoded data removed]",
      "text/plain": [
       "<Figure size 576x288 with 1 Axes>"
      ]
     },
     "metadata": {
      "tags": []
     },
     "output_type": "display_data"
    }
   ],
   "source": [
    "def print_history(history):\n",
    "    fig, ax = plt.subplots(1, 1, figsize=(8,4))\n",
    "    ax.plot((history.history['accuracy']), 'b', label='train')\n",
    "    ax.plot((history.history['val_accuracy']), 'g' ,label='val')\n",
    "    ax.set_xlabel(r'Epoch', fontsize=20)\n",
    "    ax.set_ylabel(r'Accuracy', fontsize=20)\n",
    "    ax.legend()\n",
    "    ax.tick_params(labelsize=20)\n",
    "    fig, ax = plt.subplots(1, 1, figsize=(8,4))\n",
    "    ax.plot((history.history['loss']), 'b', label='train')\n",
    "    ax.plot((history.history['val_loss']), 'g' ,label='val')\n",
    "    ax.set_xlabel(r'Epoch', fontsize=20)\n",
    "    ax.set_ylabel(r'Loss', fontsize=20)\n",
    "    ax.legend()\n",
    "    ax.tick_params(labelsize=20)\n",
    "    plt.show();\n",
    "    \n",
    "print_history(history)"
   ]
  },
  {
   "cell_type": "code",
   "execution_count": 0,
   "metadata": {
    "colab": {},
    "colab_type": "code",
    "id": "diFulcmPsF3C"
   },
   "outputs": [],
   "source": [
    "# Fit with high learning rate\n",
    "loss = 'sparse_categorical_crossentropy'\n",
    "optimizer = Adam(lr=0.5) # really big learning rate\n",
    "metrics = ['accuracy'] \n",
    "\n",
    "# Compile model\n",
    "svhn_model.compile(optimizer=optimizer,\n",
    "              loss=loss,\n",
    "              metrics=metrics)"
   ]
  },
  {
   "cell_type": "code",
   "execution_count": 0,
   "metadata": {
    "colab": {
     "base_uri": "https://localhost:8080/",
     "height": 419
    },
    "colab_type": "code",
    "id": "wNutVfGPsQCn",
    "outputId": "ebd43df3-3179-4626-973e-c6273c0d899d"
   },
   "outputs": [
    {
     "name": "stdout",
     "output_type": "stream",
     "text": [
      "Epoch 1/10\n",
      "1145/1145 [==============================] - 41s 36ms/step - loss: 2763.3223 - accuracy: 0.1717 - val_loss: 2.2666 - val_accuracy: 0.1594\n",
      "Epoch 2/10\n",
      "1145/1145 [==============================] - 47s 41ms/step - loss: 2.2752 - accuracy: 0.1712 - val_loss: 2.2663 - val_accuracy: 0.1594\n",
      "Epoch 3/10\n",
      "1145/1145 [==============================] - 38s 33ms/step - loss: 2.2754 - accuracy: 0.1709 - val_loss: 2.2662 - val_accuracy: 0.1594\n",
      "Epoch 4/10\n",
      "1145/1145 [==============================] - 38s 33ms/step - loss: 2.2754 - accuracy: 0.1709 - val_loss: 2.2662 - val_accuracy: 0.1594\n",
      "Epoch 5/10\n",
      "1145/1145 [==============================] - 38s 33ms/step - loss: 2.2754 - accuracy: 0.1712 - val_loss: 2.2662 - val_accuracy: 0.1594\n",
      "Epoch 6/10\n",
      "1145/1145 [==============================] - 39s 34ms/step - loss: 2.2754 - accuracy: 0.1712 - val_loss: 2.2662 - val_accuracy: 0.1594\n",
      "Epoch 7/10\n",
      "1145/1145 [==============================] - 39s 34ms/step - loss: 2.2754 - accuracy: 0.1712 - val_loss: 2.2662 - val_accuracy: 0.1594\n",
      "Epoch 8/10\n",
      "1145/1145 [==============================] - 38s 33ms/step - loss: 2.2754 - accuracy: 0.1712 - val_loss: 2.2662 - val_accuracy: 0.1594\n",
      "Epoch 9/10\n",
      "1145/1145 [==============================] - 37s 32ms/step - loss: 2.2754 - accuracy: 0.1712 - val_loss: 2.2662 - val_accuracy: 0.1594\n",
      "Epoch 10/10\n",
      "1145/1145 [==============================] - 39s 34ms/step - loss: 2.2754 - accuracy: 0.1712 - val_loss: 2.2662 - val_accuracy: 0.1594\n",
      "CPU times: user 8min 14s, sys: 2min 19s, total: 10min 34s\n",
      "Wall time: 6min 34s\n"
     ]
    }
   ],
   "source": [
    "%%time\n",
    "batch_size = 64\n",
    "epochs=10\n",
    "\n",
    "history = svhn_model.fit(train_svhn.batch(batch_size), #.take(50), # change 50 to see the difference\n",
    "                         epochs=epochs,\n",
    "                         validation_data=test_svhn.batch(batch_size)) #.take(50))"
   ]
  },
  {
   "cell_type": "code",
   "execution_count": 0,
   "metadata": {
    "colab": {},
    "colab_type": "code",
    "id": "zoi81GzssSeP"
   },
   "outputs": [],
   "source": []
  }
 ],
 "metadata": {
  "accelerator": "GPU",
  "colab": {
   "collapsed_sections": [],
   "name": "Lab6_self.ipynb",
   "provenance": []
  },
  "kernelspec": {
   "display_name": "python3",
   "language": "python",
   "name": "python3"
  },
  "language_info": {
   "codemirror_mode": {
    "name": "ipython",
    "version": 3
   },
   "file_extension": ".py",
   "mimetype": "text/x-python",
   "name": "python",
   "nbconvert_exporter": "python",
   "pygments_lexer": "ipython3",
   "version": "3.7.4"
  }
 },
 "nbformat": 4,
 "nbformat_minor": 1
}
