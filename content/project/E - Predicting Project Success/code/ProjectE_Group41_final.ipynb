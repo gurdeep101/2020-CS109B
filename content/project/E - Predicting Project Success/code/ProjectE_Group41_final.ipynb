{
  "nbformat": 4,
  "nbformat_minor": 0,
  "metadata": {
    "colab": {
      "name": "ProjectE_Group41_final.ipynb",
      "provenance": [],
      "collapsed_sections": []
    },
    "kernelspec": {
      "display_name": "Python 3",
      "language": "python",
      "name": "python3"
    },
    "language_info": {
      "codemirror_mode": {
        "name": "ipython",
        "version": 3
      },
      "file_extension": ".py",
      "mimetype": "text/x-python",
      "name": "python",
      "nbconvert_exporter": "python",
      "pygments_lexer": "ipython3",
      "version": "3.7.6"
    }
  },
  "cells": [
    {
      "cell_type": "markdown",
      "metadata": {
        "id": "w76ZM2zSQLBP",
        "colab_type": "text"
      },
      "source": [
        "# E - PROJECT SUCESS  - PREDICTOR MODELS - GROUP #41"
      ]
    },
    {
      "cell_type": "markdown",
      "metadata": {
        "id": "MNWg0d0tQLBR",
        "colab_type": "text"
      },
      "source": [
        "# Imports"
      ]
    },
    {
      "cell_type": "code",
      "metadata": {
        "colab_type": "code",
        "id": "JZMVYVaye806",
        "outputId": "65063cdf-0104-4895-bb33-e6ca5dffe2f4",
        "colab": {
          "base_uri": "https://localhost:8080/",
          "height": 199
        }
      },
      "source": [
        "#RUN THIS CELL \n",
        "import requests\n",
        "from IPython.core.display import HTML, display\n",
        "styles = requests.get(\"https://raw.githubusercontent.com/Harvard-IACS/2018-CS109A/master/content/styles/cs109.css\").text\n",
        "HTML(styles)\n",
        "\n",
        "# Basic pandas, numpy and plotting\n",
        "import pandas as pd\n",
        "import numpy as np\n",
        "import os\n",
        "import matplotlib\n",
        "import matplotlib.pyplot as plt\n",
        "import seaborn as sns\n",
        "from pandas.plotting import scatter_matrix\n",
        "import pylab \n",
        "import scipy.stats as stats\n",
        "\n",
        "# Text pipeline and NLP packages\n",
        "import nltk\n",
        "from nltk.corpus import stopwords\n",
        "from nltk.stem.porter import PorterStemmer\n",
        "from nltk.tokenize import RegexpTokenizer\n",
        "from sklearn.feature_extraction.text import CountVectorizer\n",
        "from wordcloud import WordCloud\n",
        "import tensorflow as tf\n",
        "import tensorflow_hub as hub\n",
        "from absl import logging\n",
        "\n",
        "\n",
        "#Preprocessing and Regression\n",
        "from sklearn.decomposition import PCA\n",
        "from statsmodels.stats.outliers_influence import variance_inflation_factor\n",
        "import statsmodels.api as sm\n",
        "from statsmodels.api import OLS\n",
        "from sklearn.model_selection import train_test_split\n",
        "from sklearn.preprocessing import PolynomialFeatures\n",
        "from sklearn.preprocessing import StandardScaler\n",
        "from sklearn.linear_model import LinearRegression\n",
        "from sklearn.preprocessing import LabelEncoder\n",
        "from sklearn.linear_model import Ridge\n",
        "from sklearn.linear_model import RidgeCV\n",
        "from sklearn.linear_model import LassoCV\n",
        "from sklearn.metrics import r2_score\n",
        "\n",
        "#Bagging\n",
        "from sklearn.utils import resample\n",
        "from sklearn.metrics import mean_squared_error\n",
        "\n",
        "#GAM\n",
        "!pip install pygam\n",
        "from pygam import LinearGAM, s, f\n",
        "\n",
        "#Neural Network imports at the end after checking requirements\n"
      ],
      "execution_count": 0,
      "outputs": [
        {
          "output_type": "stream",
          "text": [
            "/usr/local/lib/python3.6/dist-packages/statsmodels/tools/_testing.py:19: FutureWarning: pandas.util.testing is deprecated. Use the functions in the public API at pandas.testing instead.\n",
            "  import pandas.util.testing as tm\n"
          ],
          "name": "stderr"
        },
        {
          "output_type": "stream",
          "text": [
            "Requirement already satisfied: pygam in /usr/local/lib/python3.6/dist-packages (0.8.0)\n",
            "Requirement already satisfied: future in /usr/local/lib/python3.6/dist-packages (from pygam) (0.16.0)\n",
            "Requirement already satisfied: numpy in /usr/local/lib/python3.6/dist-packages (from pygam) (1.18.4)\n",
            "Requirement already satisfied: progressbar2 in /usr/local/lib/python3.6/dist-packages (from pygam) (3.38.0)\n",
            "Requirement already satisfied: scipy in /usr/local/lib/python3.6/dist-packages (from pygam) (1.4.1)\n",
            "Requirement already satisfied: python-utils>=2.3.0 in /usr/local/lib/python3.6/dist-packages (from progressbar2->pygam) (2.4.0)\n",
            "Requirement already satisfied: six in /usr/local/lib/python3.6/dist-packages (from progressbar2->pygam) (1.12.0)\n"
          ],
          "name": "stdout"
        }
      ]
    },
    {
      "cell_type": "code",
      "metadata": {
        "colab_type": "code",
        "id": "1XVml0uKfsQc",
        "outputId": "0a5bc4d4-1623-423d-e997-edc8f587cb2d",
        "colab": {
          "base_uri": "https://localhost:8080/",
          "height": 55
        }
      },
      "source": [
        "from google.colab import drive\n",
        "drive.mount('/content/gdrive')"
      ],
      "execution_count": 0,
      "outputs": [
        {
          "output_type": "stream",
          "text": [
            "Drive already mounted at /content/gdrive; to attempt to forcibly remount, call drive.mount(\"/content/gdrive\", force_remount=True).\n"
          ],
          "name": "stdout"
        }
      ]
    },
    {
      "cell_type": "markdown",
      "metadata": {
        "colab_type": "text",
        "id": "UVDpS7Koe80-"
      },
      "source": [
        "# Read the data and Basic overview"
      ]
    },
    {
      "cell_type": "code",
      "metadata": {
        "colab_type": "code",
        "id": "szkNvRi4e80_",
        "outputId": "4dfc0fb0-5c7d-4e55-9287-5b0ec69e546b",
        "colab": {
          "base_uri": "https://localhost:8080/",
          "height": 512
        }
      },
      "source": [
        "# Read csv dataset\n",
        "path_dataset = 'gdrive/My Drive/CS109BProject/data/Capital_Projects.csv'\n",
        "df = pd.read_csv(path_dataset)\n",
        "#df = pd.read_csv('Capital_Projects.csv')\n",
        "#print(df.shape)\n",
        "df.replace('', np.nan, inplace=True)\n",
        "# Drop nan values for the following columns\n",
        "df = df.dropna(subset=['Budget Forecast', 'Total Budget Changes',\n",
        "                       'Forecast Completion', 'Total Schedule Changes'], how='all')\n",
        "# Only take budget forecast for positive values\n",
        "df = df[df['Budget Forecast'] > 0]\n",
        "# Reset index to eliminate completely missing rows from the dataframe\n",
        "df.reset_index(drop=True, inplace=True)\n",
        "# Keep only last row of each project\n",
        "df = df.groupby('PID').tail(1)\n",
        "\n",
        "# Minimize the effect of ZERO schedule change on regression model\n",
        "new_df = df[df['Total Schedule Changes'] == 0].sample(n=15, random_state=1)\n",
        "df = df[df['Total Schedule Changes'] != 0]\n",
        "df = df.append(new_df)\n",
        "\n",
        "# Minimize the effect of ZERO budget change on regression model\n",
        "new_df = df[df['Total Budget Changes'] == 0].sample(n=7, random_state=1)\n",
        "df = df[df['Total Budget Changes'] != 0]\n",
        "df = df.append(new_df)\n",
        "df.describe(include='all')"
      ],
      "execution_count": 0,
      "outputs": [
        {
          "output_type": "execute_result",
          "data": {
            "text/html": [
              "<div>\n",
              "<style scoped>\n",
              "    .dataframe tbody tr th:only-of-type {\n",
              "        vertical-align: middle;\n",
              "    }\n",
              "\n",
              "    .dataframe tbody tr th {\n",
              "        vertical-align: top;\n",
              "    }\n",
              "\n",
              "    .dataframe thead th {\n",
              "        text-align: right;\n",
              "    }\n",
              "</style>\n",
              "<table border=\"1\" class=\"dataframe\">\n",
              "  <thead>\n",
              "    <tr style=\"text-align: right;\">\n",
              "      <th></th>\n",
              "      <th>Date Reported As Of</th>\n",
              "      <th>PID</th>\n",
              "      <th>Project Name</th>\n",
              "      <th>Description</th>\n",
              "      <th>Category</th>\n",
              "      <th>Borough</th>\n",
              "      <th>Managing Agency</th>\n",
              "      <th>Client Agency</th>\n",
              "      <th>Current Phase</th>\n",
              "      <th>Design Start</th>\n",
              "      <th>Budget Forecast</th>\n",
              "      <th>Latest Budget Changes</th>\n",
              "      <th>Total Budget Changes</th>\n",
              "      <th>Forecast Completion</th>\n",
              "      <th>Latest Schedule Changes</th>\n",
              "      <th>Total Schedule Changes</th>\n",
              "    </tr>\n",
              "  </thead>\n",
              "  <tbody>\n",
              "    <tr>\n",
              "      <th>count</th>\n",
              "      <td>301</td>\n",
              "      <td>301.000000</td>\n",
              "      <td>301</td>\n",
              "      <td>298</td>\n",
              "      <td>301</td>\n",
              "      <td>152</td>\n",
              "      <td>301</td>\n",
              "      <td>240</td>\n",
              "      <td>301</td>\n",
              "      <td>294</td>\n",
              "      <td>3.010000e+02</td>\n",
              "      <td>2.480000e+02</td>\n",
              "      <td>2.480000e+02</td>\n",
              "      <td>299</td>\n",
              "      <td>246.000000</td>\n",
              "      <td>246.000000</td>\n",
              "    </tr>\n",
              "    <tr>\n",
              "      <th>unique</th>\n",
              "      <td>4</td>\n",
              "      <td>NaN</td>\n",
              "      <td>301</td>\n",
              "      <td>277</td>\n",
              "      <td>21</td>\n",
              "      <td>19</td>\n",
              "      <td>12</td>\n",
              "      <td>29</td>\n",
              "      <td>5</td>\n",
              "      <td>256</td>\n",
              "      <td>NaN</td>\n",
              "      <td>NaN</td>\n",
              "      <td>NaN</td>\n",
              "      <td>252</td>\n",
              "      <td>NaN</td>\n",
              "      <td>NaN</td>\n",
              "    </tr>\n",
              "    <tr>\n",
              "      <th>top</th>\n",
              "      <td>09/01/2019 12:00:00 AM</td>\n",
              "      <td>NaN</td>\n",
              "      <td>20th Avenue Storm and Sanitary Sewer Construction</td>\n",
              "      <td>Design and construction of a new school</td>\n",
              "      <td>Streets and Roadways</td>\n",
              "      <td>Brooklyn</td>\n",
              "      <td>DDC</td>\n",
              "      <td>DEP</td>\n",
              "      <td>Construction</td>\n",
              "      <td>05/04/2016</td>\n",
              "      <td>NaN</td>\n",
              "      <td>NaN</td>\n",
              "      <td>NaN</td>\n",
              "      <td>12/31/2019</td>\n",
              "      <td>NaN</td>\n",
              "      <td>NaN</td>\n",
              "    </tr>\n",
              "    <tr>\n",
              "      <th>freq</th>\n",
              "      <td>240</td>\n",
              "      <td>NaN</td>\n",
              "      <td>1</td>\n",
              "      <td>16</td>\n",
              "      <td>63</td>\n",
              "      <td>41</td>\n",
              "      <td>152</td>\n",
              "      <td>105</td>\n",
              "      <td>144</td>\n",
              "      <td>7</td>\n",
              "      <td>NaN</td>\n",
              "      <td>NaN</td>\n",
              "      <td>NaN</td>\n",
              "      <td>11</td>\n",
              "      <td>NaN</td>\n",
              "      <td>NaN</td>\n",
              "    </tr>\n",
              "    <tr>\n",
              "      <th>mean</th>\n",
              "      <td>NaN</td>\n",
              "      <td>639.368771</td>\n",
              "      <td>NaN</td>\n",
              "      <td>NaN</td>\n",
              "      <td>NaN</td>\n",
              "      <td>NaN</td>\n",
              "      <td>NaN</td>\n",
              "      <td>NaN</td>\n",
              "      <td>NaN</td>\n",
              "      <td>NaN</td>\n",
              "      <td>1.128818e+08</td>\n",
              "      <td>2.684097e+06</td>\n",
              "      <td>2.010676e+07</td>\n",
              "      <td>NaN</td>\n",
              "      <td>66.967480</td>\n",
              "      <td>562.239837</td>\n",
              "    </tr>\n",
              "    <tr>\n",
              "      <th>std</th>\n",
              "      <td>NaN</td>\n",
              "      <td>274.070782</td>\n",
              "      <td>NaN</td>\n",
              "      <td>NaN</td>\n",
              "      <td>NaN</td>\n",
              "      <td>NaN</td>\n",
              "      <td>NaN</td>\n",
              "      <td>NaN</td>\n",
              "      <td>NaN</td>\n",
              "      <td>NaN</td>\n",
              "      <td>2.574745e+08</td>\n",
              "      <td>4.023569e+07</td>\n",
              "      <td>8.348361e+07</td>\n",
              "      <td>NaN</td>\n",
              "      <td>216.554972</td>\n",
              "      <td>657.996523</td>\n",
              "    </tr>\n",
              "    <tr>\n",
              "      <th>min</th>\n",
              "      <td>NaN</td>\n",
              "      <td>3.000000</td>\n",
              "      <td>NaN</td>\n",
              "      <td>NaN</td>\n",
              "      <td>NaN</td>\n",
              "      <td>NaN</td>\n",
              "      <td>NaN</td>\n",
              "      <td>NaN</td>\n",
              "      <td>NaN</td>\n",
              "      <td>NaN</td>\n",
              "      <td>2.116642e+06</td>\n",
              "      <td>-2.664272e+08</td>\n",
              "      <td>-2.919002e+08</td>\n",
              "      <td>NaN</td>\n",
              "      <td>-995.000000</td>\n",
              "      <td>-1412.000000</td>\n",
              "    </tr>\n",
              "    <tr>\n",
              "      <th>25%</th>\n",
              "      <td>NaN</td>\n",
              "      <td>474.000000</td>\n",
              "      <td>NaN</td>\n",
              "      <td>NaN</td>\n",
              "      <td>NaN</td>\n",
              "      <td>NaN</td>\n",
              "      <td>NaN</td>\n",
              "      <td>NaN</td>\n",
              "      <td>NaN</td>\n",
              "      <td>NaN</td>\n",
              "      <td>3.595827e+07</td>\n",
              "      <td>0.000000e+00</td>\n",
              "      <td>0.000000e+00</td>\n",
              "      <td>NaN</td>\n",
              "      <td>0.000000</td>\n",
              "      <td>86.500000</td>\n",
              "    </tr>\n",
              "    <tr>\n",
              "      <th>50%</th>\n",
              "      <td>NaN</td>\n",
              "      <td>656.000000</td>\n",
              "      <td>NaN</td>\n",
              "      <td>NaN</td>\n",
              "      <td>NaN</td>\n",
              "      <td>NaN</td>\n",
              "      <td>NaN</td>\n",
              "      <td>NaN</td>\n",
              "      <td>NaN</td>\n",
              "      <td>NaN</td>\n",
              "      <td>5.501760e+07</td>\n",
              "      <td>0.000000e+00</td>\n",
              "      <td>4.953144e+06</td>\n",
              "      <td>NaN</td>\n",
              "      <td>0.000000</td>\n",
              "      <td>450.000000</td>\n",
              "    </tr>\n",
              "    <tr>\n",
              "      <th>75%</th>\n",
              "      <td>NaN</td>\n",
              "      <td>868.000000</td>\n",
              "      <td>NaN</td>\n",
              "      <td>NaN</td>\n",
              "      <td>NaN</td>\n",
              "      <td>NaN</td>\n",
              "      <td>NaN</td>\n",
              "      <td>NaN</td>\n",
              "      <td>NaN</td>\n",
              "      <td>NaN</td>\n",
              "      <td>9.038300e+07</td>\n",
              "      <td>1.000000e+06</td>\n",
              "      <td>2.574161e+07</td>\n",
              "      <td>NaN</td>\n",
              "      <td>91.000000</td>\n",
              "      <td>944.250000</td>\n",
              "    </tr>\n",
              "    <tr>\n",
              "      <th>max</th>\n",
              "      <td>NaN</td>\n",
              "      <td>1014.000000</td>\n",
              "      <td>NaN</td>\n",
              "      <td>NaN</td>\n",
              "      <td>NaN</td>\n",
              "      <td>NaN</td>\n",
              "      <td>NaN</td>\n",
              "      <td>NaN</td>\n",
              "      <td>NaN</td>\n",
              "      <td>NaN</td>\n",
              "      <td>2.449622e+09</td>\n",
              "      <td>5.322707e+08</td>\n",
              "      <td>8.078026e+08</td>\n",
              "      <td>NaN</td>\n",
              "      <td>1413.000000</td>\n",
              "      <td>3253.000000</td>\n",
              "    </tr>\n",
              "  </tbody>\n",
              "</table>\n",
              "</div>"
            ],
            "text/plain": [
              "           Date Reported As Of  ...  Total Schedule Changes\n",
              "count                      301  ...              246.000000\n",
              "unique                       4  ...                     NaN\n",
              "top     09/01/2019 12:00:00 AM  ...                     NaN\n",
              "freq                       240  ...                     NaN\n",
              "mean                       NaN  ...              562.239837\n",
              "std                        NaN  ...              657.996523\n",
              "min                        NaN  ...            -1412.000000\n",
              "25%                        NaN  ...               86.500000\n",
              "50%                        NaN  ...              450.000000\n",
              "75%                        NaN  ...              944.250000\n",
              "max                        NaN  ...             3253.000000\n",
              "\n",
              "[11 rows x 16 columns]"
            ]
          },
          "metadata": {
            "tags": []
          },
          "execution_count": 3
        }
      ]
    },
    {
      "cell_type": "markdown",
      "metadata": {
        "colab_type": "text",
        "id": "Bm9iAy4Ighwx"
      },
      "source": [
        "# Data Transformation, Feature Engineering and Plots"
      ]
    },
    {
      "cell_type": "code",
      "metadata": {
        "colab_type": "code",
        "id": "gNRQ4W2We82Q",
        "outputId": "8f084ea8-3ab0-447c-df98-ff491e954432",
        "colab": {
          "base_uri": "https://localhost:8080/",
          "height": 359
        }
      },
      "source": [
        "#### (1) #### CHANGE object to datetime64[ns] for columns with dates, drop NaNs\n",
        "df['Forecast Completion'] =pd.to_datetime(df['Forecast Completion'], format='%m/%d/%Y', exact=False)\n",
        "df['Date Reported As Of'] = pd.to_datetime(df['Date Reported As Of'],format='%m/%d/%Y', exact=False)\n",
        "df['Design Start'] = pd.to_datetime(df['Design Start'], format='%m/%d/%Y', exact=False)\n",
        "date_reported_min = min(df['Date Reported As Of'])\n",
        "date_min = min([min(df['Date Reported As Of']), min(df['Design Start']), min(df['Forecast Completion'])])\n",
        "print(f'Minimum Date: {date_min}')\n",
        "print(f'Date Reported Minimum: {date_reported_min}')\n",
        "df.dtypes"
      ],
      "execution_count": 0,
      "outputs": [
        {
          "output_type": "stream",
          "text": [
            "Minimum Date: 1993-08-02 00:00:00\n",
            "Date Reported Minimum: 2018-08-01 00:00:00\n"
          ],
          "name": "stdout"
        },
        {
          "output_type": "execute_result",
          "data": {
            "text/plain": [
              "Date Reported As Of        datetime64[ns]\n",
              "PID                                 int64\n",
              "Project Name                       object\n",
              "Description                        object\n",
              "Category                           object\n",
              "Borough                            object\n",
              "Managing Agency                    object\n",
              "Client Agency                      object\n",
              "Current Phase                      object\n",
              "Design Start               datetime64[ns]\n",
              "Budget Forecast                   float64\n",
              "Latest Budget Changes             float64\n",
              "Total Budget Changes              float64\n",
              "Forecast Completion        datetime64[ns]\n",
              "Latest Schedule Changes           float64\n",
              "Total Schedule Changes            float64\n",
              "dtype: object"
            ]
          },
          "metadata": {
            "tags": []
          },
          "execution_count": 4
        }
      ]
    },
    {
      "cell_type": "code",
      "metadata": {
        "colab_type": "code",
        "id": "jpE316DIHZXv",
        "outputId": "b849f012-f896-4554-a889-de6f83861d35",
        "colab": {
          "base_uri": "https://localhost:8080/",
          "height": 387
        }
      },
      "source": [
        "### (a) Schedule Change Norm ===>  Change Normalized to Project Duration of each project\n",
        "df['Project Duration'] = df['Forecast Completion'] - df['Design Start']\n",
        "df['Schedule Change Norm'] = df['Total Schedule Changes']/(df['Project Duration']/pd.Timedelta(days=1))\n",
        "\n",
        "### (b) Project Duration Norm ===> Normalized over all projects (to normalize across big and small projects)\n",
        "max_project_duration = max(df['Project Duration'])\n",
        "min_project_duration = min(df['Project Duration'])\n",
        "#df['Project Duration Norm'] = (df['Project Duration'] - min_project_duration) / (max_project_duration - min_project_duration)\n",
        "df['Project Duration'] = df['Project Duration']/pd.Timedelta(days=1)\n",
        "print(f'Max Project Duration: {max_project_duration} \\nMin Project Duration: {min_project_duration} ')\n",
        "df.describe()"
      ],
      "execution_count": 0,
      "outputs": [
        {
          "output_type": "stream",
          "text": [
            "Max Project Duration: 9736 days 00:00:00 \n",
            "Min Project Duration: 656 days 00:00:00 \n"
          ],
          "name": "stdout"
        },
        {
          "output_type": "execute_result",
          "data": {
            "text/html": [
              "<div>\n",
              "<style scoped>\n",
              "    .dataframe tbody tr th:only-of-type {\n",
              "        vertical-align: middle;\n",
              "    }\n",
              "\n",
              "    .dataframe tbody tr th {\n",
              "        vertical-align: top;\n",
              "    }\n",
              "\n",
              "    .dataframe thead th {\n",
              "        text-align: right;\n",
              "    }\n",
              "</style>\n",
              "<table border=\"1\" class=\"dataframe\">\n",
              "  <thead>\n",
              "    <tr style=\"text-align: right;\">\n",
              "      <th></th>\n",
              "      <th>PID</th>\n",
              "      <th>Budget Forecast</th>\n",
              "      <th>Latest Budget Changes</th>\n",
              "      <th>Total Budget Changes</th>\n",
              "      <th>Latest Schedule Changes</th>\n",
              "      <th>Total Schedule Changes</th>\n",
              "      <th>Project Duration</th>\n",
              "      <th>Schedule Change Norm</th>\n",
              "    </tr>\n",
              "  </thead>\n",
              "  <tbody>\n",
              "    <tr>\n",
              "      <th>count</th>\n",
              "      <td>301.000000</td>\n",
              "      <td>3.010000e+02</td>\n",
              "      <td>2.480000e+02</td>\n",
              "      <td>2.480000e+02</td>\n",
              "      <td>246.000000</td>\n",
              "      <td>246.000000</td>\n",
              "      <td>293.000000</td>\n",
              "      <td>241.000000</td>\n",
              "    </tr>\n",
              "    <tr>\n",
              "      <th>mean</th>\n",
              "      <td>639.368771</td>\n",
              "      <td>1.128818e+08</td>\n",
              "      <td>2.684097e+06</td>\n",
              "      <td>2.010676e+07</td>\n",
              "      <td>66.967480</td>\n",
              "      <td>562.239837</td>\n",
              "      <td>2773.535836</td>\n",
              "      <td>0.180054</td>\n",
              "    </tr>\n",
              "    <tr>\n",
              "      <th>std</th>\n",
              "      <td>274.070782</td>\n",
              "      <td>2.574745e+08</td>\n",
              "      <td>4.023569e+07</td>\n",
              "      <td>8.348361e+07</td>\n",
              "      <td>216.554972</td>\n",
              "      <td>657.996523</td>\n",
              "      <td>1418.030371</td>\n",
              "      <td>0.218157</td>\n",
              "    </tr>\n",
              "    <tr>\n",
              "      <th>min</th>\n",
              "      <td>3.000000</td>\n",
              "      <td>2.116642e+06</td>\n",
              "      <td>-2.664272e+08</td>\n",
              "      <td>-2.919002e+08</td>\n",
              "      <td>-995.000000</td>\n",
              "      <td>-1412.000000</td>\n",
              "      <td>656.000000</td>\n",
              "      <td>-0.722620</td>\n",
              "    </tr>\n",
              "    <tr>\n",
              "      <th>25%</th>\n",
              "      <td>474.000000</td>\n",
              "      <td>3.595827e+07</td>\n",
              "      <td>0.000000e+00</td>\n",
              "      <td>0.000000e+00</td>\n",
              "      <td>0.000000</td>\n",
              "      <td>86.500000</td>\n",
              "      <td>1879.000000</td>\n",
              "      <td>0.037037</td>\n",
              "    </tr>\n",
              "    <tr>\n",
              "      <th>50%</th>\n",
              "      <td>656.000000</td>\n",
              "      <td>5.501760e+07</td>\n",
              "      <td>0.000000e+00</td>\n",
              "      <td>4.953144e+06</td>\n",
              "      <td>0.000000</td>\n",
              "      <td>450.000000</td>\n",
              "      <td>2429.000000</td>\n",
              "      <td>0.167430</td>\n",
              "    </tr>\n",
              "    <tr>\n",
              "      <th>75%</th>\n",
              "      <td>868.000000</td>\n",
              "      <td>9.038300e+07</td>\n",
              "      <td>1.000000e+06</td>\n",
              "      <td>2.574161e+07</td>\n",
              "      <td>91.000000</td>\n",
              "      <td>944.250000</td>\n",
              "      <td>3171.000000</td>\n",
              "      <td>0.310505</td>\n",
              "    </tr>\n",
              "    <tr>\n",
              "      <th>max</th>\n",
              "      <td>1014.000000</td>\n",
              "      <td>2.449622e+09</td>\n",
              "      <td>5.322707e+08</td>\n",
              "      <td>8.078026e+08</td>\n",
              "      <td>1413.000000</td>\n",
              "      <td>3253.000000</td>\n",
              "      <td>9736.000000</td>\n",
              "      <td>1.023743</td>\n",
              "    </tr>\n",
              "  </tbody>\n",
              "</table>\n",
              "</div>"
            ],
            "text/plain": [
              "               PID  Budget Forecast  ...  Project Duration  Schedule Change Norm\n",
              "count   301.000000     3.010000e+02  ...        293.000000            241.000000\n",
              "mean    639.368771     1.128818e+08  ...       2773.535836              0.180054\n",
              "std     274.070782     2.574745e+08  ...       1418.030371              0.218157\n",
              "min       3.000000     2.116642e+06  ...        656.000000             -0.722620\n",
              "25%     474.000000     3.595827e+07  ...       1879.000000              0.037037\n",
              "50%     656.000000     5.501760e+07  ...       2429.000000              0.167430\n",
              "75%     868.000000     9.038300e+07  ...       3171.000000              0.310505\n",
              "max    1014.000000     2.449622e+09  ...       9736.000000              1.023743\n",
              "\n",
              "[8 rows x 8 columns]"
            ]
          },
          "metadata": {
            "tags": []
          },
          "execution_count": 5
        }
      ]
    },
    {
      "cell_type": "code",
      "metadata": {
        "colab_type": "code",
        "id": "katZH842So-d",
        "outputId": "d83e789c-c887-439a-b361-fed4a01c3ebc",
        "colab": {
          "base_uri": "https://localhost:8080/",
          "height": 406
        }
      },
      "source": [
        "sns.set(style=\"ticks\")\n",
        "sns.pairplot(df[['Project Duration', 'Schedule Change Norm']])"
      ],
      "execution_count": 0,
      "outputs": [
        {
          "output_type": "execute_result",
          "data": {
            "text/plain": [
              "<seaborn.axisgrid.PairGrid at 0x7ff5c254cba8>"
            ]
          },
          "metadata": {
            "tags": []
          },
          "execution_count": 6
        },
        {
          "output_type": "display_data",
          "data": {
            "image/png": "[encoded data removed]",
            "text/plain": [
              "<Figure size 360x360 with 6 Axes>"
            ]
          },
          "metadata": {
            "tags": []
          }
        }
      ]
    },
    {
      "cell_type": "code",
      "metadata": {
        "colab_type": "code",
        "id": "hxxfkA819o_k",
        "outputId": "8323bf94-f49c-4582-9e8e-892ef2d6eaf5",
        "colab": {
          "base_uri": "https://localhost:8080/",
          "height": 53
        }
      },
      "source": [
        "### (a) Budget Change Norm ===>  Budget Change Normalized to Final Budget of each project\n",
        "df['Budget Change Norm'] = df['Total Budget Changes']/df['Budget Forecast']\n",
        "\n",
        "### (b) Total Budget Norm ===> Budget Forecast Normalized through all projects\n",
        "max_budget_final = max(df['Budget Forecast'])\n",
        "min_budget_final = min(df['Budget Forecast'])\n",
        "df['Total Budget Norm'] = (0.9 - 0.1)*(df['Budget Forecast'] - min_budget_final)/(max_budget_final - min_budget_final) + 0.1\n",
        "print(f'Max Budget: {max_budget_final} \\n Min Budget: {min_budget_final}')\n"
      ],
      "execution_count": 0,
      "outputs": [
        {
          "output_type": "stream",
          "text": [
            "Max Budget: 2449621616.0 \n",
            " Min Budget: 2116642.0\n"
          ],
          "name": "stdout"
        }
      ]
    },
    {
      "cell_type": "markdown",
      "metadata": {
        "colab_type": "text",
        "id": "a5fTI6Db0oEU"
      },
      "source": [
        "## Remove Outliers"
      ]
    },
    {
      "cell_type": "code",
      "metadata": {
        "colab_type": "code",
        "id": "uxUUWxey0oEU",
        "outputId": "64a6881f-a847-4267-c225-4b9457ad0337",
        "colab": {
          "base_uri": "https://localhost:8080/",
          "height": 369
        }
      },
      "source": [
        "# Remove outliers\n",
        "df = df[df['Budget Change Norm'] > -2]\n",
        "df = df[df['Total Budget Norm'] < 0.3]\n",
        "min_budget_norm = min(df['Budget Change Norm'])\n",
        "print(f'Minimum Budget Change Norm: {min_budget_norm}')\n",
        "df.describe()"
      ],
      "execution_count": 0,
      "outputs": [
        {
          "output_type": "stream",
          "text": [
            "Minimum Budget Change Norm: -1.9474624118003965\n"
          ],
          "name": "stdout"
        },
        {
          "output_type": "execute_result",
          "data": {
            "text/html": [
              "<div>\n",
              "<style scoped>\n",
              "    .dataframe tbody tr th:only-of-type {\n",
              "        vertical-align: middle;\n",
              "    }\n",
              "\n",
              "    .dataframe tbody tr th {\n",
              "        vertical-align: top;\n",
              "    }\n",
              "\n",
              "    .dataframe thead th {\n",
              "        text-align: right;\n",
              "    }\n",
              "</style>\n",
              "<table border=\"1\" class=\"dataframe\">\n",
              "  <thead>\n",
              "    <tr style=\"text-align: right;\">\n",
              "      <th></th>\n",
              "      <th>PID</th>\n",
              "      <th>Budget Forecast</th>\n",
              "      <th>Latest Budget Changes</th>\n",
              "      <th>Total Budget Changes</th>\n",
              "      <th>Latest Schedule Changes</th>\n",
              "      <th>Total Schedule Changes</th>\n",
              "      <th>Project Duration</th>\n",
              "      <th>Schedule Change Norm</th>\n",
              "      <th>Budget Change Norm</th>\n",
              "      <th>Total Budget Norm</th>\n",
              "    </tr>\n",
              "  </thead>\n",
              "  <tbody>\n",
              "    <tr>\n",
              "      <th>count</th>\n",
              "      <td>235.000000</td>\n",
              "      <td>2.350000e+02</td>\n",
              "      <td>2.350000e+02</td>\n",
              "      <td>2.350000e+02</td>\n",
              "      <td>233.000000</td>\n",
              "      <td>233.000000</td>\n",
              "      <td>230.000000</td>\n",
              "      <td>230.000000</td>\n",
              "      <td>235.000000</td>\n",
              "      <td>235.000000</td>\n",
              "    </tr>\n",
              "    <tr>\n",
              "      <th>mean</th>\n",
              "      <td>564.587234</td>\n",
              "      <td>8.243385e+07</td>\n",
              "      <td>1.707614e+06</td>\n",
              "      <td>1.511469e+07</td>\n",
              "      <td>65.296137</td>\n",
              "      <td>548.008584</td>\n",
              "      <td>2872.856522</td>\n",
              "      <td>0.177726</td>\n",
              "      <td>0.137055</td>\n",
              "      <td>0.126253</td>\n",
              "    </tr>\n",
              "    <tr>\n",
              "      <th>std</th>\n",
              "      <td>247.255975</td>\n",
              "      <td>7.753500e+07</td>\n",
              "      <td>1.141958e+07</td>\n",
              "      <td>3.633377e+07</td>\n",
              "      <td>201.971731</td>\n",
              "      <td>652.755023</td>\n",
              "      <td>1440.048335</td>\n",
              "      <td>0.218598</td>\n",
              "      <td>0.365015</td>\n",
              "      <td>0.025343</td>\n",
              "    </tr>\n",
              "    <tr>\n",
              "      <th>min</th>\n",
              "      <td>3.000000</td>\n",
              "      <td>1.008834e+07</td>\n",
              "      <td>-6.467696e+07</td>\n",
              "      <td>-1.743460e+08</td>\n",
              "      <td>-995.000000</td>\n",
              "      <td>-1412.000000</td>\n",
              "      <td>656.000000</td>\n",
              "      <td>-0.722620</td>\n",
              "      <td>-1.947462</td>\n",
              "      <td>0.102606</td>\n",
              "    </tr>\n",
              "    <tr>\n",
              "      <th>25%</th>\n",
              "      <td>431.500000</td>\n",
              "      <td>3.933650e+07</td>\n",
              "      <td>0.000000e+00</td>\n",
              "      <td>0.000000e+00</td>\n",
              "      <td>0.000000</td>\n",
              "      <td>77.000000</td>\n",
              "      <td>1981.250000</td>\n",
              "      <td>0.033659</td>\n",
              "      <td>0.000000</td>\n",
              "      <td>0.112166</td>\n",
              "    </tr>\n",
              "    <tr>\n",
              "      <th>50%</th>\n",
              "      <td>588.000000</td>\n",
              "      <td>5.943100e+07</td>\n",
              "      <td>0.000000e+00</td>\n",
              "      <td>4.615000e+06</td>\n",
              "      <td>0.000000</td>\n",
              "      <td>436.000000</td>\n",
              "      <td>2486.000000</td>\n",
              "      <td>0.164496</td>\n",
              "      <td>0.089425</td>\n",
              "      <td>0.118734</td>\n",
              "    </tr>\n",
              "    <tr>\n",
              "      <th>75%</th>\n",
              "      <td>761.500000</td>\n",
              "      <td>9.693639e+07</td>\n",
              "      <td>9.704995e+05</td>\n",
              "      <td>2.537455e+07</td>\n",
              "      <td>91.000000</td>\n",
              "      <td>939.000000</td>\n",
              "      <td>3321.250000</td>\n",
              "      <td>0.307498</td>\n",
              "      <td>0.326867</td>\n",
              "      <td>0.130993</td>\n",
              "    </tr>\n",
              "    <tr>\n",
              "      <th>max</th>\n",
              "      <td>960.000000</td>\n",
              "      <td>6.137973e+08</td>\n",
              "      <td>7.255500e+07</td>\n",
              "      <td>1.709440e+08</td>\n",
              "      <td>1413.000000</td>\n",
              "      <td>3253.000000</td>\n",
              "      <td>9736.000000</td>\n",
              "      <td>1.023743</td>\n",
              "      <td>1.000000</td>\n",
              "      <td>0.299936</td>\n",
              "    </tr>\n",
              "  </tbody>\n",
              "</table>\n",
              "</div>"
            ],
            "text/plain": [
              "              PID  Budget Forecast  ...  Budget Change Norm  Total Budget Norm\n",
              "count  235.000000     2.350000e+02  ...          235.000000         235.000000\n",
              "mean   564.587234     8.243385e+07  ...            0.137055           0.126253\n",
              "std    247.255975     7.753500e+07  ...            0.365015           0.025343\n",
              "min      3.000000     1.008834e+07  ...           -1.947462           0.102606\n",
              "25%    431.500000     3.933650e+07  ...            0.000000           0.112166\n",
              "50%    588.000000     5.943100e+07  ...            0.089425           0.118734\n",
              "75%    761.500000     9.693639e+07  ...            0.326867           0.130993\n",
              "max    960.000000     6.137973e+08  ...            1.000000           0.299936\n",
              "\n",
              "[8 rows x 10 columns]"
            ]
          },
          "metadata": {
            "tags": []
          },
          "execution_count": 8
        }
      ]
    },
    {
      "cell_type": "code",
      "metadata": {
        "colab_type": "code",
        "id": "HlXcmL05S8lI",
        "outputId": "178a7d84-ba8b-49dc-89ff-3ee5dc233762",
        "colab": {
          "base_uri": "https://localhost:8080/",
          "height": 416
        }
      },
      "source": [
        "sns.set(style=\"ticks\")\n",
        "sns.pairplot(df[['Budget Forecast', 'Budget Change Norm']])"
      ],
      "execution_count": 0,
      "outputs": [
        {
          "output_type": "execute_result",
          "data": {
            "text/plain": [
              "<seaborn.axisgrid.PairGrid at 0x7ff5befb0278>"
            ]
          },
          "metadata": {
            "tags": []
          },
          "execution_count": 9
        },
        {
          "output_type": "display_data",
          "data": {
            "image/png": "[encoded data removed]",
            "text/plain": [
              "<Figure size 360x360 with 6 Axes>"
            ]
          },
          "metadata": {
            "tags": []
          }
        }
      ]
    },
    {
      "cell_type": "markdown",
      "metadata": {
        "id": "cxQ6KxY6QLCF",
        "colab_type": "text"
      },
      "source": [
        "## NLP Embedding Preparation"
      ]
    },
    {
      "cell_type": "markdown",
      "metadata": {
        "id": "oG4zDLODQLCG",
        "colab_type": "text"
      },
      "source": [
        "Here is the pipe line for initial data transformation\n",
        "\n",
        "1. Get the stopwords\n",
        "2. Change the text to lower case\n",
        "3. Split the sentences\n",
        "4. Used PorterStemmer to stem"
      ]
    },
    {
      "cell_type": "code",
      "metadata": {
        "id": "D1zl6XhJQLCG",
        "colab_type": "code",
        "outputId": "4dc0e489-d040-4d94-ffba-5233f186905b",
        "colab": {
          "base_uri": "https://localhost:8080/",
          "height": 71
        }
      },
      "source": [
        "# Define list of stop words and a function to normalize text\n",
        "nltk.download('stopwords')\n",
        "stops = set(stopwords.words(\"english\"))\n",
        "stops = stops.union(['i','say','like','year','one','also','said','use'])\n",
        "\n",
        "# Define tokenizer to split sentence into tokens\n",
        "tokenizer = RegexpTokenizer(r'[a-z]+')\n",
        "\n",
        "def textNormalize(text):\n",
        "    textLower = text.lower()\n",
        "    textList = tokenizer.tokenize(textLower)\n",
        "    stopped_doc_tokens = [word for word in textList if not word in stops]\n",
        "    stopstem_doc_tokens0 = [PorterStemmer().stem(word) for word in stopped_doc_tokens]\n",
        "    stopstem_doc_tokens = [word for word in stopstem_doc_tokens0 if len(word)>1]\n",
        "    return stopstem_doc_tokens\n",
        "\n",
        "#example to check how it works\n",
        "textNormalize(\".. 120 I'm in Delhi India,,, today is 2019. went flying\")"
      ],
      "execution_count": 0,
      "outputs": [
        {
          "output_type": "stream",
          "text": [
            "[nltk_data] Downloading package stopwords to /root/nltk_data...\n",
            "[nltk_data]   Package stopwords is already up-to-date!\n"
          ],
          "name": "stdout"
        },
        {
          "output_type": "execute_result",
          "data": {
            "text/plain": [
              "['delhi', 'india', 'today', 'went', 'fli']"
            ]
          },
          "metadata": {
            "tags": []
          },
          "execution_count": 10
        }
      ]
    },
    {
      "cell_type": "code",
      "metadata": {
        "id": "_iR0Xp8DQLCO",
        "colab_type": "code",
        "outputId": "04b7bcc0-b6ef-4605-8e44-d1fb4dff18dc",
        "colab": {
          "base_uri": "https://localhost:8080/",
          "height": 417
        }
      },
      "source": [
        "df['Description'] = df['Description'].astype(str)\n",
        "df['Normalized Description'] = df['Description'].apply(textNormalize)\n",
        "df['normal_joined'] = df['Normalized Description'].apply(', '.join)\n",
        "df['normal_joined'] = df['normal_joined'].apply(lambda x: x.replace(', ', ' '))\n",
        "df.head(n=3)"
      ],
      "execution_count": 0,
      "outputs": [
        {
          "output_type": "execute_result",
          "data": {
            "text/html": [
              "<div>\n",
              "<style scoped>\n",
              "    .dataframe tbody tr th:only-of-type {\n",
              "        vertical-align: middle;\n",
              "    }\n",
              "\n",
              "    .dataframe tbody tr th {\n",
              "        vertical-align: top;\n",
              "    }\n",
              "\n",
              "    .dataframe thead th {\n",
              "        text-align: right;\n",
              "    }\n",
              "</style>\n",
              "<table border=\"1\" class=\"dataframe\">\n",
              "  <thead>\n",
              "    <tr style=\"text-align: right;\">\n",
              "      <th></th>\n",
              "      <th>Date Reported As Of</th>\n",
              "      <th>PID</th>\n",
              "      <th>Project Name</th>\n",
              "      <th>Description</th>\n",
              "      <th>Category</th>\n",
              "      <th>Borough</th>\n",
              "      <th>Managing Agency</th>\n",
              "      <th>Client Agency</th>\n",
              "      <th>Current Phase</th>\n",
              "      <th>Design Start</th>\n",
              "      <th>Budget Forecast</th>\n",
              "      <th>Latest Budget Changes</th>\n",
              "      <th>Total Budget Changes</th>\n",
              "      <th>Forecast Completion</th>\n",
              "      <th>Latest Schedule Changes</th>\n",
              "      <th>Total Schedule Changes</th>\n",
              "      <th>Project Duration</th>\n",
              "      <th>Schedule Change Norm</th>\n",
              "      <th>Budget Change Norm</th>\n",
              "      <th>Total Budget Norm</th>\n",
              "      <th>Normalized Description</th>\n",
              "      <th>normal_joined</th>\n",
              "    </tr>\n",
              "  </thead>\n",
              "  <tbody>\n",
              "    <tr>\n",
              "      <th>12</th>\n",
              "      <td>2019-09-01</td>\n",
              "      <td>3</td>\n",
              "      <td>26th Ward Waste Water Treatment Plant Prelimin...</td>\n",
              "      <td>The 26th Ward WWTP is mandated to be upgraded ...</td>\n",
              "      <td>Wastewater Treatment</td>\n",
              "      <td>Brooklyn</td>\n",
              "      <td>DEP</td>\n",
              "      <td>DEP</td>\n",
              "      <td>Construction</td>\n",
              "      <td>2013-09-23</td>\n",
              "      <td>1.805777e+08</td>\n",
              "      <td>-4664980.0</td>\n",
              "      <td>-4318643.37</td>\n",
              "      <td>2020-10-09</td>\n",
              "      <td>0.0</td>\n",
              "      <td>270.0</td>\n",
              "      <td>2573.0</td>\n",
              "      <td>0.104936</td>\n",
              "      <td>-0.023916</td>\n",
              "      <td>0.158332</td>\n",
              "      <td>[th, ward, wwtp, mandat, upgrad, preliminari, ...</td>\n",
              "      <td>th ward wwtp mandat upgrad preliminari treatme...</td>\n",
              "    </tr>\n",
              "    <tr>\n",
              "      <th>27</th>\n",
              "      <td>2019-09-01</td>\n",
              "      <td>7</td>\n",
              "      <td>Bowery Bay Waste Water Treatment Plant Main Se...</td>\n",
              "      <td>The existing Main Sewage Pumps have deteriorat...</td>\n",
              "      <td>Wastewater Treatment</td>\n",
              "      <td>Queens</td>\n",
              "      <td>DEP</td>\n",
              "      <td>DEP</td>\n",
              "      <td>Construction</td>\n",
              "      <td>2013-05-01</td>\n",
              "      <td>6.879846e+07</td>\n",
              "      <td>1065884.0</td>\n",
              "      <td>15305457.00</td>\n",
              "      <td>2020-02-14</td>\n",
              "      <td>88.0</td>\n",
              "      <td>685.0</td>\n",
              "      <td>2480.0</td>\n",
              "      <td>0.276210</td>\n",
              "      <td>0.222468</td>\n",
              "      <td>0.121796</td>\n",
              "      <td>[exist, main, sewag, pump, deterior, pump, sys...</td>\n",
              "      <td>exist main sewag pump deterior pump system inc...</td>\n",
              "    </tr>\n",
              "    <tr>\n",
              "      <th>42</th>\n",
              "      <td>2019-09-01</td>\n",
              "      <td>18</td>\n",
              "      <td>Croton Falls Pumping Station Construction</td>\n",
              "      <td>This project will construct a new pumping stat...</td>\n",
              "      <td>Water Supply</td>\n",
              "      <td>Carmel</td>\n",
              "      <td>DEP</td>\n",
              "      <td>DEP</td>\n",
              "      <td>Construction</td>\n",
              "      <td>2003-08-22</td>\n",
              "      <td>6.787161e+07</td>\n",
              "      <td>-1399611.0</td>\n",
              "      <td>1255175.02</td>\n",
              "      <td>2020-03-10</td>\n",
              "      <td>91.0</td>\n",
              "      <td>1014.0</td>\n",
              "      <td>6045.0</td>\n",
              "      <td>0.167742</td>\n",
              "      <td>0.018493</td>\n",
              "      <td>0.121493</td>\n",
              "      <td>[project, construct, new, pump, station, repla...</td>\n",
              "      <td>project construct new pump station replac hydr...</td>\n",
              "    </tr>\n",
              "  </tbody>\n",
              "</table>\n",
              "</div>"
            ],
            "text/plain": [
              "   Date Reported As Of  ...                                      normal_joined\n",
              "12          2019-09-01  ...  th ward wwtp mandat upgrad preliminari treatme...\n",
              "27          2019-09-01  ...  exist main sewag pump deterior pump system inc...\n",
              "42          2019-09-01  ...  project construct new pump station replac hydr...\n",
              "\n",
              "[3 rows x 22 columns]"
            ]
          },
          "metadata": {
            "tags": []
          },
          "execution_count": 11
        }
      ]
    },
    {
      "cell_type": "markdown",
      "metadata": {
        "id": "D6ZLuDSaQLCR",
        "colab_type": "text"
      },
      "source": [
        "We used Google's Universal Sentence Encoder to create embedding of the normalized sentences."
      ]
    },
    {
      "cell_type": "code",
      "metadata": {
        "id": "qu7_7TqAQLCS",
        "colab_type": "code",
        "outputId": "a8201c15-beaf-45d5-cbea-4a2d6e8ca52b",
        "colab": {
          "base_uri": "https://localhost:8080/",
          "height": 35
        }
      },
      "source": [
        "# Universal sentence encoder \n",
        "module_url = \"https://tfhub.dev/google/universal-sentence-encoder/4\" #@param [\"https://tfhub.dev/google/universal-sentence-encoder/4\", \"https://tfhub.dev/google/universal-sentence-encoder-large/5\"]\n",
        "model = hub.load(module_url)\n",
        "print (\"module %s loaded\" % module_url)\n",
        "def embed(input):\n",
        "  return model(input)"
      ],
      "execution_count": 0,
      "outputs": [
        {
          "output_type": "stream",
          "text": [
            "module https://tfhub.dev/google/universal-sentence-encoder/4 loaded\n"
          ],
          "name": "stdout"
        }
      ]
    },
    {
      "cell_type": "markdown",
      "metadata": {
        "colab_type": "text",
        "id": "7yXY-eYw0oEi"
      },
      "source": [
        "## Adding NLP embedded columns and running PCA to limit # of columns"
      ]
    },
    {
      "cell_type": "code",
      "metadata": {
        "colab_type": "code",
        "id": "dr4A7CR20oEj",
        "outputId": "2977fa6e-60b3-4a68-abdb-3652fc360f45",
        "colab": {
          "base_uri": "https://localhost:8080/",
          "height": 35
        }
      },
      "source": [
        "# The embedding of the description is ready for use in Regression later\n",
        "embedding = embed(df.normal_joined).numpy()\n",
        "df_embed = pd.DataFrame(embedding)\n",
        "\n",
        "pca = PCA(n_components=24)\n",
        "pc = pca.fit_transform(df_embed)\n",
        "print(np.sum(pca.explained_variance_ratio_))#percent of variance explained by the the # pc axes chosen\n",
        "df_pc = pd.DataFrame(pc)\n",
        "# concatenate the columns related to embedding of project description (512 columns)\n",
        "df = df.reset_index(drop=True).merge(df_pc.reset_index(drop=True), left_index=True, right_index=True)"
      ],
      "execution_count": 0,
      "outputs": [
        {
          "output_type": "stream",
          "text": [
            "0.6096717\n"
          ],
          "name": "stdout"
        }
      ]
    },
    {
      "cell_type": "code",
      "metadata": {
        "id": "BV6JcBpiTA9e",
        "colab_type": "code",
        "outputId": "5a17e040-5c5d-4692-a900-43993e87788f",
        "colab": {
          "base_uri": "https://localhost:8080/",
          "height": 303
        }
      },
      "source": [
        "display_df = pd.DataFrame({'var':pca.explained_variance_ratio_[0:10], 'PC':['PC1','PC2','PC3','PC4','PC5','PC6','PC7','PC8', 'PC9','PC10']})\n",
        "sns.barplot(x='PC', y='var',data=display_df, color='c')"
      ],
      "execution_count": 0,
      "outputs": [
        {
          "output_type": "execute_result",
          "data": {
            "text/plain": [
              "<matplotlib.axes._subplots.AxesSubplot at 0x7ff5b62c6198>"
            ]
          },
          "metadata": {
            "tags": []
          },
          "execution_count": 14
        },
        {
          "output_type": "display_data",
          "data": {
            "image/png": "[encoded data removed]",
            "text/plain": [
              "<Figure size 432x288 with 1 Axes>"
            ]
          },
          "metadata": {
            "tags": []
          }
        }
      ]
    },
    {
      "cell_type": "markdown",
      "metadata": {
        "colab_type": "text",
        "id": "_rwqRG4M0oEn"
      },
      "source": [
        "## Adding Dummy variables and dropping categorical columns"
      ]
    },
    {
      "cell_type": "code",
      "metadata": {
        "colab_type": "code",
        "id": "Qj69yGZJs8Fo",
        "colab": {}
      },
      "source": [
        "####  (4)  #### Handle Categorical Columns using dummy variables\n",
        "categorical_columns = ['Category', 'Borough'] # not including Agencies nor Decription\n",
        "nyc_df = pd.get_dummies(df, columns=categorical_columns, drop_first=True)\n",
        "\n",
        "#### (5) #### Drop redundant or useless columns, and drop NaNs\n",
        "drop_columns = ['Date Reported As Of', 'PID', 'Project Name', 'Description','Managing Agency', \n",
        "                'Client Agency', 'Design Start', 'Total Budget Norm', 'Latest Budget Changes', \n",
        "                'Latest Schedule Changes', 'Total Schedule Changes', 'Total Budget Changes', \n",
        "                'Forecast Completion', 'Current Phase']\n",
        "nyc_df = nyc_df.drop(drop_columns, axis=1, errors='ignore')"
      ],
      "execution_count": 0,
      "outputs": []
    },
    {
      "cell_type": "markdown",
      "metadata": {
        "colab_type": "text",
        "id": "oVg3fDE-2rNE"
      },
      "source": [
        "## Transformation"
      ]
    },
    {
      "cell_type": "code",
      "metadata": {
        "colab_type": "code",
        "id": "AC5_kAGx2mCO",
        "outputId": "ee5b0ec4-2608-4b22-c41e-575a49662b1c",
        "colab": {
          "base_uri": "https://localhost:8080/",
          "height": 436
        }
      },
      "source": [
        "# TRANSFORMATION\n",
        "# Log of both Project Duration and Budget Forecast\n",
        "nyc_df['Budget Forecast'] = np.log(nyc_df['Budget Forecast'])\n",
        "nyc_df['Project Duration'] = np.log(nyc_df['Project Duration'])\n",
        "nyc_df.describe()"
      ],
      "execution_count": 0,
      "outputs": [
        {
          "output_type": "execute_result",
          "data": {
            "text/html": [
              "<div>\n",
              "<style scoped>\n",
              "    .dataframe tbody tr th:only-of-type {\n",
              "        vertical-align: middle;\n",
              "    }\n",
              "\n",
              "    .dataframe tbody tr th {\n",
              "        vertical-align: top;\n",
              "    }\n",
              "\n",
              "    .dataframe thead th {\n",
              "        text-align: right;\n",
              "    }\n",
              "</style>\n",
              "<table border=\"1\" class=\"dataframe\">\n",
              "  <thead>\n",
              "    <tr style=\"text-align: right;\">\n",
              "      <th></th>\n",
              "      <th>Budget Forecast</th>\n",
              "      <th>Project Duration</th>\n",
              "      <th>Schedule Change Norm</th>\n",
              "      <th>Budget Change Norm</th>\n",
              "      <th>0</th>\n",
              "      <th>1</th>\n",
              "      <th>2</th>\n",
              "      <th>3</th>\n",
              "      <th>4</th>\n",
              "      <th>5</th>\n",
              "      <th>6</th>\n",
              "      <th>7</th>\n",
              "      <th>8</th>\n",
              "      <th>9</th>\n",
              "      <th>10</th>\n",
              "      <th>11</th>\n",
              "      <th>12</th>\n",
              "      <th>13</th>\n",
              "      <th>14</th>\n",
              "      <th>15</th>\n",
              "      <th>16</th>\n",
              "      <th>17</th>\n",
              "      <th>18</th>\n",
              "      <th>19</th>\n",
              "      <th>20</th>\n",
              "      <th>21</th>\n",
              "      <th>22</th>\n",
              "      <th>23</th>\n",
              "      <th>Category_Bridges</th>\n",
              "      <th>Category_Bridges, Streets and Roadways</th>\n",
              "      <th>Category_Ferries</th>\n",
              "      <th>Category_Health and Hospitals</th>\n",
              "      <th>Category_Health and Hospitals, IT</th>\n",
              "      <th>Category_IT</th>\n",
              "      <th>Category_Industrial Development</th>\n",
              "      <th>Category_Industrial Development, Streets and Roadways</th>\n",
              "      <th>Category_Libraries</th>\n",
              "      <th>Category_Other Government Facilities</th>\n",
              "      <th>Category_Parks</th>\n",
              "      <th>Category_Public Safety and Criminal Justice</th>\n",
              "      <th>Category_Sanitation</th>\n",
              "      <th>Category_Schools</th>\n",
              "      <th>Category_Sewers</th>\n",
              "      <th>Category_Streets and Roadways</th>\n",
              "      <th>Category_Wastewater Treatment</th>\n",
              "      <th>Category_Water Supply</th>\n",
              "      <th>Borough_Bronx, Manhattan</th>\n",
              "      <th>Borough_Brooklyn</th>\n",
              "      <th>Borough_Brooklyn, Queens</th>\n",
              "      <th>Borough_Carmel</th>\n",
              "      <th>Borough_Citywide</th>\n",
              "      <th>Borough_Manhattan</th>\n",
              "      <th>Borough_Manhattan, Bronx</th>\n",
              "      <th>Borough_Manhattan, Staten Island</th>\n",
              "      <th>Borough_Manhattan, Staten Island, Bronx</th>\n",
              "      <th>Borough_Manhatten</th>\n",
              "      <th>Borough_New York</th>\n",
              "      <th>Borough_Olive</th>\n",
              "      <th>Borough_Port Jervis</th>\n",
              "      <th>Borough_Queens</th>\n",
              "      <th>Borough_Staten Island</th>\n",
              "      <th>Borough_Upstate</th>\n",
              "      <th>Borough_Valhalla</th>\n",
              "    </tr>\n",
              "  </thead>\n",
              "  <tbody>\n",
              "    <tr>\n",
              "      <th>count</th>\n",
              "      <td>235.000000</td>\n",
              "      <td>230.000000</td>\n",
              "      <td>230.000000</td>\n",
              "      <td>235.000000</td>\n",
              "      <td>2.350000e+02</td>\n",
              "      <td>2.350000e+02</td>\n",
              "      <td>2.350000e+02</td>\n",
              "      <td>2.350000e+02</td>\n",
              "      <td>2.350000e+02</td>\n",
              "      <td>2.350000e+02</td>\n",
              "      <td>2.350000e+02</td>\n",
              "      <td>2.350000e+02</td>\n",
              "      <td>2.350000e+02</td>\n",
              "      <td>2.350000e+02</td>\n",
              "      <td>2.350000e+02</td>\n",
              "      <td>2.350000e+02</td>\n",
              "      <td>2.350000e+02</td>\n",
              "      <td>2.350000e+02</td>\n",
              "      <td>2.350000e+02</td>\n",
              "      <td>2.350000e+02</td>\n",
              "      <td>2.350000e+02</td>\n",
              "      <td>2.350000e+02</td>\n",
              "      <td>2.350000e+02</td>\n",
              "      <td>2.350000e+02</td>\n",
              "      <td>2.350000e+02</td>\n",
              "      <td>2.350000e+02</td>\n",
              "      <td>2.350000e+02</td>\n",
              "      <td>2.350000e+02</td>\n",
              "      <td>235.000000</td>\n",
              "      <td>235.000000</td>\n",
              "      <td>235.000000</td>\n",
              "      <td>235.000000</td>\n",
              "      <td>235.000000</td>\n",
              "      <td>235.000000</td>\n",
              "      <td>235.000000</td>\n",
              "      <td>235.000000</td>\n",
              "      <td>235.000000</td>\n",
              "      <td>235.000000</td>\n",
              "      <td>235.000000</td>\n",
              "      <td>235.000000</td>\n",
              "      <td>235.000000</td>\n",
              "      <td>235.000000</td>\n",
              "      <td>235.000000</td>\n",
              "      <td>235.000000</td>\n",
              "      <td>235.000000</td>\n",
              "      <td>235.000000</td>\n",
              "      <td>235.000000</td>\n",
              "      <td>235.000000</td>\n",
              "      <td>235.000000</td>\n",
              "      <td>235.000000</td>\n",
              "      <td>235.000000</td>\n",
              "      <td>235.000000</td>\n",
              "      <td>235.000000</td>\n",
              "      <td>235.000000</td>\n",
              "      <td>235.000000</td>\n",
              "      <td>235.000000</td>\n",
              "      <td>235.000000</td>\n",
              "      <td>235.000000</td>\n",
              "      <td>235.000000</td>\n",
              "      <td>235.000000</td>\n",
              "      <td>235.000000</td>\n",
              "      <td>235.000000</td>\n",
              "      <td>235.000000</td>\n",
              "    </tr>\n",
              "    <tr>\n",
              "      <th>mean</th>\n",
              "      <td>17.963800</td>\n",
              "      <td>7.867122</td>\n",
              "      <td>0.177726</td>\n",
              "      <td>0.137055</td>\n",
              "      <td>-2.155913e-09</td>\n",
              "      <td>9.384561e-09</td>\n",
              "      <td>1.530539e-08</td>\n",
              "      <td>8.211491e-09</td>\n",
              "      <td>-5.960465e-09</td>\n",
              "      <td>-3.328983e-09</td>\n",
              "      <td>-7.735922e-09</td>\n",
              "      <td>-3.170460e-11</td>\n",
              "      <td>-4.280121e-09</td>\n",
              "      <td>1.410855e-09</td>\n",
              "      <td>7.831035e-09</td>\n",
              "      <td>-8.100525e-09</td>\n",
              "      <td>1.141366e-09</td>\n",
              "      <td>5.706828e-09</td>\n",
              "      <td>8.068820e-09</td>\n",
              "      <td>9.828425e-09</td>\n",
              "      <td>-1.918128e-09</td>\n",
              "      <td>5.611714e-09</td>\n",
              "      <td>-2.092504e-09</td>\n",
              "      <td>3.899665e-09</td>\n",
              "      <td>1.945870e-09</td>\n",
              "      <td>7.799331e-09</td>\n",
              "      <td>7.942002e-09</td>\n",
              "      <td>4.260305e-09</td>\n",
              "      <td>0.080851</td>\n",
              "      <td>0.059574</td>\n",
              "      <td>0.017021</td>\n",
              "      <td>0.017021</td>\n",
              "      <td>0.004255</td>\n",
              "      <td>0.008511</td>\n",
              "      <td>0.114894</td>\n",
              "      <td>0.004255</td>\n",
              "      <td>0.008511</td>\n",
              "      <td>0.042553</td>\n",
              "      <td>0.012766</td>\n",
              "      <td>0.046809</td>\n",
              "      <td>0.017021</td>\n",
              "      <td>0.051064</td>\n",
              "      <td>0.127660</td>\n",
              "      <td>0.187234</td>\n",
              "      <td>0.093617</td>\n",
              "      <td>0.093617</td>\n",
              "      <td>0.004255</td>\n",
              "      <td>0.165957</td>\n",
              "      <td>0.004255</td>\n",
              "      <td>0.004255</td>\n",
              "      <td>0.029787</td>\n",
              "      <td>0.085106</td>\n",
              "      <td>0.008511</td>\n",
              "      <td>0.004255</td>\n",
              "      <td>0.004255</td>\n",
              "      <td>0.004255</td>\n",
              "      <td>0.004255</td>\n",
              "      <td>0.004255</td>\n",
              "      <td>0.004255</td>\n",
              "      <td>0.127660</td>\n",
              "      <td>0.046809</td>\n",
              "      <td>0.008511</td>\n",
              "      <td>0.004255</td>\n",
              "    </tr>\n",
              "    <tr>\n",
              "      <th>std</th>\n",
              "      <td>0.679063</td>\n",
              "      <td>0.421443</td>\n",
              "      <td>0.218598</td>\n",
              "      <td>0.365015</td>\n",
              "      <td>2.761015e-01</td>\n",
              "      <td>2.413461e-01</td>\n",
              "      <td>1.961733e-01</td>\n",
              "      <td>1.836040e-01</td>\n",
              "      <td>1.678683e-01</td>\n",
              "      <td>1.520521e-01</td>\n",
              "      <td>1.356440e-01</td>\n",
              "      <td>1.337039e-01</td>\n",
              "      <td>1.249290e-01</td>\n",
              "      <td>1.230308e-01</td>\n",
              "      <td>1.194549e-01</td>\n",
              "      <td>1.142510e-01</td>\n",
              "      <td>1.127235e-01</td>\n",
              "      <td>1.101347e-01</td>\n",
              "      <td>1.061684e-01</td>\n",
              "      <td>1.048169e-01</td>\n",
              "      <td>1.042085e-01</td>\n",
              "      <td>1.001602e-01</td>\n",
              "      <td>9.781866e-02</td>\n",
              "      <td>9.755045e-02</td>\n",
              "      <td>9.425825e-02</td>\n",
              "      <td>9.151791e-02</td>\n",
              "      <td>8.984030e-02</td>\n",
              "      <td>8.773608e-02</td>\n",
              "      <td>0.273188</td>\n",
              "      <td>0.237202</td>\n",
              "      <td>0.129627</td>\n",
              "      <td>0.129627</td>\n",
              "      <td>0.065233</td>\n",
              "      <td>0.092056</td>\n",
              "      <td>0.319574</td>\n",
              "      <td>0.065233</td>\n",
              "      <td>0.092056</td>\n",
              "      <td>0.202278</td>\n",
              "      <td>0.112503</td>\n",
              "      <td>0.211679</td>\n",
              "      <td>0.129627</td>\n",
              "      <td>0.220598</td>\n",
              "      <td>0.334423</td>\n",
              "      <td>0.390932</td>\n",
              "      <td>0.291917</td>\n",
              "      <td>0.291917</td>\n",
              "      <td>0.065233</td>\n",
              "      <td>0.372837</td>\n",
              "      <td>0.065233</td>\n",
              "      <td>0.065233</td>\n",
              "      <td>0.170363</td>\n",
              "      <td>0.279636</td>\n",
              "      <td>0.092056</td>\n",
              "      <td>0.065233</td>\n",
              "      <td>0.065233</td>\n",
              "      <td>0.065233</td>\n",
              "      <td>0.065233</td>\n",
              "      <td>0.065233</td>\n",
              "      <td>0.065233</td>\n",
              "      <td>0.334423</td>\n",
              "      <td>0.211679</td>\n",
              "      <td>0.092056</td>\n",
              "      <td>0.065233</td>\n",
              "    </tr>\n",
              "    <tr>\n",
              "      <th>min</th>\n",
              "      <td>16.126891</td>\n",
              "      <td>6.486161</td>\n",
              "      <td>-0.722620</td>\n",
              "      <td>-1.947462</td>\n",
              "      <td>-4.745968e-01</td>\n",
              "      <td>-4.947568e-01</td>\n",
              "      <td>-4.153929e-01</td>\n",
              "      <td>-4.332487e-01</td>\n",
              "      <td>-4.359955e-01</td>\n",
              "      <td>-4.358863e-01</td>\n",
              "      <td>-4.243422e-01</td>\n",
              "      <td>-2.944617e-01</td>\n",
              "      <td>-3.779839e-01</td>\n",
              "      <td>-3.381519e-01</td>\n",
              "      <td>-3.078300e-01</td>\n",
              "      <td>-2.759200e-01</td>\n",
              "      <td>-2.905627e-01</td>\n",
              "      <td>-2.937711e-01</td>\n",
              "      <td>-2.718052e-01</td>\n",
              "      <td>-3.096624e-01</td>\n",
              "      <td>-2.808807e-01</td>\n",
              "      <td>-3.193868e-01</td>\n",
              "      <td>-2.443752e-01</td>\n",
              "      <td>-2.264046e-01</td>\n",
              "      <td>-2.273749e-01</td>\n",
              "      <td>-2.337453e-01</td>\n",
              "      <td>-2.635375e-01</td>\n",
              "      <td>-2.155047e-01</td>\n",
              "      <td>0.000000</td>\n",
              "      <td>0.000000</td>\n",
              "      <td>0.000000</td>\n",
              "      <td>0.000000</td>\n",
              "      <td>0.000000</td>\n",
              "      <td>0.000000</td>\n",
              "      <td>0.000000</td>\n",
              "      <td>0.000000</td>\n",
              "      <td>0.000000</td>\n",
              "      <td>0.000000</td>\n",
              "      <td>0.000000</td>\n",
              "      <td>0.000000</td>\n",
              "      <td>0.000000</td>\n",
              "      <td>0.000000</td>\n",
              "      <td>0.000000</td>\n",
              "      <td>0.000000</td>\n",
              "      <td>0.000000</td>\n",
              "      <td>0.000000</td>\n",
              "      <td>0.000000</td>\n",
              "      <td>0.000000</td>\n",
              "      <td>0.000000</td>\n",
              "      <td>0.000000</td>\n",
              "      <td>0.000000</td>\n",
              "      <td>0.000000</td>\n",
              "      <td>0.000000</td>\n",
              "      <td>0.000000</td>\n",
              "      <td>0.000000</td>\n",
              "      <td>0.000000</td>\n",
              "      <td>0.000000</td>\n",
              "      <td>0.000000</td>\n",
              "      <td>0.000000</td>\n",
              "      <td>0.000000</td>\n",
              "      <td>0.000000</td>\n",
              "      <td>0.000000</td>\n",
              "      <td>0.000000</td>\n",
              "    </tr>\n",
              "    <tr>\n",
              "      <th>25%</th>\n",
              "      <td>17.487651</td>\n",
              "      <td>7.591483</td>\n",
              "      <td>0.033659</td>\n",
              "      <td>0.000000</td>\n",
              "      <td>-2.072938e-01</td>\n",
              "      <td>-1.915883e-01</td>\n",
              "      <td>-1.366703e-01</td>\n",
              "      <td>-1.264513e-01</td>\n",
              "      <td>-9.026958e-02</td>\n",
              "      <td>-8.615405e-02</td>\n",
              "      <td>-8.990994e-02</td>\n",
              "      <td>-6.978374e-02</td>\n",
              "      <td>-7.101182e-02</td>\n",
              "      <td>-8.271722e-02</td>\n",
              "      <td>-6.817913e-02</td>\n",
              "      <td>-8.144664e-02</td>\n",
              "      <td>-7.039882e-02</td>\n",
              "      <td>-7.081895e-02</td>\n",
              "      <td>-7.258245e-02</td>\n",
              "      <td>-6.128660e-02</td>\n",
              "      <td>-6.087890e-02</td>\n",
              "      <td>-5.788791e-02</td>\n",
              "      <td>-6.474904e-02</td>\n",
              "      <td>-5.929688e-02</td>\n",
              "      <td>-6.350832e-02</td>\n",
              "      <td>-6.196554e-02</td>\n",
              "      <td>-6.341706e-02</td>\n",
              "      <td>-6.625316e-02</td>\n",
              "      <td>0.000000</td>\n",
              "      <td>0.000000</td>\n",
              "      <td>0.000000</td>\n",
              "      <td>0.000000</td>\n",
              "      <td>0.000000</td>\n",
              "      <td>0.000000</td>\n",
              "      <td>0.000000</td>\n",
              "      <td>0.000000</td>\n",
              "      <td>0.000000</td>\n",
              "      <td>0.000000</td>\n",
              "      <td>0.000000</td>\n",
              "      <td>0.000000</td>\n",
              "      <td>0.000000</td>\n",
              "      <td>0.000000</td>\n",
              "      <td>0.000000</td>\n",
              "      <td>0.000000</td>\n",
              "      <td>0.000000</td>\n",
              "      <td>0.000000</td>\n",
              "      <td>0.000000</td>\n",
              "      <td>0.000000</td>\n",
              "      <td>0.000000</td>\n",
              "      <td>0.000000</td>\n",
              "      <td>0.000000</td>\n",
              "      <td>0.000000</td>\n",
              "      <td>0.000000</td>\n",
              "      <td>0.000000</td>\n",
              "      <td>0.000000</td>\n",
              "      <td>0.000000</td>\n",
              "      <td>0.000000</td>\n",
              "      <td>0.000000</td>\n",
              "      <td>0.000000</td>\n",
              "      <td>0.000000</td>\n",
              "      <td>0.000000</td>\n",
              "      <td>0.000000</td>\n",
              "      <td>0.000000</td>\n",
              "    </tr>\n",
              "    <tr>\n",
              "      <th>50%</th>\n",
              "      <td>17.900327</td>\n",
              "      <td>7.818427</td>\n",
              "      <td>0.164496</td>\n",
              "      <td>0.089425</td>\n",
              "      <td>-2.109411e-02</td>\n",
              "      <td>-1.410935e-02</td>\n",
              "      <td>-2.981278e-02</td>\n",
              "      <td>-8.152476e-03</td>\n",
              "      <td>-6.977268e-03</td>\n",
              "      <td>-6.662823e-03</td>\n",
              "      <td>-5.015288e-03</td>\n",
              "      <td>-3.754554e-03</td>\n",
              "      <td>-1.675013e-02</td>\n",
              "      <td>-4.421166e-03</td>\n",
              "      <td>-1.205846e-03</td>\n",
              "      <td>-3.314157e-03</td>\n",
              "      <td>-5.615354e-03</td>\n",
              "      <td>-5.053492e-03</td>\n",
              "      <td>5.961786e-03</td>\n",
              "      <td>-6.924106e-03</td>\n",
              "      <td>-9.714642e-03</td>\n",
              "      <td>-6.091249e-03</td>\n",
              "      <td>2.493922e-03</td>\n",
              "      <td>-1.444589e-02</td>\n",
              "      <td>7.160574e-03</td>\n",
              "      <td>4.061060e-03</td>\n",
              "      <td>5.373513e-03</td>\n",
              "      <td>8.086431e-03</td>\n",
              "      <td>0.000000</td>\n",
              "      <td>0.000000</td>\n",
              "      <td>0.000000</td>\n",
              "      <td>0.000000</td>\n",
              "      <td>0.000000</td>\n",
              "      <td>0.000000</td>\n",
              "      <td>0.000000</td>\n",
              "      <td>0.000000</td>\n",
              "      <td>0.000000</td>\n",
              "      <td>0.000000</td>\n",
              "      <td>0.000000</td>\n",
              "      <td>0.000000</td>\n",
              "      <td>0.000000</td>\n",
              "      <td>0.000000</td>\n",
              "      <td>0.000000</td>\n",
              "      <td>0.000000</td>\n",
              "      <td>0.000000</td>\n",
              "      <td>0.000000</td>\n",
              "      <td>0.000000</td>\n",
              "      <td>0.000000</td>\n",
              "      <td>0.000000</td>\n",
              "      <td>0.000000</td>\n",
              "      <td>0.000000</td>\n",
              "      <td>0.000000</td>\n",
              "      <td>0.000000</td>\n",
              "      <td>0.000000</td>\n",
              "      <td>0.000000</td>\n",
              "      <td>0.000000</td>\n",
              "      <td>0.000000</td>\n",
              "      <td>0.000000</td>\n",
              "      <td>0.000000</td>\n",
              "      <td>0.000000</td>\n",
              "      <td>0.000000</td>\n",
              "      <td>0.000000</td>\n",
              "      <td>0.000000</td>\n",
              "    </tr>\n",
              "    <tr>\n",
              "      <th>75%</th>\n",
              "      <td>18.389448</td>\n",
              "      <td>8.108095</td>\n",
              "      <td>0.307498</td>\n",
              "      <td>0.326867</td>\n",
              "      <td>1.755156e-01</td>\n",
              "      <td>1.887052e-01</td>\n",
              "      <td>1.292816e-01</td>\n",
              "      <td>1.395589e-01</td>\n",
              "      <td>1.188991e-01</td>\n",
              "      <td>8.353459e-02</td>\n",
              "      <td>7.679598e-02</td>\n",
              "      <td>5.174230e-02</td>\n",
              "      <td>7.608272e-02</td>\n",
              "      <td>7.626984e-02</td>\n",
              "      <td>7.219886e-02</td>\n",
              "      <td>7.877491e-02</td>\n",
              "      <td>8.071040e-02</td>\n",
              "      <td>6.502637e-02</td>\n",
              "      <td>7.661286e-02</td>\n",
              "      <td>5.823675e-02</td>\n",
              "      <td>5.874032e-02</td>\n",
              "      <td>4.971912e-02</td>\n",
              "      <td>6.487300e-02</td>\n",
              "      <td>6.324039e-02</td>\n",
              "      <td>5.590743e-02</td>\n",
              "      <td>6.005550e-02</td>\n",
              "      <td>6.282062e-02</td>\n",
              "      <td>6.420779e-02</td>\n",
              "      <td>0.000000</td>\n",
              "      <td>0.000000</td>\n",
              "      <td>0.000000</td>\n",
              "      <td>0.000000</td>\n",
              "      <td>0.000000</td>\n",
              "      <td>0.000000</td>\n",
              "      <td>0.000000</td>\n",
              "      <td>0.000000</td>\n",
              "      <td>0.000000</td>\n",
              "      <td>0.000000</td>\n",
              "      <td>0.000000</td>\n",
              "      <td>0.000000</td>\n",
              "      <td>0.000000</td>\n",
              "      <td>0.000000</td>\n",
              "      <td>0.000000</td>\n",
              "      <td>0.000000</td>\n",
              "      <td>0.000000</td>\n",
              "      <td>0.000000</td>\n",
              "      <td>0.000000</td>\n",
              "      <td>0.000000</td>\n",
              "      <td>0.000000</td>\n",
              "      <td>0.000000</td>\n",
              "      <td>0.000000</td>\n",
              "      <td>0.000000</td>\n",
              "      <td>0.000000</td>\n",
              "      <td>0.000000</td>\n",
              "      <td>0.000000</td>\n",
              "      <td>0.000000</td>\n",
              "      <td>0.000000</td>\n",
              "      <td>0.000000</td>\n",
              "      <td>0.000000</td>\n",
              "      <td>0.000000</td>\n",
              "      <td>0.000000</td>\n",
              "      <td>0.000000</td>\n",
              "      <td>0.000000</td>\n",
              "    </tr>\n",
              "    <tr>\n",
              "      <th>max</th>\n",
              "      <td>20.235175</td>\n",
              "      <td>9.183586</td>\n",
              "      <td>1.023743</td>\n",
              "      <td>1.000000</td>\n",
              "      <td>7.094134e-01</td>\n",
              "      <td>5.025045e-01</td>\n",
              "      <td>4.929098e-01</td>\n",
              "      <td>4.553455e-01</td>\n",
              "      <td>4.408785e-01</td>\n",
              "      <td>4.535822e-01</td>\n",
              "      <td>4.633929e-01</td>\n",
              "      <td>5.405924e-01</td>\n",
              "      <td>4.098476e-01</td>\n",
              "      <td>3.475232e-01</td>\n",
              "      <td>3.909073e-01</td>\n",
              "      <td>3.017887e-01</td>\n",
              "      <td>3.617846e-01</td>\n",
              "      <td>3.218022e-01</td>\n",
              "      <td>3.230563e-01</td>\n",
              "      <td>3.698114e-01</td>\n",
              "      <td>3.534103e-01</td>\n",
              "      <td>3.453136e-01</td>\n",
              "      <td>2.558385e-01</td>\n",
              "      <td>2.954666e-01</td>\n",
              "      <td>3.219122e-01</td>\n",
              "      <td>3.035181e-01</td>\n",
              "      <td>2.804665e-01</td>\n",
              "      <td>2.304495e-01</td>\n",
              "      <td>1.000000</td>\n",
              "      <td>1.000000</td>\n",
              "      <td>1.000000</td>\n",
              "      <td>1.000000</td>\n",
              "      <td>1.000000</td>\n",
              "      <td>1.000000</td>\n",
              "      <td>1.000000</td>\n",
              "      <td>1.000000</td>\n",
              "      <td>1.000000</td>\n",
              "      <td>1.000000</td>\n",
              "      <td>1.000000</td>\n",
              "      <td>1.000000</td>\n",
              "      <td>1.000000</td>\n",
              "      <td>1.000000</td>\n",
              "      <td>1.000000</td>\n",
              "      <td>1.000000</td>\n",
              "      <td>1.000000</td>\n",
              "      <td>1.000000</td>\n",
              "      <td>1.000000</td>\n",
              "      <td>1.000000</td>\n",
              "      <td>1.000000</td>\n",
              "      <td>1.000000</td>\n",
              "      <td>1.000000</td>\n",
              "      <td>1.000000</td>\n",
              "      <td>1.000000</td>\n",
              "      <td>1.000000</td>\n",
              "      <td>1.000000</td>\n",
              "      <td>1.000000</td>\n",
              "      <td>1.000000</td>\n",
              "      <td>1.000000</td>\n",
              "      <td>1.000000</td>\n",
              "      <td>1.000000</td>\n",
              "      <td>1.000000</td>\n",
              "      <td>1.000000</td>\n",
              "      <td>1.000000</td>\n",
              "    </tr>\n",
              "  </tbody>\n",
              "</table>\n",
              "</div>"
            ],
            "text/plain": [
              "       Budget Forecast  Project Duration  ...  Borough_Upstate  Borough_Valhalla\n",
              "count       235.000000        230.000000  ...       235.000000        235.000000\n",
              "mean         17.963800          7.867122  ...         0.008511          0.004255\n",
              "std           0.679063          0.421443  ...         0.092056          0.065233\n",
              "min          16.126891          6.486161  ...         0.000000          0.000000\n",
              "25%          17.487651          7.591483  ...         0.000000          0.000000\n",
              "50%          17.900327          7.818427  ...         0.000000          0.000000\n",
              "75%          18.389448          8.108095  ...         0.000000          0.000000\n",
              "max          20.235175          9.183586  ...         1.000000          1.000000\n",
              "\n",
              "[8 rows x 63 columns]"
            ]
          },
          "metadata": {
            "tags": []
          },
          "execution_count": 16
        }
      ]
    },
    {
      "cell_type": "markdown",
      "metadata": {
        "colab_type": "text",
        "id": "SWry5_qi0oEq"
      },
      "source": [
        "## Test Train Split"
      ]
    },
    {
      "cell_type": "code",
      "metadata": {
        "colab_type": "code",
        "id": "omWNQRNX0GRi",
        "colab": {}
      },
      "source": [
        "nyc_df = nyc_df.dropna()\n",
        "np.random.seed(49)\n",
        "nyc_train, nyc_test = train_test_split(nyc_df, test_size=.1, random_state=49)"
      ],
      "execution_count": 0,
      "outputs": []
    },
    {
      "cell_type": "code",
      "metadata": {
        "colab_type": "code",
        "id": "HX-bjBzhuldq",
        "outputId": "452ad9cf-019f-4609-e9cb-d660a49d5a71",
        "colab": {
          "base_uri": "https://localhost:8080/",
          "height": 547
        }
      },
      "source": [
        "nyc_train.head()"
      ],
      "execution_count": 0,
      "outputs": [
        {
          "output_type": "execute_result",
          "data": {
            "text/html": [
              "<div>\n",
              "<style scoped>\n",
              "    .dataframe tbody tr th:only-of-type {\n",
              "        vertical-align: middle;\n",
              "    }\n",
              "\n",
              "    .dataframe tbody tr th {\n",
              "        vertical-align: top;\n",
              "    }\n",
              "\n",
              "    .dataframe thead th {\n",
              "        text-align: right;\n",
              "    }\n",
              "</style>\n",
              "<table border=\"1\" class=\"dataframe\">\n",
              "  <thead>\n",
              "    <tr style=\"text-align: right;\">\n",
              "      <th></th>\n",
              "      <th>Budget Forecast</th>\n",
              "      <th>Project Duration</th>\n",
              "      <th>Schedule Change Norm</th>\n",
              "      <th>Budget Change Norm</th>\n",
              "      <th>Normalized Description</th>\n",
              "      <th>normal_joined</th>\n",
              "      <th>0</th>\n",
              "      <th>1</th>\n",
              "      <th>2</th>\n",
              "      <th>3</th>\n",
              "      <th>4</th>\n",
              "      <th>5</th>\n",
              "      <th>6</th>\n",
              "      <th>7</th>\n",
              "      <th>8</th>\n",
              "      <th>9</th>\n",
              "      <th>10</th>\n",
              "      <th>11</th>\n",
              "      <th>12</th>\n",
              "      <th>13</th>\n",
              "      <th>14</th>\n",
              "      <th>15</th>\n",
              "      <th>16</th>\n",
              "      <th>17</th>\n",
              "      <th>18</th>\n",
              "      <th>19</th>\n",
              "      <th>20</th>\n",
              "      <th>21</th>\n",
              "      <th>22</th>\n",
              "      <th>23</th>\n",
              "      <th>Category_Bridges</th>\n",
              "      <th>Category_Bridges, Streets and Roadways</th>\n",
              "      <th>Category_Ferries</th>\n",
              "      <th>Category_Health and Hospitals</th>\n",
              "      <th>Category_Health and Hospitals, IT</th>\n",
              "      <th>Category_IT</th>\n",
              "      <th>Category_Industrial Development</th>\n",
              "      <th>Category_Industrial Development, Streets and Roadways</th>\n",
              "      <th>Category_Libraries</th>\n",
              "      <th>Category_Other Government Facilities</th>\n",
              "      <th>Category_Parks</th>\n",
              "      <th>Category_Public Safety and Criminal Justice</th>\n",
              "      <th>Category_Sanitation</th>\n",
              "      <th>Category_Schools</th>\n",
              "      <th>Category_Sewers</th>\n",
              "      <th>Category_Streets and Roadways</th>\n",
              "      <th>Category_Wastewater Treatment</th>\n",
              "      <th>Category_Water Supply</th>\n",
              "      <th>Borough_Bronx, Manhattan</th>\n",
              "      <th>Borough_Brooklyn</th>\n",
              "      <th>Borough_Brooklyn, Queens</th>\n",
              "      <th>Borough_Carmel</th>\n",
              "      <th>Borough_Citywide</th>\n",
              "      <th>Borough_Manhattan</th>\n",
              "      <th>Borough_Manhattan, Bronx</th>\n",
              "      <th>Borough_Manhattan, Staten Island</th>\n",
              "      <th>Borough_Manhattan, Staten Island, Bronx</th>\n",
              "      <th>Borough_Manhatten</th>\n",
              "      <th>Borough_New York</th>\n",
              "      <th>Borough_Olive</th>\n",
              "      <th>Borough_Port Jervis</th>\n",
              "      <th>Borough_Queens</th>\n",
              "      <th>Borough_Staten Island</th>\n",
              "      <th>Borough_Upstate</th>\n",
              "      <th>Borough_Valhalla</th>\n",
              "    </tr>\n",
              "  </thead>\n",
              "  <tbody>\n",
              "    <tr>\n",
              "      <th>131</th>\n",
              "      <td>18.118656</td>\n",
              "      <td>7.991592</td>\n",
              "      <td>0.294993</td>\n",
              "      <td>0.573541</td>\n",
              "      <td>[renov, floor, build, creat, new, offic, space...</td>\n",
              "      <td>renov floor build creat new offic space landma...</td>\n",
              "      <td>0.378296</td>\n",
              "      <td>-0.138520</td>\n",
              "      <td>-0.107196</td>\n",
              "      <td>-0.052663</td>\n",
              "      <td>0.212140</td>\n",
              "      <td>-0.029756</td>\n",
              "      <td>0.079618</td>\n",
              "      <td>-0.158910</td>\n",
              "      <td>0.059479</td>\n",
              "      <td>-0.017234</td>\n",
              "      <td>0.115364</td>\n",
              "      <td>0.093085</td>\n",
              "      <td>0.038537</td>\n",
              "      <td>-0.112569</td>\n",
              "      <td>0.105779</td>\n",
              "      <td>0.222975</td>\n",
              "      <td>0.014551</td>\n",
              "      <td>-0.072266</td>\n",
              "      <td>-0.145716</td>\n",
              "      <td>-0.038207</td>\n",
              "      <td>0.058741</td>\n",
              "      <td>-0.118423</td>\n",
              "      <td>0.080090</td>\n",
              "      <td>-0.003207</td>\n",
              "      <td>0</td>\n",
              "      <td>0</td>\n",
              "      <td>0</td>\n",
              "      <td>0</td>\n",
              "      <td>0</td>\n",
              "      <td>0</td>\n",
              "      <td>0</td>\n",
              "      <td>0</td>\n",
              "      <td>0</td>\n",
              "      <td>1</td>\n",
              "      <td>0</td>\n",
              "      <td>0</td>\n",
              "      <td>0</td>\n",
              "      <td>0</td>\n",
              "      <td>0</td>\n",
              "      <td>0</td>\n",
              "      <td>0</td>\n",
              "      <td>0</td>\n",
              "      <td>0</td>\n",
              "      <td>0</td>\n",
              "      <td>0</td>\n",
              "      <td>0</td>\n",
              "      <td>0</td>\n",
              "      <td>1</td>\n",
              "      <td>0</td>\n",
              "      <td>0</td>\n",
              "      <td>0</td>\n",
              "      <td>0</td>\n",
              "      <td>0</td>\n",
              "      <td>0</td>\n",
              "      <td>0</td>\n",
              "      <td>0</td>\n",
              "      <td>0</td>\n",
              "      <td>0</td>\n",
              "      <td>0</td>\n",
              "    </tr>\n",
              "    <tr>\n",
              "      <th>234</th>\n",
              "      <td>17.087662</td>\n",
              "      <td>7.728856</td>\n",
              "      <td>0.007039</td>\n",
              "      <td>0.000000</td>\n",
              "      <td>[new, utrech, branch, librari, comprehens, int...</td>\n",
              "      <td>new utrech branch librari comprehens interior ...</td>\n",
              "      <td>0.346316</td>\n",
              "      <td>-0.120321</td>\n",
              "      <td>-0.029050</td>\n",
              "      <td>-0.119622</td>\n",
              "      <td>0.172621</td>\n",
              "      <td>-0.045770</td>\n",
              "      <td>0.219152</td>\n",
              "      <td>-0.070200</td>\n",
              "      <td>0.031910</td>\n",
              "      <td>-0.053595</td>\n",
              "      <td>0.103832</td>\n",
              "      <td>-0.037877</td>\n",
              "      <td>-0.187786</td>\n",
              "      <td>0.321802</td>\n",
              "      <td>0.016271</td>\n",
              "      <td>0.097162</td>\n",
              "      <td>-0.049536</td>\n",
              "      <td>-0.060704</td>\n",
              "      <td>-0.174212</td>\n",
              "      <td>-0.059270</td>\n",
              "      <td>-0.015130</td>\n",
              "      <td>-0.233745</td>\n",
              "      <td>0.035537</td>\n",
              "      <td>-0.014803</td>\n",
              "      <td>0</td>\n",
              "      <td>0</td>\n",
              "      <td>0</td>\n",
              "      <td>0</td>\n",
              "      <td>0</td>\n",
              "      <td>0</td>\n",
              "      <td>0</td>\n",
              "      <td>0</td>\n",
              "      <td>1</td>\n",
              "      <td>0</td>\n",
              "      <td>0</td>\n",
              "      <td>0</td>\n",
              "      <td>0</td>\n",
              "      <td>0</td>\n",
              "      <td>0</td>\n",
              "      <td>0</td>\n",
              "      <td>0</td>\n",
              "      <td>0</td>\n",
              "      <td>0</td>\n",
              "      <td>0</td>\n",
              "      <td>0</td>\n",
              "      <td>0</td>\n",
              "      <td>0</td>\n",
              "      <td>0</td>\n",
              "      <td>0</td>\n",
              "      <td>0</td>\n",
              "      <td>0</td>\n",
              "      <td>0</td>\n",
              "      <td>0</td>\n",
              "      <td>0</td>\n",
              "      <td>0</td>\n",
              "      <td>0</td>\n",
              "      <td>0</td>\n",
              "      <td>0</td>\n",
              "      <td>0</td>\n",
              "    </tr>\n",
              "    <tr>\n",
              "      <th>67</th>\n",
              "      <td>17.482732</td>\n",
              "      <td>7.991254</td>\n",
              "      <td>0.276142</td>\n",
              "      <td>0.581585</td>\n",
              "      <td>[distribut, water, main, replac, long, island,...</td>\n",
              "      <td>distribut water main replac long island citi a...</td>\n",
              "      <td>-0.186727</td>\n",
              "      <td>0.108182</td>\n",
              "      <td>0.173693</td>\n",
              "      <td>0.197071</td>\n",
              "      <td>0.190822</td>\n",
              "      <td>0.157678</td>\n",
              "      <td>0.118588</td>\n",
              "      <td>0.026589</td>\n",
              "      <td>-0.178516</td>\n",
              "      <td>-0.070209</td>\n",
              "      <td>-0.059320</td>\n",
              "      <td>-0.009551</td>\n",
              "      <td>0.070407</td>\n",
              "      <td>-0.101742</td>\n",
              "      <td>0.054396</td>\n",
              "      <td>-0.075446</td>\n",
              "      <td>0.141754</td>\n",
              "      <td>0.232974</td>\n",
              "      <td>0.038761</td>\n",
              "      <td>0.133928</td>\n",
              "      <td>0.029936</td>\n",
              "      <td>-0.053989</td>\n",
              "      <td>0.089543</td>\n",
              "      <td>-0.094240</td>\n",
              "      <td>0</td>\n",
              "      <td>0</td>\n",
              "      <td>0</td>\n",
              "      <td>0</td>\n",
              "      <td>0</td>\n",
              "      <td>0</td>\n",
              "      <td>0</td>\n",
              "      <td>0</td>\n",
              "      <td>0</td>\n",
              "      <td>0</td>\n",
              "      <td>0</td>\n",
              "      <td>0</td>\n",
              "      <td>0</td>\n",
              "      <td>0</td>\n",
              "      <td>0</td>\n",
              "      <td>0</td>\n",
              "      <td>0</td>\n",
              "      <td>1</td>\n",
              "      <td>0</td>\n",
              "      <td>0</td>\n",
              "      <td>0</td>\n",
              "      <td>0</td>\n",
              "      <td>0</td>\n",
              "      <td>0</td>\n",
              "      <td>0</td>\n",
              "      <td>0</td>\n",
              "      <td>0</td>\n",
              "      <td>0</td>\n",
              "      <td>0</td>\n",
              "      <td>0</td>\n",
              "      <td>0</td>\n",
              "      <td>1</td>\n",
              "      <td>0</td>\n",
              "      <td>0</td>\n",
              "      <td>0</td>\n",
              "    </tr>\n",
              "    <tr>\n",
              "      <th>96</th>\n",
              "      <td>18.621133</td>\n",
              "      <td>7.784889</td>\n",
              "      <td>0.298253</td>\n",
              "      <td>-0.023311</td>\n",
              "      <td>[emerg, contract, restor, electr, mechan, syst...</td>\n",
              "      <td>emerg contract restor electr mechan system mov...</td>\n",
              "      <td>0.262255</td>\n",
              "      <td>-0.007899</td>\n",
              "      <td>-0.110794</td>\n",
              "      <td>0.423937</td>\n",
              "      <td>-0.208064</td>\n",
              "      <td>0.047134</td>\n",
              "      <td>-0.058309</td>\n",
              "      <td>0.049046</td>\n",
              "      <td>0.166959</td>\n",
              "      <td>0.137691</td>\n",
              "      <td>-0.203358</td>\n",
              "      <td>-0.063611</td>\n",
              "      <td>0.068899</td>\n",
              "      <td>0.063102</td>\n",
              "      <td>-0.066053</td>\n",
              "      <td>-0.002537</td>\n",
              "      <td>-0.138939</td>\n",
              "      <td>0.149222</td>\n",
              "      <td>0.093904</td>\n",
              "      <td>0.023811</td>\n",
              "      <td>0.022239</td>\n",
              "      <td>-0.053192</td>\n",
              "      <td>0.095802</td>\n",
              "      <td>0.117870</td>\n",
              "      <td>1</td>\n",
              "      <td>0</td>\n",
              "      <td>0</td>\n",
              "      <td>0</td>\n",
              "      <td>0</td>\n",
              "      <td>0</td>\n",
              "      <td>0</td>\n",
              "      <td>0</td>\n",
              "      <td>0</td>\n",
              "      <td>0</td>\n",
              "      <td>0</td>\n",
              "      <td>0</td>\n",
              "      <td>0</td>\n",
              "      <td>0</td>\n",
              "      <td>0</td>\n",
              "      <td>0</td>\n",
              "      <td>0</td>\n",
              "      <td>0</td>\n",
              "      <td>0</td>\n",
              "      <td>0</td>\n",
              "      <td>0</td>\n",
              "      <td>0</td>\n",
              "      <td>0</td>\n",
              "      <td>0</td>\n",
              "      <td>0</td>\n",
              "      <td>0</td>\n",
              "      <td>0</td>\n",
              "      <td>0</td>\n",
              "      <td>0</td>\n",
              "      <td>0</td>\n",
              "      <td>0</td>\n",
              "      <td>0</td>\n",
              "      <td>0</td>\n",
              "      <td>0</td>\n",
              "      <td>0</td>\n",
              "    </tr>\n",
              "    <tr>\n",
              "      <th>156</th>\n",
              "      <td>18.629166</td>\n",
              "      <td>7.820841</td>\n",
              "      <td>0.488764</td>\n",
              "      <td>0.371251</td>\n",
              "      <td>[design, construct, new, ferri, land, ferri, l...</td>\n",
              "      <td>design construct new ferri land ferri land upg...</td>\n",
              "      <td>0.335517</td>\n",
              "      <td>-0.023815</td>\n",
              "      <td>0.125545</td>\n",
              "      <td>-0.061789</td>\n",
              "      <td>0.368317</td>\n",
              "      <td>0.107447</td>\n",
              "      <td>-0.056860</td>\n",
              "      <td>0.004022</td>\n",
              "      <td>0.017578</td>\n",
              "      <td>-0.048315</td>\n",
              "      <td>0.024662</td>\n",
              "      <td>0.055928</td>\n",
              "      <td>0.201957</td>\n",
              "      <td>-0.041661</td>\n",
              "      <td>0.141830</td>\n",
              "      <td>0.065463</td>\n",
              "      <td>-0.014643</td>\n",
              "      <td>-0.065926</td>\n",
              "      <td>0.070263</td>\n",
              "      <td>0.023379</td>\n",
              "      <td>-0.024728</td>\n",
              "      <td>0.008045</td>\n",
              "      <td>0.079715</td>\n",
              "      <td>-0.001313</td>\n",
              "      <td>0</td>\n",
              "      <td>0</td>\n",
              "      <td>1</td>\n",
              "      <td>0</td>\n",
              "      <td>0</td>\n",
              "      <td>0</td>\n",
              "      <td>0</td>\n",
              "      <td>0</td>\n",
              "      <td>0</td>\n",
              "      <td>0</td>\n",
              "      <td>0</td>\n",
              "      <td>0</td>\n",
              "      <td>0</td>\n",
              "      <td>0</td>\n",
              "      <td>0</td>\n",
              "      <td>0</td>\n",
              "      <td>0</td>\n",
              "      <td>0</td>\n",
              "      <td>0</td>\n",
              "      <td>0</td>\n",
              "      <td>0</td>\n",
              "      <td>0</td>\n",
              "      <td>1</td>\n",
              "      <td>0</td>\n",
              "      <td>0</td>\n",
              "      <td>0</td>\n",
              "      <td>0</td>\n",
              "      <td>0</td>\n",
              "      <td>0</td>\n",
              "      <td>0</td>\n",
              "      <td>0</td>\n",
              "      <td>0</td>\n",
              "      <td>0</td>\n",
              "      <td>0</td>\n",
              "      <td>0</td>\n",
              "    </tr>\n",
              "  </tbody>\n",
              "</table>\n",
              "</div>"
            ],
            "text/plain": [
              "     Budget Forecast  Project Duration  ...  Borough_Upstate  Borough_Valhalla\n",
              "131        18.118656          7.991592  ...                0                 0\n",
              "234        17.087662          7.728856  ...                0                 0\n",
              "67         17.482732          7.991254  ...                0                 0\n",
              "96         18.621133          7.784889  ...                0                 0\n",
              "156        18.629166          7.820841  ...                0                 0\n",
              "\n",
              "[5 rows x 65 columns]"
            ]
          },
          "metadata": {
            "tags": []
          },
          "execution_count": 18
        }
      ]
    },
    {
      "cell_type": "code",
      "metadata": {
        "colab_type": "code",
        "id": "KEG0WWcjuqfp",
        "outputId": "5b8ee40f-334a-4799-f49b-64dc3e0c0d42",
        "colab": {
          "base_uri": "https://localhost:8080/",
          "height": 724
        }
      },
      "source": [
        "qual_columns = ['Project Duration',\t'Schedule Change Norm',\n",
        "                'Budget Change Norm',\t'Budget Forecast']\t\n",
        "#scatter_matrix(nyc_train[qual_columns].sample(frac=0.4, axis=0),alpha=0.5, figsize=(25,20));\n",
        "plt_df = nyc_train.copy()\n",
        "sns.set(style=\"ticks\")\n",
        "sns.pairplot(plt_df[qual_columns])"
      ],
      "execution_count": 0,
      "outputs": [
        {
          "output_type": "execute_result",
          "data": {
            "text/plain": [
              "<seaborn.axisgrid.PairGrid at 0x7ff5b61c1978>"
            ]
          },
          "metadata": {
            "tags": []
          },
          "execution_count": 19
        },
        {
          "output_type": "display_data",
          "data": {
            "image/png": "[encoded data removed]",
            "text/plain": [
              "<Figure size 720x720 with 20 Axes>"
            ]
          },
          "metadata": {
            "tags": []
          }
        }
      ]
    },
    {
      "cell_type": "code",
      "metadata": {
        "colab_type": "code",
        "id": "ppDU4cR9SMOB",
        "outputId": "123cce5a-7141-49ba-a5d8-cbdfb3d868e7",
        "colab": {
          "base_uri": "https://localhost:8080/",
          "height": 224
        }
      },
      "source": [
        "nyc_train[qual_columns].corr()"
      ],
      "execution_count": 0,
      "outputs": [
        {
          "output_type": "execute_result",
          "data": {
            "text/html": [
              "<div>\n",
              "<style scoped>\n",
              "    .dataframe tbody tr th:only-of-type {\n",
              "        vertical-align: middle;\n",
              "    }\n",
              "\n",
              "    .dataframe tbody tr th {\n",
              "        vertical-align: top;\n",
              "    }\n",
              "\n",
              "    .dataframe thead th {\n",
              "        text-align: right;\n",
              "    }\n",
              "</style>\n",
              "<table border=\"1\" class=\"dataframe\">\n",
              "  <thead>\n",
              "    <tr style=\"text-align: right;\">\n",
              "      <th></th>\n",
              "      <th>Project Duration</th>\n",
              "      <th>Schedule Change Norm</th>\n",
              "      <th>Budget Change Norm</th>\n",
              "      <th>Budget Forecast</th>\n",
              "    </tr>\n",
              "  </thead>\n",
              "  <tbody>\n",
              "    <tr>\n",
              "      <th>Project Duration</th>\n",
              "      <td>1.000000</td>\n",
              "      <td>0.199344</td>\n",
              "      <td>0.130919</td>\n",
              "      <td>0.359923</td>\n",
              "    </tr>\n",
              "    <tr>\n",
              "      <th>Schedule Change Norm</th>\n",
              "      <td>0.199344</td>\n",
              "      <td>1.000000</td>\n",
              "      <td>0.052088</td>\n",
              "      <td>0.088461</td>\n",
              "    </tr>\n",
              "    <tr>\n",
              "      <th>Budget Change Norm</th>\n",
              "      <td>0.130919</td>\n",
              "      <td>0.052088</td>\n",
              "      <td>1.000000</td>\n",
              "      <td>0.230264</td>\n",
              "    </tr>\n",
              "    <tr>\n",
              "      <th>Budget Forecast</th>\n",
              "      <td>0.359923</td>\n",
              "      <td>0.088461</td>\n",
              "      <td>0.230264</td>\n",
              "      <td>1.000000</td>\n",
              "    </tr>\n",
              "  </tbody>\n",
              "</table>\n",
              "</div>"
            ],
            "text/plain": [
              "                      Project Duration  ...  Budget Forecast\n",
              "Project Duration              1.000000  ...         0.359923\n",
              "Schedule Change Norm          0.199344  ...         0.088461\n",
              "Budget Change Norm            0.130919  ...         0.230264\n",
              "Budget Forecast               0.359923  ...         1.000000\n",
              "\n",
              "[4 rows x 4 columns]"
            ]
          },
          "metadata": {
            "tags": []
          },
          "execution_count": 20
        }
      ]
    },
    {
      "cell_type": "code",
      "metadata": {
        "colab_type": "code",
        "id": "pXYR6nzsUd3o",
        "outputId": "b88681a4-b923-4d5c-bcf6-11c6242c2625",
        "colab": {
          "base_uri": "https://localhost:8080/",
          "height": 602
        }
      },
      "source": [
        "fig = plt.figure(figsize=(10, 7))\n",
        "plt.matshow(nyc_train[qual_columns].corr(), fignum=fig.number)\n",
        "plt.xticks(range(len(qual_columns)), qual_columns, fontsize=14, rotation=90)\n",
        "plt.yticks(range(len(qual_columns)), qual_columns, fontsize=14)\n",
        "cb = plt.colorbar()\n",
        "cb.ax.tick_params(labelsize=14)\n",
        "plt.title('Correlation Matrix', fontsize=16);"
      ],
      "execution_count": 0,
      "outputs": [
        {
          "output_type": "display_data",
          "data": {
            "image/png": "[encoded data removed]",
            "text/plain": [
              "<Figure size 720x504 with 2 Axes>"
            ]
          },
          "metadata": {
            "tags": []
          }
        }
      ]
    },
    {
      "cell_type": "markdown",
      "metadata": {
        "colab_type": "text",
        "id": "1Ht1_npw0oE4"
      },
      "source": [
        "# Regression - Linear Regression, Lasso, Ridge and Bagging Model"
      ]
    },
    {
      "cell_type": "markdown",
      "metadata": {
        "id": "B7LWsmJzQLC6",
        "colab_type": "text"
      },
      "source": [
        "The first set of methods are for Budget Change Model. Then, we have Schedule Change Model."
      ]
    },
    {
      "cell_type": "markdown",
      "metadata": {
        "colab_type": "text",
        "id": "UWI4PGhW3ES9"
      },
      "source": [
        "### Budget Change Model"
      ]
    },
    {
      "cell_type": "markdown",
      "metadata": {
        "colab_type": "text",
        "id": "sBP64jkP5u--"
      },
      "source": [
        "##### Training and Test Data"
      ]
    },
    {
      "cell_type": "code",
      "metadata": {
        "colab_type": "code",
        "id": "oVtJ7lXivyul",
        "colab": {}
      },
      "source": [
        "# Y = \"Budget Change Norm\"\n",
        "# X = \"Schedule Change Norm\" and \"Budget Forecast\"\n",
        "#      Dropped \"Project Duration\" from X because of its multi-collinearity with \n",
        "#      \"Budget Forecast\" - determined by VIF\n",
        "\n",
        "nyc_train_trunc = nyc_train.copy()\n",
        "#nyc_train_trunc = nyc_train_trunc[qual_columns]\n",
        "y_train = (nyc_train_trunc['Budget Change Norm'])\n",
        "X_train = nyc_train_trunc.drop(['Budget Change Norm', 'Project Duration'], axis=1)\n",
        "\n",
        "# Remove redundant columns: found through VIF (multi-collinearity analysis)\n",
        "drop_mc_columns = ['Category_Health and Hospitals, IT', 'Category_IT', 'Category_Industrial Development, Parks',\n",
        "                   'Category_Industrial Development, Streets and Roadways', 'Category_Libraries', \n",
        "                   'Borough_Brooklyn, Queens','Borough_Manhattan, Staten Island, Bronx', 'Borough_Olive',\n",
        "                   'Borough_Marlboro', 'Borough_Port Jervis', 'Borough_New York', \n",
        "                   'Borough_Carmel','Category_Streets and Roadways', \n",
        "                   'Normalized Description', 'normal_joined']\n",
        "X_train = X_train.drop(drop_mc_columns, axis=1, errors='ignore')\n",
        "\n",
        "# Test Data\n",
        "nyc_test_trunc = nyc_test.copy()\n",
        "#nyc_test_trunc = nyc_test_trunc[qual_columns]\n",
        "y_test = nyc_test_trunc['Budget Change Norm']\n",
        "X_test = nyc_test_trunc.drop(['Budget Change Norm', 'Project Duration'], axis=1)\n",
        "X_test = X_test.drop(drop_mc_columns, axis=1, errors='ignore')\n",
        "\n",
        "# No need for polynomial interactions - doesn't improve test/training score\n",
        "# Overfitting - not enough data\n",
        "#--- poly = PolynomialFeatures(interaction_only=True,include_bias = False)\n",
        "#--- X_train = poly.fit_transform(X_train)\n",
        "\n",
        "# No need for increasing polynomial terms - decreases the test scores\n",
        "# Overfitting - not enough data\n",
        "#--- X_train['Budget_2T'] = X_train['Budget Forecast'] * X_train['Budget Forecast']\n",
        "#--- X_train['Budget_3T'] = X_train['Schedule Change Norm'] * X_train['Budget Forecast']\n",
        "#--- X_train['Project_2T'] = X_train['Project Duration'] * X_train['Project Duration']"
      ],
      "execution_count": 0,
      "outputs": []
    },
    {
      "cell_type": "markdown",
      "metadata": {
        "colab_type": "text",
        "id": "QPBc3yG63J25"
      },
      "source": [
        "#### Linear Regression and RidgeCV"
      ]
    },
    {
      "cell_type": "code",
      "metadata": {
        "colab_type": "code",
        "id": "5yhPOlRK3BsB",
        "outputId": "efc1a0d9-4e6f-4b86-d5ff-766cbb6d0b18",
        "colab": {
          "base_uri": "https://localhost:8080/",
          "height": 71
        }
      },
      "source": [
        "np.random.seed(49)\n",
        "lr_cost_model = LinearRegression().fit(X_train, y_train)\n",
        "lr_cost_model.score(X_train, y_train)\n",
        "alphas = (0.1, 0.5,1,5,10,50,100)\n",
        "ridge_cost_model = RidgeCV(alphas=alphas, cv=20).fit(X_train, y_train)\n",
        "lasso_cost_model = LassoCV(alphas=alphas, max_iter=100000).fit(X_train, y_train)\n",
        "\n",
        "print(f'LinearRegression training score: {lr_cost_model.score(X_train, y_train)}')\n",
        "print(f'Lasso training score: {lasso_cost_model.score(X_train, y_train)}')\n",
        "print(f'Ridge training score: {ridge_cost_model.score(X_train, y_train)}')"
      ],
      "execution_count": 0,
      "outputs": [
        {
          "output_type": "stream",
          "text": [
            "LinearRegression training score: 0.3508152218976963\n",
            "Lasso training score: 0.0\n",
            "Ridge training score: 0.08925568174091969\n"
          ],
          "name": "stdout"
        }
      ]
    },
    {
      "cell_type": "code",
      "metadata": {
        "colab_type": "code",
        "id": "N9lOwIaNn02E",
        "outputId": "c33d4721-041f-48fc-8a7c-c3a82af52fac",
        "colab": {
          "base_uri": "https://localhost:8080/",
          "height": 71
        }
      },
      "source": [
        "testr2 = lr_cost_model.score(X_test, y_test)\n",
        "print(f'LinearRegression test score: {lr_cost_model.score(X_test, y_test)}')\n",
        "print(f'Lasso test score: {lasso_cost_model.score(X_test, y_test)}')\n",
        "print(f'Ridge test score: {ridge_cost_model.score(X_test, y_test)}')"
      ],
      "execution_count": 0,
      "outputs": [
        {
          "output_type": "stream",
          "text": [
            "LinearRegression test score: 0.1856143789034067\n",
            "Lasso test score: -0.0028014606265251984\n",
            "Ridge test score: 0.12581520844023852\n"
          ],
          "name": "stdout"
        }
      ]
    },
    {
      "cell_type": "code",
      "metadata": {
        "colab_type": "code",
        "id": "xT5A4yP90oE-",
        "outputId": "0d26ea18-bf93-4585-8d99-c5fc8257b281",
        "colab": {
          "base_uri": "https://localhost:8080/",
          "height": 35
        }
      },
      "source": [
        "print(f'The best test r-squared value so far is {testr2}')"
      ],
      "execution_count": 0,
      "outputs": [
        {
          "output_type": "stream",
          "text": [
            "The best test r-squared value so far is 0.1856143789034067\n"
          ],
          "name": "stdout"
        }
      ]
    },
    {
      "cell_type": "markdown",
      "metadata": {
        "colab_type": "text",
        "id": "gDaBv8wl0oFC"
      },
      "source": [
        "### Bagging Techniques"
      ]
    },
    {
      "cell_type": "code",
      "metadata": {
        "colab_type": "code",
        "id": "rpi_PvG75yz3",
        "outputId": "78b4d173-5687-4b8c-d0a5-a04a6ceaaa4f",
        "colab": {
          "base_uri": "https://localhost:8080/",
          "height": 53
        }
      },
      "source": [
        "# BAGGING TECHNIQUES\n",
        "num_bags = 10\n",
        "np.random.seed(49)\n",
        "bagging_train = np.zeros((X_train.shape[0], num_bags))\n",
        "bagging_test = np.zeros((X_test.shape[0], num_bags))\n",
        "bagging_models = []\n",
        "for i in range(num_bags):\n",
        "  bootstrapped_X, bootstrapped_y = resample(X_train, y_train)\n",
        "  fitted_model = RidgeCV(alphas=alphas,normalize=True, cv=5).fit(bootstrapped_X, bootstrapped_y)\n",
        "  bagging_models.append(fitted_model)\n",
        "  bagging_train[:,i] = fitted_model.predict(X_train)\n",
        "  bagging_test[:,i] = fitted_model.predict(X_test)\n",
        "\n",
        "bagging_train_predicts = np.mean(bagging_train[:,:], axis=1)\n",
        "bagging_test_predicts = np.mean(bagging_test[:,:], axis=1)\n",
        "print(f'Training score: {mean_squared_error(y_train, bagging_train_predicts)}')\n",
        "print(f'Test score: {mean_squared_error(y_test, bagging_test_predicts)}')"
      ],
      "execution_count": 0,
      "outputs": [
        {
          "output_type": "stream",
          "text": [
            "Training score: 0.0785856500155037\n",
            "Test score: 0.25858098906775556\n"
          ],
          "name": "stdout"
        }
      ]
    },
    {
      "cell_type": "code",
      "metadata": {
        "colab_type": "code",
        "id": "KaIEiu2KnUTx",
        "outputId": "7de6bc0e-db45-45aa-c3f7-b098438769f5",
        "colab": {
          "base_uri": "https://localhost:8080/",
          "height": 1000
        }
      },
      "source": [
        "X_train_ols = sm.add_constant(X_train)\n",
        "results = OLS(y_train, X_train_ols).fit()\n",
        "results.summary()"
      ],
      "execution_count": 0,
      "outputs": [
        {
          "output_type": "execute_result",
          "data": {
            "text/html": [
              "<table class=\"simpletable\">\n",
              "<caption>OLS Regression Results</caption>\n",
              "<tr>\n",
              "  <th>Dep. Variable:</th>    <td>Budget Change Norm</td> <th>  R-squared:         </th> <td>   0.351</td>\n",
              "</tr>\n",
              "<tr>\n",
              "  <th>Model:</th>                    <td>OLS</td>        <th>  Adj. R-squared:    </th> <td>   0.143</td>\n",
              "</tr>\n",
              "<tr>\n",
              "  <th>Method:</th>              <td>Least Squares</td>   <th>  F-statistic:       </th> <td>   1.686</td>\n",
              "</tr>\n",
              "<tr>\n",
              "  <th>Date:</th>              <td>Sun, 10 May 2020</td>  <th>  Prob (F-statistic):</th>  <td>0.00817</td>\n",
              "</tr>\n",
              "<tr>\n",
              "  <th>Time:</th>                  <td>00:55:17</td>      <th>  Log-Likelihood:    </th> <td> -12.977</td>\n",
              "</tr>\n",
              "<tr>\n",
              "  <th>No. Observations:</th>       <td>   207</td>       <th>  AIC:               </th> <td>   128.0</td>\n",
              "</tr>\n",
              "<tr>\n",
              "  <th>Df Residuals:</th>           <td>   156</td>       <th>  BIC:               </th> <td>   297.9</td>\n",
              "</tr>\n",
              "<tr>\n",
              "  <th>Df Model:</th>               <td>    50</td>       <th>                     </th>     <td> </td>   \n",
              "</tr>\n",
              "<tr>\n",
              "  <th>Covariance Type:</th>       <td>nonrobust</td>     <th>                     </th>     <td> </td>   \n",
              "</tr>\n",
              "</table>\n",
              "<table class=\"simpletable\">\n",
              "<tr>\n",
              "                       <td></td>                          <th>coef</th>     <th>std err</th>      <th>t</th>      <th>P>|t|</th>  <th>[0.025</th>    <th>0.975]</th>  \n",
              "</tr>\n",
              "<tr>\n",
              "  <th>const</th>                                       <td>   -1.3590</td> <td>    0.671</td> <td>   -2.025</td> <td> 0.045</td> <td>   -2.685</td> <td>   -0.033</td>\n",
              "</tr>\n",
              "<tr>\n",
              "  <th>Budget Forecast</th>                             <td>    0.0865</td> <td>    0.037</td> <td>    2.312</td> <td> 0.022</td> <td>    0.013</td> <td>    0.160</td>\n",
              "</tr>\n",
              "<tr>\n",
              "  <th>Schedule Change Norm</th>                        <td>    0.0430</td> <td>    0.121</td> <td>    0.356</td> <td> 0.722</td> <td>   -0.196</td> <td>    0.282</td>\n",
              "</tr>\n",
              "<tr>\n",
              "  <th>0</th>                                           <td>    0.1865</td> <td>    0.184</td> <td>    1.014</td> <td> 0.312</td> <td>   -0.177</td> <td>    0.550</td>\n",
              "</tr>\n",
              "<tr>\n",
              "  <th>1</th>                                           <td>    0.3096</td> <td>    0.183</td> <td>    1.693</td> <td> 0.093</td> <td>   -0.052</td> <td>    0.671</td>\n",
              "</tr>\n",
              "<tr>\n",
              "  <th>2</th>                                           <td>    0.3048</td> <td>    0.194</td> <td>    1.575</td> <td> 0.117</td> <td>   -0.077</td> <td>    0.687</td>\n",
              "</tr>\n",
              "<tr>\n",
              "  <th>3</th>                                           <td>   -0.4788</td> <td>    0.191</td> <td>   -2.504</td> <td> 0.013</td> <td>   -0.856</td> <td>   -0.101</td>\n",
              "</tr>\n",
              "<tr>\n",
              "  <th>4</th>                                           <td>   -0.3231</td> <td>    0.161</td> <td>   -2.002</td> <td> 0.047</td> <td>   -0.642</td> <td>   -0.004</td>\n",
              "</tr>\n",
              "<tr>\n",
              "  <th>5</th>                                           <td>   -0.1187</td> <td>    0.187</td> <td>   -0.634</td> <td> 0.527</td> <td>   -0.488</td> <td>    0.251</td>\n",
              "</tr>\n",
              "<tr>\n",
              "  <th>6</th>                                           <td>    0.0715</td> <td>    0.188</td> <td>    0.381</td> <td> 0.704</td> <td>   -0.299</td> <td>    0.442</td>\n",
              "</tr>\n",
              "<tr>\n",
              "  <th>7</th>                                           <td>    0.0266</td> <td>    0.188</td> <td>    0.142</td> <td> 0.888</td> <td>   -0.345</td> <td>    0.398</td>\n",
              "</tr>\n",
              "<tr>\n",
              "  <th>8</th>                                           <td>   -0.7037</td> <td>    0.201</td> <td>   -3.507</td> <td> 0.001</td> <td>   -1.100</td> <td>   -0.307</td>\n",
              "</tr>\n",
              "<tr>\n",
              "  <th>9</th>                                           <td>   -0.0780</td> <td>    0.200</td> <td>   -0.390</td> <td> 0.697</td> <td>   -0.473</td> <td>    0.317</td>\n",
              "</tr>\n",
              "<tr>\n",
              "  <th>10</th>                                          <td>   -0.0405</td> <td>    0.207</td> <td>   -0.195</td> <td> 0.846</td> <td>   -0.450</td> <td>    0.369</td>\n",
              "</tr>\n",
              "<tr>\n",
              "  <th>11</th>                                          <td>   -0.4333</td> <td>    0.247</td> <td>   -1.756</td> <td> 0.081</td> <td>   -0.921</td> <td>    0.054</td>\n",
              "</tr>\n",
              "<tr>\n",
              "  <th>12</th>                                          <td>   -0.0702</td> <td>    0.215</td> <td>   -0.327</td> <td> 0.744</td> <td>   -0.494</td> <td>    0.354</td>\n",
              "</tr>\n",
              "<tr>\n",
              "  <th>13</th>                                          <td>   -0.7240</td> <td>    0.243</td> <td>   -2.978</td> <td> 0.003</td> <td>   -1.204</td> <td>   -0.244</td>\n",
              "</tr>\n",
              "<tr>\n",
              "  <th>14</th>                                          <td>    0.1670</td> <td>    0.247</td> <td>    0.676</td> <td> 0.500</td> <td>   -0.321</td> <td>    0.655</td>\n",
              "</tr>\n",
              "<tr>\n",
              "  <th>15</th>                                          <td>   -0.2360</td> <td>    0.226</td> <td>   -1.042</td> <td> 0.299</td> <td>   -0.683</td> <td>    0.211</td>\n",
              "</tr>\n",
              "<tr>\n",
              "  <th>16</th>                                          <td>   -0.0005</td> <td>    0.242</td> <td>   -0.002</td> <td> 0.998</td> <td>   -0.478</td> <td>    0.477</td>\n",
              "</tr>\n",
              "<tr>\n",
              "  <th>17</th>                                          <td>   -0.1727</td> <td>    0.242</td> <td>   -0.713</td> <td> 0.477</td> <td>   -0.651</td> <td>    0.306</td>\n",
              "</tr>\n",
              "<tr>\n",
              "  <th>18</th>                                          <td>   -0.1959</td> <td>    0.222</td> <td>   -0.884</td> <td> 0.378</td> <td>   -0.633</td> <td>    0.242</td>\n",
              "</tr>\n",
              "<tr>\n",
              "  <th>19</th>                                          <td>    0.1456</td> <td>    0.241</td> <td>    0.603</td> <td> 0.547</td> <td>   -0.331</td> <td>    0.622</td>\n",
              "</tr>\n",
              "<tr>\n",
              "  <th>20</th>                                          <td>    0.3312</td> <td>    0.266</td> <td>    1.247</td> <td> 0.214</td> <td>   -0.193</td> <td>    0.856</td>\n",
              "</tr>\n",
              "<tr>\n",
              "  <th>21</th>                                          <td>    0.1233</td> <td>    0.270</td> <td>    0.456</td> <td> 0.649</td> <td>   -0.410</td> <td>    0.657</td>\n",
              "</tr>\n",
              "<tr>\n",
              "  <th>22</th>                                          <td>    0.1281</td> <td>    0.267</td> <td>    0.480</td> <td> 0.632</td> <td>   -0.399</td> <td>    0.655</td>\n",
              "</tr>\n",
              "<tr>\n",
              "  <th>23</th>                                          <td>   -0.1378</td> <td>    0.286</td> <td>   -0.483</td> <td> 0.630</td> <td>   -0.702</td> <td>    0.426</td>\n",
              "</tr>\n",
              "<tr>\n",
              "  <th>Category_Bridges</th>                            <td>   -0.2312</td> <td>    0.132</td> <td>   -1.752</td> <td> 0.082</td> <td>   -0.492</td> <td>    0.029</td>\n",
              "</tr>\n",
              "<tr>\n",
              "  <th>Category_Bridges, Streets and Roadways</th>      <td>   -0.0161</td> <td>    0.121</td> <td>   -0.133</td> <td> 0.894</td> <td>   -0.255</td> <td>    0.223</td>\n",
              "</tr>\n",
              "<tr>\n",
              "  <th>Category_Ferries</th>                            <td>    0.1160</td> <td>    0.209</td> <td>    0.554</td> <td> 0.580</td> <td>   -0.298</td> <td>    0.530</td>\n",
              "</tr>\n",
              "<tr>\n",
              "  <th>Category_Health and Hospitals</th>               <td>   -0.2000</td> <td>    0.186</td> <td>   -1.077</td> <td> 0.283</td> <td>   -0.567</td> <td>    0.167</td>\n",
              "</tr>\n",
              "<tr>\n",
              "  <th>Category_Industrial Development</th>             <td>   -0.0327</td> <td>    0.089</td> <td>   -0.366</td> <td> 0.715</td> <td>   -0.209</td> <td>    0.144</td>\n",
              "</tr>\n",
              "<tr>\n",
              "  <th>Category_Other Government Facilities</th>        <td>    0.1007</td> <td>    0.135</td> <td>    0.743</td> <td> 0.459</td> <td>   -0.167</td> <td>    0.368</td>\n",
              "</tr>\n",
              "<tr>\n",
              "  <th>Category_Parks</th>                              <td>   -0.4111</td> <td>    0.219</td> <td>   -1.877</td> <td> 0.062</td> <td>   -0.844</td> <td>    0.022</td>\n",
              "</tr>\n",
              "<tr>\n",
              "  <th>Category_Public Safety and Criminal Justice</th> <td>    0.1587</td> <td>    0.161</td> <td>    0.984</td> <td> 0.327</td> <td>   -0.160</td> <td>    0.477</td>\n",
              "</tr>\n",
              "<tr>\n",
              "  <th>Category_Sanitation</th>                         <td>   -0.0680</td> <td>    0.207</td> <td>   -0.328</td> <td> 0.743</td> <td>   -0.477</td> <td>    0.341</td>\n",
              "</tr>\n",
              "<tr>\n",
              "  <th>Category_Schools</th>                            <td>   -0.8444</td> <td>    0.317</td> <td>   -2.660</td> <td> 0.009</td> <td>   -1.471</td> <td>   -0.217</td>\n",
              "</tr>\n",
              "<tr>\n",
              "  <th>Category_Sewers</th>                             <td>   -0.1104</td> <td>    0.120</td> <td>   -0.917</td> <td> 0.361</td> <td>   -0.348</td> <td>    0.128</td>\n",
              "</tr>\n",
              "<tr>\n",
              "  <th>Category_Wastewater Treatment</th>               <td>   -0.0356</td> <td>    0.115</td> <td>   -0.311</td> <td> 0.756</td> <td>   -0.262</td> <td>    0.191</td>\n",
              "</tr>\n",
              "<tr>\n",
              "  <th>Category_Water Supply</th>                       <td>   -0.1869</td> <td>    0.133</td> <td>   -1.405</td> <td> 0.162</td> <td>   -0.450</td> <td>    0.076</td>\n",
              "</tr>\n",
              "<tr>\n",
              "  <th>Borough_Bronx, Manhattan</th>                    <td>    0.4628</td> <td>    0.329</td> <td>    1.406</td> <td> 0.162</td> <td>   -0.187</td> <td>    1.113</td>\n",
              "</tr>\n",
              "<tr>\n",
              "  <th>Borough_Brooklyn</th>                            <td>    0.1245</td> <td>    0.073</td> <td>    1.696</td> <td> 0.092</td> <td>   -0.020</td> <td>    0.269</td>\n",
              "</tr>\n",
              "<tr>\n",
              "  <th>Borough_Citywide</th>                            <td>   -0.1917</td> <td>    0.155</td> <td>   -1.234</td> <td> 0.219</td> <td>   -0.499</td> <td>    0.115</td>\n",
              "</tr>\n",
              "<tr>\n",
              "  <th>Borough_Manhattan</th>                           <td>    0.0241</td> <td>    0.089</td> <td>    0.269</td> <td> 0.788</td> <td>   -0.152</td> <td>    0.201</td>\n",
              "</tr>\n",
              "<tr>\n",
              "  <th>Borough_Manhattan, Bronx</th>                    <td>    0.3324</td> <td>    0.248</td> <td>    1.340</td> <td> 0.182</td> <td>   -0.158</td> <td>    0.823</td>\n",
              "</tr>\n",
              "<tr>\n",
              "  <th>Borough_Manhattan, Staten Island</th>            <td>   -0.3348</td> <td>    0.384</td> <td>   -0.872</td> <td> 0.384</td> <td>   -1.093</td> <td>    0.424</td>\n",
              "</tr>\n",
              "<tr>\n",
              "  <th>Borough_Manhatten</th>                           <td>   -0.0428</td> <td>    0.322</td> <td>   -0.133</td> <td> 0.894</td> <td>   -0.679</td> <td>    0.594</td>\n",
              "</tr>\n",
              "<tr>\n",
              "  <th>Borough_Queens</th>                              <td>    0.0057</td> <td>    0.075</td> <td>    0.075</td> <td> 0.940</td> <td>   -0.143</td> <td>    0.154</td>\n",
              "</tr>\n",
              "<tr>\n",
              "  <th>Borough_Staten Island</th>                       <td>    0.2057</td> <td>    0.115</td> <td>    1.785</td> <td> 0.076</td> <td>   -0.022</td> <td>    0.433</td>\n",
              "</tr>\n",
              "<tr>\n",
              "  <th>Borough_Upstate</th>                             <td>    0.2686</td> <td>    0.264</td> <td>    1.017</td> <td> 0.311</td> <td>   -0.253</td> <td>    0.791</td>\n",
              "</tr>\n",
              "<tr>\n",
              "  <th>Borough_Valhalla</th>                            <td>   -1.1545</td> <td>    0.328</td> <td>   -3.518</td> <td> 0.001</td> <td>   -1.803</td> <td>   -0.506</td>\n",
              "</tr>\n",
              "</table>\n",
              "<table class=\"simpletable\">\n",
              "<tr>\n",
              "  <th>Omnibus:</th>       <td>40.521</td> <th>  Durbin-Watson:     </th> <td>   1.987</td>\n",
              "</tr>\n",
              "<tr>\n",
              "  <th>Prob(Omnibus):</th> <td> 0.000</td> <th>  Jarque-Bera (JB):  </th> <td> 127.665</td>\n",
              "</tr>\n",
              "<tr>\n",
              "  <th>Skew:</th>          <td>-0.769</td> <th>  Prob(JB):          </th> <td>1.90e-28</td>\n",
              "</tr>\n",
              "<tr>\n",
              "  <th>Kurtosis:</th>      <td> 6.526</td> <th>  Cond. No.          </th> <td>    606.</td>\n",
              "</tr>\n",
              "</table><br/><br/>Warnings:<br/>[1] Standard Errors assume that the covariance matrix of the errors is correctly specified."
            ],
            "text/plain": [
              "<class 'statsmodels.iolib.summary.Summary'>\n",
              "\"\"\"\n",
              "                            OLS Regression Results                            \n",
              "==============================================================================\n",
              "Dep. Variable:     Budget Change Norm   R-squared:                       0.351\n",
              "Model:                            OLS   Adj. R-squared:                  0.143\n",
              "Method:                 Least Squares   F-statistic:                     1.686\n",
              "Date:                Sun, 10 May 2020   Prob (F-statistic):            0.00817\n",
              "Time:                        00:55:17   Log-Likelihood:                -12.977\n",
              "No. Observations:                 207   AIC:                             128.0\n",
              "Df Residuals:                     156   BIC:                             297.9\n",
              "Df Model:                          50                                         \n",
              "Covariance Type:            nonrobust                                         \n",
              "===============================================================================================================\n",
              "                                                  coef    std err          t      P>|t|      [0.025      0.975]\n",
              "---------------------------------------------------------------------------------------------------------------\n",
              "const                                          -1.3590      0.671     -2.025      0.045      -2.685      -0.033\n",
              "Budget Forecast                                 0.0865      0.037      2.312      0.022       0.013       0.160\n",
              "Schedule Change Norm                            0.0430      0.121      0.356      0.722      -0.196       0.282\n",
              "0                                               0.1865      0.184      1.014      0.312      -0.177       0.550\n",
              "1                                               0.3096      0.183      1.693      0.093      -0.052       0.671\n",
              "2                                               0.3048      0.194      1.575      0.117      -0.077       0.687\n",
              "3                                              -0.4788      0.191     -2.504      0.013      -0.856      -0.101\n",
              "4                                              -0.3231      0.161     -2.002      0.047      -0.642      -0.004\n",
              "5                                              -0.1187      0.187     -0.634      0.527      -0.488       0.251\n",
              "6                                               0.0715      0.188      0.381      0.704      -0.299       0.442\n",
              "7                                               0.0266      0.188      0.142      0.888      -0.345       0.398\n",
              "8                                              -0.7037      0.201     -3.507      0.001      -1.100      -0.307\n",
              "9                                              -0.0780      0.200     -0.390      0.697      -0.473       0.317\n",
              "10                                             -0.0405      0.207     -0.195      0.846      -0.450       0.369\n",
              "11                                             -0.4333      0.247     -1.756      0.081      -0.921       0.054\n",
              "12                                             -0.0702      0.215     -0.327      0.744      -0.494       0.354\n",
              "13                                             -0.7240      0.243     -2.978      0.003      -1.204      -0.244\n",
              "14                                              0.1670      0.247      0.676      0.500      -0.321       0.655\n",
              "15                                             -0.2360      0.226     -1.042      0.299      -0.683       0.211\n",
              "16                                             -0.0005      0.242     -0.002      0.998      -0.478       0.477\n",
              "17                                             -0.1727      0.242     -0.713      0.477      -0.651       0.306\n",
              "18                                             -0.1959      0.222     -0.884      0.378      -0.633       0.242\n",
              "19                                              0.1456      0.241      0.603      0.547      -0.331       0.622\n",
              "20                                              0.3312      0.266      1.247      0.214      -0.193       0.856\n",
              "21                                              0.1233      0.270      0.456      0.649      -0.410       0.657\n",
              "22                                              0.1281      0.267      0.480      0.632      -0.399       0.655\n",
              "23                                             -0.1378      0.286     -0.483      0.630      -0.702       0.426\n",
              "Category_Bridges                               -0.2312      0.132     -1.752      0.082      -0.492       0.029\n",
              "Category_Bridges, Streets and Roadways         -0.0161      0.121     -0.133      0.894      -0.255       0.223\n",
              "Category_Ferries                                0.1160      0.209      0.554      0.580      -0.298       0.530\n",
              "Category_Health and Hospitals                  -0.2000      0.186     -1.077      0.283      -0.567       0.167\n",
              "Category_Industrial Development                -0.0327      0.089     -0.366      0.715      -0.209       0.144\n",
              "Category_Other Government Facilities            0.1007      0.135      0.743      0.459      -0.167       0.368\n",
              "Category_Parks                                 -0.4111      0.219     -1.877      0.062      -0.844       0.022\n",
              "Category_Public Safety and Criminal Justice     0.1587      0.161      0.984      0.327      -0.160       0.477\n",
              "Category_Sanitation                            -0.0680      0.207     -0.328      0.743      -0.477       0.341\n",
              "Category_Schools                               -0.8444      0.317     -2.660      0.009      -1.471      -0.217\n",
              "Category_Sewers                                -0.1104      0.120     -0.917      0.361      -0.348       0.128\n",
              "Category_Wastewater Treatment                  -0.0356      0.115     -0.311      0.756      -0.262       0.191\n",
              "Category_Water Supply                          -0.1869      0.133     -1.405      0.162      -0.450       0.076\n",
              "Borough_Bronx, Manhattan                        0.4628      0.329      1.406      0.162      -0.187       1.113\n",
              "Borough_Brooklyn                                0.1245      0.073      1.696      0.092      -0.020       0.269\n",
              "Borough_Citywide                               -0.1917      0.155     -1.234      0.219      -0.499       0.115\n",
              "Borough_Manhattan                               0.0241      0.089      0.269      0.788      -0.152       0.201\n",
              "Borough_Manhattan, Bronx                        0.3324      0.248      1.340      0.182      -0.158       0.823\n",
              "Borough_Manhattan, Staten Island               -0.3348      0.384     -0.872      0.384      -1.093       0.424\n",
              "Borough_Manhatten                              -0.0428      0.322     -0.133      0.894      -0.679       0.594\n",
              "Borough_Queens                                  0.0057      0.075      0.075      0.940      -0.143       0.154\n",
              "Borough_Staten Island                           0.2057      0.115      1.785      0.076      -0.022       0.433\n",
              "Borough_Upstate                                 0.2686      0.264      1.017      0.311      -0.253       0.791\n",
              "Borough_Valhalla                               -1.1545      0.328     -3.518      0.001      -1.803      -0.506\n",
              "==============================================================================\n",
              "Omnibus:                       40.521   Durbin-Watson:                   1.987\n",
              "Prob(Omnibus):                  0.000   Jarque-Bera (JB):              127.665\n",
              "Skew:                          -0.769   Prob(JB):                     1.90e-28\n",
              "Kurtosis:                       6.526   Cond. No.                         606.\n",
              "==============================================================================\n",
              "\n",
              "Warnings:\n",
              "[1] Standard Errors assume that the covariance matrix of the errors is correctly specified.\n",
              "\"\"\""
            ]
          },
          "metadata": {
            "tags": []
          },
          "execution_count": 27
        }
      ]
    },
    {
      "cell_type": "code",
      "metadata": {
        "colab_type": "code",
        "id": "iGk8PFHsXcj3",
        "outputId": "74117283-8101-426c-b168-147efa127d2c",
        "colab": {
          "base_uri": "https://localhost:8080/",
          "height": 935
        }
      },
      "source": [
        "# Multi-collinearity\n",
        "X_train_save = X_train.copy()\n",
        "pd.Series([variance_inflation_factor(X_train.values, i) \n",
        "               for i in range(X_train.shape[1])], \n",
        "               index=X_train.columns)"
      ],
      "execution_count": 0,
      "outputs": [
        {
          "output_type": "execute_result",
          "data": {
            "text/plain": [
              "Budget Forecast                                10.514463\n",
              "Schedule Change Norm                            2.728001\n",
              "0                                               5.621382\n",
              "1                                               4.390047\n",
              "2                                               3.457591\n",
              "3                                               2.783835\n",
              "4                                               1.807592\n",
              "5                                               1.877452\n",
              "6                                               1.554810\n",
              "7                                               1.568576\n",
              "8                                               1.423165\n",
              "9                                               1.370201\n",
              "10                                              1.390782\n",
              "11                                              1.893911\n",
              "12                                              1.388986\n",
              "13                                              1.580867\n",
              "14                                              1.521776\n",
              "15                                              1.323253\n",
              "16                                              1.474360\n",
              "17                                              1.311100\n",
              "18                                              1.154426\n",
              "19                                              1.285990\n",
              "20                                              1.437461\n",
              "21                                              1.399351\n",
              "22                                              1.334310\n",
              "23                                              1.437203\n",
              "Category_Bridges                                3.542379\n",
              "Category_Bridges, Streets and Roadways          1.981989\n",
              "Category_Ferries                                1.986029\n",
              "Category_Health and Hospitals                   1.553722\n",
              "Category_Industrial Development                 2.244415\n",
              "Category_Other Government Facilities            1.652460\n",
              "Category_Parks                                  1.622673\n",
              "Category_Public Safety and Criminal Justice     2.344347\n",
              "Category_Sanitation                             1.413672\n",
              "Category_Schools                               12.095651\n",
              "Category_Sewers                                 4.448755\n",
              "Category_Wastewater Treatment                   3.242059\n",
              "Category_Water Supply                           3.817429\n",
              "Borough_Bronx, Manhattan                        1.222127\n",
              "Borough_Brooklyn                                2.011323\n",
              "Borough_Citywide                                1.369875\n",
              "Borough_Manhattan                               1.806096\n",
              "Borough_Manhattan, Bronx                        1.397336\n",
              "Borough_Manhattan, Staten Island                1.670147\n",
              "Borough_Manhatten                               1.176643\n",
              "Borough_Queens                                  1.602625\n",
              "Borough_Staten Island                           1.507063\n",
              "Borough_Upstate                                 1.571086\n",
              "Borough_Valhalla                                1.204767\n",
              "dtype: float64"
            ]
          },
          "metadata": {
            "tags": []
          },
          "execution_count": 28
        }
      ]
    },
    {
      "cell_type": "code",
      "metadata": {
        "colab_type": "code",
        "id": "KuWRkrrRGys6",
        "outputId": "0dccca50-2ed7-4085-de06-e972eac9d5cf",
        "colab": {
          "base_uri": "https://localhost:8080/",
          "height": 252
        }
      },
      "source": [
        "# Residual Plots\n",
        "y_hat_train = results.predict()\n",
        "residuals = (y_train - y_hat_train)\n",
        "fig, axes = plt.subplots(1,2,figsize=(8,3))\n",
        "axes[0].set_title('Plot of Residuals')\n",
        "axes[0].scatter((y_hat_train), residuals, alpha=0.1)\n",
        "axes[0].axhline(0, c='black', lw=2)\n",
        "axes[0].set_xlabel(r'$\\hat{y}$')\n",
        "axes[1].set_title('Histogram of Residual Magnitudes')\n",
        "axes[1].hist(residuals, alpha=0.8)\n",
        "axes[1].axhline(0, c='black', lw=2)\n",
        "axes[1].set_xlabel(r'residuals')\n",
        "plt.show()\n"
      ],
      "execution_count": 0,
      "outputs": [
        {
          "output_type": "display_data",
          "data": {
            "image/png": "[encoded data removed]",
            "text/plain": [
              "<Figure size 576x216 with 2 Axes>"
            ]
          },
          "metadata": {
            "tags": []
          }
        }
      ]
    },
    {
      "cell_type": "code",
      "metadata": {
        "colab_type": "code",
        "id": "N5D7pSF9Rb9i",
        "outputId": "a629fccf-5859-44c5-90ac-597ec41d6f07",
        "colab": {
          "base_uri": "https://localhost:8080/",
          "height": 301
        }
      },
      "source": [
        "stats.probplot(residuals, dist=\"norm\", plot=pylab)\n",
        "pylab.show()"
      ],
      "execution_count": 0,
      "outputs": [
        {
          "output_type": "display_data",
          "data": {
            "image/png": "[encoded data removed]",
            "text/plain": [
              "<Figure size 432x288 with 1 Axes>"
            ]
          },
          "metadata": {
            "tags": []
          }
        }
      ]
    },
    {
      "cell_type": "code",
      "metadata": {
        "colab_type": "code",
        "id": "fkwYE1LeS5d7",
        "outputId": "8d3850e4-bdbd-4ad8-e7c5-46185185cae3",
        "colab": {
          "base_uri": "https://localhost:8080/",
          "height": 252
        }
      },
      "source": [
        "# Residual Plots\n",
        "X_colms = ['Project Duration','Schedule Change Norm','Budget Forecast']\n",
        "y_hat_train = results.predict()\n",
        "residuals = y_train - y_hat_train\n",
        "\n",
        "fig, axes = plt.subplots(1,3,figsize=(9,3))\n",
        "fig.suptitle('Plot of Residuals', fontsize=18)\n",
        "for i in range(3):\n",
        "  x_val = y_hat_train\n",
        "  x_lbl = r'$\\hat{y}$'\n",
        "  if i > -1:\n",
        "    x_val = nyc_train[X_colms[i]].ravel()\n",
        "    x_lbl = X_colms[i]\n",
        "  row_idx = np.mod(i,3)\n",
        "  col_idx = int(i / 3) \n",
        "  axes[row_idx].scatter(x_val, residuals, alpha=0.1)\n",
        "  axes[row_idx].axhline(0, c='black', lw=2)\n",
        "  axes[row_idx].set_xlabel(x_lbl, fontsize=12)\n",
        "plt.show()"
      ],
      "execution_count": 0,
      "outputs": [
        {
          "output_type": "display_data",
          "data": {
            "image/png": "[encoded data removed]",
            "text/plain": [
              "<Figure size 648x216 with 3 Axes>"
            ]
          },
          "metadata": {
            "tags": []
          }
        }
      ]
    },
    {
      "cell_type": "markdown",
      "metadata": {
        "colab_type": "text",
        "id": "fLuAnc646AcM"
      },
      "source": [
        "### Schedule Change Model"
      ]
    },
    {
      "cell_type": "markdown",
      "metadata": {
        "colab_type": "text",
        "id": "Z5ExWBHE6DZe"
      },
      "source": [
        "##### Training and Test Data"
      ]
    },
    {
      "cell_type": "code",
      "metadata": {
        "colab_type": "code",
        "id": "cWlNx_eRfalR",
        "colab": {}
      },
      "source": [
        "# Schedule change\n",
        "nyc_train_trunc2 = nyc_train.copy()\n",
        "#nyc_train_trunc = nyc_train_trunc[qual_columns]\n",
        "y_train2 = (nyc_train_trunc2['Schedule Change Norm'])\n",
        "X_train2 = nyc_train_trunc2.drop(['Schedule Change Norm', 'Budget Forecast'], axis=1)\n",
        "# Remove redundant columns: found through VIF (multi-collinearity analysis in below cell)\n",
        "X_train2 = X_train2.drop(drop_mc_columns, axis=1, errors='ignore')\n",
        "\n",
        "nyc_test_trunc2 = nyc_test.copy()\n",
        "y_test2 = nyc_test_trunc2['Schedule Change Norm']\n",
        "X_test2 = nyc_test_trunc2.drop(['Schedule Change Norm', 'Budget Forecast'], axis=1)\n",
        "X_test2 = X_test2.drop(drop_mc_columns, axis=1, errors='ignore')"
      ],
      "execution_count": 0,
      "outputs": []
    },
    {
      "cell_type": "markdown",
      "metadata": {
        "colab_type": "text",
        "id": "CdWRzLdx6H2U"
      },
      "source": [
        "##### Linear Regression, LassoCV and RidgeCV"
      ]
    },
    {
      "cell_type": "code",
      "metadata": {
        "colab_type": "code",
        "id": "gVuAP63R6QKg",
        "outputId": "11a8c6c7-a053-4ff0-ce47-60ddc2576755",
        "colab": {
          "base_uri": "https://localhost:8080/",
          "height": 71
        }
      },
      "source": [
        "np.random.seed(49)\n",
        "lr_time_model = LinearRegression().fit(X_train2, y_train2)\n",
        "ridge_time_model = RidgeCV(alphas=alphas, cv=20).fit(X_train2, y_train2)\n",
        "lasso_time_model = LassoCV(alphas=alphas, max_iter=100000).fit(X_train2, y_train2)\n",
        "\n",
        "print(f'LinearRegression train score: {lr_time_model.score(X_train2, y_train2)}')\n",
        "print(f'Lasso train score: {lasso_time_model.score(X_train2, y_train2)}')\n",
        "print(f'Ridge train score: {ridge_time_model.score(X_train2, y_train2)}')"
      ],
      "execution_count": 0,
      "outputs": [
        {
          "output_type": "stream",
          "text": [
            "LinearRegression train score: 0.3555029104818127\n",
            "Lasso train score: 0.0\n",
            "Ridge train score: 0.25781406548992947\n"
          ],
          "name": "stdout"
        }
      ]
    },
    {
      "cell_type": "code",
      "metadata": {
        "colab_type": "code",
        "id": "SshE2k8tyf7E",
        "outputId": "fb399425-6e51-4fb1-d7d7-601b1eb3f8b9",
        "colab": {
          "base_uri": "https://localhost:8080/",
          "height": 71
        }
      },
      "source": [
        "print(f'LinearRegression test score: {lr_time_model.score(X_test2, y_test2)}')\n",
        "print(f'Lasso test score: {lasso_time_model.score(X_test2, y_test2)}')\n",
        "print(f'Ridge test score: {ridge_time_model.score(X_test2, y_test2)}')"
      ],
      "execution_count": 0,
      "outputs": [
        {
          "output_type": "stream",
          "text": [
            "LinearRegression test score: 0.1361692309750543\n",
            "Lasso test score: -0.09056901439333886\n",
            "Ridge test score: 0.013661220977818411\n"
          ],
          "name": "stdout"
        }
      ]
    },
    {
      "cell_type": "markdown",
      "metadata": {
        "id": "-dMprv6VcKvj",
        "colab_type": "text"
      },
      "source": [
        "### Bagging Model"
      ]
    },
    {
      "cell_type": "code",
      "metadata": {
        "colab_type": "code",
        "id": "UVXGC_RHcQBq",
        "outputId": "c196c8e4-73cc-4c05-b317-31621ceebb51",
        "colab": {
          "base_uri": "https://localhost:8080/",
          "height": 53
        }
      },
      "source": [
        "# BAGGING TECHNIQUES\n",
        "np.random.seed(49)\n",
        "bagging_train = np.zeros((X_train2.shape[0], num_bags))\n",
        "bagging_test = np.zeros((X_test2.shape[0], num_bags))\n",
        "bagging_models = []\n",
        "for i in range(num_bags):\n",
        "  bootstrapped_X, bootstrapped_y = resample(X_train2, y_train2)\n",
        "  fitted_model = RidgeCV(alphas=alphas,normalize=True, cv=5).fit(bootstrapped_X, bootstrapped_y)\n",
        "  bagging_models.append(fitted_model)\n",
        "  bagging_train[:,i] = fitted_model.predict(X_train2)\n",
        "  bagging_test[:,i] = fitted_model.predict(X_test2)\n",
        "\n",
        "bagging_train_predicts = np.mean(bagging_train[:,:], axis=1)\n",
        "bagging_test_predicts = np.mean(bagging_test[:,:], axis=1)\n",
        "print(f'Training score: {mean_squared_error(y_train, bagging_train_predicts)}')\n",
        "print(f'Test score: {mean_squared_error(y_test, bagging_test_predicts)}')"
      ],
      "execution_count": 0,
      "outputs": [
        {
          "output_type": "stream",
          "text": [
            "Training score: 0.10950685021039869\n",
            "Test score: 0.3347822236409889\n"
          ],
          "name": "stdout"
        }
      ]
    },
    {
      "cell_type": "code",
      "metadata": {
        "colab_type": "code",
        "id": "vy9uXuxJ7pmJ",
        "outputId": "4dacd746-f95f-42cd-9a5b-9650f67ddf6e",
        "colab": {
          "base_uri": "https://localhost:8080/",
          "height": 935
        }
      },
      "source": [
        "# Multi-collinearity\n",
        "X_train2_save = X_train2.copy()\n",
        "pd.Series([variance_inflation_factor(X_train2.values, i) \n",
        "               for i in range(X_train2.shape[1])], \n",
        "               index=X_train2.columns)"
      ],
      "execution_count": 0,
      "outputs": [
        {
          "output_type": "execute_result",
          "data": {
            "text/plain": [
              "Project Duration                               10.208722\n",
              "Budget Change Norm                              1.747098\n",
              "0                                               5.711783\n",
              "1                                               4.472049\n",
              "2                                               3.485271\n",
              "3                                               2.939227\n",
              "4                                               1.848944\n",
              "5                                               1.887235\n",
              "6                                               1.546327\n",
              "7                                               1.565126\n",
              "8                                               1.523083\n",
              "9                                               1.352844\n",
              "10                                              1.386482\n",
              "11                                              1.928704\n",
              "12                                              1.382214\n",
              "13                                              1.687724\n",
              "14                                              1.508772\n",
              "15                                              1.278875\n",
              "16                                              1.471276\n",
              "17                                              1.315233\n",
              "18                                              1.159622\n",
              "19                                              1.278797\n",
              "20                                              1.453013\n",
              "21                                              1.387515\n",
              "22                                              1.336019\n",
              "23                                              1.431005\n",
              "Category_Bridges                                3.535397\n",
              "Category_Bridges, Streets and Roadways          1.939932\n",
              "Category_Ferries                                1.963523\n",
              "Category_Health and Hospitals                   1.545869\n",
              "Category_Industrial Development                 2.201049\n",
              "Category_Other Government Facilities            1.650891\n",
              "Category_Parks                                  1.627032\n",
              "Category_Public Safety and Criminal Justice     2.309069\n",
              "Category_Sanitation                             1.391557\n",
              "Category_Schools                               12.620272\n",
              "Category_Sewers                                 4.404366\n",
              "Category_Wastewater Treatment                   3.136321\n",
              "Category_Water Supply                           3.811421\n",
              "Borough_Bronx, Manhattan                        1.238995\n",
              "Borough_Brooklyn                                2.048224\n",
              "Borough_Citywide                                1.335929\n",
              "Borough_Manhattan                               1.688160\n",
              "Borough_Manhattan, Bronx                        1.408469\n",
              "Borough_Manhattan, Staten Island                1.679772\n",
              "Borough_Manhatten                               1.182903\n",
              "Borough_Queens                                  1.551783\n",
              "Borough_Staten Island                           1.512891\n",
              "Borough_Upstate                                 1.581920\n",
              "Borough_Valhalla                                1.316114\n",
              "dtype: float64"
            ]
          },
          "metadata": {
            "tags": []
          },
          "execution_count": 36
        }
      ]
    },
    {
      "cell_type": "code",
      "metadata": {
        "colab_type": "code",
        "id": "qTG8QJ6ffpx4",
        "outputId": "c25f84bf-f76e-4d23-8074-8bce807497b0",
        "colab": {
          "base_uri": "https://localhost:8080/",
          "height": 1000
        }
      },
      "source": [
        "X_train2_ols = sm.add_constant(X_train2)\n",
        "results = OLS(y_train2, X_train2_ols).fit()\n",
        "results.summary()"
      ],
      "execution_count": 0,
      "outputs": [
        {
          "output_type": "execute_result",
          "data": {
            "text/html": [
              "<table class=\"simpletable\">\n",
              "<caption>OLS Regression Results</caption>\n",
              "<tr>\n",
              "  <th>Dep. Variable:</th>    <td>Schedule Change Norm</td> <th>  R-squared:         </th> <td>   0.356</td>\n",
              "</tr>\n",
              "<tr>\n",
              "  <th>Model:</th>                     <td>OLS</td>         <th>  Adj. R-squared:    </th> <td>   0.149</td>\n",
              "</tr>\n",
              "<tr>\n",
              "  <th>Method:</th>               <td>Least Squares</td>    <th>  F-statistic:       </th> <td>   1.721</td>\n",
              "</tr>\n",
              "<tr>\n",
              "  <th>Date:</th>               <td>Sun, 10 May 2020</td>   <th>  Prob (F-statistic):</th>  <td>0.00626</td>\n",
              "</tr>\n",
              "<tr>\n",
              "  <th>Time:</th>                   <td>00:55:21</td>       <th>  Log-Likelihood:    </th> <td>  72.294</td>\n",
              "</tr>\n",
              "<tr>\n",
              "  <th>No. Observations:</th>        <td>   207</td>        <th>  AIC:               </th> <td>  -42.59</td>\n",
              "</tr>\n",
              "<tr>\n",
              "  <th>Df Residuals:</th>            <td>   156</td>        <th>  BIC:               </th> <td>   127.4</td>\n",
              "</tr>\n",
              "<tr>\n",
              "  <th>Df Model:</th>                <td>    50</td>        <th>                     </th>     <td> </td>   \n",
              "</tr>\n",
              "<tr>\n",
              "  <th>Covariance Type:</th>        <td>nonrobust</td>      <th>                     </th>     <td> </td>   \n",
              "</tr>\n",
              "</table>\n",
              "<table class=\"simpletable\">\n",
              "<tr>\n",
              "                       <td></td>                          <th>coef</th>     <th>std err</th>      <th>t</th>      <th>P>|t|</th>  <th>[0.025</th>    <th>0.975]</th>  \n",
              "</tr>\n",
              "<tr>\n",
              "  <th>const</th>                                       <td>    0.1082</td> <td>    0.376</td> <td>    0.288</td> <td> 0.774</td> <td>   -0.634</td> <td>    0.850</td>\n",
              "</tr>\n",
              "<tr>\n",
              "  <th>Project Duration</th>                            <td>    0.0015</td> <td>    0.047</td> <td>    0.031</td> <td> 0.975</td> <td>   -0.092</td> <td>    0.095</td>\n",
              "</tr>\n",
              "<tr>\n",
              "  <th>Budget Change Norm</th>                          <td>    0.0185</td> <td>    0.052</td> <td>    0.355</td> <td> 0.723</td> <td>   -0.085</td> <td>    0.122</td>\n",
              "</tr>\n",
              "<tr>\n",
              "  <th>0</th>                                           <td>   -0.0902</td> <td>    0.120</td> <td>   -0.750</td> <td> 0.454</td> <td>   -0.328</td> <td>    0.147</td>\n",
              "</tr>\n",
              "<tr>\n",
              "  <th>1</th>                                           <td>   -0.0964</td> <td>    0.122</td> <td>   -0.791</td> <td> 0.430</td> <td>   -0.337</td> <td>    0.144</td>\n",
              "</tr>\n",
              "<tr>\n",
              "  <th>2</th>                                           <td>   -0.1536</td> <td>    0.129</td> <td>   -1.195</td> <td> 0.234</td> <td>   -0.408</td> <td>    0.100</td>\n",
              "</tr>\n",
              "<tr>\n",
              "  <th>3</th>                                           <td>   -0.1158</td> <td>    0.128</td> <td>   -0.906</td> <td> 0.366</td> <td>   -0.368</td> <td>    0.137</td>\n",
              "</tr>\n",
              "<tr>\n",
              "  <th>4</th>                                           <td>    0.0058</td> <td>    0.111</td> <td>    0.052</td> <td> 0.959</td> <td>   -0.214</td> <td>    0.225</td>\n",
              "</tr>\n",
              "<tr>\n",
              "  <th>5</th>                                           <td>    0.0531</td> <td>    0.128</td> <td>    0.414</td> <td> 0.680</td> <td>   -0.200</td> <td>    0.307</td>\n",
              "</tr>\n",
              "<tr>\n",
              "  <th>6</th>                                           <td>    0.1371</td> <td>    0.124</td> <td>    1.108</td> <td> 0.270</td> <td>   -0.107</td> <td>    0.381</td>\n",
              "</tr>\n",
              "<tr>\n",
              "  <th>7</th>                                           <td>    0.0240</td> <td>    0.125</td> <td>    0.193</td> <td> 0.847</td> <td>   -0.222</td> <td>    0.270</td>\n",
              "</tr>\n",
              "<tr>\n",
              "  <th>8</th>                                           <td>    0.1125</td> <td>    0.138</td> <td>    0.814</td> <td> 0.417</td> <td>   -0.160</td> <td>    0.386</td>\n",
              "</tr>\n",
              "<tr>\n",
              "  <th>9</th>                                           <td>    0.1926</td> <td>    0.134</td> <td>    1.435</td> <td> 0.153</td> <td>   -0.073</td> <td>    0.458</td>\n",
              "</tr>\n",
              "<tr>\n",
              "  <th>10</th>                                          <td>   -0.0989</td> <td>    0.137</td> <td>   -0.720</td> <td> 0.473</td> <td>   -0.370</td> <td>    0.173</td>\n",
              "</tr>\n",
              "<tr>\n",
              "  <th>11</th>                                          <td>    0.0820</td> <td>    0.165</td> <td>    0.498</td> <td> 0.619</td> <td>   -0.244</td> <td>    0.408</td>\n",
              "</tr>\n",
              "<tr>\n",
              "  <th>12</th>                                          <td>    0.1359</td> <td>    0.142</td> <td>    0.957</td> <td> 0.340</td> <td>   -0.145</td> <td>    0.416</td>\n",
              "</tr>\n",
              "<tr>\n",
              "  <th>13</th>                                          <td>    0.0046</td> <td>    0.166</td> <td>    0.028</td> <td> 0.978</td> <td>   -0.323</td> <td>    0.332</td>\n",
              "</tr>\n",
              "<tr>\n",
              "  <th>14</th>                                          <td>   -0.2135</td> <td>    0.164</td> <td>   -1.303</td> <td> 0.194</td> <td>   -0.537</td> <td>    0.110</td>\n",
              "</tr>\n",
              "<tr>\n",
              "  <th>15</th>                                          <td>    0.3121</td> <td>    0.152</td> <td>    2.054</td> <td> 0.042</td> <td>    0.012</td> <td>    0.612</td>\n",
              "</tr>\n",
              "<tr>\n",
              "  <th>16</th>                                          <td>    0.0779</td> <td>    0.161</td> <td>    0.485</td> <td> 0.628</td> <td>   -0.239</td> <td>    0.395</td>\n",
              "</tr>\n",
              "<tr>\n",
              "  <th>17</th>                                          <td>   -0.0215</td> <td>    0.160</td> <td>   -0.134</td> <td> 0.894</td> <td>   -0.338</td> <td>    0.295</td>\n",
              "</tr>\n",
              "<tr>\n",
              "  <th>18</th>                                          <td>    0.0285</td> <td>    0.147</td> <td>    0.193</td> <td> 0.847</td> <td>   -0.262</td> <td>    0.319</td>\n",
              "</tr>\n",
              "<tr>\n",
              "  <th>19</th>                                          <td>    0.1408</td> <td>    0.159</td> <td>    0.887</td> <td> 0.377</td> <td>   -0.173</td> <td>    0.454</td>\n",
              "</tr>\n",
              "<tr>\n",
              "  <th>20</th>                                          <td>    0.0218</td> <td>    0.178</td> <td>    0.122</td> <td> 0.903</td> <td>   -0.331</td> <td>    0.374</td>\n",
              "</tr>\n",
              "<tr>\n",
              "  <th>21</th>                                          <td>    0.2420</td> <td>    0.178</td> <td>    1.358</td> <td> 0.176</td> <td>   -0.110</td> <td>    0.594</td>\n",
              "</tr>\n",
              "<tr>\n",
              "  <th>22</th>                                          <td>    0.0006</td> <td>    0.177</td> <td>    0.003</td> <td> 0.997</td> <td>   -0.348</td> <td>    0.349</td>\n",
              "</tr>\n",
              "<tr>\n",
              "  <th>23</th>                                          <td>    0.1691</td> <td>    0.188</td> <td>    0.900</td> <td> 0.370</td> <td>   -0.202</td> <td>    0.540</td>\n",
              "</tr>\n",
              "<tr>\n",
              "  <th>Category_Bridges</th>                            <td>    0.0784</td> <td>    0.087</td> <td>    0.899</td> <td> 0.370</td> <td>   -0.094</td> <td>    0.251</td>\n",
              "</tr>\n",
              "<tr>\n",
              "  <th>Category_Bridges, Streets and Roadways</th>      <td>    0.0617</td> <td>    0.080</td> <td>    0.776</td> <td> 0.439</td> <td>   -0.095</td> <td>    0.219</td>\n",
              "</tr>\n",
              "<tr>\n",
              "  <th>Category_Ferries</th>                            <td>   -0.0060</td> <td>    0.139</td> <td>   -0.043</td> <td> 0.966</td> <td>   -0.280</td> <td>    0.268</td>\n",
              "</tr>\n",
              "<tr>\n",
              "  <th>Category_Health and Hospitals</th>               <td>    0.0311</td> <td>    0.122</td> <td>    0.254</td> <td> 0.800</td> <td>   -0.211</td> <td>    0.273</td>\n",
              "</tr>\n",
              "<tr>\n",
              "  <th>Category_Industrial Development</th>             <td>   -0.0194</td> <td>    0.060</td> <td>   -0.324</td> <td> 0.746</td> <td>   -0.137</td> <td>    0.099</td>\n",
              "</tr>\n",
              "<tr>\n",
              "  <th>Category_Other Government Facilities</th>        <td>   -0.0434</td> <td>    0.090</td> <td>   -0.484</td> <td> 0.629</td> <td>   -0.221</td> <td>    0.134</td>\n",
              "</tr>\n",
              "<tr>\n",
              "  <th>Category_Parks</th>                              <td>    0.0436</td> <td>    0.145</td> <td>    0.300</td> <td> 0.765</td> <td>   -0.243</td> <td>    0.330</td>\n",
              "</tr>\n",
              "<tr>\n",
              "  <th>Category_Public Safety and Criminal Justice</th> <td>   -0.1545</td> <td>    0.107</td> <td>   -1.445</td> <td> 0.151</td> <td>   -0.366</td> <td>    0.057</td>\n",
              "</tr>\n",
              "<tr>\n",
              "  <th>Category_Sanitation</th>                         <td>   -0.0482</td> <td>    0.134</td> <td>   -0.360</td> <td> 0.720</td> <td>   -0.313</td> <td>    0.217</td>\n",
              "</tr>\n",
              "<tr>\n",
              "  <th>Category_Schools</th>                            <td>   -0.0482</td> <td>    0.219</td> <td>   -0.220</td> <td> 0.826</td> <td>   -0.481</td> <td>    0.385</td>\n",
              "</tr>\n",
              "<tr>\n",
              "  <th>Category_Sewers</th>                             <td>   -0.0110</td> <td>    0.080</td> <td>   -0.137</td> <td> 0.891</td> <td>   -0.169</td> <td>    0.147</td>\n",
              "</tr>\n",
              "<tr>\n",
              "  <th>Category_Wastewater Treatment</th>               <td>    0.1029</td> <td>    0.075</td> <td>    1.376</td> <td> 0.171</td> <td>   -0.045</td> <td>    0.250</td>\n",
              "</tr>\n",
              "<tr>\n",
              "  <th>Category_Water Supply</th>                       <td>    0.0401</td> <td>    0.089</td> <td>    0.453</td> <td> 0.651</td> <td>   -0.135</td> <td>    0.215</td>\n",
              "</tr>\n",
              "<tr>\n",
              "  <th>Borough_Bronx, Manhattan</th>                    <td>   -0.1198</td> <td>    0.221</td> <td>   -0.543</td> <td> 0.588</td> <td>   -0.555</td> <td>    0.316</td>\n",
              "</tr>\n",
              "<tr>\n",
              "  <th>Borough_Brooklyn</th>                            <td>    0.0516</td> <td>    0.049</td> <td>    1.047</td> <td> 0.297</td> <td>   -0.046</td> <td>    0.149</td>\n",
              "</tr>\n",
              "<tr>\n",
              "  <th>Borough_Citywide</th>                            <td>    0.2336</td> <td>    0.102</td> <td>    2.299</td> <td> 0.023</td> <td>    0.033</td> <td>    0.434</td>\n",
              "</tr>\n",
              "<tr>\n",
              "  <th>Borough_Manhattan</th>                           <td>    0.1971</td> <td>    0.058</td> <td>    3.424</td> <td> 0.001</td> <td>    0.083</td> <td>    0.311</td>\n",
              "</tr>\n",
              "<tr>\n",
              "  <th>Borough_Manhattan, Bronx</th>                    <td>    0.0534</td> <td>    0.166</td> <td>    0.322</td> <td> 0.748</td> <td>   -0.274</td> <td>    0.381</td>\n",
              "</tr>\n",
              "<tr>\n",
              "  <th>Borough_Manhattan, Staten Island</th>            <td>    0.0754</td> <td>    0.257</td> <td>    0.294</td> <td> 0.769</td> <td>   -0.431</td> <td>    0.582</td>\n",
              "</tr>\n",
              "<tr>\n",
              "  <th>Borough_Manhatten</th>                           <td>   -0.0121</td> <td>    0.216</td> <td>   -0.056</td> <td> 0.956</td> <td>   -0.439</td> <td>    0.415</td>\n",
              "</tr>\n",
              "<tr>\n",
              "  <th>Borough_Queens</th>                              <td>    0.1185</td> <td>    0.050</td> <td>    2.369</td> <td> 0.019</td> <td>    0.020</td> <td>    0.217</td>\n",
              "</tr>\n",
              "<tr>\n",
              "  <th>Borough_Staten Island</th>                       <td>    0.1178</td> <td>    0.077</td> <td>    1.539</td> <td> 0.126</td> <td>   -0.033</td> <td>    0.269</td>\n",
              "</tr>\n",
              "<tr>\n",
              "  <th>Borough_Upstate</th>                             <td>   -0.0498</td> <td>    0.177</td> <td>   -0.281</td> <td> 0.779</td> <td>   -0.400</td> <td>    0.301</td>\n",
              "</tr>\n",
              "<tr>\n",
              "  <th>Borough_Valhalla</th>                            <td>    0.0975</td> <td>    0.226</td> <td>    0.432</td> <td> 0.666</td> <td>   -0.348</td> <td>    0.543</td>\n",
              "</tr>\n",
              "</table>\n",
              "<table class=\"simpletable\">\n",
              "<tr>\n",
              "  <th>Omnibus:</th>       <td>21.387</td> <th>  Durbin-Watson:     </th> <td>   1.985</td>\n",
              "</tr>\n",
              "<tr>\n",
              "  <th>Prob(Omnibus):</th> <td> 0.000</td> <th>  Jarque-Bera (JB):  </th> <td>  66.933</td>\n",
              "</tr>\n",
              "<tr>\n",
              "  <th>Skew:</th>          <td>-0.315</td> <th>  Prob(JB):          </th> <td>2.92e-15</td>\n",
              "</tr>\n",
              "<tr>\n",
              "  <th>Kurtosis:</th>      <td> 5.714</td> <th>  Cond. No.          </th> <td>    241.</td>\n",
              "</tr>\n",
              "</table><br/><br/>Warnings:<br/>[1] Standard Errors assume that the covariance matrix of the errors is correctly specified."
            ],
            "text/plain": [
              "<class 'statsmodels.iolib.summary.Summary'>\n",
              "\"\"\"\n",
              "                             OLS Regression Results                             \n",
              "================================================================================\n",
              "Dep. Variable:     Schedule Change Norm   R-squared:                       0.356\n",
              "Model:                              OLS   Adj. R-squared:                  0.149\n",
              "Method:                   Least Squares   F-statistic:                     1.721\n",
              "Date:                  Sun, 10 May 2020   Prob (F-statistic):            0.00626\n",
              "Time:                          00:55:21   Log-Likelihood:                 72.294\n",
              "No. Observations:                   207   AIC:                            -42.59\n",
              "Df Residuals:                       156   BIC:                             127.4\n",
              "Df Model:                            50                                         \n",
              "Covariance Type:              nonrobust                                         \n",
              "===============================================================================================================\n",
              "                                                  coef    std err          t      P>|t|      [0.025      0.975]\n",
              "---------------------------------------------------------------------------------------------------------------\n",
              "const                                           0.1082      0.376      0.288      0.774      -0.634       0.850\n",
              "Project Duration                                0.0015      0.047      0.031      0.975      -0.092       0.095\n",
              "Budget Change Norm                              0.0185      0.052      0.355      0.723      -0.085       0.122\n",
              "0                                              -0.0902      0.120     -0.750      0.454      -0.328       0.147\n",
              "1                                              -0.0964      0.122     -0.791      0.430      -0.337       0.144\n",
              "2                                              -0.1536      0.129     -1.195      0.234      -0.408       0.100\n",
              "3                                              -0.1158      0.128     -0.906      0.366      -0.368       0.137\n",
              "4                                               0.0058      0.111      0.052      0.959      -0.214       0.225\n",
              "5                                               0.0531      0.128      0.414      0.680      -0.200       0.307\n",
              "6                                               0.1371      0.124      1.108      0.270      -0.107       0.381\n",
              "7                                               0.0240      0.125      0.193      0.847      -0.222       0.270\n",
              "8                                               0.1125      0.138      0.814      0.417      -0.160       0.386\n",
              "9                                               0.1926      0.134      1.435      0.153      -0.073       0.458\n",
              "10                                             -0.0989      0.137     -0.720      0.473      -0.370       0.173\n",
              "11                                              0.0820      0.165      0.498      0.619      -0.244       0.408\n",
              "12                                              0.1359      0.142      0.957      0.340      -0.145       0.416\n",
              "13                                              0.0046      0.166      0.028      0.978      -0.323       0.332\n",
              "14                                             -0.2135      0.164     -1.303      0.194      -0.537       0.110\n",
              "15                                              0.3121      0.152      2.054      0.042       0.012       0.612\n",
              "16                                              0.0779      0.161      0.485      0.628      -0.239       0.395\n",
              "17                                             -0.0215      0.160     -0.134      0.894      -0.338       0.295\n",
              "18                                              0.0285      0.147      0.193      0.847      -0.262       0.319\n",
              "19                                              0.1408      0.159      0.887      0.377      -0.173       0.454\n",
              "20                                              0.0218      0.178      0.122      0.903      -0.331       0.374\n",
              "21                                              0.2420      0.178      1.358      0.176      -0.110       0.594\n",
              "22                                              0.0006      0.177      0.003      0.997      -0.348       0.349\n",
              "23                                              0.1691      0.188      0.900      0.370      -0.202       0.540\n",
              "Category_Bridges                                0.0784      0.087      0.899      0.370      -0.094       0.251\n",
              "Category_Bridges, Streets and Roadways          0.0617      0.080      0.776      0.439      -0.095       0.219\n",
              "Category_Ferries                               -0.0060      0.139     -0.043      0.966      -0.280       0.268\n",
              "Category_Health and Hospitals                   0.0311      0.122      0.254      0.800      -0.211       0.273\n",
              "Category_Industrial Development                -0.0194      0.060     -0.324      0.746      -0.137       0.099\n",
              "Category_Other Government Facilities           -0.0434      0.090     -0.484      0.629      -0.221       0.134\n",
              "Category_Parks                                  0.0436      0.145      0.300      0.765      -0.243       0.330\n",
              "Category_Public Safety and Criminal Justice    -0.1545      0.107     -1.445      0.151      -0.366       0.057\n",
              "Category_Sanitation                            -0.0482      0.134     -0.360      0.720      -0.313       0.217\n",
              "Category_Schools                               -0.0482      0.219     -0.220      0.826      -0.481       0.385\n",
              "Category_Sewers                                -0.0110      0.080     -0.137      0.891      -0.169       0.147\n",
              "Category_Wastewater Treatment                   0.1029      0.075      1.376      0.171      -0.045       0.250\n",
              "Category_Water Supply                           0.0401      0.089      0.453      0.651      -0.135       0.215\n",
              "Borough_Bronx, Manhattan                       -0.1198      0.221     -0.543      0.588      -0.555       0.316\n",
              "Borough_Brooklyn                                0.0516      0.049      1.047      0.297      -0.046       0.149\n",
              "Borough_Citywide                                0.2336      0.102      2.299      0.023       0.033       0.434\n",
              "Borough_Manhattan                               0.1971      0.058      3.424      0.001       0.083       0.311\n",
              "Borough_Manhattan, Bronx                        0.0534      0.166      0.322      0.748      -0.274       0.381\n",
              "Borough_Manhattan, Staten Island                0.0754      0.257      0.294      0.769      -0.431       0.582\n",
              "Borough_Manhatten                              -0.0121      0.216     -0.056      0.956      -0.439       0.415\n",
              "Borough_Queens                                  0.1185      0.050      2.369      0.019       0.020       0.217\n",
              "Borough_Staten Island                           0.1178      0.077      1.539      0.126      -0.033       0.269\n",
              "Borough_Upstate                                -0.0498      0.177     -0.281      0.779      -0.400       0.301\n",
              "Borough_Valhalla                                0.0975      0.226      0.432      0.666      -0.348       0.543\n",
              "==============================================================================\n",
              "Omnibus:                       21.387   Durbin-Watson:                   1.985\n",
              "Prob(Omnibus):                  0.000   Jarque-Bera (JB):               66.933\n",
              "Skew:                          -0.315   Prob(JB):                     2.92e-15\n",
              "Kurtosis:                       5.714   Cond. No.                         241.\n",
              "==============================================================================\n",
              "\n",
              "Warnings:\n",
              "[1] Standard Errors assume that the covariance matrix of the errors is correctly specified.\n",
              "\"\"\""
            ]
          },
          "metadata": {
            "tags": []
          },
          "execution_count": 37
        }
      ]
    },
    {
      "cell_type": "code",
      "metadata": {
        "colab_type": "code",
        "id": "gbFO8ihuf8vC",
        "outputId": "e54d04e4-6c43-4582-c867-5f186fb56eb3",
        "colab": {
          "base_uri": "https://localhost:8080/",
          "height": 252
        }
      },
      "source": [
        "# Residual Plots\n",
        "y_hat_train = results.predict()\n",
        "residuals = y_train - y_hat_train\n",
        "fig, axes = plt.subplots(1,2,figsize=(8,3))\n",
        "axes[0].set_title('Plot of Residuals')\n",
        "axes[0].scatter(y_hat_train, residuals, alpha=0.1)\n",
        "axes[0].axhline(0, c='black', lw=2)\n",
        "axes[0].set_xlabel(r'$\\hat{y}$')\n",
        "axes[1].set_title('Histogram of Residual Magnitudes')\n",
        "axes[1].hist(residuals, alpha=0.8)\n",
        "axes[1].axhline(0, c='black', lw=2)\n",
        "axes[1].set_xlabel(r'residuals')\n",
        "plt.show()"
      ],
      "execution_count": 0,
      "outputs": [
        {
          "output_type": "display_data",
          "data": {
            "image/png": "[encoded data removed]",
            "text/plain": [
              "<Figure size 576x216 with 2 Axes>"
            ]
          },
          "metadata": {
            "tags": []
          }
        }
      ]
    },
    {
      "cell_type": "code",
      "metadata": {
        "colab_type": "code",
        "id": "d3NKGIwygJfK",
        "outputId": "ace89e83-f66d-4ab6-e43c-ba9abe9d1fa0",
        "colab": {
          "base_uri": "https://localhost:8080/",
          "height": 301
        }
      },
      "source": [
        "stats.probplot(residuals, dist=\"norm\", plot=pylab)\n",
        "pylab.show()\n",
        "plt.show()"
      ],
      "execution_count": 0,
      "outputs": [
        {
          "output_type": "display_data",
          "data": {
            "image/png": "[encoded data removed]",
            "text/plain": [
              "<Figure size 432x288 with 1 Axes>"
            ]
          },
          "metadata": {
            "tags": []
          }
        }
      ]
    },
    {
      "cell_type": "code",
      "metadata": {
        "colab_type": "code",
        "id": "NUizYnGpgUMP",
        "outputId": "74a2e4f7-fcab-4025-cf3e-6d2eb88b3ea0",
        "colab": {
          "base_uri": "https://localhost:8080/",
          "height": 252
        }
      },
      "source": [
        "# Residual Plots\n",
        "X_colms = ['Project Duration','Budget Change Norm','Budget Forecast']\n",
        "y_hat_train = results.predict()\n",
        "residuals = y_train - y_hat_train\n",
        "\n",
        "fig, axes = plt.subplots(1,3,figsize=(9,3))\n",
        "fig.suptitle('Plot of Residuals', fontsize=18)\n",
        "for i in range(3):\n",
        "  x_val = y_hat_train\n",
        "  x_lbl = r'$\\hat{y}$'\n",
        "  if i > -1:\n",
        "    x_val = nyc_train[X_colms[i]].ravel()\n",
        "    x_lbl = X_colms[i]\n",
        "  row_idx = np.mod(i,3)\n",
        "  col_idx = int(i / 3) \n",
        "  axes[row_idx].scatter(x_val, residuals, alpha=0.1)\n",
        "  axes[row_idx].axhline(0, c='black', lw=2)\n",
        "  axes[row_idx].set_xlabel(x_lbl, fontsize=12)\n",
        "plt.show()"
      ],
      "execution_count": 0,
      "outputs": [
        {
          "output_type": "display_data",
          "data": {
            "image/png": "[encoded data removed]",
            "text/plain": [
              "<Figure size 648x216 with 3 Axes>"
            ]
          },
          "metadata": {
            "tags": []
          }
        }
      ]
    },
    {
      "cell_type": "markdown",
      "metadata": {
        "colab_type": "text",
        "id": "goVYrgFUi_GZ"
      },
      "source": [
        "# GAM Models"
      ]
    },
    {
      "cell_type": "markdown",
      "metadata": {
        "id": "EL0skcHdQLEg",
        "colab_type": "text"
      },
      "source": [
        "We will try to apply techniques learned in Generalized Additive Models area in this course "
      ]
    },
    {
      "cell_type": "markdown",
      "metadata": {
        "colab_type": "text",
        "id": "ZAThdzk-DVor"
      },
      "source": [
        "### Training and Test Data\n",
        "Using the same training and test data as derived above.\n",
        "\n",
        "1.   Budget Schedule Change Model: (X_train, Y_train)\n",
        "2.   Schedule Change Model: (X_train2, Y_train2)"
      ]
    },
    {
      "cell_type": "code",
      "metadata": {
        "colab_type": "code",
        "id": "S9enB06rEszk",
        "outputId": "2b9331d3-e143-48ee-f86d-3116dbdec592",
        "colab": {
          "base_uri": "https://localhost:8080/",
          "height": 35
        }
      },
      "source": [
        "####  (4)  #### Handle Categorical Columns using dummy variables\n",
        "#categorical_columns = ['Category', 'Borough'] # not including Agencies nor Decription\n",
        "#nyc_df = pd.get_dummies(df, columns=categorical_columns, drop_first=True)\n",
        "nyc_df_gam = df.copy()\n",
        "\n",
        "#### (5) #### Drop redundant or useless columns, and drop NaNs\n",
        "drop_columns = ['Date Reported As Of', 'PID', 'Project Name', 'Description','Managing Agency', \n",
        "                'Client Agency', 'Design Start', 'Total Budget Norm', 'Latest Budget Changes', \n",
        "                'Latest Schedule Changes', 'Total Schedule Changes', 'Total Budget Changes', \n",
        "                'Forecast Completion', 'Current Phase', 'Normalized Description',\n",
        "                'normal_joined']\n",
        "nyc_df_gam = nyc_df_gam.drop(drop_columns, axis=1, errors='ignore')\n",
        "\n",
        "# TRANSFORMATION\n",
        "# Log of both Project Duration and Budget Forecast\n",
        "nyc_df_gam['Budget Forecast'] = np.log(nyc_df_gam['Budget Forecast'])\n",
        "nyc_df_gam['Project Duration'] = np.log(nyc_df_gam['Project Duration'])\n",
        "nyc_df_gam = nyc_df_gam.dropna()\n",
        "nyc_df_gam = nyc_df_gam.iloc[:,0:(24 + 6)] # CHANGE HERE FOR PCA COMPONENTS\n",
        "# Label Encoder\n",
        "categorical_columns = ['Category', 'Borough']\n",
        "def get_gam_x(df):\n",
        "  X = df.loc[:,:]\n",
        "  for name in categorical_columns:\n",
        "      le =  LabelEncoder().fit(df[name].values)\n",
        "      X[name] = le.transform(X[name])\n",
        "  return X\n",
        "\n",
        "nyc_df_gam = get_gam_x(nyc_df_gam)\n",
        "\n",
        "np.random.seed(49)\n",
        "nyc_train_gam, nyc_test_gam = train_test_split(nyc_df_gam, test_size=.2, random_state=49)\n",
        "np.shape(nyc_df_gam)\n",
        "nyc_train_g1 = nyc_train_gam.copy()\n",
        "#nyc_train_trunc = nyc_train_trunc[qual_columns]\n",
        "y_train_g1 = (nyc_train_g1['Budget Change Norm'])\n",
        "X_train_g1 = nyc_train_g1.drop(['Budget Change Norm', 'Project Duration'], axis=1)\n",
        "nyc_test_g1 = nyc_test_gam.copy()\n",
        "#nyc_train_trunc = nyc_train_trunc[qual_columns]\n",
        "y_test_g1 = (nyc_test_g1['Budget Change Norm'])\n",
        "X_test_g1 = nyc_test_g1.drop(['Budget Change Norm', 'Project Duration'], axis=1)\n",
        "np.shape(nyc_train_g1)"
      ],
      "execution_count": 0,
      "outputs": [
        {
          "output_type": "execute_result",
          "data": {
            "text/plain": [
              "(113, 30)"
            ]
          },
          "metadata": {
            "tags": []
          },
          "execution_count": 41
        }
      ]
    },
    {
      "cell_type": "markdown",
      "metadata": {
        "id": "xfo9H8uJQLEt",
        "colab_type": "text"
      },
      "source": [
        "### Budget Change GAM Model"
      ]
    },
    {
      "cell_type": "code",
      "metadata": {
        "colab_type": "code",
        "id": "a8c0zWlVEMJU",
        "outputId": "08204b82-13d4-457d-f2ad-935ffab31390",
        "colab": {
          "base_uri": "https://localhost:8080/",
          "height": 35
        }
      },
      "source": [
        "smoothings = np.logspace(-5, 6, 9)\n",
        "formula = f(0) + f(1)\n",
        "for i in range(2, 28, 1):\n",
        "  formula += s(i)\n",
        "np.random.seed(49)\n",
        "X_trn, X_val, y_trn, y_val = train_test_split(X_train_g1, y_train_g1, test_size=0.2)\n",
        "scores = np.zeros((len(smoothings)))\n",
        "for j, smoothing in enumerate(smoothings):\n",
        "    cur_model = LinearGAM(formula, n_splines=40, lam = smoothing).fit(X_trn, y_trn)\n",
        "    scores[j] = r2_score(y_val, cur_model.predict(X_val))\n",
        "                              \n",
        "best_lambda = smoothings[np.argmax(scores, axis = 0)]\n",
        "best_lambda"
      ],
      "execution_count": 0,
      "outputs": [
        {
          "output_type": "execute_result",
          "data": {
            "text/plain": [
              "3.1622776601683795"
            ]
          },
          "metadata": {
            "tags": []
          },
          "execution_count": 42
        }
      ]
    },
    {
      "cell_type": "code",
      "metadata": {
        "colab_type": "code",
        "id": "BFvrv7teF--Z",
        "outputId": "79786e67-0988-49de-85cd-ec71d28b84ef",
        "colab": {
          "base_uri": "https://localhost:8080/",
          "height": 287
        }
      },
      "source": [
        "np.random.seed(49)\n",
        "nyc_gam1 = LinearGAM(formula, lam=best_lambda).fit(X_train_g1, y_train_g1)\n",
        "r_score_train = r2_score(y_train_g1, nyc_gam1.predict(X_train_g1))\n",
        "r_score_test = r2_score(y_test_g1, nyc_gam1.predict(X_test_g1))\n",
        "\n",
        "\n",
        "print('\\n###########################################################\\n')\n",
        "print('\\n########        Budget Change Model         #############\\n')\n",
        "print('\\n###########################################################\\n')\n",
        "print('Lambda = {:0.3f}'.format(best_lambda))\n",
        "print('Training R-Squared = {:0.5f}'.format(r_score_train))\n",
        "print('Testing R-Squared = {:0.5f}'.format(r_score_test))\n",
        "print('\\n###########################################################\\n')"
      ],
      "execution_count": 0,
      "outputs": [
        {
          "output_type": "stream",
          "text": [
            "\n",
            "###########################################################\n",
            "\n",
            "\n",
            "########        Budget Change Model         #############\n",
            "\n",
            "\n",
            "###########################################################\n",
            "\n",
            "Lambda = 3.162\n",
            "Training R-Squared = 0.06047\n",
            "Testing R-Squared = 0.00507\n",
            "\n",
            "###########################################################\n",
            "\n"
          ],
          "name": "stdout"
        }
      ]
    },
    {
      "cell_type": "code",
      "metadata": {
        "id": "7hGXhndU_s7o",
        "colab_type": "code",
        "outputId": "d1983490-63a1-4e52-caca-03271bfdf383",
        "colab": {
          "base_uri": "https://localhost:8080/",
          "height": 299
        }
      },
      "source": [
        "## plotting\n",
        "plt.figure();\n",
        "fig, axs = plt.subplots(1,4);\n",
        "\n",
        "titles = ['category', 'borough', 'schedule change', 'budget forecast']\n",
        "for i, ax in enumerate(axs):\n",
        "    XX = nyc_gam1.generate_X_grid(term=i)\n",
        "    ax.plot(XX[:, i], nyc_gam1.partial_dependence(term=i, X=XX))\n",
        "    ax.plot(XX[:, i], nyc_gam1.partial_dependence(term=i, X=XX, width=.95)[1], c='r', ls='--')\n",
        "    if i == 0:\n",
        "        ax.set_ylim(-30,30)\n",
        "    ax.set_title(titles[i], fontsize=8);"
      ],
      "execution_count": 0,
      "outputs": [
        {
          "output_type": "display_data",
          "data": {
            "text/plain": [
              "<Figure size 432x288 with 0 Axes>"
            ]
          },
          "metadata": {
            "tags": []
          }
        },
        {
          "output_type": "display_data",
          "data": {
            "image/png": "[encoded data removed]",
            "text/plain": [
              "<Figure size 432x288 with 4 Axes>"
            ]
          },
          "metadata": {
            "tags": []
          }
        }
      ]
    },
    {
      "cell_type": "code",
      "metadata": {
        "colab_type": "code",
        "id": "3byfvw68bloj",
        "outputId": "bfcc3609-9af1-4d08-8bb5-d9bd22c14859",
        "colab": {
          "base_uri": "https://localhost:8080/",
          "height": 1000
        }
      },
      "source": [
        "print(nyc_gam1.summary())"
      ],
      "execution_count": 0,
      "outputs": [
        {
          "output_type": "stream",
          "text": [
            "LinearGAM                                                                                                 \n",
            "=============================================== ==========================================================\n",
            "Distribution:                        NormalDist Effective DoF:                                      6.0415\n",
            "Link Function:                     IdentityLink Log Likelihood:                                  -257.6381\n",
            "Number of Samples:                          113 AIC:                                               529.359\n",
            "                                                AICc:                                              530.438\n",
            "                                                GCV:                                                0.1584\n",
            "                                                Scale:                                              0.1432\n",
            "                                                Pseudo R-Squared:                                   0.0605\n",
            "==========================================================================================================\n",
            "Feature Function                  Lambda               Rank         EDoF         P > x        Sig. Code   \n",
            "================================= ==================== ============ ============ ============ ============\n",
            "f(0)                              [3.1623]             15                        1.11e-16     ***         \n",
            "f(1)                              [3.1623]             15                        1.11e-16     ***         \n",
            "s(2)                              [3.1623]             40                        1.11e-16     ***         \n",
            "s(3)                              [3.1623]             40                        1.11e-16     ***         \n",
            "s(4)                              [3.1623]             40                        1.11e-16     ***         \n",
            "s(5)                              [3.1623]             40                        1.11e-16     ***         \n",
            "s(6)                              [3.1623]             40                        1.11e-16     ***         \n",
            "s(7)                              [3.1623]             40                        1.11e-16     ***         \n",
            "s(8)                              [3.1623]             40                        1.11e-16     ***         \n",
            "s(9)                              [3.1623]             40                        1.11e-16     ***         \n",
            "s(10)                             [3.1623]             40                        1.11e-16     ***         \n",
            "s(11)                             [3.1623]             40                        1.11e-16     ***         \n",
            "s(12)                             [3.1623]             40                        1.11e-16     ***         \n",
            "s(13)                             [3.1623]             40                        1.11e-16     ***         \n",
            "s(14)                             [3.1623]             40                        1.11e-16     ***         \n",
            "s(15)                             [3.1623]             40                        1.11e-16     ***         \n",
            "s(16)                             [3.1623]             40                        1.11e-16     ***         \n",
            "s(17)                             [3.1623]             40                        1.11e-16     ***         \n",
            "s(18)                             [3.1623]             40                        1.11e-16     ***         \n",
            "s(19)                             [3.1623]             40                        1.11e-16     ***         \n",
            "s(20)                             [3.1623]             40                        1.11e-16     ***         \n",
            "s(21)                             [3.1623]             40                        1.11e-16     ***         \n",
            "s(22)                             [3.1623]             40                        1.11e-16     ***         \n",
            "s(23)                             [3.1623]             40                        1.11e-16     ***         \n",
            "s(24)                             [3.1623]             40                        1.11e-16     ***         \n",
            "s(25)                             [3.1623]             40                        1.11e-16     ***         \n",
            "s(26)                             [3.1623]             40                        1.11e-16     ***         \n",
            "s(27)                             [3.1623]             40                        1.11e-16     ***         \n",
            "intercept                                              1                         1.56e-05     ***         \n",
            "==========================================================================================================\n",
            "Significance codes:  0 '***' 0.001 '**' 0.01 '*' 0.05 '.' 0.1 ' ' 1\n",
            "\n",
            "WARNING: Fitting splines and a linear function to a feature introduces a model identifiability problem\n",
            "         which can cause p-values to appear significant when they are not.\n",
            "\n",
            "WARNING: p-values calculated in this manner behave correctly for un-penalized models or models with\n",
            "         known smoothing parameters, but when smoothing parameters have been estimated, the p-values\n",
            "         are typically lower than they should be, meaning that the tests reject the null too readily.\n",
            "None\n"
          ],
          "name": "stdout"
        },
        {
          "output_type": "stream",
          "text": [
            "/usr/local/lib/python3.6/dist-packages/ipykernel_launcher.py:1: UserWarning: KNOWN BUG: p-values computed in this summary are likely much smaller than they should be. \n",
            " \n",
            "Please do not make inferences based on these values! \n",
            "\n",
            "Collaborate on a solution, and stay up to date at: \n",
            "github.com/dswah/pyGAM/issues/163 \n",
            "\n",
            "  \"\"\"Entry point for launching an IPython kernel.\n"
          ],
          "name": "stderr"
        }
      ]
    },
    {
      "cell_type": "markdown",
      "metadata": {
        "colab_type": "text",
        "id": "ABYj7zvAC5Ob"
      },
      "source": [
        "### Schedule Change GAM Model"
      ]
    },
    {
      "cell_type": "code",
      "metadata": {
        "colab_type": "code",
        "id": "glhaaukkCu90",
        "colab": {}
      },
      "source": [
        "nyc_train_g2 = nyc_train_gam.copy()\n",
        "#nyc_train_trunc = nyc_train_trunc[qual_columns]\n",
        "y_train_g2 = (nyc_train_g2['Schedule Change Norm'])\n",
        "X_train_g2 = nyc_train_g2.drop(['Schedule Change Norm', 'Budget Forecast'], axis=1)\n",
        "nyc_test_g2 = nyc_test_gam.copy()\n",
        "#nyc_train_trunc = nyc_train_trunc[qual_columns]\n",
        "y_test_g2 = (nyc_test_g2['Schedule Change Norm'])\n",
        "X_test_g2 = nyc_test_g2.drop(['Schedule Change Norm', 'Budget Forecast'], axis=1)"
      ],
      "execution_count": 0,
      "outputs": []
    },
    {
      "cell_type": "code",
      "metadata": {
        "colab_type": "code",
        "id": "sGjRyPC7a4ju",
        "colab": {}
      },
      "source": [
        "np.random.seed(49)\n",
        "X_trn2, X_val2, y_trn2, y_val2 = train_test_split(X_train_g2, y_train_g2, test_size=0.2)\n",
        "scores = np.zeros((len(smoothings)))\n",
        "for j, smoothing in enumerate(smoothings):\n",
        "    cur_model2 = LinearGAM(formula, lam = smoothing,n_splines=30).fit(X_trn2, y_trn2)\n",
        "    scores[j] = r2_score(y_val2, cur_model2.predict(X_val2))\n",
        "                              \n",
        "best_lambda2 = smoothings[np.argmax(scores, axis = 0)]"
      ],
      "execution_count": 0,
      "outputs": []
    },
    {
      "cell_type": "code",
      "metadata": {
        "colab_type": "code",
        "id": "D-Vb_YSQbEHU",
        "outputId": "e41c99aa-ba13-4761-82d9-d8c288a1b553",
        "colab": {
          "base_uri": "https://localhost:8080/",
          "height": 287
        }
      },
      "source": [
        "np.random.seed(49)\n",
        "nyc_gam2 = LinearGAM(formula, lam=best_lambda2).fit(X_train_g2, y_train_g2)\n",
        "r_score_train = r2_score(y_train_g2, nyc_gam2.predict(X_train_g2))\n",
        "r_score_test = r2_score(y_test_g2, nyc_gam2.predict(X_test_g2))\n",
        "\n",
        "\n",
        "print('\\n###########################################################\\n')\n",
        "print('\\n########        Schedule Change Model         #############\\n')\n",
        "print('\\n###########################################################\\n')\n",
        "print('Lambda = {:0.3f}'.format(best_lambda2))\n",
        "print('Training R-Squared = {:0.5f}'.format(r_score_train))\n",
        "print('Testing R-Squared = {:0.5f}'.format(r_score_test))\n",
        "print('\\n###########################################################\\n')"
      ],
      "execution_count": 0,
      "outputs": [
        {
          "output_type": "stream",
          "text": [
            "\n",
            "###########################################################\n",
            "\n",
            "\n",
            "########        Schedule Change Model         #############\n",
            "\n",
            "\n",
            "###########################################################\n",
            "\n",
            "Lambda = 3.162\n",
            "Training R-Squared = 0.20636\n",
            "Testing R-Squared = 0.03893\n",
            "\n",
            "###########################################################\n",
            "\n"
          ],
          "name": "stdout"
        }
      ]
    },
    {
      "cell_type": "code",
      "metadata": {
        "id": "BjIoHULU8aTd",
        "colab_type": "code",
        "outputId": "259af884-51e9-4946-beeb-1defaad034bc",
        "colab": {
          "base_uri": "https://localhost:8080/",
          "height": 299
        }
      },
      "source": [
        "## plotting\n",
        "plt.figure(figsize=(15,45));\n",
        "fig, axs = plt.subplots(1,4);\n",
        "\n",
        "titles = ['category', 'borough', 'project duration', 'budget change']\n",
        "for i, ax in enumerate(axs):\n",
        "    XX = nyc_gam2.generate_X_grid(term=i)\n",
        "    ax.plot(XX[:, i], nyc_gam2.partial_dependence(term=i, X=XX))\n",
        "    ax.plot(XX[:, i], nyc_gam2.partial_dependence(term=i, X=XX, width=.95)[1], c='r', ls='--')\n",
        "    if i == 0:\n",
        "        ax.set_ylim(-30,30)\n",
        "    ax.set_title(titles[i], fontsize=8);"
      ],
      "execution_count": 0,
      "outputs": [
        {
          "output_type": "display_data",
          "data": {
            "text/plain": [
              "<Figure size 1080x3240 with 0 Axes>"
            ]
          },
          "metadata": {
            "tags": []
          }
        },
        {
          "output_type": "display_data",
          "data": {
            "image/png": "[encoded data removed]",
            "text/plain": [
              "<Figure size 432x288 with 4 Axes>"
            ]
          },
          "metadata": {
            "tags": []
          }
        }
      ]
    },
    {
      "cell_type": "code",
      "metadata": {
        "colab_type": "code",
        "id": "j3O7K13tbWb6",
        "outputId": "0f1fa827-fbd0-4e9a-8c0a-1c658bae2610",
        "colab": {
          "base_uri": "https://localhost:8080/",
          "height": 1000
        }
      },
      "source": [
        "print(nyc_gam2.summary())"
      ],
      "execution_count": 0,
      "outputs": [
        {
          "output_type": "stream",
          "text": [
            "LinearGAM                                                                                                 \n",
            "=============================================== ==========================================================\n",
            "Distribution:                        NormalDist Effective DoF:                                      7.0344\n",
            "Link Function:                     IdentityLink Log Likelihood:                                  -971.1754\n",
            "Number of Samples:                          113 AIC:                                             1958.4196\n",
            "                                                AICc:                                            1959.8159\n",
            "                                                GCV:                                                0.0488\n",
            "                                                Scale:                                              0.0434\n",
            "                                                Pseudo R-Squared:                                   0.2064\n",
            "==========================================================================================================\n",
            "Feature Function                  Lambda               Rank         EDoF         P > x        Sig. Code   \n",
            "================================= ==================== ============ ============ ============ ============\n",
            "f(0)                              [3.1623]             15                        6.66e-16     ***         \n",
            "f(1)                              [3.1623]             15                        1.33e-02     *           \n",
            "s(2)                              [3.1623]             30                        1.11e-16     ***         \n",
            "s(3)                              [3.1623]             30                        1.11e-16     ***         \n",
            "s(4)                              [3.1623]             30                        1.11e-16     ***         \n",
            "s(5)                              [3.1623]             30                        1.11e-16     ***         \n",
            "s(6)                              [3.1623]             30                        1.11e-16     ***         \n",
            "s(7)                              [3.1623]             30                        1.11e-16     ***         \n",
            "s(8)                              [3.1623]             30                        1.11e-16     ***         \n",
            "s(9)                              [3.1623]             30                        1.11e-16     ***         \n",
            "s(10)                             [3.1623]             30                        1.11e-16     ***         \n",
            "s(11)                             [3.1623]             30                        1.11e-16     ***         \n",
            "s(12)                             [3.1623]             30                        1.11e-16     ***         \n",
            "s(13)                             [3.1623]             30                        1.11e-16     ***         \n",
            "s(14)                             [3.1623]             30                        1.11e-16     ***         \n",
            "s(15)                             [3.1623]             30                        1.11e-16     ***         \n",
            "s(16)                             [3.1623]             30                        1.11e-16     ***         \n",
            "s(17)                             [3.1623]             30                        1.11e-16     ***         \n",
            "s(18)                             [3.1623]             30                        1.11e-16     ***         \n",
            "s(19)                             [3.1623]             30                        1.11e-16     ***         \n",
            "s(20)                             [3.1623]             30                        1.11e-16     ***         \n",
            "s(21)                             [3.1623]             30                        2.01e-13     ***         \n",
            "s(22)                             [3.1623]             30                        1.11e-16     ***         \n",
            "s(23)                             [3.1623]             30                        1.11e-16     ***         \n",
            "s(24)                             [3.1623]             30                        1.11e-16     ***         \n",
            "s(25)                             [3.1623]             30                        1.11e-16     ***         \n",
            "s(26)                             [3.1623]             30                        1.11e-16     ***         \n",
            "s(27)                             [3.1623]             30                        1.11e-16     ***         \n",
            "intercept                                              1                         1.40e-01                 \n",
            "==========================================================================================================\n",
            "Significance codes:  0 '***' 0.001 '**' 0.01 '*' 0.05 '.' 0.1 ' ' 1\n",
            "\n",
            "WARNING: Fitting splines and a linear function to a feature introduces a model identifiability problem\n",
            "         which can cause p-values to appear significant when they are not.\n",
            "\n",
            "WARNING: p-values calculated in this manner behave correctly for un-penalized models or models with\n",
            "         known smoothing parameters, but when smoothing parameters have been estimated, the p-values\n",
            "         are typically lower than they should be, meaning that the tests reject the null too readily.\n",
            "None\n"
          ],
          "name": "stdout"
        },
        {
          "output_type": "stream",
          "text": [
            "/usr/local/lib/python3.6/dist-packages/ipykernel_launcher.py:1: UserWarning: KNOWN BUG: p-values computed in this summary are likely much smaller than they should be. \n",
            " \n",
            "Please do not make inferences based on these values! \n",
            "\n",
            "Collaborate on a solution, and stay up to date at: \n",
            "github.com/dswah/pyGAM/issues/163 \n",
            "\n",
            "  \"\"\"Entry point for launching an IPython kernel.\n"
          ],
          "name": "stderr"
        }
      ]
    },
    {
      "cell_type": "markdown",
      "metadata": {
        "colab_type": "text",
        "id": "m_MevKlZcETE"
      },
      "source": [
        "# Neural Network based Models"
      ]
    },
    {
      "cell_type": "markdown",
      "metadata": {
        "id": "c0QYyPP1QLFK",
        "colab_type": "text"
      },
      "source": [
        "Although the data is less for what Neural Network mdels require, we wanted to model them anyway. The expectation is that if we had more data or can acquire more data, we could run through these models with the expectation to get better scores "
      ]
    },
    {
      "cell_type": "markdown",
      "metadata": {
        "id": "xP7379l0QLFP",
        "colab_type": "text"
      },
      "source": [
        "### Basic Requirement checks and imports"
      ]
    },
    {
      "cell_type": "code",
      "metadata": {
        "colab_type": "code",
        "id": "UXIJ46Fac5YU",
        "outputId": "73321792-b6ed-4738-c2d8-d555cd472efa",
        "colab": {
          "base_uri": "https://localhost:8080/",
          "height": 107
        }
      },
      "source": [
        "%tensorflow_version 2.0.0"
      ],
      "execution_count": 0,
      "outputs": [
        {
          "output_type": "stream",
          "text": [
            "`%tensorflow_version` only switches the major version: 1.x or 2.x.\n",
            "You set: `2.0.0`. This will be interpreted as: `2.x`.\n",
            "\n",
            "\n",
            "TensorFlow is already loaded. Please restart the runtime to change versions.\n"
          ],
          "name": "stdout"
        }
      ]
    },
    {
      "cell_type": "code",
      "metadata": {
        "colab_type": "code",
        "id": "2wZDUaKlc-lx",
        "outputId": "d760a983-3031-46e6-a6dc-5c2d08bbfdcb",
        "colab": {
          "base_uri": "https://localhost:8080/",
          "height": 739
        }
      },
      "source": [
        "!pip install tensorflow==2.0.0\n",
        "!pip install tf_keras_vis\n",
        "#Getting all pip packages\n",
        "import subprocess\n",
        "import sys\n",
        "reqs = subprocess.check_output([sys.executable, '-m', 'pip', 'freeze'])\n",
        "installed_packages = [r.decode().split('==') for r in reqs.split()]\n",
        "#installing tensorflow-datasets==2.1.0\n",
        "if ['tensorflow-datasets', '2.1.0'] not in installed_packages:\n",
        "  !pip uninstall tensorflow-datasets -y\n",
        "  !pip install tensorflow-datasets==2.1.0 \n",
        "#installing tensorflow-addons==0.6.0\n",
        "if ['tensorflow-addons', '0.6.0'] not in installed_packages:\n",
        "  !pip uninstall tensorflow-addons -y\n",
        "  !pip install tensorflow-addons==0.6.0"
      ],
      "execution_count": 0,
      "outputs": [
        {
          "output_type": "stream",
          "text": [
            "Requirement already satisfied: tensorflow==2.0.0 in /usr/local/lib/python3.6/dist-packages (2.0.0)\n",
            "Requirement already satisfied: termcolor>=1.1.0 in /usr/local/lib/python3.6/dist-packages (from tensorflow==2.0.0) (1.1.0)\n",
            "Requirement already satisfied: keras-preprocessing>=1.0.5 in /usr/local/lib/python3.6/dist-packages (from tensorflow==2.0.0) (1.1.0)\n",
            "Requirement already satisfied: tensorboard<2.1.0,>=2.0.0 in /usr/local/lib/python3.6/dist-packages (from tensorflow==2.0.0) (2.0.2)\n",
            "Requirement already satisfied: six>=1.10.0 in /usr/local/lib/python3.6/dist-packages (from tensorflow==2.0.0) (1.12.0)\n",
            "Requirement already satisfied: numpy<2.0,>=1.16.0 in /usr/local/lib/python3.6/dist-packages (from tensorflow==2.0.0) (1.18.4)\n",
            "Requirement already satisfied: absl-py>=0.7.0 in /usr/local/lib/python3.6/dist-packages (from tensorflow==2.0.0) (0.9.0)\n",
            "Requirement already satisfied: gast==0.2.2 in /usr/local/lib/python3.6/dist-packages (from tensorflow==2.0.0) (0.2.2)\n",
            "Requirement already satisfied: grpcio>=1.8.6 in /usr/local/lib/python3.6/dist-packages (from tensorflow==2.0.0) (1.28.1)\n",
            "Requirement already satisfied: opt-einsum>=2.3.2 in /usr/local/lib/python3.6/dist-packages (from tensorflow==2.0.0) (3.2.1)\n",
            "Requirement already satisfied: wheel>=0.26 in /usr/local/lib/python3.6/dist-packages (from tensorflow==2.0.0) (0.34.2)\n",
            "Requirement already satisfied: keras-applications>=1.0.8 in /usr/local/lib/python3.6/dist-packages (from tensorflow==2.0.0) (1.0.8)\n",
            "Requirement already satisfied: wrapt>=1.11.1 in /usr/local/lib/python3.6/dist-packages (from tensorflow==2.0.0) (1.12.1)\n",
            "Requirement already satisfied: protobuf>=3.6.1 in /usr/local/lib/python3.6/dist-packages (from tensorflow==2.0.0) (3.10.0)\n",
            "Requirement already satisfied: astor>=0.6.0 in /usr/local/lib/python3.6/dist-packages (from tensorflow==2.0.0) (0.8.1)\n",
            "Requirement already satisfied: tensorflow-estimator<2.1.0,>=2.0.0 in /usr/local/lib/python3.6/dist-packages (from tensorflow==2.0.0) (2.0.1)\n",
            "Requirement already satisfied: google-pasta>=0.1.6 in /usr/local/lib/python3.6/dist-packages (from tensorflow==2.0.0) (0.2.0)\n",
            "Requirement already satisfied: requests<3,>=2.21.0 in /usr/local/lib/python3.6/dist-packages (from tensorboard<2.1.0,>=2.0.0->tensorflow==2.0.0) (2.23.0)\n",
            "Requirement already satisfied: markdown>=2.6.8 in /usr/local/lib/python3.6/dist-packages (from tensorboard<2.1.0,>=2.0.0->tensorflow==2.0.0) (3.2.1)\n",
            "Requirement already satisfied: google-auth<2,>=1.6.3 in /usr/local/lib/python3.6/dist-packages (from tensorboard<2.1.0,>=2.0.0->tensorflow==2.0.0) (1.7.2)\n",
            "Requirement already satisfied: google-auth-oauthlib<0.5,>=0.4.1 in /usr/local/lib/python3.6/dist-packages (from tensorboard<2.1.0,>=2.0.0->tensorflow==2.0.0) (0.4.1)\n",
            "Requirement already satisfied: setuptools>=41.0.0 in /usr/local/lib/python3.6/dist-packages (from tensorboard<2.1.0,>=2.0.0->tensorflow==2.0.0) (46.1.3)\n",
            "Requirement already satisfied: werkzeug>=0.11.15 in /usr/local/lib/python3.6/dist-packages (from tensorboard<2.1.0,>=2.0.0->tensorflow==2.0.0) (1.0.1)\n",
            "Requirement already satisfied: h5py in /usr/local/lib/python3.6/dist-packages (from keras-applications>=1.0.8->tensorflow==2.0.0) (2.10.0)\n",
            "Requirement already satisfied: certifi>=2017.4.17 in /usr/local/lib/python3.6/dist-packages (from requests<3,>=2.21.0->tensorboard<2.1.0,>=2.0.0->tensorflow==2.0.0) (2020.4.5.1)\n",
            "Requirement already satisfied: chardet<4,>=3.0.2 in /usr/local/lib/python3.6/dist-packages (from requests<3,>=2.21.0->tensorboard<2.1.0,>=2.0.0->tensorflow==2.0.0) (3.0.4)\n",
            "Requirement already satisfied: urllib3!=1.25.0,!=1.25.1,<1.26,>=1.21.1 in /usr/local/lib/python3.6/dist-packages (from requests<3,>=2.21.0->tensorboard<2.1.0,>=2.0.0->tensorflow==2.0.0) (1.24.3)\n",
            "Requirement already satisfied: idna<3,>=2.5 in /usr/local/lib/python3.6/dist-packages (from requests<3,>=2.21.0->tensorboard<2.1.0,>=2.0.0->tensorflow==2.0.0) (2.9)\n",
            "Requirement already satisfied: pyasn1-modules>=0.2.1 in /usr/local/lib/python3.6/dist-packages (from google-auth<2,>=1.6.3->tensorboard<2.1.0,>=2.0.0->tensorflow==2.0.0) (0.2.8)\n",
            "Requirement already satisfied: rsa<4.1,>=3.1.4 in /usr/local/lib/python3.6/dist-packages (from google-auth<2,>=1.6.3->tensorboard<2.1.0,>=2.0.0->tensorflow==2.0.0) (4.0)\n",
            "Requirement already satisfied: cachetools<3.2,>=2.0.0 in /usr/local/lib/python3.6/dist-packages (from google-auth<2,>=1.6.3->tensorboard<2.1.0,>=2.0.0->tensorflow==2.0.0) (3.1.1)\n",
            "Requirement already satisfied: requests-oauthlib>=0.7.0 in /usr/local/lib/python3.6/dist-packages (from google-auth-oauthlib<0.5,>=0.4.1->tensorboard<2.1.0,>=2.0.0->tensorflow==2.0.0) (1.3.0)\n",
            "Requirement already satisfied: pyasn1<0.5.0,>=0.4.6 in /usr/local/lib/python3.6/dist-packages (from pyasn1-modules>=0.2.1->google-auth<2,>=1.6.3->tensorboard<2.1.0,>=2.0.0->tensorflow==2.0.0) (0.4.8)\n",
            "Requirement already satisfied: oauthlib>=3.0.0 in /usr/local/lib/python3.6/dist-packages (from requests-oauthlib>=0.7.0->google-auth-oauthlib<0.5,>=0.4.1->tensorboard<2.1.0,>=2.0.0->tensorflow==2.0.0) (3.1.0)\n",
            "Requirement already satisfied: tf_keras_vis in /usr/local/lib/python3.6/dist-packages (0.2.5)\n",
            "Requirement already satisfied: imageio in /usr/local/lib/python3.6/dist-packages (from tf_keras_vis) (2.4.1)\n",
            "Requirement already satisfied: scipy in /usr/local/lib/python3.6/dist-packages (from tf_keras_vis) (1.4.1)\n",
            "Requirement already satisfied: numpy in /usr/local/lib/python3.6/dist-packages (from tf_keras_vis) (1.18.4)\n",
            "Requirement already satisfied: pillow in /usr/local/lib/python3.6/dist-packages (from tf_keras_vis) (7.0.0)\n"
          ],
          "name": "stdout"
        }
      ]
    },
    {
      "cell_type": "code",
      "metadata": {
        "colab_type": "code",
        "id": "w0n_mXJekRth",
        "colab": {}
      },
      "source": [
        "\n",
        "# TensorFlow and tf.keras\n",
        "import tensorflow as tf\n",
        "from tensorflow.keras import backend as K\n",
        "from tensorflow.keras import layers\n",
        "from tensorflow.keras import models\n",
        "from tensorflow.keras import losses\n",
        "from tensorflow.keras import optimizers\n",
        "from tensorflow.keras import initializers\n",
        "from tensorflow.keras.metrics import *\n",
        "\n",
        "from tensorflow.keras import Input\n",
        "from tensorflow.keras.models import Sequential, Model\n",
        "from tensorflow.keras.layers import Dense, Dropout, Flatten, Activation, Reshape, Concatenate, Lambda\n",
        "from tensorflow.keras.optimizers import Adam, SGD"
      ],
      "execution_count": 0,
      "outputs": []
    },
    {
      "cell_type": "markdown",
      "metadata": {
        "colab_type": "text",
        "id": "nO21H8eqyT84"
      },
      "source": [
        "## Neural Network with PCA"
      ]
    },
    {
      "cell_type": "code",
      "metadata": {
        "colab_type": "code",
        "id": "Z3ngQq9pkZpy",
        "outputId": "15650a84-0210-4d42-e47e-6179b237e4e9",
        "colab": {
          "base_uri": "https://localhost:8080/",
          "height": 451
        }
      },
      "source": [
        "input = Input(shape=(28,))\n",
        "input_1 = Lambda(lambda x: x[:, 0:4])(input)\n",
        "input_2 = Lambda(lambda x: x[:, 4:28])(input)\n",
        "dense1 = Dense(8, name='description', activation='linear')(input_2)\n",
        "dense2 = Dense(2, activation='linear')(input_1)\n",
        "conc1 = Concatenate(axis = 1)([dense1, dense2])\n",
        "output = Dense(1, activation='linear')(conc1)\n",
        "model = tf.keras.Model(input, output)\n",
        "model.compile(optimizer='adam', loss='mse',metrics=['accuracy'])\n",
        "model.summary()"
      ],
      "execution_count": 0,
      "outputs": [
        {
          "output_type": "stream",
          "text": [
            "Model: \"model\"\n",
            "__________________________________________________________________________________________________\n",
            "Layer (type)                    Output Shape         Param #     Connected to                     \n",
            "==================================================================================================\n",
            "input_1 (InputLayer)            [(None, 28)]         0                                            \n",
            "__________________________________________________________________________________________________\n",
            "lambda_1 (Lambda)               (None, 24)           0           input_1[0][0]                    \n",
            "__________________________________________________________________________________________________\n",
            "lambda (Lambda)                 (None, 4)            0           input_1[0][0]                    \n",
            "__________________________________________________________________________________________________\n",
            "description (Dense)             (None, 8)            200         lambda_1[0][0]                   \n",
            "__________________________________________________________________________________________________\n",
            "dense (Dense)                   (None, 2)            10          lambda[0][0]                     \n",
            "__________________________________________________________________________________________________\n",
            "concatenate (Concatenate)       (None, 10)           0           description[0][0]                \n",
            "                                                                 dense[0][0]                      \n",
            "__________________________________________________________________________________________________\n",
            "dense_1 (Dense)                 (None, 1)            11          concatenate[0][0]                \n",
            "==================================================================================================\n",
            "Total params: 221\n",
            "Trainable params: 221\n",
            "Non-trainable params: 0\n",
            "__________________________________________________________________________________________________\n"
          ],
          "name": "stdout"
        }
      ]
    },
    {
      "cell_type": "code",
      "metadata": {
        "colab_type": "code",
        "id": "E9_x0cnIxv43",
        "outputId": "3ca77475-fbd4-4f0e-8f57-f3ce356e33ad",
        "colab": {
          "base_uri": "https://localhost:8080/",
          "height": 35
        }
      },
      "source": [
        "np.random.seed(49)\n",
        "nyc_train_gam, nyc_test_gam = train_test_split(nyc_df_gam, test_size=.1, random_state=49)\n",
        "np.shape(nyc_df_gam)\n",
        "nyc_train_nn1 = nyc_train_gam.copy()\n",
        "#nyc_train_trunc = nyc_train_trunc[qual_columns]\n",
        "y_train_nn1 = (nyc_train_nn1['Budget Change Norm'])\n",
        "X_train_nn1 = nyc_train_nn1.drop(['Budget Change Norm', 'Project Duration'], axis=1)\n",
        "nyc_test_nn1 = nyc_test_gam.copy()\n",
        "#nyc_train_trunc = nyc_train_trunc[qual_columns]\n",
        "y_test_nn1 = (nyc_test_nn1['Budget Change Norm'])\n",
        "X_test_nn1 = nyc_test_nn1.drop(['Budget Change Norm', 'Project Duration'], axis=1)\n",
        "np.shape(nyc_train_gam)"
      ],
      "execution_count": 0,
      "outputs": [
        {
          "output_type": "execute_result",
          "data": {
            "text/plain": [
              "(127, 30)"
            ]
          },
          "metadata": {
            "tags": []
          },
          "execution_count": 55
        }
      ]
    },
    {
      "cell_type": "code",
      "metadata": {
        "colab_type": "code",
        "id": "SH459HBBmlOP",
        "outputId": "c7d88379-da03-44b9-b764-4fe7aa7d534c",
        "colab": {
          "base_uri": "https://localhost:8080/",
          "height": 337
        }
      },
      "source": [
        "history = model.fit(X_train_nn1.values, y_train_nn1.values, epochs=4096, batch_size=16, verbose=False, shuffle=True, validation_split=0.2)\n",
        "def plot_training_history(history):\n",
        "    loss = history.history['loss']\n",
        "    val_loss = history.history['val_loss']\n",
        "    epochs = range(1,len(loss)+1)\n",
        "\n",
        "    plt.figure()\n",
        "    plt.plot(epochs, loss, 'bo', label='Training loss')\n",
        "    plt.plot(epochs, val_loss, 'b', label='Validation loss')\n",
        "    plt.title('Training and validation loss')\n",
        "    plt.xlabel('epoch')\n",
        "    plt.legend()\n",
        "    plt.show()\n",
        "    final_train_loss = history.history['loss'][-1]\n",
        "    final_val_loss = history.history['val_loss'][-1]\n",
        "    print(f'Final Training Loss: {final_train_loss}')\n",
        "    print(f'Final Validation Loss: {final_val_loss}')\n",
        "plot_training_history(history)"
      ],
      "execution_count": 0,
      "outputs": [
        {
          "output_type": "display_data",
          "data": {
            "image/png": "[encoded data removed]",
            "text/plain": [
              "<Figure size 432x288 with 1 Axes>"
            ]
          },
          "metadata": {
            "tags": []
          }
        },
        {
          "output_type": "stream",
          "text": [
            "Final Training Loss: 0.08865058517987186\n",
            "Final Validation Loss: 0.11350513421572171\n"
          ],
          "name": "stdout"
        }
      ]
    },
    {
      "cell_type": "code",
      "metadata": {
        "colab_type": "code",
        "id": "BX0yHkEjsNua",
        "outputId": "b4f8dd43-b906-4370-d86d-0fc05b7a3a42",
        "colab": {
          "base_uri": "https://localhost:8080/",
          "height": 73
        }
      },
      "source": [
        "score, _ = model.evaluate(X_test_nn1.values, y_test_nn1.values,batch_size=32)\n",
        "print('Test score:', score)"
      ],
      "execution_count": 0,
      "outputs": [
        {
          "output_type": "stream",
          "text": [
            "\r15/1 [==================================================================================================================================================================================================================================================================================================================================================================================================================================================================] - 0s 204us/sample - loss: 0.3915 - accuracy: 0.0000e+00\n",
            "Test score: 0.3914526700973511\n"
          ],
          "name": "stdout"
        }
      ]
    },
    {
      "cell_type": "markdown",
      "metadata": {
        "colab_type": "text",
        "id": "Gmb0h_y1yYQk"
      },
      "source": [
        "### Schedule Change Model"
      ]
    },
    {
      "cell_type": "code",
      "metadata": {
        "colab_type": "code",
        "id": "wUUrH2Vmyajq",
        "outputId": "2d7604b8-b7e9-412f-84c5-d7b4e590fd01",
        "colab": {
          "base_uri": "https://localhost:8080/",
          "height": 451
        }
      },
      "source": [
        "model2 = tf.keras.models.clone_model(model)\n",
        "model2.compile(optimizer='adam', loss='mse',metrics=['accuracy'])\n",
        "model2.summary()"
      ],
      "execution_count": 0,
      "outputs": [
        {
          "output_type": "stream",
          "text": [
            "Model: \"model\"\n",
            "__________________________________________________________________________________________________\n",
            "Layer (type)                    Output Shape         Param #     Connected to                     \n",
            "==================================================================================================\n",
            "input_1 (InputLayer)            [(None, 28)]         0                                            \n",
            "__________________________________________________________________________________________________\n",
            "lambda_1 (Lambda)               (None, 24)           0           input_1[0][0]                    \n",
            "__________________________________________________________________________________________________\n",
            "lambda (Lambda)                 (None, 4)            0           input_1[0][0]                    \n",
            "__________________________________________________________________________________________________\n",
            "description (Dense)             (None, 8)            200         lambda_1[0][0]                   \n",
            "__________________________________________________________________________________________________\n",
            "dense (Dense)                   (None, 2)            10          lambda[0][0]                     \n",
            "__________________________________________________________________________________________________\n",
            "concatenate (Concatenate)       (None, 10)           0           description[0][0]                \n",
            "                                                                 dense[0][0]                      \n",
            "__________________________________________________________________________________________________\n",
            "dense_1 (Dense)                 (None, 1)            11          concatenate[0][0]                \n",
            "==================================================================================================\n",
            "Total params: 221\n",
            "Trainable params: 221\n",
            "Non-trainable params: 0\n",
            "__________________________________________________________________________________________________\n"
          ],
          "name": "stdout"
        }
      ]
    },
    {
      "cell_type": "code",
      "metadata": {
        "colab_type": "code",
        "id": "CeIEYMdZyyBJ",
        "colab": {}
      },
      "source": [
        "nyc_train_nn2 = nyc_train_gam.copy()\n",
        "y_train_nn2 = (nyc_train_nn2['Schedule Change Norm'])\n",
        "X_train_nn2 = nyc_train_nn2.drop(['Schedule Change Norm', 'Budget Forecast'], axis=1)\n",
        "nyc_test_nn2 = nyc_test_gam.copy()\n",
        "y_test_nn2 = (nyc_test_nn2['Schedule Change Norm'])\n",
        "X_test_nn2 = nyc_test_nn2.drop(['Schedule Change Norm', 'Budget Forecast'], axis=1)"
      ],
      "execution_count": 0,
      "outputs": []
    },
    {
      "cell_type": "code",
      "metadata": {
        "colab_type": "code",
        "id": "OurCNA1NzVqk",
        "outputId": "5abef94b-6b47-4252-faef-7979d32e65cc",
        "colab": {
          "base_uri": "https://localhost:8080/",
          "height": 337
        }
      },
      "source": [
        "history2 = model2.fit(X_train_nn2.values, y_train_nn2.values, epochs=4096, batch_size=16, verbose=False, shuffle=True, validation_split=0.2)\n",
        "plot_training_history(history2)"
      ],
      "execution_count": 0,
      "outputs": [
        {
          "output_type": "display_data",
          "data": {
            "image/png": "[encoded data removed]",
            "text/plain": [
              "<Figure size 432x288 with 1 Axes>"
            ]
          },
          "metadata": {
            "tags": []
          }
        },
        {
          "output_type": "stream",
          "text": [
            "Final Training Loss: 0.021673316486401133\n",
            "Final Validation Loss: 0.10340604873803946\n"
          ],
          "name": "stdout"
        }
      ]
    },
    {
      "cell_type": "code",
      "metadata": {
        "colab_type": "code",
        "id": "SF26nWVEzIBA",
        "outputId": "ce2ab194-33fa-4bcb-a63b-46fe1f9ac005",
        "colab": {
          "base_uri": "https://localhost:8080/",
          "height": 73
        }
      },
      "source": [
        "score, _ = model2.evaluate(X_test_nn2.values, y_test_nn2.values,batch_size=32)\n",
        "print('Test score:', score)"
      ],
      "execution_count": 0,
      "outputs": [
        {
          "output_type": "stream",
          "text": [
            "\r15/1 [==================================================================================================================================================================================================================================================================================================================================================================================================================================================================] - 0s 224us/sample - loss: 0.0626 - accuracy: 0.0667\n",
            "Test score: 0.06263182312250137\n"
          ],
          "name": "stdout"
        }
      ]
    },
    {
      "cell_type": "markdown",
      "metadata": {
        "colab_type": "text",
        "id": "Vckyesu5h3ft"
      },
      "source": [
        "## Neural Network with AutoEncoder"
      ]
    },
    {
      "cell_type": "markdown",
      "metadata": {
        "colab_type": "text",
        "id": "FOhpRWjsigDC"
      },
      "source": [
        "### Training and test data"
      ]
    },
    {
      "cell_type": "code",
      "metadata": {
        "colab_type": "code",
        "id": "EKdOMW_TiCp1",
        "outputId": "b8935ba8-c31d-4817-8e25-e428c87fd9fb",
        "colab": {
          "base_uri": "https://localhost:8080/",
          "height": 35
        }
      },
      "source": [
        "qual_nn_cols = ['Category', 'Borough', 'Budget Forecast','Project Duration','Schedule Change Norm','Budget Change Norm']\n",
        "nn_df = df[qual_nn_cols].copy()\n",
        "nn_df = nn_df.reset_index(drop=True).merge(df_embed.reset_index(drop=True), left_index=True, right_index=True)\n",
        "nn_df = nn_df.dropna()\n",
        "# TRANSFORM\n",
        "nn_df['Budget Forecast'] = np.log(nn_df['Budget Forecast'])\n",
        "nn_df['Project Duration'] = np.log(nn_df['Project Duration'])\n",
        "nn_df = get_gam_x(nn_df)\n",
        "np.shape(nn_df)"
      ],
      "execution_count": 0,
      "outputs": [
        {
          "output_type": "execute_result",
          "data": {
            "text/plain": [
              "(142, 518)"
            ]
          },
          "metadata": {
            "tags": []
          },
          "execution_count": 64
        }
      ]
    },
    {
      "cell_type": "code",
      "metadata": {
        "colab_type": "code",
        "id": "i8pKloxRidhx",
        "outputId": "4f70d3bb-559e-4671-f33a-a57939f7a320",
        "colab": {
          "base_uri": "https://localhost:8080/",
          "height": 35
        }
      },
      "source": [
        "np.random.seed(49)\n",
        "nn_train, nn_test = train_test_split(nn_df, test_size=.1, random_state=49)\n",
        "nyc_train_nn3 = nn_train.copy()\n",
        "y_train_nn3 = (nyc_train_nn3['Budget Change Norm'])\n",
        "X_train_nn3 = nyc_train_nn3.drop(['Budget Change Norm', 'Project Duration'], axis=1)\n",
        "\n",
        "nyc_test_nn3 = nn_test.copy()\n",
        "y_test_nn3 = (nyc_test_nn3['Budget Change Norm'])\n",
        "X_test_nn3 = nyc_test_nn3.drop(['Budget Change Norm', 'Project Duration'], axis=1)\n",
        "np.shape(X_train_nn3)"
      ],
      "execution_count": 0,
      "outputs": [
        {
          "output_type": "execute_result",
          "data": {
            "text/plain": [
              "(127, 516)"
            ]
          },
          "metadata": {
            "tags": []
          },
          "execution_count": 65
        }
      ]
    },
    {
      "cell_type": "markdown",
      "metadata": {
        "id": "YoJL8AFNQLGZ",
        "colab_type": "text"
      },
      "source": [
        "### Budget Change Model"
      ]
    },
    {
      "cell_type": "code",
      "metadata": {
        "colab_type": "code",
        "id": "ogCJ2cvHqckj",
        "outputId": "a948e384-b15f-43f7-af61-dd69f4f96678",
        "colab": {
          "base_uri": "https://localhost:8080/",
          "height": 487
        }
      },
      "source": [
        "input = Input(shape=(516,))\n",
        "input_1 = Lambda(lambda x: x[:, 0:4])(input)\n",
        "input_2 = Lambda(lambda x: x[:, 4:516])(input)\n",
        "dense1 = Dense(16, activation='relu')(input_2)\n",
        "dense2 = Dense(4, activation='linear')(dense1)\n",
        "dense3 = Dense(2, activation='linear')(input_1)\n",
        "conc1 = Concatenate(axis = 1)([dense2, dense3])\n",
        "output = Dense(1, activation='linear')(conc1)\n",
        "model3 = tf.keras.Model(input, output)\n",
        "model3.compile(optimizer='adam', loss='mse',metrics=['accuracy'])\n",
        "model3.summary()"
      ],
      "execution_count": 0,
      "outputs": [
        {
          "output_type": "stream",
          "text": [
            "Model: \"model_5\"\n",
            "__________________________________________________________________________________________________\n",
            "Layer (type)                    Output Shape         Param #     Connected to                     \n",
            "==================================================================================================\n",
            "input_4 (InputLayer)            [(None, 516)]        0                                            \n",
            "__________________________________________________________________________________________________\n",
            "lambda_7 (Lambda)               (None, 512)          0           input_4[0][0]                    \n",
            "__________________________________________________________________________________________________\n",
            "dense_12 (Dense)                (None, 16)           8208        lambda_7[0][0]                   \n",
            "__________________________________________________________________________________________________\n",
            "lambda_6 (Lambda)               (None, 4)            0           input_4[0][0]                    \n",
            "__________________________________________________________________________________________________\n",
            "dense_13 (Dense)                (None, 4)            68          dense_12[0][0]                   \n",
            "__________________________________________________________________________________________________\n",
            "dense_14 (Dense)                (None, 2)            10          lambda_6[0][0]                   \n",
            "__________________________________________________________________________________________________\n",
            "concatenate_3 (Concatenate)     (None, 6)            0           dense_13[0][0]                   \n",
            "                                                                 dense_14[0][0]                   \n",
            "__________________________________________________________________________________________________\n",
            "dense_15 (Dense)                (None, 1)            7           concatenate_3[0][0]              \n",
            "==================================================================================================\n",
            "Total params: 8,293\n",
            "Trainable params: 8,293\n",
            "Non-trainable params: 0\n",
            "__________________________________________________________________________________________________\n"
          ],
          "name": "stdout"
        }
      ]
    },
    {
      "cell_type": "code",
      "metadata": {
        "colab_type": "code",
        "id": "-MwN48B8q1Pn",
        "outputId": "7af61b4e-d385-4984-8855-ece4c573f601",
        "colab": {
          "base_uri": "https://localhost:8080/",
          "height": 269
        }
      },
      "source": [
        "# Auto-encoder\n",
        "decoder = Dense(512,activation='relu', use_bias=True, bias_initializer='zeros')(input_2)\n",
        "ae = Model(input, decoder)\n",
        "ae.compile(optimizer='adam', loss='mse', metrics=['accuracy'])\n",
        "ae.summary()"
      ],
      "execution_count": 0,
      "outputs": [
        {
          "output_type": "stream",
          "text": [
            "Model: \"model_6\"\n",
            "_________________________________________________________________\n",
            "Layer (type)                 Output Shape              Param #   \n",
            "=================================================================\n",
            "input_4 (InputLayer)         [(None, 516)]             0         \n",
            "_________________________________________________________________\n",
            "lambda_7 (Lambda)            (None, 512)               0         \n",
            "_________________________________________________________________\n",
            "dense_16 (Dense)             (None, 512)               262656    \n",
            "=================================================================\n",
            "Total params: 262,656\n",
            "Trainable params: 262,656\n",
            "Non-trainable params: 0\n",
            "_________________________________________________________________\n"
          ],
          "name": "stdout"
        }
      ]
    },
    {
      "cell_type": "code",
      "metadata": {
        "colab_type": "code",
        "id": "aUBxv49ttPyj",
        "outputId": "67678c03-916f-421f-8e76-a61ba619b63d",
        "colab": {
          "base_uri": "https://localhost:8080/",
          "height": 337
        }
      },
      "source": [
        "ae_history = ae.fit(X_train_nn3.values, X_train_nn3.iloc[:,4:516].values, epochs=512, batch_size=32, shuffle=True, verbose=0, validation_split=0.2)\n",
        "plot_training_history(ae_history)"
      ],
      "execution_count": 0,
      "outputs": [
        {
          "output_type": "display_data",
          "data": {
            "image/png": "[encoded data removed]",
            "text/plain": [
              "<Figure size 432x288 with 1 Axes>"
            ]
          },
          "metadata": {
            "tags": []
          }
        },
        {
          "output_type": "stream",
          "text": [
            "Final Training Loss: 0.0012638785641197817\n",
            "Final Validation Loss: 0.001714547397568822\n"
          ],
          "name": "stdout"
        }
      ]
    },
    {
      "cell_type": "code",
      "metadata": {
        "colab_type": "code",
        "id": "tzW6hCRwudLx",
        "outputId": "00cf1037-7f4e-4780-a1ed-d08fb493a635",
        "colab": {
          "base_uri": "https://localhost:8080/",
          "height": 337
        }
      },
      "source": [
        "# Don't train AE Encoder layer\n",
        "np.random.seed(49)\n",
        "dense1.trainable=False\n",
        "history3 = model3.fit(X_train_nn3.values, y_train_nn3.values, epochs=4096, batch_size=16, verbose=False, shuffle=True, validation_split=0.2)\n",
        "plot_training_history(history3)"
      ],
      "execution_count": 0,
      "outputs": [
        {
          "output_type": "display_data",
          "data": {
            "image/png": "[encoded data removed]",
            "text/plain": [
              "<Figure size 432x288 with 1 Axes>"
            ]
          },
          "metadata": {
            "tags": []
          }
        },
        {
          "output_type": "stream",
          "text": [
            "Final Training Loss: 0.0005945676550416664\n",
            "Final Validation Loss: 0.4428022503852844\n"
          ],
          "name": "stdout"
        }
      ]
    },
    {
      "cell_type": "code",
      "metadata": {
        "colab_type": "code",
        "id": "6ChMnMRtwmss",
        "outputId": "8037de06-a17b-4d09-f1fc-2e937dc1d409",
        "colab": {
          "base_uri": "https://localhost:8080/",
          "height": 73
        }
      },
      "source": [
        "score, _ = model3.evaluate(X_test_nn3.values, y_test_nn3.values,batch_size=32)\n",
        "print('Test score:', score)"
      ],
      "execution_count": 0,
      "outputs": [
        {
          "output_type": "stream",
          "text": [
            "\r15/1 [==================================================================================================================================================================================================================================================================================================================================================================================================================================================================] - 0s 278us/sample - loss: 0.2344 - accuracy: 0.0000e+00\n",
            "Test score: 0.23435163497924805\n"
          ],
          "name": "stdout"
        }
      ]
    },
    {
      "cell_type": "markdown",
      "metadata": {
        "colab_type": "text",
        "id": "TQTdJS9_y5Ug"
      },
      "source": [
        "### Schedule Change Model"
      ]
    },
    {
      "cell_type": "code",
      "metadata": {
        "colab_type": "code",
        "id": "_6BhCcOwy7_e",
        "outputId": "83ccfbf9-10b6-43e4-e42e-d64d979fb94b",
        "colab": {
          "base_uri": "https://localhost:8080/",
          "height": 35
        }
      },
      "source": [
        "y_train_nn4 = (nyc_train_nn3['Schedule Change Norm'])\n",
        "X_train_nn4 = nyc_train_nn3.drop(['Schedule Change Norm', 'Budget Forecast'], axis=1)\n",
        "\n",
        "y_test_nn4 = (nyc_test_nn3['Schedule Change Norm'])\n",
        "X_test_nn4 = nyc_test_nn3.drop(['Schedule Change Norm', 'Budget Forecast'], axis=1)\n",
        "np.shape(X_train_nn4)"
      ],
      "execution_count": 0,
      "outputs": [
        {
          "output_type": "execute_result",
          "data": {
            "text/plain": [
              "(127, 516)"
            ]
          },
          "metadata": {
            "tags": []
          },
          "execution_count": 83
        }
      ]
    },
    {
      "cell_type": "code",
      "metadata": {
        "colab_type": "code",
        "id": "9TiHUJmZzSnp",
        "outputId": "09ff5b83-fe00-466d-d431-bfc289b1d3e8",
        "colab": {
          "base_uri": "https://localhost:8080/",
          "height": 487
        }
      },
      "source": [
        "input = Input(shape=(516,))\n",
        "input_1 = Lambda(lambda x: x[:, 0:4])(input)\n",
        "input_2 = Lambda(lambda x: x[:, 4:516])(input)\n",
        "dense1 = Dense(8, activation='relu')(input_2)\n",
        "dense2 = Dense(4, activation='linear')(dense1)\n",
        "dense3 = Dense(2, activation='linear')(input_1)\n",
        "conc1 = Concatenate(axis = 1)([dense2, dense3])\n",
        "output = Dense(1, activation='linear')(conc1)\n",
        "model4 = tf.keras.Model(input, output)\n",
        "model4.compile(optimizer='adam', loss='mse',metrics=['accuracy'])\n",
        "model4.summary()"
      ],
      "execution_count": 0,
      "outputs": [
        {
          "output_type": "stream",
          "text": [
            "Model: \"model_10\"\n",
            "__________________________________________________________________________________________________\n",
            "Layer (type)                    Output Shape         Param #     Connected to                     \n",
            "==================================================================================================\n",
            "input_7 (InputLayer)            [(None, 516)]        0                                            \n",
            "__________________________________________________________________________________________________\n",
            "lambda_13 (Lambda)              (None, 512)          0           input_7[0][0]                    \n",
            "__________________________________________________________________________________________________\n",
            "dense_26 (Dense)                (None, 8)            4104        lambda_13[0][0]                  \n",
            "__________________________________________________________________________________________________\n",
            "lambda_12 (Lambda)              (None, 4)            0           input_7[0][0]                    \n",
            "__________________________________________________________________________________________________\n",
            "dense_27 (Dense)                (None, 4)            36          dense_26[0][0]                   \n",
            "__________________________________________________________________________________________________\n",
            "dense_28 (Dense)                (None, 2)            10          lambda_12[0][0]                  \n",
            "__________________________________________________________________________________________________\n",
            "concatenate_6 (Concatenate)     (None, 6)            0           dense_27[0][0]                   \n",
            "                                                                 dense_28[0][0]                   \n",
            "__________________________________________________________________________________________________\n",
            "dense_29 (Dense)                (None, 1)            7           concatenate_6[0][0]              \n",
            "==================================================================================================\n",
            "Total params: 4,157\n",
            "Trainable params: 4,157\n",
            "Non-trainable params: 0\n",
            "__________________________________________________________________________________________________\n"
          ],
          "name": "stdout"
        }
      ]
    },
    {
      "cell_type": "code",
      "metadata": {
        "colab_type": "code",
        "id": "4eq7SBt_zb4U",
        "outputId": "06b91770-ecef-470f-97f8-8586f7a9f06d",
        "colab": {
          "base_uri": "https://localhost:8080/",
          "height": 269
        }
      },
      "source": [
        "# Auto-encoder\n",
        "decoder = Dense(512,activation='relu', use_bias=True, bias_initializer='zeros')(input_2)\n",
        "ae2 = Model(input, decoder)\n",
        "ae2.compile(optimizer='adam', loss='mse', metrics=['accuracy'])\n",
        "ae2.summary()"
      ],
      "execution_count": 0,
      "outputs": [
        {
          "output_type": "stream",
          "text": [
            "Model: \"model_11\"\n",
            "_________________________________________________________________\n",
            "Layer (type)                 Output Shape              Param #   \n",
            "=================================================================\n",
            "input_7 (InputLayer)         [(None, 516)]             0         \n",
            "_________________________________________________________________\n",
            "lambda_13 (Lambda)           (None, 512)               0         \n",
            "_________________________________________________________________\n",
            "dense_30 (Dense)             (None, 512)               262656    \n",
            "=================================================================\n",
            "Total params: 262,656\n",
            "Trainable params: 262,656\n",
            "Non-trainable params: 0\n",
            "_________________________________________________________________\n"
          ],
          "name": "stdout"
        }
      ]
    },
    {
      "cell_type": "code",
      "metadata": {
        "colab_type": "code",
        "id": "6MBIczEyzgLY",
        "outputId": "7a820b8c-a381-448e-8896-923f4f336ba7",
        "colab": {
          "base_uri": "https://localhost:8080/",
          "height": 337
        }
      },
      "source": [
        "ae2_history = ae2.fit(X_train_nn4.values, X_train_nn4.iloc[:,4:516].values, epochs=512, batch_size=32, shuffle=True, verbose=0, validation_split=0.2)\n",
        "plot_training_history(ae2_history)"
      ],
      "execution_count": 0,
      "outputs": [
        {
          "output_type": "display_data",
          "data": {
            "image/png": "[encoded data removed]",
            "text/plain": [
              "<Figure size 432x288 with 1 Axes>"
            ]
          },
          "metadata": {
            "tags": []
          }
        },
        {
          "output_type": "stream",
          "text": [
            "Final Training Loss: 0.001262398614170085\n",
            "Final Validation Loss: 0.0017309060785919428\n"
          ],
          "name": "stdout"
        }
      ]
    },
    {
      "cell_type": "code",
      "metadata": {
        "colab_type": "code",
        "id": "NcKyBBdrzmt_",
        "outputId": "9de496d2-6389-4715-81c9-2f824345239b",
        "colab": {
          "base_uri": "https://localhost:8080/",
          "height": 337
        }
      },
      "source": [
        "# Don't train AE Encoder layer\n",
        "np.random.seed(49)\n",
        "dense1.trainable=False\n",
        "history4 = model4.fit(X_train_nn4.values, y_train_nn4.values, epochs=4096, batch_size=16, verbose=False, shuffle=True, validation_split=0.2)\n",
        "plot_training_history(history4)"
      ],
      "execution_count": 0,
      "outputs": [
        {
          "output_type": "display_data",
          "data": {
            "image/png": "[encoded data removed]",
            "text/plain": [
              "<Figure size 432x288 with 1 Axes>"
            ]
          },
          "metadata": {
            "tags": []
          }
        },
        {
          "output_type": "stream",
          "text": [
            "Final Training Loss: 0.0004298113582522227\n",
            "Final Validation Loss: 0.14809413999319077\n"
          ],
          "name": "stdout"
        }
      ]
    },
    {
      "cell_type": "code",
      "metadata": {
        "colab_type": "code",
        "id": "QU7z-SoRzr0n",
        "outputId": "583ee92e-5b2b-4aa1-dd1f-758456c994f4",
        "colab": {
          "base_uri": "https://localhost:8080/",
          "height": 73
        }
      },
      "source": [
        "score, _ = model4.evaluate(X_test_nn4.values, y_test_nn4.values,batch_size=32)\n",
        "print('Test score:', score)"
      ],
      "execution_count": 0,
      "outputs": [
        {
          "output_type": "stream",
          "text": [
            "\r15/1 [==================================================================================================================================================================================================================================================================================================================================================================================================================================================================] - 0s 256us/sample - loss: 0.0940 - accuracy: 0.0667\n",
            "Test score: 0.0939520075917244\n"
          ],
          "name": "stdout"
        }
      ]
    },
    {
      "cell_type": "markdown",
      "metadata": {
        "id": "pHhQUhzSQLHR",
        "colab_type": "text"
      },
      "source": [
        "# Summary"
      ]
    },
    {
      "cell_type": "markdown",
      "metadata": {
        "colab_type": "text",
        "id": "CahhKxYbzp1E"
      },
      "source": [
        "1) Target variables - Success criteria not trivial to define.\n",
        "\n",
        "2) EDA - Feature engineering, Transformations\n",
        "\n",
        "3) NLP and Dimensionality Reduction - Used Google's Auto Encoder model to transform desciption to 512 size vector. Added them as columns and used PCA/AutoEncoder to reduce dimensions\n",
        "\n",
        "4) Models - Linear Regression, Ridge, Lasso, GAM, Bagging and Neural Network based Models\n",
        "\n",
        "5) More Data - If there were more data, we could make use of Deep Learning more effectively\n",
        "\n",
        "6) Goal: The objective was to try various models learned across the two 109 courses.\n",
        "\n",
        "To summarize, we have seen that the performance improves when we are using NLP and Neural Network. With the current size of training data, we used linear models to avoid overfitting. With more training data, we will be able to introduce non-linearity into our models. Additional information such as progress reports or performance review will allow us to extract more information using advanced NLP techniques.\n",
        "\n",
        "We would like to take this opportunity to thank the professors and the TFs for all the help in the two courses (109a and b). We hope to learn more from our peers who are doing Project E.\n"
      ]
    }
  ]
}