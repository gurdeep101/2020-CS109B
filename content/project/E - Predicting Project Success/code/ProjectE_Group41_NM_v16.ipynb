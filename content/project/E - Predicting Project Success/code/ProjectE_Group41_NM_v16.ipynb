{
  "nbformat": 4,
  "nbformat_minor": 0,
  "metadata": {
    "colab": {
      "name": "ProjectE_Group41_NM_v16.ipynb",
      "provenance": [],
      "collapsed_sections": []
    },
    "kernelspec": {
      "display_name": "Python 3",
      "language": "python",
      "name": "python3"
    },
    "language_info": {
      "codemirror_mode": {
        "name": "ipython",
        "version": 3
      },
      "file_extension": ".py",
      "mimetype": "text/x-python",
      "name": "python",
      "nbconvert_exporter": "python",
      "pygments_lexer": "ipython3",
      "version": "3.7.6"
    }
  },
  "cells": [
    {
      "cell_type": "code",
      "metadata": {
        "colab_type": "code",
        "id": "JZMVYVaye806",
        "colab": {
          "base_uri": "https://localhost:8080/",
          "height": 74
        },
        "outputId": "a5456ebf-f302-4aee-9f39-112ca77252ae"
      },
      "source": [
        "#RUN THIS CELL \n",
        "import requests\n",
        "from IPython.core.display import HTML, display\n",
        "styles = requests.get(\"https://raw.githubusercontent.com/Harvard-IACS/2018-CS109A/master/content/styles/cs109.css\").text\n",
        "HTML(styles)\n",
        "\n",
        "import pandas as pd\n",
        "import numpy as np\n",
        "import os\n",
        "import matplotlib\n",
        "import matplotlib.pyplot as plt\n",
        "import seaborn as sns\n",
        "import statsmodels.api as sm\n",
        "from statsmodels.api import OLS\n",
        "from sklearn.model_selection import train_test_split\n",
        "from sklearn.preprocessing import PolynomialFeatures\n",
        "from sklearn.preprocessing import StandardScaler\n",
        "from sklearn.linear_model import LinearRegression\n",
        "from sklearn.linear_model import Ridge\n",
        "from sklearn.linear_model import RidgeCV\n",
        "from sklearn.linear_model import LassoCV\n",
        "from sklearn.metrics import r2_score\n",
        "from pandas.plotting import scatter_matrix\n",
        "\n",
        "# Text pipeline and NLP packages\n",
        "import nltk\n",
        "from nltk.corpus import stopwords\n",
        "from nltk.stem.porter import PorterStemmer\n",
        "from nltk.tokenize import RegexpTokenizer\n",
        "from sklearn.feature_extraction.text import CountVectorizer\n",
        "\n",
        "# Scikit Learn\n",
        "from sklearn.feature_extraction.text import CountVectorizer\n",
        "from sklearn.metrics import silhouette_score, silhouette_samples\n",
        "from sklearn.metrics.pairwise import cosine_similarity, euclidean_distances\n",
        "\n",
        "from wordcloud import WordCloud\n",
        "\n",
        "import tensorflow as tf\n",
        "import tensorflow_hub as hub\n",
        "from absl import logging"
      ],
      "execution_count": 1,
      "outputs": [
        {
          "output_type": "stream",
          "text": [
            "/usr/local/lib/python3.6/dist-packages/statsmodels/tools/_testing.py:19: FutureWarning: pandas.util.testing is deprecated. Use the functions in the public API at pandas.testing instead.\n",
            "  import pandas.util.testing as tm\n"
          ],
          "name": "stderr"
        }
      ]
    },
    {
      "cell_type": "code",
      "metadata": {
        "colab_type": "code",
        "id": "1XVml0uKfsQc",
        "outputId": "ce9e57ee-6357-4f4d-be84-6e41de4d19fc",
        "colab": {
          "base_uri": "https://localhost:8080/",
          "height": 55
        }
      },
      "source": [
        "from google.colab import drive\n",
        "drive.mount('/content/gdrive')"
      ],
      "execution_count": 2,
      "outputs": [
        {
          "output_type": "stream",
          "text": [
            "Drive already mounted at /content/gdrive; to attempt to forcibly remount, call drive.mount(\"/content/gdrive\", force_remount=True).\n"
          ],
          "name": "stdout"
        }
      ]
    },
    {
      "cell_type": "markdown",
      "metadata": {
        "colab_type": "text",
        "id": "UVDpS7Koe80-"
      },
      "source": [
        "## Read in and basic overview"
      ]
    },
    {
      "cell_type": "code",
      "metadata": {
        "colab_type": "code",
        "id": "szkNvRi4e80_",
        "outputId": "7c9ebd07-e519-4903-fd76-28c9a065c922",
        "colab": {
          "base_uri": "https://localhost:8080/",
          "height": 485
        }
      },
      "source": [
        "# Read csv dataset\n",
        "path_dataset = 'gdrive/My Drive/CS109BProject/data/Capital_Projects.csv'\n",
        "df = pd.read_csv(path_dataset)\n",
        "#df = pd.read_csv('Capital_Projects.csv')\n",
        "#print(df.shape)\n",
        "df.replace('', np.nan, inplace=True)\n",
        "# Drop nan values for the following columns\n",
        "df = df.dropna(subset=['Budget Forecast', 'Total Budget Changes',\n",
        "                       'Forecast Completion', 'Total Schedule Changes'], how='all')\n",
        "# Only take budget forecast for positive values\n",
        "df = df[df['Budget Forecast'] > 0]\n",
        "# Reset index to eliminate completely missing rows from the dataframe\n",
        "df.reset_index(drop=True, inplace=True)\n",
        "# Keep only last row of each project\n",
        "df = df.groupby('PID').tail(1)\n",
        "\n",
        "# Minimize the effect of ZERO schedule change on regression model\n",
        "new_df = df[df['Total Schedule Changes'] == 0].sample(n=15, random_state=1)\n",
        "df = df[df['Total Schedule Changes'] != 0]\n",
        "df = df.append(new_df)\n",
        "\n",
        "# Minimize the effect of ZERO budget change on regression model\n",
        "new_df = df[df['Total Budget Changes'] == 0].sample(n=7, random_state=1)\n",
        "df = df[df['Total Budget Changes'] != 0]\n",
        "df = df.append(new_df)\n",
        "df.describe(include='all')"
      ],
      "execution_count": 3,
      "outputs": [
        {
          "output_type": "execute_result",
          "data": {
            "text/html": [
              "<div>\n",
              "<style scoped>\n",
              "    .dataframe tbody tr th:only-of-type {\n",
              "        vertical-align: middle;\n",
              "    }\n",
              "\n",
              "    .dataframe tbody tr th {\n",
              "        vertical-align: top;\n",
              "    }\n",
              "\n",
              "    .dataframe thead th {\n",
              "        text-align: right;\n",
              "    }\n",
              "</style>\n",
              "<table border=\"1\" class=\"dataframe\">\n",
              "  <thead>\n",
              "    <tr style=\"text-align: right;\">\n",
              "      <th></th>\n",
              "      <th>Date Reported As Of</th>\n",
              "      <th>PID</th>\n",
              "      <th>Project Name</th>\n",
              "      <th>Description</th>\n",
              "      <th>Category</th>\n",
              "      <th>Borough</th>\n",
              "      <th>Managing Agency</th>\n",
              "      <th>Client Agency</th>\n",
              "      <th>Current Phase</th>\n",
              "      <th>Design Start</th>\n",
              "      <th>Budget Forecast</th>\n",
              "      <th>Latest Budget Changes</th>\n",
              "      <th>Total Budget Changes</th>\n",
              "      <th>Forecast Completion</th>\n",
              "      <th>Latest Schedule Changes</th>\n",
              "      <th>Total Schedule Changes</th>\n",
              "    </tr>\n",
              "  </thead>\n",
              "  <tbody>\n",
              "    <tr>\n",
              "      <th>count</th>\n",
              "      <td>301</td>\n",
              "      <td>301.000000</td>\n",
              "      <td>301</td>\n",
              "      <td>298</td>\n",
              "      <td>301</td>\n",
              "      <td>152</td>\n",
              "      <td>301</td>\n",
              "      <td>240</td>\n",
              "      <td>301</td>\n",
              "      <td>294</td>\n",
              "      <td>3.010000e+02</td>\n",
              "      <td>2.480000e+02</td>\n",
              "      <td>2.480000e+02</td>\n",
              "      <td>299</td>\n",
              "      <td>246.000000</td>\n",
              "      <td>246.000000</td>\n",
              "    </tr>\n",
              "    <tr>\n",
              "      <th>unique</th>\n",
              "      <td>4</td>\n",
              "      <td>NaN</td>\n",
              "      <td>301</td>\n",
              "      <td>277</td>\n",
              "      <td>21</td>\n",
              "      <td>19</td>\n",
              "      <td>12</td>\n",
              "      <td>29</td>\n",
              "      <td>5</td>\n",
              "      <td>256</td>\n",
              "      <td>NaN</td>\n",
              "      <td>NaN</td>\n",
              "      <td>NaN</td>\n",
              "      <td>252</td>\n",
              "      <td>NaN</td>\n",
              "      <td>NaN</td>\n",
              "    </tr>\n",
              "    <tr>\n",
              "      <th>top</th>\n",
              "      <td>09/01/2019 12:00:00 AM</td>\n",
              "      <td>NaN</td>\n",
              "      <td>Beach 108th Streetscape Improvements</td>\n",
              "      <td>Design and construction of a new school</td>\n",
              "      <td>Streets and Roadways</td>\n",
              "      <td>Brooklyn</td>\n",
              "      <td>DDC</td>\n",
              "      <td>DEP</td>\n",
              "      <td>Construction</td>\n",
              "      <td>05/04/2016</td>\n",
              "      <td>NaN</td>\n",
              "      <td>NaN</td>\n",
              "      <td>NaN</td>\n",
              "      <td>12/31/2019</td>\n",
              "      <td>NaN</td>\n",
              "      <td>NaN</td>\n",
              "    </tr>\n",
              "    <tr>\n",
              "      <th>freq</th>\n",
              "      <td>240</td>\n",
              "      <td>NaN</td>\n",
              "      <td>1</td>\n",
              "      <td>16</td>\n",
              "      <td>63</td>\n",
              "      <td>41</td>\n",
              "      <td>152</td>\n",
              "      <td>105</td>\n",
              "      <td>144</td>\n",
              "      <td>7</td>\n",
              "      <td>NaN</td>\n",
              "      <td>NaN</td>\n",
              "      <td>NaN</td>\n",
              "      <td>11</td>\n",
              "      <td>NaN</td>\n",
              "      <td>NaN</td>\n",
              "    </tr>\n",
              "    <tr>\n",
              "      <th>mean</th>\n",
              "      <td>NaN</td>\n",
              "      <td>639.368771</td>\n",
              "      <td>NaN</td>\n",
              "      <td>NaN</td>\n",
              "      <td>NaN</td>\n",
              "      <td>NaN</td>\n",
              "      <td>NaN</td>\n",
              "      <td>NaN</td>\n",
              "      <td>NaN</td>\n",
              "      <td>NaN</td>\n",
              "      <td>1.128818e+08</td>\n",
              "      <td>2.684097e+06</td>\n",
              "      <td>2.010676e+07</td>\n",
              "      <td>NaN</td>\n",
              "      <td>66.967480</td>\n",
              "      <td>562.239837</td>\n",
              "    </tr>\n",
              "    <tr>\n",
              "      <th>std</th>\n",
              "      <td>NaN</td>\n",
              "      <td>274.070782</td>\n",
              "      <td>NaN</td>\n",
              "      <td>NaN</td>\n",
              "      <td>NaN</td>\n",
              "      <td>NaN</td>\n",
              "      <td>NaN</td>\n",
              "      <td>NaN</td>\n",
              "      <td>NaN</td>\n",
              "      <td>NaN</td>\n",
              "      <td>2.574745e+08</td>\n",
              "      <td>4.023569e+07</td>\n",
              "      <td>8.348361e+07</td>\n",
              "      <td>NaN</td>\n",
              "      <td>216.554972</td>\n",
              "      <td>657.996523</td>\n",
              "    </tr>\n",
              "    <tr>\n",
              "      <th>min</th>\n",
              "      <td>NaN</td>\n",
              "      <td>3.000000</td>\n",
              "      <td>NaN</td>\n",
              "      <td>NaN</td>\n",
              "      <td>NaN</td>\n",
              "      <td>NaN</td>\n",
              "      <td>NaN</td>\n",
              "      <td>NaN</td>\n",
              "      <td>NaN</td>\n",
              "      <td>NaN</td>\n",
              "      <td>2.116642e+06</td>\n",
              "      <td>-2.664272e+08</td>\n",
              "      <td>-2.919002e+08</td>\n",
              "      <td>NaN</td>\n",
              "      <td>-995.000000</td>\n",
              "      <td>-1412.000000</td>\n",
              "    </tr>\n",
              "    <tr>\n",
              "      <th>25%</th>\n",
              "      <td>NaN</td>\n",
              "      <td>474.000000</td>\n",
              "      <td>NaN</td>\n",
              "      <td>NaN</td>\n",
              "      <td>NaN</td>\n",
              "      <td>NaN</td>\n",
              "      <td>NaN</td>\n",
              "      <td>NaN</td>\n",
              "      <td>NaN</td>\n",
              "      <td>NaN</td>\n",
              "      <td>3.595827e+07</td>\n",
              "      <td>0.000000e+00</td>\n",
              "      <td>0.000000e+00</td>\n",
              "      <td>NaN</td>\n",
              "      <td>0.000000</td>\n",
              "      <td>86.500000</td>\n",
              "    </tr>\n",
              "    <tr>\n",
              "      <th>50%</th>\n",
              "      <td>NaN</td>\n",
              "      <td>656.000000</td>\n",
              "      <td>NaN</td>\n",
              "      <td>NaN</td>\n",
              "      <td>NaN</td>\n",
              "      <td>NaN</td>\n",
              "      <td>NaN</td>\n",
              "      <td>NaN</td>\n",
              "      <td>NaN</td>\n",
              "      <td>NaN</td>\n",
              "      <td>5.501760e+07</td>\n",
              "      <td>0.000000e+00</td>\n",
              "      <td>4.953144e+06</td>\n",
              "      <td>NaN</td>\n",
              "      <td>0.000000</td>\n",
              "      <td>450.000000</td>\n",
              "    </tr>\n",
              "    <tr>\n",
              "      <th>75%</th>\n",
              "      <td>NaN</td>\n",
              "      <td>868.000000</td>\n",
              "      <td>NaN</td>\n",
              "      <td>NaN</td>\n",
              "      <td>NaN</td>\n",
              "      <td>NaN</td>\n",
              "      <td>NaN</td>\n",
              "      <td>NaN</td>\n",
              "      <td>NaN</td>\n",
              "      <td>NaN</td>\n",
              "      <td>9.038300e+07</td>\n",
              "      <td>1.000000e+06</td>\n",
              "      <td>2.574161e+07</td>\n",
              "      <td>NaN</td>\n",
              "      <td>91.000000</td>\n",
              "      <td>944.250000</td>\n",
              "    </tr>\n",
              "    <tr>\n",
              "      <th>max</th>\n",
              "      <td>NaN</td>\n",
              "      <td>1014.000000</td>\n",
              "      <td>NaN</td>\n",
              "      <td>NaN</td>\n",
              "      <td>NaN</td>\n",
              "      <td>NaN</td>\n",
              "      <td>NaN</td>\n",
              "      <td>NaN</td>\n",
              "      <td>NaN</td>\n",
              "      <td>NaN</td>\n",
              "      <td>2.449622e+09</td>\n",
              "      <td>5.322707e+08</td>\n",
              "      <td>8.078026e+08</td>\n",
              "      <td>NaN</td>\n",
              "      <td>1413.000000</td>\n",
              "      <td>3253.000000</td>\n",
              "    </tr>\n",
              "  </tbody>\n",
              "</table>\n",
              "</div>"
            ],
            "text/plain": [
              "           Date Reported As Of  ...  Total Schedule Changes\n",
              "count                      301  ...              246.000000\n",
              "unique                       4  ...                     NaN\n",
              "top     09/01/2019 12:00:00 AM  ...                     NaN\n",
              "freq                       240  ...                     NaN\n",
              "mean                       NaN  ...              562.239837\n",
              "std                        NaN  ...              657.996523\n",
              "min                        NaN  ...            -1412.000000\n",
              "25%                        NaN  ...               86.500000\n",
              "50%                        NaN  ...              450.000000\n",
              "75%                        NaN  ...              944.250000\n",
              "max                        NaN  ...             3253.000000\n",
              "\n",
              "[11 rows x 16 columns]"
            ]
          },
          "metadata": {
            "tags": []
          },
          "execution_count": 3
        }
      ]
    },
    {
      "cell_type": "markdown",
      "metadata": {
        "id": "KXGJQRAp0oD4",
        "colab_type": "text"
      },
      "source": [
        "## NLP Embedding preparation"
      ]
    },
    {
      "cell_type": "code",
      "metadata": {
        "id": "bVJHbr8P0oD5",
        "colab_type": "code",
        "outputId": "0492a9bd-415a-4988-9590-cb4ca3e04154",
        "colab": {
          "base_uri": "https://localhost:8080/",
          "height": 72
        }
      },
      "source": [
        "# Define list of stop words and a function to normalize text\n",
        "nltk.download('stopwords')\n",
        "stops = set(stopwords.words(\"english\"))\n",
        "stops = stops.union(['i','say','like','year','one','also','said','use'])\n",
        "\n",
        "# Define tokenizer to split sentence into tokens\n",
        "tokenizer = RegexpTokenizer(r'[a-z]+')\n",
        "\n",
        "def textNormalize(text):\n",
        "    textLower = text.lower()\n",
        "    textList = tokenizer.tokenize(textLower)\n",
        "    stopped_doc_tokens = [word for word in textList if not word in stops]\n",
        "    stopstem_doc_tokens0 = [PorterStemmer().stem(word) for word in stopped_doc_tokens]\n",
        "    stopstem_doc_tokens = [word for word in stopstem_doc_tokens0 if len(word)>1]\n",
        "    return stopstem_doc_tokens\n",
        "\n",
        "#example to check how it works\n",
        "textNormalize(\".. 120 I'm in Delhi India,,, today is 2019. went flying\")"
      ],
      "execution_count": 4,
      "outputs": [
        {
          "output_type": "stream",
          "text": [
            "[nltk_data] Downloading package stopwords to /root/nltk_data...\n",
            "[nltk_data]   Package stopwords is already up-to-date!\n"
          ],
          "name": "stdout"
        },
        {
          "output_type": "execute_result",
          "data": {
            "text/plain": [
              "['delhi', 'india', 'today', 'went', 'fli']"
            ]
          },
          "metadata": {
            "tags": []
          },
          "execution_count": 4
        }
      ]
    },
    {
      "cell_type": "code",
      "metadata": {
        "id": "i0a7Fd1l0oD9",
        "colab_type": "code",
        "outputId": "1341be84-15a1-4929-c15f-8ab769c5fad5",
        "colab": {
          "base_uri": "https://localhost:8080/",
          "height": 435
        }
      },
      "source": [
        "df['Description'] = df['Description'].astype(str)\n",
        "df['Normalized Description'] = df['Description'].apply(textNormalize)\n",
        "df['normal_joined'] = df['Normalized Description'].apply(', '.join)\n",
        "df['normal_joined'] = df['normal_joined'].apply(lambda x: x.replace(', ', ' '))\n",
        "df.head(n=3)"
      ],
      "execution_count": 5,
      "outputs": [
        {
          "output_type": "execute_result",
          "data": {
            "text/html": [
              "<div>\n",
              "<style scoped>\n",
              "    .dataframe tbody tr th:only-of-type {\n",
              "        vertical-align: middle;\n",
              "    }\n",
              "\n",
              "    .dataframe tbody tr th {\n",
              "        vertical-align: top;\n",
              "    }\n",
              "\n",
              "    .dataframe thead th {\n",
              "        text-align: right;\n",
              "    }\n",
              "</style>\n",
              "<table border=\"1\" class=\"dataframe\">\n",
              "  <thead>\n",
              "    <tr style=\"text-align: right;\">\n",
              "      <th></th>\n",
              "      <th>Date Reported As Of</th>\n",
              "      <th>PID</th>\n",
              "      <th>Project Name</th>\n",
              "      <th>Description</th>\n",
              "      <th>Category</th>\n",
              "      <th>Borough</th>\n",
              "      <th>Managing Agency</th>\n",
              "      <th>Client Agency</th>\n",
              "      <th>Current Phase</th>\n",
              "      <th>Design Start</th>\n",
              "      <th>Budget Forecast</th>\n",
              "      <th>Latest Budget Changes</th>\n",
              "      <th>Total Budget Changes</th>\n",
              "      <th>Forecast Completion</th>\n",
              "      <th>Latest Schedule Changes</th>\n",
              "      <th>Total Schedule Changes</th>\n",
              "      <th>Normalized Description</th>\n",
              "      <th>normal_joined</th>\n",
              "    </tr>\n",
              "  </thead>\n",
              "  <tbody>\n",
              "    <tr>\n",
              "      <th>12</th>\n",
              "      <td>09/01/2019 12:00:00 AM</td>\n",
              "      <td>3</td>\n",
              "      <td>26th Ward Waste Water Treatment Plant Prelimin...</td>\n",
              "      <td>The 26th Ward WWTP is mandated to be upgraded ...</td>\n",
              "      <td>Wastewater Treatment</td>\n",
              "      <td>Brooklyn</td>\n",
              "      <td>DEP</td>\n",
              "      <td>DEP</td>\n",
              "      <td>Construction</td>\n",
              "      <td>09/23/2013</td>\n",
              "      <td>1.805777e+08</td>\n",
              "      <td>-4664980.0</td>\n",
              "      <td>-4318643.37</td>\n",
              "      <td>10/09/2020</td>\n",
              "      <td>0.0</td>\n",
              "      <td>270.0</td>\n",
              "      <td>[th, ward, wwtp, mandat, upgrad, preliminari, ...</td>\n",
              "      <td>th ward wwtp mandat upgrad preliminari treatme...</td>\n",
              "    </tr>\n",
              "    <tr>\n",
              "      <th>27</th>\n",
              "      <td>09/01/2019 12:00:00 AM</td>\n",
              "      <td>7</td>\n",
              "      <td>Bowery Bay Waste Water Treatment Plant Main Se...</td>\n",
              "      <td>The existing Main Sewage Pumps have deteriorat...</td>\n",
              "      <td>Wastewater Treatment</td>\n",
              "      <td>Queens</td>\n",
              "      <td>DEP</td>\n",
              "      <td>DEP</td>\n",
              "      <td>Construction</td>\n",
              "      <td>05/01/2013</td>\n",
              "      <td>6.879846e+07</td>\n",
              "      <td>1065884.0</td>\n",
              "      <td>15305457.00</td>\n",
              "      <td>02/14/2020</td>\n",
              "      <td>88.0</td>\n",
              "      <td>685.0</td>\n",
              "      <td>[exist, main, sewag, pump, deterior, pump, sys...</td>\n",
              "      <td>exist main sewag pump deterior pump system inc...</td>\n",
              "    </tr>\n",
              "    <tr>\n",
              "      <th>42</th>\n",
              "      <td>09/01/2019 12:00:00 AM</td>\n",
              "      <td>18</td>\n",
              "      <td>Croton Falls Pumping Station Construction</td>\n",
              "      <td>This project will construct a new pumping stat...</td>\n",
              "      <td>Water Supply</td>\n",
              "      <td>Carmel</td>\n",
              "      <td>DEP</td>\n",
              "      <td>DEP</td>\n",
              "      <td>Construction</td>\n",
              "      <td>08/22/2003</td>\n",
              "      <td>6.787161e+07</td>\n",
              "      <td>-1399611.0</td>\n",
              "      <td>1255175.02</td>\n",
              "      <td>03/10/2020</td>\n",
              "      <td>91.0</td>\n",
              "      <td>1014.0</td>\n",
              "      <td>[project, construct, new, pump, station, repla...</td>\n",
              "      <td>project construct new pump station replac hydr...</td>\n",
              "    </tr>\n",
              "  </tbody>\n",
              "</table>\n",
              "</div>"
            ],
            "text/plain": [
              "       Date Reported As Of  ...                                      normal_joined\n",
              "12  09/01/2019 12:00:00 AM  ...  th ward wwtp mandat upgrad preliminari treatme...\n",
              "27  09/01/2019 12:00:00 AM  ...  exist main sewag pump deterior pump system inc...\n",
              "42  09/01/2019 12:00:00 AM  ...  project construct new pump station replac hydr...\n",
              "\n",
              "[3 rows x 18 columns]"
            ]
          },
          "metadata": {
            "tags": []
          },
          "execution_count": 5
        }
      ]
    },
    {
      "cell_type": "code",
      "metadata": {
        "id": "PaCIXFlV0oEB",
        "colab_type": "code",
        "outputId": "99462c1c-4eca-4a4d-d6ca-dd3776bcb9d4",
        "colab": {
          "base_uri": "https://localhost:8080/",
          "height": 35
        }
      },
      "source": [
        "# Universal sentence encoder \n",
        "module_url = \"https://tfhub.dev/google/universal-sentence-encoder/4\" #@param [\"https://tfhub.dev/google/universal-sentence-encoder/4\", \"https://tfhub.dev/google/universal-sentence-encoder-large/5\"]\n",
        "model = hub.load(module_url)\n",
        "print (\"module %s loaded\" % module_url)\n",
        "def embed(input):\n",
        "  return model(input)"
      ],
      "execution_count": 6,
      "outputs": [
        {
          "output_type": "stream",
          "text": [
            "module https://tfhub.dev/google/universal-sentence-encoder/4 loaded\n"
          ],
          "name": "stdout"
        }
      ]
    },
    {
      "cell_type": "markdown",
      "metadata": {
        "colab_type": "text",
        "id": "Bm9iAy4Ighwx"
      },
      "source": [
        "## Data Transformation, Feature Engineering and Plots"
      ]
    },
    {
      "cell_type": "code",
      "metadata": {
        "colab_type": "code",
        "id": "gNRQ4W2We82Q",
        "outputId": "c3d51c4b-37b3-45f1-a2e9-ef7092ac42f9",
        "colab": {
          "base_uri": "https://localhost:8080/",
          "height": 399
        }
      },
      "source": [
        "#### (1) #### CHANGE object to datetime64[ns] for columns with dates, drop NaNs\n",
        "df['Forecast Completion'] =pd.to_datetime(df['Forecast Completion'], format='%m/%d/%Y', exact=False)\n",
        "df['Date Reported As Of'] = pd.to_datetime(df['Date Reported As Of'],format='%m/%d/%Y', exact=False)\n",
        "df['Design Start'] = pd.to_datetime(df['Design Start'], format='%m/%d/%Y', exact=False)\n",
        "date_reported_min = min(df['Date Reported As Of'])\n",
        "date_min = min([min(df['Date Reported As Of']), min(df['Design Start']), min(df['Forecast Completion'])])\n",
        "print(f'Minimum Date: {date_min}')\n",
        "print(f'Date Reported Minimum: {date_reported_min}')\n",
        "df.dtypes"
      ],
      "execution_count": 7,
      "outputs": [
        {
          "output_type": "stream",
          "text": [
            "Minimum Date: 1993-08-02 00:00:00\n",
            "Date Reported Minimum: 2018-08-01 00:00:00\n"
          ],
          "name": "stdout"
        },
        {
          "output_type": "execute_result",
          "data": {
            "text/plain": [
              "Date Reported As Of        datetime64[ns]\n",
              "PID                                 int64\n",
              "Project Name                       object\n",
              "Description                        object\n",
              "Category                           object\n",
              "Borough                            object\n",
              "Managing Agency                    object\n",
              "Client Agency                      object\n",
              "Current Phase                      object\n",
              "Design Start               datetime64[ns]\n",
              "Budget Forecast                   float64\n",
              "Latest Budget Changes             float64\n",
              "Total Budget Changes              float64\n",
              "Forecast Completion        datetime64[ns]\n",
              "Latest Schedule Changes           float64\n",
              "Total Schedule Changes            float64\n",
              "Normalized Description             object\n",
              "normal_joined                      object\n",
              "dtype: object"
            ]
          },
          "metadata": {
            "tags": []
          },
          "execution_count": 7
        }
      ]
    },
    {
      "cell_type": "code",
      "metadata": {
        "colab_type": "code",
        "id": "jpE316DIHZXv",
        "outputId": "9fb5e40a-c2c4-459f-bf4a-1694266e8cfe",
        "colab": {
          "base_uri": "https://localhost:8080/",
          "height": 342
        }
      },
      "source": [
        "### (a) Schedule Change Norm ===>  Change Normalized to Project Duration of each project\n",
        "df['Project Duration'] = df['Forecast Completion'] - df['Design Start']\n",
        "df['Schedule Change Norm'] = df['Total Schedule Changes']/(df['Project Duration']/pd.Timedelta(days=1))\n",
        "\n",
        "### (b) Project Duration Norm ===> Normalized over all projects (to normalize across big and small projects)\n",
        "max_project_duration = max(df['Project Duration'])\n",
        "min_project_duration = min(df['Project Duration'])\n",
        "#df['Project Duration Norm'] = (df['Project Duration'] - min_project_duration) / (max_project_duration - min_project_duration)\n",
        "df['Project Duration'] = df['Project Duration']/pd.Timedelta(days=1)\n",
        "print(f'Max Project Duration: {max_project_duration} \\nMin Project Duration: {min_project_duration} ')\n",
        "df.describe()"
      ],
      "execution_count": 8,
      "outputs": [
        {
          "output_type": "stream",
          "text": [
            "Max Project Duration: 9736 days 00:00:00 \n",
            "Min Project Duration: 656 days 00:00:00 \n"
          ],
          "name": "stdout"
        },
        {
          "output_type": "execute_result",
          "data": {
            "text/html": [
              "<div>\n",
              "<style scoped>\n",
              "    .dataframe tbody tr th:only-of-type {\n",
              "        vertical-align: middle;\n",
              "    }\n",
              "\n",
              "    .dataframe tbody tr th {\n",
              "        vertical-align: top;\n",
              "    }\n",
              "\n",
              "    .dataframe thead th {\n",
              "        text-align: right;\n",
              "    }\n",
              "</style>\n",
              "<table border=\"1\" class=\"dataframe\">\n",
              "  <thead>\n",
              "    <tr style=\"text-align: right;\">\n",
              "      <th></th>\n",
              "      <th>PID</th>\n",
              "      <th>Budget Forecast</th>\n",
              "      <th>Latest Budget Changes</th>\n",
              "      <th>Total Budget Changes</th>\n",
              "      <th>Latest Schedule Changes</th>\n",
              "      <th>Total Schedule Changes</th>\n",
              "      <th>Project Duration</th>\n",
              "      <th>Schedule Change Norm</th>\n",
              "    </tr>\n",
              "  </thead>\n",
              "  <tbody>\n",
              "    <tr>\n",
              "      <th>count</th>\n",
              "      <td>301.000000</td>\n",
              "      <td>3.010000e+02</td>\n",
              "      <td>2.480000e+02</td>\n",
              "      <td>2.480000e+02</td>\n",
              "      <td>246.000000</td>\n",
              "      <td>246.000000</td>\n",
              "      <td>293.000000</td>\n",
              "      <td>241.000000</td>\n",
              "    </tr>\n",
              "    <tr>\n",
              "      <th>mean</th>\n",
              "      <td>639.368771</td>\n",
              "      <td>1.128818e+08</td>\n",
              "      <td>2.684097e+06</td>\n",
              "      <td>2.010676e+07</td>\n",
              "      <td>66.967480</td>\n",
              "      <td>562.239837</td>\n",
              "      <td>2773.535836</td>\n",
              "      <td>0.180054</td>\n",
              "    </tr>\n",
              "    <tr>\n",
              "      <th>std</th>\n",
              "      <td>274.070782</td>\n",
              "      <td>2.574745e+08</td>\n",
              "      <td>4.023569e+07</td>\n",
              "      <td>8.348361e+07</td>\n",
              "      <td>216.554972</td>\n",
              "      <td>657.996523</td>\n",
              "      <td>1418.030371</td>\n",
              "      <td>0.218157</td>\n",
              "    </tr>\n",
              "    <tr>\n",
              "      <th>min</th>\n",
              "      <td>3.000000</td>\n",
              "      <td>2.116642e+06</td>\n",
              "      <td>-2.664272e+08</td>\n",
              "      <td>-2.919002e+08</td>\n",
              "      <td>-995.000000</td>\n",
              "      <td>-1412.000000</td>\n",
              "      <td>656.000000</td>\n",
              "      <td>-0.722620</td>\n",
              "    </tr>\n",
              "    <tr>\n",
              "      <th>25%</th>\n",
              "      <td>474.000000</td>\n",
              "      <td>3.595827e+07</td>\n",
              "      <td>0.000000e+00</td>\n",
              "      <td>0.000000e+00</td>\n",
              "      <td>0.000000</td>\n",
              "      <td>86.500000</td>\n",
              "      <td>1879.000000</td>\n",
              "      <td>0.037037</td>\n",
              "    </tr>\n",
              "    <tr>\n",
              "      <th>50%</th>\n",
              "      <td>656.000000</td>\n",
              "      <td>5.501760e+07</td>\n",
              "      <td>0.000000e+00</td>\n",
              "      <td>4.953144e+06</td>\n",
              "      <td>0.000000</td>\n",
              "      <td>450.000000</td>\n",
              "      <td>2429.000000</td>\n",
              "      <td>0.167430</td>\n",
              "    </tr>\n",
              "    <tr>\n",
              "      <th>75%</th>\n",
              "      <td>868.000000</td>\n",
              "      <td>9.038300e+07</td>\n",
              "      <td>1.000000e+06</td>\n",
              "      <td>2.574161e+07</td>\n",
              "      <td>91.000000</td>\n",
              "      <td>944.250000</td>\n",
              "      <td>3171.000000</td>\n",
              "      <td>0.310505</td>\n",
              "    </tr>\n",
              "    <tr>\n",
              "      <th>max</th>\n",
              "      <td>1014.000000</td>\n",
              "      <td>2.449622e+09</td>\n",
              "      <td>5.322707e+08</td>\n",
              "      <td>8.078026e+08</td>\n",
              "      <td>1413.000000</td>\n",
              "      <td>3253.000000</td>\n",
              "      <td>9736.000000</td>\n",
              "      <td>1.023743</td>\n",
              "    </tr>\n",
              "  </tbody>\n",
              "</table>\n",
              "</div>"
            ],
            "text/plain": [
              "               PID  Budget Forecast  ...  Project Duration  Schedule Change Norm\n",
              "count   301.000000     3.010000e+02  ...        293.000000            241.000000\n",
              "mean    639.368771     1.128818e+08  ...       2773.535836              0.180054\n",
              "std     274.070782     2.574745e+08  ...       1418.030371              0.218157\n",
              "min       3.000000     2.116642e+06  ...        656.000000             -0.722620\n",
              "25%     474.000000     3.595827e+07  ...       1879.000000              0.037037\n",
              "50%     656.000000     5.501760e+07  ...       2429.000000              0.167430\n",
              "75%     868.000000     9.038300e+07  ...       3171.000000              0.310505\n",
              "max    1014.000000     2.449622e+09  ...       9736.000000              1.023743\n",
              "\n",
              "[8 rows x 8 columns]"
            ]
          },
          "metadata": {
            "tags": []
          },
          "execution_count": 8
        }
      ]
    },
    {
      "cell_type": "code",
      "metadata": {
        "colab_type": "code",
        "id": "katZH842So-d",
        "outputId": "fc194430-16f3-4881-9335-5ac18abfb23e",
        "colab": {
          "base_uri": "https://localhost:8080/",
          "height": 406
        }
      },
      "source": [
        "import seaborn as sns\n",
        "sns.set(style=\"ticks\")\n",
        "sns.pairplot(df[['Project Duration', 'Schedule Change Norm']])"
      ],
      "execution_count": 9,
      "outputs": [
        {
          "output_type": "execute_result",
          "data": {
            "text/plain": [
              "<seaborn.axisgrid.PairGrid at 0x7f81cf75c128>"
            ]
          },
          "metadata": {
            "tags": []
          },
          "execution_count": 9
        },
        {
          "output_type": "display_data",
          "data": {
            "image/png": "[encoded data removed]",
            "text/plain": [
              "<Figure size 360x360 with 6 Axes>"
            ]
          },
          "metadata": {
            "tags": []
          }
        }
      ]
    },
    {
      "cell_type": "code",
      "metadata": {
        "colab_type": "code",
        "id": "hxxfkA819o_k",
        "outputId": "dde3103c-262d-4328-a8fa-e905a97b5057",
        "colab": {
          "base_uri": "https://localhost:8080/",
          "height": 54
        }
      },
      "source": [
        "### (a) Budget Change Norm ===>  Budget Change Normalized to Final Budget of each project\n",
        "df['Budget Change Norm'] = df['Total Budget Changes']/df['Budget Forecast']\n",
        "\n",
        "### (b) Total Budget Norm ===> Budget Forecast Normalized through all projects\n",
        "max_budget_final = max(df['Budget Forecast'])\n",
        "min_budget_final = min(df['Budget Forecast'])\n",
        "df['Total Budget Norm'] = (0.9 - 0.1)*(df['Budget Forecast'] - min_budget_final)/(max_budget_final - min_budget_final) + 0.1\n",
        "print(f'Max Budget: {max_budget_final} \\n Min Budget: {min_budget_final}')\n"
      ],
      "execution_count": 10,
      "outputs": [
        {
          "output_type": "stream",
          "text": [
            "Max Budget: 2449621616.0 \n",
            " Min Budget: 2116642.0\n"
          ],
          "name": "stdout"
        }
      ]
    },
    {
      "cell_type": "markdown",
      "metadata": {
        "id": "a5fTI6Db0oEU",
        "colab_type": "text"
      },
      "source": [
        "### Remove Outliers"
      ]
    },
    {
      "cell_type": "code",
      "metadata": {
        "id": "uxUUWxey0oEU",
        "colab_type": "code",
        "outputId": "333b701c-23c9-4d38-d96a-c915d907d5fc",
        "colab": {
          "base_uri": "https://localhost:8080/",
          "height": 361
        }
      },
      "source": [
        "# Remove outliers\n",
        "df = df[df['Budget Change Norm'] > -2]\n",
        "df = df[df['Total Budget Norm'] < 0.3]\n",
        "min_budget_norm = min(df['Budget Change Norm'])\n",
        "print(f'Minimum Budget Change Norm: {min_budget_norm}')\n",
        "df.describe()"
      ],
      "execution_count": 11,
      "outputs": [
        {
          "output_type": "stream",
          "text": [
            "Minimum Budget Change Norm: -1.9474624118003965\n"
          ],
          "name": "stdout"
        },
        {
          "output_type": "execute_result",
          "data": {
            "text/html": [
              "<div>\n",
              "<style scoped>\n",
              "    .dataframe tbody tr th:only-of-type {\n",
              "        vertical-align: middle;\n",
              "    }\n",
              "\n",
              "    .dataframe tbody tr th {\n",
              "        vertical-align: top;\n",
              "    }\n",
              "\n",
              "    .dataframe thead th {\n",
              "        text-align: right;\n",
              "    }\n",
              "</style>\n",
              "<table border=\"1\" class=\"dataframe\">\n",
              "  <thead>\n",
              "    <tr style=\"text-align: right;\">\n",
              "      <th></th>\n",
              "      <th>PID</th>\n",
              "      <th>Budget Forecast</th>\n",
              "      <th>Latest Budget Changes</th>\n",
              "      <th>Total Budget Changes</th>\n",
              "      <th>Latest Schedule Changes</th>\n",
              "      <th>Total Schedule Changes</th>\n",
              "      <th>Project Duration</th>\n",
              "      <th>Schedule Change Norm</th>\n",
              "      <th>Budget Change Norm</th>\n",
              "      <th>Total Budget Norm</th>\n",
              "    </tr>\n",
              "  </thead>\n",
              "  <tbody>\n",
              "    <tr>\n",
              "      <th>count</th>\n",
              "      <td>235.000000</td>\n",
              "      <td>2.350000e+02</td>\n",
              "      <td>2.350000e+02</td>\n",
              "      <td>2.350000e+02</td>\n",
              "      <td>233.000000</td>\n",
              "      <td>233.000000</td>\n",
              "      <td>230.000000</td>\n",
              "      <td>230.000000</td>\n",
              "      <td>235.000000</td>\n",
              "      <td>235.000000</td>\n",
              "    </tr>\n",
              "    <tr>\n",
              "      <th>mean</th>\n",
              "      <td>564.587234</td>\n",
              "      <td>8.243385e+07</td>\n",
              "      <td>1.707614e+06</td>\n",
              "      <td>1.511469e+07</td>\n",
              "      <td>65.296137</td>\n",
              "      <td>548.008584</td>\n",
              "      <td>2872.856522</td>\n",
              "      <td>0.177726</td>\n",
              "      <td>0.137055</td>\n",
              "      <td>0.126253</td>\n",
              "    </tr>\n",
              "    <tr>\n",
              "      <th>std</th>\n",
              "      <td>247.255975</td>\n",
              "      <td>7.753500e+07</td>\n",
              "      <td>1.141958e+07</td>\n",
              "      <td>3.633377e+07</td>\n",
              "      <td>201.971731</td>\n",
              "      <td>652.755023</td>\n",
              "      <td>1440.048335</td>\n",
              "      <td>0.218598</td>\n",
              "      <td>0.365015</td>\n",
              "      <td>0.025343</td>\n",
              "    </tr>\n",
              "    <tr>\n",
              "      <th>min</th>\n",
              "      <td>3.000000</td>\n",
              "      <td>1.008834e+07</td>\n",
              "      <td>-6.467696e+07</td>\n",
              "      <td>-1.743460e+08</td>\n",
              "      <td>-995.000000</td>\n",
              "      <td>-1412.000000</td>\n",
              "      <td>656.000000</td>\n",
              "      <td>-0.722620</td>\n",
              "      <td>-1.947462</td>\n",
              "      <td>0.102606</td>\n",
              "    </tr>\n",
              "    <tr>\n",
              "      <th>25%</th>\n",
              "      <td>431.500000</td>\n",
              "      <td>3.933650e+07</td>\n",
              "      <td>0.000000e+00</td>\n",
              "      <td>0.000000e+00</td>\n",
              "      <td>0.000000</td>\n",
              "      <td>77.000000</td>\n",
              "      <td>1981.250000</td>\n",
              "      <td>0.033659</td>\n",
              "      <td>0.000000</td>\n",
              "      <td>0.112166</td>\n",
              "    </tr>\n",
              "    <tr>\n",
              "      <th>50%</th>\n",
              "      <td>588.000000</td>\n",
              "      <td>5.943100e+07</td>\n",
              "      <td>0.000000e+00</td>\n",
              "      <td>4.615000e+06</td>\n",
              "      <td>0.000000</td>\n",
              "      <td>436.000000</td>\n",
              "      <td>2486.000000</td>\n",
              "      <td>0.164496</td>\n",
              "      <td>0.089425</td>\n",
              "      <td>0.118734</td>\n",
              "    </tr>\n",
              "    <tr>\n",
              "      <th>75%</th>\n",
              "      <td>761.500000</td>\n",
              "      <td>9.693639e+07</td>\n",
              "      <td>9.704995e+05</td>\n",
              "      <td>2.537455e+07</td>\n",
              "      <td>91.000000</td>\n",
              "      <td>939.000000</td>\n",
              "      <td>3321.250000</td>\n",
              "      <td>0.307498</td>\n",
              "      <td>0.326867</td>\n",
              "      <td>0.130993</td>\n",
              "    </tr>\n",
              "    <tr>\n",
              "      <th>max</th>\n",
              "      <td>960.000000</td>\n",
              "      <td>6.137973e+08</td>\n",
              "      <td>7.255500e+07</td>\n",
              "      <td>1.709440e+08</td>\n",
              "      <td>1413.000000</td>\n",
              "      <td>3253.000000</td>\n",
              "      <td>9736.000000</td>\n",
              "      <td>1.023743</td>\n",
              "      <td>1.000000</td>\n",
              "      <td>0.299936</td>\n",
              "    </tr>\n",
              "  </tbody>\n",
              "</table>\n",
              "</div>"
            ],
            "text/plain": [
              "              PID  Budget Forecast  ...  Budget Change Norm  Total Budget Norm\n",
              "count  235.000000     2.350000e+02  ...          235.000000         235.000000\n",
              "mean   564.587234     8.243385e+07  ...            0.137055           0.126253\n",
              "std    247.255975     7.753500e+07  ...            0.365015           0.025343\n",
              "min      3.000000     1.008834e+07  ...           -1.947462           0.102606\n",
              "25%    431.500000     3.933650e+07  ...            0.000000           0.112166\n",
              "50%    588.000000     5.943100e+07  ...            0.089425           0.118734\n",
              "75%    761.500000     9.693639e+07  ...            0.326867           0.130993\n",
              "max    960.000000     6.137973e+08  ...            1.000000           0.299936\n",
              "\n",
              "[8 rows x 10 columns]"
            ]
          },
          "metadata": {
            "tags": []
          },
          "execution_count": 11
        }
      ]
    },
    {
      "cell_type": "code",
      "metadata": {
        "colab_type": "code",
        "id": "HlXcmL05S8lI",
        "outputId": "f6128eea-6aa5-4fb3-8f59-f240616aff81",
        "colab": {
          "base_uri": "https://localhost:8080/",
          "height": 416
        }
      },
      "source": [
        "sns.set(style=\"ticks\")\n",
        "sns.pairplot(df[['Budget Forecast', 'Budget Change Norm']])"
      ],
      "execution_count": 12,
      "outputs": [
        {
          "output_type": "execute_result",
          "data": {
            "text/plain": [
              "<seaborn.axisgrid.PairGrid at 0x7f81cc2c3438>"
            ]
          },
          "metadata": {
            "tags": []
          },
          "execution_count": 12
        },
        {
          "output_type": "display_data",
          "data": {
            "image/png": "[encoded data removed]",
            "text/plain": [
              "<Figure size 360x360 with 6 Axes>"
            ]
          },
          "metadata": {
            "tags": []
          }
        }
      ]
    },
    {
      "cell_type": "markdown",
      "metadata": {
        "id": "7yXY-eYw0oEi",
        "colab_type": "text"
      },
      "source": [
        "### Adding NLP embedded columns and running PCA to limit # of columns"
      ]
    },
    {
      "cell_type": "code",
      "metadata": {
        "id": "dr4A7CR20oEj",
        "colab_type": "code",
        "outputId": "7a6dc37d-1044-4853-f755-f67450fb2015",
        "colab": {
          "base_uri": "https://localhost:8080/",
          "height": 35
        }
      },
      "source": [
        "# The embedding of the description is ready for use in Regression later\n",
        "embedding = embed(df.normal_joined).numpy()\n",
        "df_embed = pd.DataFrame(embedding)\n",
        "from sklearn.decomposition import PCA\n",
        "pca = PCA(n_components=24)\n",
        "pc = pca.fit_transform(df_embed)\n",
        "print(np.sum(pca.explained_variance_ratio_))#percent of variance explained by the the # pc axes chosen\n",
        "df_pc = pd.DataFrame(pc)\n",
        "# concatenate the columns related to embedding of project description (512 columns)\n",
        "df = df.reset_index(drop=True).merge(df_pc.reset_index(drop=True), left_index=True, right_index=True)"
      ],
      "execution_count": 13,
      "outputs": [
        {
          "output_type": "stream",
          "text": [
            "0.6099131\n"
          ],
          "name": "stdout"
        }
      ]
    },
    {
      "cell_type": "markdown",
      "metadata": {
        "id": "_rwqRG4M0oEn",
        "colab_type": "text"
      },
      "source": [
        "### Adding Dummy variables and dropping categorical columns"
      ]
    },
    {
      "cell_type": "code",
      "metadata": {
        "colab_type": "code",
        "id": "Qj69yGZJs8Fo",
        "colab": {}
      },
      "source": [
        "####  (4)  #### Handle Categorical Columns using dummy variables\n",
        "categorical_columns = ['Category', 'Borough'] # not including Agencies nor Decription\n",
        "nyc_df = pd.get_dummies(df, columns=categorical_columns, drop_first=True)\n",
        "\n",
        "#### (5) #### Drop redundant or useless columns, and drop NaNs\n",
        "drop_columns = ['Date Reported As Of', 'PID', 'Project Name', 'Description','Managing Agency', \n",
        "                'Client Agency', 'Design Start', 'Total Budget Norm', 'Latest Budget Changes', \n",
        "                'Latest Schedule Changes', 'Total Schedule Changes', 'Total Budget Changes', \n",
        "                'Forecast Completion', 'Current Phase']\n",
        "nyc_df = nyc_df.drop(drop_columns, axis=1, errors='ignore')"
      ],
      "execution_count": 0,
      "outputs": []
    },
    {
      "cell_type": "markdown",
      "metadata": {
        "id": "oVg3fDE-2rNE",
        "colab_type": "text"
      },
      "source": [
        "##### TRANSFORMATION"
      ]
    },
    {
      "cell_type": "code",
      "metadata": {
        "id": "AC5_kAGx2mCO",
        "colab_type": "code",
        "outputId": "c7cb033a-2c9a-45ab-e6a4-f428fb98b4d7",
        "colab": {
          "base_uri": "https://localhost:8080/",
          "height": 429
        }
      },
      "source": [
        "# TRANSFORMATION\n",
        "# Log of both Project Duration and Budget Forecast\n",
        "nyc_df['Budget Forecast'] = np.log(nyc_df['Budget Forecast'])\n",
        "nyc_df['Project Duration'] = np.log(nyc_df['Project Duration'])\n",
        "nyc_df.describe()"
      ],
      "execution_count": 15,
      "outputs": [
        {
          "output_type": "execute_result",
          "data": {
            "text/html": [
              "<div>\n",
              "<style scoped>\n",
              "    .dataframe tbody tr th:only-of-type {\n",
              "        vertical-align: middle;\n",
              "    }\n",
              "\n",
              "    .dataframe tbody tr th {\n",
              "        vertical-align: top;\n",
              "    }\n",
              "\n",
              "    .dataframe thead th {\n",
              "        text-align: right;\n",
              "    }\n",
              "</style>\n",
              "<table border=\"1\" class=\"dataframe\">\n",
              "  <thead>\n",
              "    <tr style=\"text-align: right;\">\n",
              "      <th></th>\n",
              "      <th>Budget Forecast</th>\n",
              "      <th>Project Duration</th>\n",
              "      <th>Schedule Change Norm</th>\n",
              "      <th>Budget Change Norm</th>\n",
              "      <th>0</th>\n",
              "      <th>1</th>\n",
              "      <th>2</th>\n",
              "      <th>3</th>\n",
              "      <th>4</th>\n",
              "      <th>5</th>\n",
              "      <th>6</th>\n",
              "      <th>7</th>\n",
              "      <th>8</th>\n",
              "      <th>9</th>\n",
              "      <th>10</th>\n",
              "      <th>11</th>\n",
              "      <th>12</th>\n",
              "      <th>13</th>\n",
              "      <th>14</th>\n",
              "      <th>15</th>\n",
              "      <th>16</th>\n",
              "      <th>17</th>\n",
              "      <th>18</th>\n",
              "      <th>19</th>\n",
              "      <th>20</th>\n",
              "      <th>21</th>\n",
              "      <th>22</th>\n",
              "      <th>23</th>\n",
              "      <th>Category_Bridges</th>\n",
              "      <th>Category_Bridges, Streets and Roadways</th>\n",
              "      <th>Category_Ferries</th>\n",
              "      <th>Category_Health and Hospitals</th>\n",
              "      <th>Category_Health and Hospitals, IT</th>\n",
              "      <th>Category_IT</th>\n",
              "      <th>Category_Industrial Development</th>\n",
              "      <th>Category_Industrial Development, Streets and Roadways</th>\n",
              "      <th>Category_Libraries</th>\n",
              "      <th>Category_Other Government Facilities</th>\n",
              "      <th>Category_Parks</th>\n",
              "      <th>Category_Public Safety and Criminal Justice</th>\n",
              "      <th>Category_Sanitation</th>\n",
              "      <th>Category_Schools</th>\n",
              "      <th>Category_Sewers</th>\n",
              "      <th>Category_Streets and Roadways</th>\n",
              "      <th>Category_Wastewater Treatment</th>\n",
              "      <th>Category_Water Supply</th>\n",
              "      <th>Borough_Bronx, Manhattan</th>\n",
              "      <th>Borough_Brooklyn</th>\n",
              "      <th>Borough_Brooklyn, Queens</th>\n",
              "      <th>Borough_Carmel</th>\n",
              "      <th>Borough_Citywide</th>\n",
              "      <th>Borough_Manhattan</th>\n",
              "      <th>Borough_Manhattan, Bronx</th>\n",
              "      <th>Borough_Manhattan, Staten Island</th>\n",
              "      <th>Borough_Manhattan, Staten Island, Bronx</th>\n",
              "      <th>Borough_Manhatten</th>\n",
              "      <th>Borough_New York</th>\n",
              "      <th>Borough_Olive</th>\n",
              "      <th>Borough_Port Jervis</th>\n",
              "      <th>Borough_Queens</th>\n",
              "      <th>Borough_Staten Island</th>\n",
              "      <th>Borough_Upstate</th>\n",
              "      <th>Borough_Valhalla</th>\n",
              "    </tr>\n",
              "  </thead>\n",
              "  <tbody>\n",
              "    <tr>\n",
              "      <th>count</th>\n",
              "      <td>235.000000</td>\n",
              "      <td>230.000000</td>\n",
              "      <td>230.000000</td>\n",
              "      <td>235.000000</td>\n",
              "      <td>2.350000e+02</td>\n",
              "      <td>2.350000e+02</td>\n",
              "      <td>2.350000e+02</td>\n",
              "      <td>2.350000e+02</td>\n",
              "      <td>2.350000e+02</td>\n",
              "      <td>2.350000e+02</td>\n",
              "      <td>2.350000e+02</td>\n",
              "      <td>2.350000e+02</td>\n",
              "      <td>2.350000e+02</td>\n",
              "      <td>2.350000e+02</td>\n",
              "      <td>2.350000e+02</td>\n",
              "      <td>2.350000e+02</td>\n",
              "      <td>2.350000e+02</td>\n",
              "      <td>2.350000e+02</td>\n",
              "      <td>2.350000e+02</td>\n",
              "      <td>2.350000e+02</td>\n",
              "      <td>2.350000e+02</td>\n",
              "      <td>2.350000e+02</td>\n",
              "      <td>2.350000e+02</td>\n",
              "      <td>2.350000e+02</td>\n",
              "      <td>2.350000e+02</td>\n",
              "      <td>2.350000e+02</td>\n",
              "      <td>2.350000e+02</td>\n",
              "      <td>2.350000e+02</td>\n",
              "      <td>235.000000</td>\n",
              "      <td>235.000000</td>\n",
              "      <td>235.000000</td>\n",
              "      <td>235.000000</td>\n",
              "      <td>235.000000</td>\n",
              "      <td>235.000000</td>\n",
              "      <td>235.000000</td>\n",
              "      <td>235.000000</td>\n",
              "      <td>235.000000</td>\n",
              "      <td>235.000000</td>\n",
              "      <td>235.000000</td>\n",
              "      <td>235.000000</td>\n",
              "      <td>235.000000</td>\n",
              "      <td>235.000000</td>\n",
              "      <td>235.000000</td>\n",
              "      <td>235.000000</td>\n",
              "      <td>235.000000</td>\n",
              "      <td>235.000000</td>\n",
              "      <td>235.000000</td>\n",
              "      <td>235.000000</td>\n",
              "      <td>235.000000</td>\n",
              "      <td>235.000000</td>\n",
              "      <td>235.000000</td>\n",
              "      <td>235.000000</td>\n",
              "      <td>235.000000</td>\n",
              "      <td>235.000000</td>\n",
              "      <td>235.000000</td>\n",
              "      <td>235.000000</td>\n",
              "      <td>235.000000</td>\n",
              "      <td>235.000000</td>\n",
              "      <td>235.000000</td>\n",
              "      <td>235.000000</td>\n",
              "      <td>235.000000</td>\n",
              "      <td>235.000000</td>\n",
              "      <td>235.000000</td>\n",
              "    </tr>\n",
              "    <tr>\n",
              "      <th>mean</th>\n",
              "      <td>17.963800</td>\n",
              "      <td>7.867122</td>\n",
              "      <td>0.177726</td>\n",
              "      <td>0.137055</td>\n",
              "      <td>9.384561e-09</td>\n",
              "      <td>-1.940322e-08</td>\n",
              "      <td>-6.269584e-09</td>\n",
              "      <td>1.001865e-08</td>\n",
              "      <td>-2.536368e-10</td>\n",
              "      <td>-2.013242e-09</td>\n",
              "      <td>-9.511379e-09</td>\n",
              "      <td>4.502053e-09</td>\n",
              "      <td>-9.812573e-09</td>\n",
              "      <td>-9.511379e-11</td>\n",
              "      <td>3.011937e-09</td>\n",
              "      <td>-8.607798e-09</td>\n",
              "      <td>3.297278e-09</td>\n",
              "      <td>-1.014547e-09</td>\n",
              "      <td>5.589917e-09</td>\n",
              "      <td>5.262963e-09</td>\n",
              "      <td>2.631482e-09</td>\n",
              "      <td>1.093809e-08</td>\n",
              "      <td>1.014547e-09</td>\n",
              "      <td>-9.511379e-10</td>\n",
              "      <td>2.092504e-09</td>\n",
              "      <td>8.306605e-09</td>\n",
              "      <td>-6.023874e-10</td>\n",
              "      <td>-1.585230e-11</td>\n",
              "      <td>0.080851</td>\n",
              "      <td>0.059574</td>\n",
              "      <td>0.017021</td>\n",
              "      <td>0.017021</td>\n",
              "      <td>0.004255</td>\n",
              "      <td>0.008511</td>\n",
              "      <td>0.114894</td>\n",
              "      <td>0.004255</td>\n",
              "      <td>0.008511</td>\n",
              "      <td>0.042553</td>\n",
              "      <td>0.012766</td>\n",
              "      <td>0.046809</td>\n",
              "      <td>0.017021</td>\n",
              "      <td>0.051064</td>\n",
              "      <td>0.127660</td>\n",
              "      <td>0.187234</td>\n",
              "      <td>0.093617</td>\n",
              "      <td>0.093617</td>\n",
              "      <td>0.004255</td>\n",
              "      <td>0.165957</td>\n",
              "      <td>0.004255</td>\n",
              "      <td>0.004255</td>\n",
              "      <td>0.029787</td>\n",
              "      <td>0.085106</td>\n",
              "      <td>0.008511</td>\n",
              "      <td>0.004255</td>\n",
              "      <td>0.004255</td>\n",
              "      <td>0.004255</td>\n",
              "      <td>0.004255</td>\n",
              "      <td>0.004255</td>\n",
              "      <td>0.004255</td>\n",
              "      <td>0.127660</td>\n",
              "      <td>0.046809</td>\n",
              "      <td>0.008511</td>\n",
              "      <td>0.004255</td>\n",
              "    </tr>\n",
              "    <tr>\n",
              "      <th>std</th>\n",
              "      <td>0.679063</td>\n",
              "      <td>0.421443</td>\n",
              "      <td>0.218598</td>\n",
              "      <td>0.365015</td>\n",
              "      <td>2.761016e-01</td>\n",
              "      <td>2.413459e-01</td>\n",
              "      <td>1.961730e-01</td>\n",
              "      <td>1.836036e-01</td>\n",
              "      <td>1.678683e-01</td>\n",
              "      <td>1.520523e-01</td>\n",
              "      <td>1.356458e-01</td>\n",
              "      <td>1.336996e-01</td>\n",
              "      <td>1.249257e-01</td>\n",
              "      <td>1.230325e-01</td>\n",
              "      <td>1.194415e-01</td>\n",
              "      <td>1.142335e-01</td>\n",
              "      <td>1.127559e-01</td>\n",
              "      <td>1.101328e-01</td>\n",
              "      <td>1.060883e-01</td>\n",
              "      <td>1.049982e-01</td>\n",
              "      <td>1.042025e-01</td>\n",
              "      <td>1.003199e-01</td>\n",
              "      <td>9.804048e-02</td>\n",
              "      <td>9.783415e-02</td>\n",
              "      <td>9.434452e-02</td>\n",
              "      <td>9.102562e-02</td>\n",
              "      <td>9.059183e-02</td>\n",
              "      <td>8.759905e-02</td>\n",
              "      <td>0.273188</td>\n",
              "      <td>0.237202</td>\n",
              "      <td>0.129627</td>\n",
              "      <td>0.129627</td>\n",
              "      <td>0.065233</td>\n",
              "      <td>0.092056</td>\n",
              "      <td>0.319574</td>\n",
              "      <td>0.065233</td>\n",
              "      <td>0.092056</td>\n",
              "      <td>0.202278</td>\n",
              "      <td>0.112503</td>\n",
              "      <td>0.211679</td>\n",
              "      <td>0.129627</td>\n",
              "      <td>0.220598</td>\n",
              "      <td>0.334423</td>\n",
              "      <td>0.390932</td>\n",
              "      <td>0.291917</td>\n",
              "      <td>0.291917</td>\n",
              "      <td>0.065233</td>\n",
              "      <td>0.372837</td>\n",
              "      <td>0.065233</td>\n",
              "      <td>0.065233</td>\n",
              "      <td>0.170363</td>\n",
              "      <td>0.279636</td>\n",
              "      <td>0.092056</td>\n",
              "      <td>0.065233</td>\n",
              "      <td>0.065233</td>\n",
              "      <td>0.065233</td>\n",
              "      <td>0.065233</td>\n",
              "      <td>0.065233</td>\n",
              "      <td>0.065233</td>\n",
              "      <td>0.334423</td>\n",
              "      <td>0.211679</td>\n",
              "      <td>0.092056</td>\n",
              "      <td>0.065233</td>\n",
              "    </tr>\n",
              "    <tr>\n",
              "      <th>min</th>\n",
              "      <td>16.126891</td>\n",
              "      <td>6.486161</td>\n",
              "      <td>-0.722620</td>\n",
              "      <td>-1.947462</td>\n",
              "      <td>-4.745952e-01</td>\n",
              "      <td>-4.947553e-01</td>\n",
              "      <td>-4.153536e-01</td>\n",
              "      <td>-4.331993e-01</td>\n",
              "      <td>-4.360033e-01</td>\n",
              "      <td>-4.359216e-01</td>\n",
              "      <td>-4.238541e-01</td>\n",
              "      <td>-2.950572e-01</td>\n",
              "      <td>-3.747368e-01</td>\n",
              "      <td>-3.357130e-01</td>\n",
              "      <td>-3.067245e-01</td>\n",
              "      <td>-2.723828e-01</td>\n",
              "      <td>-2.890733e-01</td>\n",
              "      <td>-2.981353e-01</td>\n",
              "      <td>-2.532243e-01</td>\n",
              "      <td>-3.130723e-01</td>\n",
              "      <td>-2.887152e-01</td>\n",
              "      <td>-2.931548e-01</td>\n",
              "      <td>-2.588492e-01</td>\n",
              "      <td>-2.275857e-01</td>\n",
              "      <td>-2.390282e-01</td>\n",
              "      <td>-2.367465e-01</td>\n",
              "      <td>-2.491737e-01</td>\n",
              "      <td>-2.087342e-01</td>\n",
              "      <td>0.000000</td>\n",
              "      <td>0.000000</td>\n",
              "      <td>0.000000</td>\n",
              "      <td>0.000000</td>\n",
              "      <td>0.000000</td>\n",
              "      <td>0.000000</td>\n",
              "      <td>0.000000</td>\n",
              "      <td>0.000000</td>\n",
              "      <td>0.000000</td>\n",
              "      <td>0.000000</td>\n",
              "      <td>0.000000</td>\n",
              "      <td>0.000000</td>\n",
              "      <td>0.000000</td>\n",
              "      <td>0.000000</td>\n",
              "      <td>0.000000</td>\n",
              "      <td>0.000000</td>\n",
              "      <td>0.000000</td>\n",
              "      <td>0.000000</td>\n",
              "      <td>0.000000</td>\n",
              "      <td>0.000000</td>\n",
              "      <td>0.000000</td>\n",
              "      <td>0.000000</td>\n",
              "      <td>0.000000</td>\n",
              "      <td>0.000000</td>\n",
              "      <td>0.000000</td>\n",
              "      <td>0.000000</td>\n",
              "      <td>0.000000</td>\n",
              "      <td>0.000000</td>\n",
              "      <td>0.000000</td>\n",
              "      <td>0.000000</td>\n",
              "      <td>0.000000</td>\n",
              "      <td>0.000000</td>\n",
              "      <td>0.000000</td>\n",
              "      <td>0.000000</td>\n",
              "      <td>0.000000</td>\n",
              "    </tr>\n",
              "    <tr>\n",
              "      <th>25%</th>\n",
              "      <td>17.487651</td>\n",
              "      <td>7.591483</td>\n",
              "      <td>0.033659</td>\n",
              "      <td>0.000000</td>\n",
              "      <td>-2.072945e-01</td>\n",
              "      <td>-1.915833e-01</td>\n",
              "      <td>-1.366800e-01</td>\n",
              "      <td>-1.264159e-01</td>\n",
              "      <td>-9.034646e-02</td>\n",
              "      <td>-8.621688e-02</td>\n",
              "      <td>-9.040581e-02</td>\n",
              "      <td>-6.977552e-02</td>\n",
              "      <td>-7.014044e-02</td>\n",
              "      <td>-8.382621e-02</td>\n",
              "      <td>-6.783191e-02</td>\n",
              "      <td>-8.198577e-02</td>\n",
              "      <td>-7.399424e-02</td>\n",
              "      <td>-6.945454e-02</td>\n",
              "      <td>-7.469138e-02</td>\n",
              "      <td>-5.682364e-02</td>\n",
              "      <td>-6.051953e-02</td>\n",
              "      <td>-5.654246e-02</td>\n",
              "      <td>-6.533407e-02</td>\n",
              "      <td>-5.579042e-02</td>\n",
              "      <td>-6.103921e-02</td>\n",
              "      <td>-5.753704e-02</td>\n",
              "      <td>-6.353499e-02</td>\n",
              "      <td>-5.041710e-02</td>\n",
              "      <td>0.000000</td>\n",
              "      <td>0.000000</td>\n",
              "      <td>0.000000</td>\n",
              "      <td>0.000000</td>\n",
              "      <td>0.000000</td>\n",
              "      <td>0.000000</td>\n",
              "      <td>0.000000</td>\n",
              "      <td>0.000000</td>\n",
              "      <td>0.000000</td>\n",
              "      <td>0.000000</td>\n",
              "      <td>0.000000</td>\n",
              "      <td>0.000000</td>\n",
              "      <td>0.000000</td>\n",
              "      <td>0.000000</td>\n",
              "      <td>0.000000</td>\n",
              "      <td>0.000000</td>\n",
              "      <td>0.000000</td>\n",
              "      <td>0.000000</td>\n",
              "      <td>0.000000</td>\n",
              "      <td>0.000000</td>\n",
              "      <td>0.000000</td>\n",
              "      <td>0.000000</td>\n",
              "      <td>0.000000</td>\n",
              "      <td>0.000000</td>\n",
              "      <td>0.000000</td>\n",
              "      <td>0.000000</td>\n",
              "      <td>0.000000</td>\n",
              "      <td>0.000000</td>\n",
              "      <td>0.000000</td>\n",
              "      <td>0.000000</td>\n",
              "      <td>0.000000</td>\n",
              "      <td>0.000000</td>\n",
              "      <td>0.000000</td>\n",
              "      <td>0.000000</td>\n",
              "      <td>0.000000</td>\n",
              "    </tr>\n",
              "    <tr>\n",
              "      <th>50%</th>\n",
              "      <td>17.900327</td>\n",
              "      <td>7.818427</td>\n",
              "      <td>0.164496</td>\n",
              "      <td>0.089425</td>\n",
              "      <td>-2.109124e-02</td>\n",
              "      <td>-1.411683e-02</td>\n",
              "      <td>-2.982883e-02</td>\n",
              "      <td>-8.129389e-03</td>\n",
              "      <td>-7.112892e-03</td>\n",
              "      <td>-6.604281e-03</td>\n",
              "      <td>-4.691789e-03</td>\n",
              "      <td>-4.660449e-03</td>\n",
              "      <td>-1.647146e-02</td>\n",
              "      <td>-4.371225e-03</td>\n",
              "      <td>-1.684660e-03</td>\n",
              "      <td>-3.664251e-03</td>\n",
              "      <td>-3.670581e-03</td>\n",
              "      <td>-3.092314e-03</td>\n",
              "      <td>3.516689e-03</td>\n",
              "      <td>-9.082825e-03</td>\n",
              "      <td>-8.683840e-03</td>\n",
              "      <td>-1.921412e-03</td>\n",
              "      <td>-4.073018e-03</td>\n",
              "      <td>-1.191574e-02</td>\n",
              "      <td>7.852162e-03</td>\n",
              "      <td>5.727309e-03</td>\n",
              "      <td>-2.403214e-03</td>\n",
              "      <td>5.555640e-03</td>\n",
              "      <td>0.000000</td>\n",
              "      <td>0.000000</td>\n",
              "      <td>0.000000</td>\n",
              "      <td>0.000000</td>\n",
              "      <td>0.000000</td>\n",
              "      <td>0.000000</td>\n",
              "      <td>0.000000</td>\n",
              "      <td>0.000000</td>\n",
              "      <td>0.000000</td>\n",
              "      <td>0.000000</td>\n",
              "      <td>0.000000</td>\n",
              "      <td>0.000000</td>\n",
              "      <td>0.000000</td>\n",
              "      <td>0.000000</td>\n",
              "      <td>0.000000</td>\n",
              "      <td>0.000000</td>\n",
              "      <td>0.000000</td>\n",
              "      <td>0.000000</td>\n",
              "      <td>0.000000</td>\n",
              "      <td>0.000000</td>\n",
              "      <td>0.000000</td>\n",
              "      <td>0.000000</td>\n",
              "      <td>0.000000</td>\n",
              "      <td>0.000000</td>\n",
              "      <td>0.000000</td>\n",
              "      <td>0.000000</td>\n",
              "      <td>0.000000</td>\n",
              "      <td>0.000000</td>\n",
              "      <td>0.000000</td>\n",
              "      <td>0.000000</td>\n",
              "      <td>0.000000</td>\n",
              "      <td>0.000000</td>\n",
              "      <td>0.000000</td>\n",
              "      <td>0.000000</td>\n",
              "      <td>0.000000</td>\n",
              "    </tr>\n",
              "    <tr>\n",
              "      <th>75%</th>\n",
              "      <td>18.389448</td>\n",
              "      <td>8.108095</td>\n",
              "      <td>0.307498</td>\n",
              "      <td>0.326867</td>\n",
              "      <td>1.755142e-01</td>\n",
              "      <td>1.887001e-01</td>\n",
              "      <td>1.292548e-01</td>\n",
              "      <td>1.395999e-01</td>\n",
              "      <td>1.189180e-01</td>\n",
              "      <td>8.362877e-02</td>\n",
              "      <td>7.733546e-02</td>\n",
              "      <td>5.170583e-02</td>\n",
              "      <td>7.452048e-02</td>\n",
              "      <td>7.699906e-02</td>\n",
              "      <td>7.201514e-02</td>\n",
              "      <td>8.110712e-02</td>\n",
              "      <td>7.663232e-02</td>\n",
              "      <td>6.449866e-02</td>\n",
              "      <td>7.616521e-02</td>\n",
              "      <td>5.990278e-02</td>\n",
              "      <td>5.889426e-02</td>\n",
              "      <td>5.414791e-02</td>\n",
              "      <td>6.240337e-02</td>\n",
              "      <td>6.225455e-02</td>\n",
              "      <td>5.630250e-02</td>\n",
              "      <td>5.537716e-02</td>\n",
              "      <td>5.084812e-02</td>\n",
              "      <td>6.004435e-02</td>\n",
              "      <td>0.000000</td>\n",
              "      <td>0.000000</td>\n",
              "      <td>0.000000</td>\n",
              "      <td>0.000000</td>\n",
              "      <td>0.000000</td>\n",
              "      <td>0.000000</td>\n",
              "      <td>0.000000</td>\n",
              "      <td>0.000000</td>\n",
              "      <td>0.000000</td>\n",
              "      <td>0.000000</td>\n",
              "      <td>0.000000</td>\n",
              "      <td>0.000000</td>\n",
              "      <td>0.000000</td>\n",
              "      <td>0.000000</td>\n",
              "      <td>0.000000</td>\n",
              "      <td>0.000000</td>\n",
              "      <td>0.000000</td>\n",
              "      <td>0.000000</td>\n",
              "      <td>0.000000</td>\n",
              "      <td>0.000000</td>\n",
              "      <td>0.000000</td>\n",
              "      <td>0.000000</td>\n",
              "      <td>0.000000</td>\n",
              "      <td>0.000000</td>\n",
              "      <td>0.000000</td>\n",
              "      <td>0.000000</td>\n",
              "      <td>0.000000</td>\n",
              "      <td>0.000000</td>\n",
              "      <td>0.000000</td>\n",
              "      <td>0.000000</td>\n",
              "      <td>0.000000</td>\n",
              "      <td>0.000000</td>\n",
              "      <td>0.000000</td>\n",
              "      <td>0.000000</td>\n",
              "      <td>0.000000</td>\n",
              "    </tr>\n",
              "    <tr>\n",
              "      <th>max</th>\n",
              "      <td>20.235175</td>\n",
              "      <td>9.183586</td>\n",
              "      <td>1.023743</td>\n",
              "      <td>1.000000</td>\n",
              "      <td>7.094135e-01</td>\n",
              "      <td>5.025036e-01</td>\n",
              "      <td>4.929136e-01</td>\n",
              "      <td>4.552827e-01</td>\n",
              "      <td>4.409289e-01</td>\n",
              "      <td>4.537025e-01</td>\n",
              "      <td>4.635728e-01</td>\n",
              "      <td>5.413243e-01</td>\n",
              "      <td>4.057305e-01</td>\n",
              "      <td>3.497491e-01</td>\n",
              "      <td>3.878592e-01</td>\n",
              "      <td>3.024180e-01</td>\n",
              "      <td>3.644368e-01</td>\n",
              "      <td>3.276754e-01</td>\n",
              "      <td>3.254171e-01</td>\n",
              "      <td>3.660466e-01</td>\n",
              "      <td>3.510689e-01</td>\n",
              "      <td>3.665538e-01</td>\n",
              "      <td>2.863677e-01</td>\n",
              "      <td>3.179373e-01</td>\n",
              "      <td>3.261669e-01</td>\n",
              "      <td>2.802194e-01</td>\n",
              "      <td>2.765164e-01</td>\n",
              "      <td>2.289489e-01</td>\n",
              "      <td>1.000000</td>\n",
              "      <td>1.000000</td>\n",
              "      <td>1.000000</td>\n",
              "      <td>1.000000</td>\n",
              "      <td>1.000000</td>\n",
              "      <td>1.000000</td>\n",
              "      <td>1.000000</td>\n",
              "      <td>1.000000</td>\n",
              "      <td>1.000000</td>\n",
              "      <td>1.000000</td>\n",
              "      <td>1.000000</td>\n",
              "      <td>1.000000</td>\n",
              "      <td>1.000000</td>\n",
              "      <td>1.000000</td>\n",
              "      <td>1.000000</td>\n",
              "      <td>1.000000</td>\n",
              "      <td>1.000000</td>\n",
              "      <td>1.000000</td>\n",
              "      <td>1.000000</td>\n",
              "      <td>1.000000</td>\n",
              "      <td>1.000000</td>\n",
              "      <td>1.000000</td>\n",
              "      <td>1.000000</td>\n",
              "      <td>1.000000</td>\n",
              "      <td>1.000000</td>\n",
              "      <td>1.000000</td>\n",
              "      <td>1.000000</td>\n",
              "      <td>1.000000</td>\n",
              "      <td>1.000000</td>\n",
              "      <td>1.000000</td>\n",
              "      <td>1.000000</td>\n",
              "      <td>1.000000</td>\n",
              "      <td>1.000000</td>\n",
              "      <td>1.000000</td>\n",
              "      <td>1.000000</td>\n",
              "    </tr>\n",
              "  </tbody>\n",
              "</table>\n",
              "</div>"
            ],
            "text/plain": [
              "       Budget Forecast  Project Duration  ...  Borough_Upstate  Borough_Valhalla\n",
              "count       235.000000        230.000000  ...       235.000000        235.000000\n",
              "mean         17.963800          7.867122  ...         0.008511          0.004255\n",
              "std           0.679063          0.421443  ...         0.092056          0.065233\n",
              "min          16.126891          6.486161  ...         0.000000          0.000000\n",
              "25%          17.487651          7.591483  ...         0.000000          0.000000\n",
              "50%          17.900327          7.818427  ...         0.000000          0.000000\n",
              "75%          18.389448          8.108095  ...         0.000000          0.000000\n",
              "max          20.235175          9.183586  ...         1.000000          1.000000\n",
              "\n",
              "[8 rows x 63 columns]"
            ]
          },
          "metadata": {
            "tags": []
          },
          "execution_count": 15
        }
      ]
    },
    {
      "cell_type": "markdown",
      "metadata": {
        "id": "SWry5_qi0oEq",
        "colab_type": "text"
      },
      "source": [
        "### Test Train Split"
      ]
    },
    {
      "cell_type": "code",
      "metadata": {
        "colab_type": "code",
        "id": "omWNQRNX0GRi",
        "colab": {}
      },
      "source": [
        "nyc_df = nyc_df.dropna()\n",
        "np.random.seed(49)\n",
        "nyc_train, nyc_test = train_test_split(nyc_df, test_size=.1, random_state=49)"
      ],
      "execution_count": 0,
      "outputs": []
    },
    {
      "cell_type": "code",
      "metadata": {
        "colab_type": "code",
        "id": "HX-bjBzhuldq",
        "outputId": "f1d42421-839f-4642-eb35-ffd0a0587a7b",
        "colab": {
          "base_uri": "https://localhost:8080/",
          "height": 564
        }
      },
      "source": [
        "nyc_train.head()"
      ],
      "execution_count": 17,
      "outputs": [
        {
          "output_type": "execute_result",
          "data": {
            "text/html": [
              "<div>\n",
              "<style scoped>\n",
              "    .dataframe tbody tr th:only-of-type {\n",
              "        vertical-align: middle;\n",
              "    }\n",
              "\n",
              "    .dataframe tbody tr th {\n",
              "        vertical-align: top;\n",
              "    }\n",
              "\n",
              "    .dataframe thead th {\n",
              "        text-align: right;\n",
              "    }\n",
              "</style>\n",
              "<table border=\"1\" class=\"dataframe\">\n",
              "  <thead>\n",
              "    <tr style=\"text-align: right;\">\n",
              "      <th></th>\n",
              "      <th>Budget Forecast</th>\n",
              "      <th>Normalized Description</th>\n",
              "      <th>normal_joined</th>\n",
              "      <th>Project Duration</th>\n",
              "      <th>Schedule Change Norm</th>\n",
              "      <th>Budget Change Norm</th>\n",
              "      <th>0</th>\n",
              "      <th>1</th>\n",
              "      <th>2</th>\n",
              "      <th>3</th>\n",
              "      <th>4</th>\n",
              "      <th>5</th>\n",
              "      <th>6</th>\n",
              "      <th>7</th>\n",
              "      <th>8</th>\n",
              "      <th>9</th>\n",
              "      <th>10</th>\n",
              "      <th>11</th>\n",
              "      <th>12</th>\n",
              "      <th>13</th>\n",
              "      <th>14</th>\n",
              "      <th>15</th>\n",
              "      <th>16</th>\n",
              "      <th>17</th>\n",
              "      <th>18</th>\n",
              "      <th>19</th>\n",
              "      <th>20</th>\n",
              "      <th>21</th>\n",
              "      <th>22</th>\n",
              "      <th>23</th>\n",
              "      <th>Category_Bridges</th>\n",
              "      <th>Category_Bridges, Streets and Roadways</th>\n",
              "      <th>Category_Ferries</th>\n",
              "      <th>Category_Health and Hospitals</th>\n",
              "      <th>Category_Health and Hospitals, IT</th>\n",
              "      <th>Category_IT</th>\n",
              "      <th>Category_Industrial Development</th>\n",
              "      <th>Category_Industrial Development, Streets and Roadways</th>\n",
              "      <th>Category_Libraries</th>\n",
              "      <th>Category_Other Government Facilities</th>\n",
              "      <th>Category_Parks</th>\n",
              "      <th>Category_Public Safety and Criminal Justice</th>\n",
              "      <th>Category_Sanitation</th>\n",
              "      <th>Category_Schools</th>\n",
              "      <th>Category_Sewers</th>\n",
              "      <th>Category_Streets and Roadways</th>\n",
              "      <th>Category_Wastewater Treatment</th>\n",
              "      <th>Category_Water Supply</th>\n",
              "      <th>Borough_Bronx, Manhattan</th>\n",
              "      <th>Borough_Brooklyn</th>\n",
              "      <th>Borough_Brooklyn, Queens</th>\n",
              "      <th>Borough_Carmel</th>\n",
              "      <th>Borough_Citywide</th>\n",
              "      <th>Borough_Manhattan</th>\n",
              "      <th>Borough_Manhattan, Bronx</th>\n",
              "      <th>Borough_Manhattan, Staten Island</th>\n",
              "      <th>Borough_Manhattan, Staten Island, Bronx</th>\n",
              "      <th>Borough_Manhatten</th>\n",
              "      <th>Borough_New York</th>\n",
              "      <th>Borough_Olive</th>\n",
              "      <th>Borough_Port Jervis</th>\n",
              "      <th>Borough_Queens</th>\n",
              "      <th>Borough_Staten Island</th>\n",
              "      <th>Borough_Upstate</th>\n",
              "      <th>Borough_Valhalla</th>\n",
              "    </tr>\n",
              "  </thead>\n",
              "  <tbody>\n",
              "    <tr>\n",
              "      <th>131</th>\n",
              "      <td>18.118656</td>\n",
              "      <td>[renov, floor, build, creat, new, offic, space...</td>\n",
              "      <td>renov floor build creat new offic space landma...</td>\n",
              "      <td>7.991592</td>\n",
              "      <td>0.294993</td>\n",
              "      <td>0.573541</td>\n",
              "      <td>0.378295</td>\n",
              "      <td>-0.138516</td>\n",
              "      <td>-0.107157</td>\n",
              "      <td>-0.052740</td>\n",
              "      <td>0.212372</td>\n",
              "      <td>-0.029308</td>\n",
              "      <td>0.080504</td>\n",
              "      <td>-0.159199</td>\n",
              "      <td>0.060473</td>\n",
              "      <td>-0.015489</td>\n",
              "      <td>0.113425</td>\n",
              "      <td>0.090469</td>\n",
              "      <td>0.042370</td>\n",
              "      <td>-0.112067</td>\n",
              "      <td>0.096212</td>\n",
              "      <td>0.226076</td>\n",
              "      <td>0.014333</td>\n",
              "      <td>-0.091799</td>\n",
              "      <td>0.100334</td>\n",
              "      <td>-0.077566</td>\n",
              "      <td>0.068113</td>\n",
              "      <td>-0.033466</td>\n",
              "      <td>-0.054673</td>\n",
              "      <td>0.027703</td>\n",
              "      <td>0</td>\n",
              "      <td>0</td>\n",
              "      <td>0</td>\n",
              "      <td>0</td>\n",
              "      <td>0</td>\n",
              "      <td>0</td>\n",
              "      <td>0</td>\n",
              "      <td>0</td>\n",
              "      <td>0</td>\n",
              "      <td>1</td>\n",
              "      <td>0</td>\n",
              "      <td>0</td>\n",
              "      <td>0</td>\n",
              "      <td>0</td>\n",
              "      <td>0</td>\n",
              "      <td>0</td>\n",
              "      <td>0</td>\n",
              "      <td>0</td>\n",
              "      <td>0</td>\n",
              "      <td>0</td>\n",
              "      <td>0</td>\n",
              "      <td>0</td>\n",
              "      <td>0</td>\n",
              "      <td>1</td>\n",
              "      <td>0</td>\n",
              "      <td>0</td>\n",
              "      <td>0</td>\n",
              "      <td>0</td>\n",
              "      <td>0</td>\n",
              "      <td>0</td>\n",
              "      <td>0</td>\n",
              "      <td>0</td>\n",
              "      <td>0</td>\n",
              "      <td>0</td>\n",
              "      <td>0</td>\n",
              "    </tr>\n",
              "    <tr>\n",
              "      <th>234</th>\n",
              "      <td>17.087662</td>\n",
              "      <td>[new, utrech, branch, librari, comprehens, int...</td>\n",
              "      <td>new utrech branch librari comprehens interior ...</td>\n",
              "      <td>7.728856</td>\n",
              "      <td>0.007039</td>\n",
              "      <td>0.000000</td>\n",
              "      <td>0.346319</td>\n",
              "      <td>-0.120318</td>\n",
              "      <td>-0.029101</td>\n",
              "      <td>-0.119592</td>\n",
              "      <td>0.172514</td>\n",
              "      <td>-0.045296</td>\n",
              "      <td>0.219624</td>\n",
              "      <td>-0.071524</td>\n",
              "      <td>0.028352</td>\n",
              "      <td>-0.051918</td>\n",
              "      <td>0.104322</td>\n",
              "      <td>-0.031750</td>\n",
              "      <td>-0.167950</td>\n",
              "      <td>0.327675</td>\n",
              "      <td>-0.004464</td>\n",
              "      <td>0.128918</td>\n",
              "      <td>-0.060502</td>\n",
              "      <td>-0.049859</td>\n",
              "      <td>0.153493</td>\n",
              "      <td>-0.126005</td>\n",
              "      <td>-0.043500</td>\n",
              "      <td>-0.223949</td>\n",
              "      <td>-0.063738</td>\n",
              "      <td>0.029139</td>\n",
              "      <td>0</td>\n",
              "      <td>0</td>\n",
              "      <td>0</td>\n",
              "      <td>0</td>\n",
              "      <td>0</td>\n",
              "      <td>0</td>\n",
              "      <td>0</td>\n",
              "      <td>0</td>\n",
              "      <td>1</td>\n",
              "      <td>0</td>\n",
              "      <td>0</td>\n",
              "      <td>0</td>\n",
              "      <td>0</td>\n",
              "      <td>0</td>\n",
              "      <td>0</td>\n",
              "      <td>0</td>\n",
              "      <td>0</td>\n",
              "      <td>0</td>\n",
              "      <td>0</td>\n",
              "      <td>0</td>\n",
              "      <td>0</td>\n",
              "      <td>0</td>\n",
              "      <td>0</td>\n",
              "      <td>0</td>\n",
              "      <td>0</td>\n",
              "      <td>0</td>\n",
              "      <td>0</td>\n",
              "      <td>0</td>\n",
              "      <td>0</td>\n",
              "      <td>0</td>\n",
              "      <td>0</td>\n",
              "      <td>0</td>\n",
              "      <td>0</td>\n",
              "      <td>0</td>\n",
              "      <td>0</td>\n",
              "    </tr>\n",
              "    <tr>\n",
              "      <th>67</th>\n",
              "      <td>17.482732</td>\n",
              "      <td>[distribut, water, main, replac, long, island,...</td>\n",
              "      <td>distribut water main replac long island citi a...</td>\n",
              "      <td>7.991254</td>\n",
              "      <td>0.276142</td>\n",
              "      <td>0.581585</td>\n",
              "      <td>-0.186727</td>\n",
              "      <td>0.108180</td>\n",
              "      <td>0.173701</td>\n",
              "      <td>0.197059</td>\n",
              "      <td>0.190856</td>\n",
              "      <td>0.157969</td>\n",
              "      <td>0.118738</td>\n",
              "      <td>0.026092</td>\n",
              "      <td>-0.178890</td>\n",
              "      <td>-0.071596</td>\n",
              "      <td>-0.057515</td>\n",
              "      <td>-0.011372</td>\n",
              "      <td>0.066106</td>\n",
              "      <td>-0.105277</td>\n",
              "      <td>0.075027</td>\n",
              "      <td>-0.067226</td>\n",
              "      <td>0.119808</td>\n",
              "      <td>0.210818</td>\n",
              "      <td>-0.007586</td>\n",
              "      <td>0.153592</td>\n",
              "      <td>0.023827</td>\n",
              "      <td>-0.038178</td>\n",
              "      <td>-0.063247</td>\n",
              "      <td>-0.080676</td>\n",
              "      <td>0</td>\n",
              "      <td>0</td>\n",
              "      <td>0</td>\n",
              "      <td>0</td>\n",
              "      <td>0</td>\n",
              "      <td>0</td>\n",
              "      <td>0</td>\n",
              "      <td>0</td>\n",
              "      <td>0</td>\n",
              "      <td>0</td>\n",
              "      <td>0</td>\n",
              "      <td>0</td>\n",
              "      <td>0</td>\n",
              "      <td>0</td>\n",
              "      <td>0</td>\n",
              "      <td>0</td>\n",
              "      <td>0</td>\n",
              "      <td>1</td>\n",
              "      <td>0</td>\n",
              "      <td>0</td>\n",
              "      <td>0</td>\n",
              "      <td>0</td>\n",
              "      <td>0</td>\n",
              "      <td>0</td>\n",
              "      <td>0</td>\n",
              "      <td>0</td>\n",
              "      <td>0</td>\n",
              "      <td>0</td>\n",
              "      <td>0</td>\n",
              "      <td>0</td>\n",
              "      <td>0</td>\n",
              "      <td>1</td>\n",
              "      <td>0</td>\n",
              "      <td>0</td>\n",
              "      <td>0</td>\n",
              "    </tr>\n",
              "    <tr>\n",
              "      <th>96</th>\n",
              "      <td>18.621133</td>\n",
              "      <td>[emerg, contract, restor, electr, mechan, syst...</td>\n",
              "      <td>emerg contract restor electr mechan system mov...</td>\n",
              "      <td>7.784889</td>\n",
              "      <td>0.298253</td>\n",
              "      <td>-0.023311</td>\n",
              "      <td>0.262254</td>\n",
              "      <td>-0.007899</td>\n",
              "      <td>-0.110737</td>\n",
              "      <td>0.423800</td>\n",
              "      <td>-0.207890</td>\n",
              "      <td>0.046726</td>\n",
              "      <td>-0.057536</td>\n",
              "      <td>0.048481</td>\n",
              "      <td>0.164272</td>\n",
              "      <td>0.137669</td>\n",
              "      <td>-0.202462</td>\n",
              "      <td>-0.066413</td>\n",
              "      <td>0.064718</td>\n",
              "      <td>0.050746</td>\n",
              "      <td>-0.060927</td>\n",
              "      <td>0.004861</td>\n",
              "      <td>-0.141925</td>\n",
              "      <td>0.120309</td>\n",
              "      <td>-0.101319</td>\n",
              "      <td>0.082186</td>\n",
              "      <td>0.017320</td>\n",
              "      <td>0.060519</td>\n",
              "      <td>-0.046929</td>\n",
              "      <td>0.102249</td>\n",
              "      <td>1</td>\n",
              "      <td>0</td>\n",
              "      <td>0</td>\n",
              "      <td>0</td>\n",
              "      <td>0</td>\n",
              "      <td>0</td>\n",
              "      <td>0</td>\n",
              "      <td>0</td>\n",
              "      <td>0</td>\n",
              "      <td>0</td>\n",
              "      <td>0</td>\n",
              "      <td>0</td>\n",
              "      <td>0</td>\n",
              "      <td>0</td>\n",
              "      <td>0</td>\n",
              "      <td>0</td>\n",
              "      <td>0</td>\n",
              "      <td>0</td>\n",
              "      <td>0</td>\n",
              "      <td>0</td>\n",
              "      <td>0</td>\n",
              "      <td>0</td>\n",
              "      <td>0</td>\n",
              "      <td>0</td>\n",
              "      <td>0</td>\n",
              "      <td>0</td>\n",
              "      <td>0</td>\n",
              "      <td>0</td>\n",
              "      <td>0</td>\n",
              "      <td>0</td>\n",
              "      <td>0</td>\n",
              "      <td>0</td>\n",
              "      <td>0</td>\n",
              "      <td>0</td>\n",
              "      <td>0</td>\n",
              "    </tr>\n",
              "    <tr>\n",
              "      <th>156</th>\n",
              "      <td>18.629166</td>\n",
              "      <td>[design, construct, new, ferri, land, ferri, l...</td>\n",
              "      <td>design construct new ferri land ferri land upg...</td>\n",
              "      <td>7.820841</td>\n",
              "      <td>0.488764</td>\n",
              "      <td>0.371251</td>\n",
              "      <td>0.335519</td>\n",
              "      <td>-0.023808</td>\n",
              "      <td>0.125527</td>\n",
              "      <td>-0.061760</td>\n",
              "      <td>0.368215</td>\n",
              "      <td>0.107492</td>\n",
              "      <td>-0.057736</td>\n",
              "      <td>0.002222</td>\n",
              "      <td>0.016813</td>\n",
              "      <td>-0.049856</td>\n",
              "      <td>0.024908</td>\n",
              "      <td>0.054279</td>\n",
              "      <td>0.205360</td>\n",
              "      <td>-0.041200</td>\n",
              "      <td>0.151825</td>\n",
              "      <td>0.081911</td>\n",
              "      <td>-0.006403</td>\n",
              "      <td>-0.048935</td>\n",
              "      <td>-0.062278</td>\n",
              "      <td>0.015963</td>\n",
              "      <td>-0.021114</td>\n",
              "      <td>0.024410</td>\n",
              "      <td>-0.062852</td>\n",
              "      <td>0.001309</td>\n",
              "      <td>0</td>\n",
              "      <td>0</td>\n",
              "      <td>1</td>\n",
              "      <td>0</td>\n",
              "      <td>0</td>\n",
              "      <td>0</td>\n",
              "      <td>0</td>\n",
              "      <td>0</td>\n",
              "      <td>0</td>\n",
              "      <td>0</td>\n",
              "      <td>0</td>\n",
              "      <td>0</td>\n",
              "      <td>0</td>\n",
              "      <td>0</td>\n",
              "      <td>0</td>\n",
              "      <td>0</td>\n",
              "      <td>0</td>\n",
              "      <td>0</td>\n",
              "      <td>0</td>\n",
              "      <td>0</td>\n",
              "      <td>0</td>\n",
              "      <td>0</td>\n",
              "      <td>1</td>\n",
              "      <td>0</td>\n",
              "      <td>0</td>\n",
              "      <td>0</td>\n",
              "      <td>0</td>\n",
              "      <td>0</td>\n",
              "      <td>0</td>\n",
              "      <td>0</td>\n",
              "      <td>0</td>\n",
              "      <td>0</td>\n",
              "      <td>0</td>\n",
              "      <td>0</td>\n",
              "      <td>0</td>\n",
              "    </tr>\n",
              "  </tbody>\n",
              "</table>\n",
              "</div>"
            ],
            "text/plain": [
              "     Budget Forecast  ... Borough_Valhalla\n",
              "131        18.118656  ...                0\n",
              "234        17.087662  ...                0\n",
              "67         17.482732  ...                0\n",
              "96         18.621133  ...                0\n",
              "156        18.629166  ...                0\n",
              "\n",
              "[5 rows x 65 columns]"
            ]
          },
          "metadata": {
            "tags": []
          },
          "execution_count": 17
        }
      ]
    },
    {
      "cell_type": "code",
      "metadata": {
        "colab_type": "code",
        "id": "KEG0WWcjuqfp",
        "outputId": "01274829-92d4-46c3-b01a-0e1d92e0842b",
        "colab": {
          "base_uri": "https://localhost:8080/",
          "height": 765
        }
      },
      "source": [
        "qual_columns = ['Project Duration',\t'Schedule Change Norm',\n",
        "                'Budget Change Norm',\t'Budget Forecast']\t\n",
        "#scatter_matrix(nyc_train[qual_columns].sample(frac=0.4, axis=0),alpha=0.5, figsize=(25,20));\n",
        "plt_df = nyc_train.copy()\n",
        "sns.set(style=\"ticks\")\n",
        "sns.pairplot(plt_df[qual_columns])"
      ],
      "execution_count": 18,
      "outputs": [
        {
          "output_type": "execute_result",
          "data": {
            "text/plain": [
              "<seaborn.axisgrid.PairGrid at 0x7f81cb5d5780>"
            ]
          },
          "metadata": {
            "tags": []
          },
          "execution_count": 18
        },
        {
          "output_type": "display_data",
          "data": {
            "image/png": "[encoded data removed]",
            "text/plain": [
              "<Figure size 720x720 with 20 Axes>"
            ]
          },
          "metadata": {
            "tags": []
          }
        }
      ]
    },
    {
      "cell_type": "code",
      "metadata": {
        "colab_type": "code",
        "id": "ppDU4cR9SMOB",
        "outputId": "8d478abc-946a-4bf9-c7cd-200e5dd174d6",
        "colab": {
          "base_uri": "https://localhost:8080/",
          "height": 168
        }
      },
      "source": [
        "nyc_train[qual_columns].corr()"
      ],
      "execution_count": 19,
      "outputs": [
        {
          "output_type": "execute_result",
          "data": {
            "text/html": [
              "<div>\n",
              "<style scoped>\n",
              "    .dataframe tbody tr th:only-of-type {\n",
              "        vertical-align: middle;\n",
              "    }\n",
              "\n",
              "    .dataframe tbody tr th {\n",
              "        vertical-align: top;\n",
              "    }\n",
              "\n",
              "    .dataframe thead th {\n",
              "        text-align: right;\n",
              "    }\n",
              "</style>\n",
              "<table border=\"1\" class=\"dataframe\">\n",
              "  <thead>\n",
              "    <tr style=\"text-align: right;\">\n",
              "      <th></th>\n",
              "      <th>Project Duration</th>\n",
              "      <th>Schedule Change Norm</th>\n",
              "      <th>Budget Change Norm</th>\n",
              "      <th>Budget Forecast</th>\n",
              "    </tr>\n",
              "  </thead>\n",
              "  <tbody>\n",
              "    <tr>\n",
              "      <th>Project Duration</th>\n",
              "      <td>1.000000</td>\n",
              "      <td>0.199344</td>\n",
              "      <td>0.130919</td>\n",
              "      <td>0.359923</td>\n",
              "    </tr>\n",
              "    <tr>\n",
              "      <th>Schedule Change Norm</th>\n",
              "      <td>0.199344</td>\n",
              "      <td>1.000000</td>\n",
              "      <td>0.052088</td>\n",
              "      <td>0.088461</td>\n",
              "    </tr>\n",
              "    <tr>\n",
              "      <th>Budget Change Norm</th>\n",
              "      <td>0.130919</td>\n",
              "      <td>0.052088</td>\n",
              "      <td>1.000000</td>\n",
              "      <td>0.230264</td>\n",
              "    </tr>\n",
              "    <tr>\n",
              "      <th>Budget Forecast</th>\n",
              "      <td>0.359923</td>\n",
              "      <td>0.088461</td>\n",
              "      <td>0.230264</td>\n",
              "      <td>1.000000</td>\n",
              "    </tr>\n",
              "  </tbody>\n",
              "</table>\n",
              "</div>"
            ],
            "text/plain": [
              "                      Project Duration  ...  Budget Forecast\n",
              "Project Duration              1.000000  ...         0.359923\n",
              "Schedule Change Norm          0.199344  ...         0.088461\n",
              "Budget Change Norm            0.130919  ...         0.230264\n",
              "Budget Forecast               0.359923  ...         1.000000\n",
              "\n",
              "[4 rows x 4 columns]"
            ]
          },
          "metadata": {
            "tags": []
          },
          "execution_count": 19
        }
      ]
    },
    {
      "cell_type": "code",
      "metadata": {
        "colab_type": "code",
        "id": "pXYR6nzsUd3o",
        "outputId": "a35414a1-4aec-47d0-ae88-ec4f7b6fb080",
        "colab": {
          "base_uri": "https://localhost:8080/",
          "height": 602
        }
      },
      "source": [
        "f = plt.figure(figsize=(10, 7))\n",
        "plt.matshow(nyc_train[qual_columns].corr(), fignum=f.number)\n",
        "plt.xticks(range(len(qual_columns)), qual_columns, fontsize=14, rotation=90)\n",
        "plt.yticks(range(len(qual_columns)), qual_columns, fontsize=14)\n",
        "cb = plt.colorbar()\n",
        "cb.ax.tick_params(labelsize=14)\n",
        "plt.title('Correlation Matrix', fontsize=16);"
      ],
      "execution_count": 20,
      "outputs": [
        {
          "output_type": "display_data",
          "data": {
            "image/png": "[encoded data removed]",
            "text/plain": [
              "<Figure size 720x504 with 2 Axes>"
            ]
          },
          "metadata": {
            "tags": []
          }
        }
      ]
    },
    {
      "cell_type": "markdown",
      "metadata": {
        "id": "1Ht1_npw0oE4",
        "colab_type": "text"
      },
      "source": [
        "### Regression - Linear Regression, Lasso and Ridge\n",
        "\n",
        "---\n",
        "\n"
      ]
    },
    {
      "cell_type": "markdown",
      "metadata": {
        "id": "UWI4PGhW3ES9",
        "colab_type": "text"
      },
      "source": [
        "#### Budget Change Model"
      ]
    },
    {
      "cell_type": "markdown",
      "metadata": {
        "id": "sBP64jkP5u--",
        "colab_type": "text"
      },
      "source": [
        "##### Training and Test Data"
      ]
    },
    {
      "cell_type": "code",
      "metadata": {
        "colab_type": "code",
        "id": "oVtJ7lXivyul",
        "colab": {}
      },
      "source": [
        "# Y = \"Budget Change Norm\"\n",
        "# X = \"Schedule Change Norm\" and \"Budget Forecast\"\n",
        "#      Dropped \"Project Duration\" from X because of its multi-collinearity with \n",
        "#      \"Budget Forecast\" - determined by VIF\n",
        "\n",
        "nyc_train_trunc = nyc_train.copy()\n",
        "#nyc_train_trunc = nyc_train_trunc[qual_columns]\n",
        "y_train = (nyc_train_trunc['Budget Change Norm'])\n",
        "X_train = nyc_train_trunc.drop(['Budget Change Norm', 'Project Duration'], axis=1)\n",
        "\n",
        "# Remove redundant columns: found through VIF (multi-collinearity analysis)\n",
        "drop_mc_columns = ['Category_Health and Hospitals, IT', 'Category_IT', 'Category_Industrial Development, Parks',\n",
        "                   'Category_Industrial Development, Streets and Roadways', 'Category_Libraries', \n",
        "                   'Borough_Brooklyn, Queens','Borough_Manhattan, Staten Island, Bronx', 'Borough_Olive',\n",
        "                   'Borough_Marlboro', 'Borough_Port Jervis', 'Borough_New York', \n",
        "                   'Borough_Carmel','Category_Streets and Roadways', \n",
        "                   'Normalized Description', 'normal_joined']\n",
        "X_train = X_train.drop(drop_mc_columns, axis=1, errors='ignore')\n",
        "\n",
        "# Test Data\n",
        "nyc_test_trunc = nyc_test.copy()\n",
        "#nyc_test_trunc = nyc_test_trunc[qual_columns]\n",
        "y_test = nyc_test_trunc['Budget Change Norm']\n",
        "X_test = nyc_test_trunc.drop(['Budget Change Norm', 'Project Duration'], axis=1)\n",
        "X_test = X_test.drop(drop_mc_columns, axis=1, errors='ignore')\n",
        "\n",
        "# No need for polynomial interactions - doesn't improve test/training score\n",
        "# Overfitting - not enough data\n",
        "#--- poly = PolynomialFeatures(interaction_only=True,include_bias = False)\n",
        "#--- X_train = poly.fit_transform(X_train)\n",
        "\n",
        "# No need for increasing polynomial terms - decreases the test scores\n",
        "# Overfitting - not enough data\n",
        "#--- X_train['Budget_2T'] = X_train['Budget Forecast'] * X_train['Budget Forecast']\n",
        "#--- X_train['Budget_3T'] = X_train['Schedule Change Norm'] * X_train['Budget Forecast']\n",
        "#--- X_train['Project_2T'] = X_train['Project Duration'] * X_train['Project Duration']"
      ],
      "execution_count": 0,
      "outputs": []
    },
    {
      "cell_type": "markdown",
      "metadata": {
        "id": "QPBc3yG63J25",
        "colab_type": "text"
      },
      "source": [
        "##### Linear Regression and RidgeCV"
      ]
    },
    {
      "cell_type": "code",
      "metadata": {
        "id": "5yhPOlRK3BsB",
        "colab_type": "code",
        "outputId": "285a8f55-0318-44d5-db06-bc56e6f575b0",
        "colab": {
          "base_uri": "https://localhost:8080/",
          "height": 72
        }
      },
      "source": [
        "np.random.seed(49)\n",
        "lr_cost_model = LinearRegression().fit(X_train, y_train)\n",
        "lr_cost_model.score(X_train, y_train)\n",
        "alphas = (0.1, 0.5,1,5,10,50,100)\n",
        "ridge_cost_model = RidgeCV(alphas=alphas, cv=20).fit(X_train, y_train)\n",
        "lasso_cost_model = LassoCV(alphas=alphas, max_iter=100000).fit(X_train, y_train)\n",
        "\n",
        "print(f'LinearRegression training score: {lr_cost_model.score(X_train, y_train)}')\n",
        "print(f'Lasso training score: {lasso_cost_model.score(X_train, y_train)}')\n",
        "print(f'Ridge training score: {ridge_cost_model.score(X_train, y_train)}')"
      ],
      "execution_count": 22,
      "outputs": [
        {
          "output_type": "stream",
          "text": [
            "LinearRegression training score: 0.35661173897782406\n",
            "Lasso training score: 0.0\n",
            "Ridge training score: 0.08988019469829989\n"
          ],
          "name": "stdout"
        }
      ]
    },
    {
      "cell_type": "code",
      "metadata": {
        "colab_type": "code",
        "id": "N9lOwIaNn02E",
        "outputId": "b15b6f56-72f2-461e-ae46-c7019a0f2a38",
        "colab": {
          "base_uri": "https://localhost:8080/",
          "height": 72
        }
      },
      "source": [
        "testr2 = lr_cost_model.score(X_test, y_test)\n",
        "print(f'LinearRegression test score: {lr_cost_model.score(X_test, y_test)}')\n",
        "print(f'Lasso test score: {lasso_cost_model.score(X_test, y_test)}')\n",
        "print(f'Ridge test score: {ridge_cost_model.score(X_test, y_test)}')"
      ],
      "execution_count": 23,
      "outputs": [
        {
          "output_type": "stream",
          "text": [
            "LinearRegression test score: 0.225469061719357\n",
            "Lasso test score: -0.0028014606265251984\n",
            "Ridge test score: 0.12666900482038435\n"
          ],
          "name": "stdout"
        }
      ]
    },
    {
      "cell_type": "code",
      "metadata": {
        "id": "xT5A4yP90oE-",
        "colab_type": "code",
        "outputId": "0df55872-56c8-4f8e-fd65-4e98653f1800",
        "colab": {
          "base_uri": "https://localhost:8080/",
          "height": 35
        }
      },
      "source": [
        "print(f'The best test r-squared value so far is {testr2}')"
      ],
      "execution_count": 24,
      "outputs": [
        {
          "output_type": "stream",
          "text": [
            "The best test r-squared value so far is 0.225469061719357\n"
          ],
          "name": "stdout"
        }
      ]
    },
    {
      "cell_type": "markdown",
      "metadata": {
        "id": "gDaBv8wl0oFC",
        "colab_type": "text"
      },
      "source": [
        "### Bagging Techniques"
      ]
    },
    {
      "cell_type": "code",
      "metadata": {
        "colab_type": "code",
        "id": "rpi_PvG75yz3",
        "outputId": "b3ba290f-4d65-41d7-b88c-a6694f6a4bad",
        "colab": {
          "base_uri": "https://localhost:8080/",
          "height": 54
        }
      },
      "source": [
        "# BAGGING TECHNIQUES\n",
        "from sklearn.utils import resample\n",
        "from sklearn.metrics import mean_squared_error\n",
        "num_bags = 10\n",
        "np.random.seed(49)\n",
        "bagging_train = np.zeros((X_train.shape[0], num_bags))\n",
        "bagging_test = np.zeros((X_test.shape[0], num_bags))\n",
        "bagging_models = []\n",
        "for i in range(num_bags):\n",
        "  bootstrapped_X, bootstrapped_y = resample(X_train, y_train)\n",
        "  fitted_model = RidgeCV(alphas=alphas,normalize=True, cv=5).fit(bootstrapped_X, bootstrapped_y)\n",
        "  bagging_models.append(fitted_model)\n",
        "  bagging_train[:,i] = fitted_model.predict(X_train)\n",
        "  bagging_test[:,i] = fitted_model.predict(X_test)\n",
        "\n",
        "bagging_train_predicts = np.mean(bagging_train[:,:], axis=1)\n",
        "bagging_test_predicts = np.mean(bagging_test[:,:], axis=1)\n",
        "print(f'Training score: {mean_squared_error(y_train, bagging_train_predicts)}')\n",
        "print(f'Test score: {mean_squared_error(y_test, bagging_test_predicts)}')"
      ],
      "execution_count": 25,
      "outputs": [
        {
          "output_type": "stream",
          "text": [
            "Training score: 0.07792475183129147\n",
            "Test score: 0.254375302292427\n"
          ],
          "name": "stdout"
        }
      ]
    },
    {
      "cell_type": "code",
      "metadata": {
        "colab_type": "code",
        "id": "KaIEiu2KnUTx",
        "outputId": "01a97c51-008a-4c19-8380-332e68475699",
        "colab": {
          "base_uri": "https://localhost:8080/",
          "height": 1000
        }
      },
      "source": [
        "X_train_ols = sm.add_constant(X_train)\n",
        "results = OLS(y_train, X_train_ols).fit()\n",
        "results.summary()"
      ],
      "execution_count": 26,
      "outputs": [
        {
          "output_type": "execute_result",
          "data": {
            "text/html": [
              "<table class=\"simpletable\">\n",
              "<caption>OLS Regression Results</caption>\n",
              "<tr>\n",
              "  <th>Dep. Variable:</th>    <td>Budget Change Norm</td> <th>  R-squared:         </th> <td>   0.357</td>\n",
              "</tr>\n",
              "<tr>\n",
              "  <th>Model:</th>                    <td>OLS</td>        <th>  Adj. R-squared:    </th> <td>   0.150</td>\n",
              "</tr>\n",
              "<tr>\n",
              "  <th>Method:</th>              <td>Least Squares</td>   <th>  F-statistic:       </th> <td>   1.729</td>\n",
              "</tr>\n",
              "<tr>\n",
              "  <th>Date:</th>              <td>Sat, 09 May 2020</td>  <th>  Prob (F-statistic):</th>  <td>0.00587</td>\n",
              "</tr>\n",
              "<tr>\n",
              "  <th>Time:</th>                  <td>03:05:43</td>      <th>  Log-Likelihood:    </th> <td> -12.049</td>\n",
              "</tr>\n",
              "<tr>\n",
              "  <th>No. Observations:</th>       <td>   207</td>       <th>  AIC:               </th> <td>   126.1</td>\n",
              "</tr>\n",
              "<tr>\n",
              "  <th>Df Residuals:</th>           <td>   156</td>       <th>  BIC:               </th> <td>   296.1</td>\n",
              "</tr>\n",
              "<tr>\n",
              "  <th>Df Model:</th>               <td>    50</td>       <th>                     </th>     <td> </td>   \n",
              "</tr>\n",
              "<tr>\n",
              "  <th>Covariance Type:</th>       <td>nonrobust</td>     <th>                     </th>     <td> </td>   \n",
              "</tr>\n",
              "</table>\n",
              "<table class=\"simpletable\">\n",
              "<tr>\n",
              "                       <td></td>                          <th>coef</th>     <th>std err</th>      <th>t</th>      <th>P>|t|</th>  <th>[0.025</th>    <th>0.975]</th>  \n",
              "</tr>\n",
              "<tr>\n",
              "  <th>const</th>                                       <td>   -1.3468</td> <td>    0.668</td> <td>   -2.016</td> <td> 0.046</td> <td>   -2.667</td> <td>   -0.027</td>\n",
              "</tr>\n",
              "<tr>\n",
              "  <th>Budget Forecast</th>                             <td>    0.0856</td> <td>    0.037</td> <td>    2.296</td> <td> 0.023</td> <td>    0.012</td> <td>    0.159</td>\n",
              "</tr>\n",
              "<tr>\n",
              "  <th>Schedule Change Norm</th>                        <td>    0.0337</td> <td>    0.121</td> <td>    0.279</td> <td> 0.780</td> <td>   -0.204</td> <td>    0.272</td>\n",
              "</tr>\n",
              "<tr>\n",
              "  <th>0</th>                                           <td>    0.1725</td> <td>    0.183</td> <td>    0.940</td> <td> 0.348</td> <td>   -0.190</td> <td>    0.535</td>\n",
              "</tr>\n",
              "<tr>\n",
              "  <th>1</th>                                           <td>    0.2929</td> <td>    0.183</td> <td>    1.597</td> <td> 0.112</td> <td>   -0.069</td> <td>    0.655</td>\n",
              "</tr>\n",
              "<tr>\n",
              "  <th>2</th>                                           <td>    0.2934</td> <td>    0.193</td> <td>    1.524</td> <td> 0.130</td> <td>   -0.087</td> <td>    0.674</td>\n",
              "</tr>\n",
              "<tr>\n",
              "  <th>3</th>                                           <td>   -0.4670</td> <td>    0.191</td> <td>   -2.449</td> <td> 0.015</td> <td>   -0.844</td> <td>   -0.090</td>\n",
              "</tr>\n",
              "<tr>\n",
              "  <th>4</th>                                           <td>   -0.3308</td> <td>    0.161</td> <td>   -2.054</td> <td> 0.042</td> <td>   -0.649</td> <td>   -0.013</td>\n",
              "</tr>\n",
              "<tr>\n",
              "  <th>5</th>                                           <td>   -0.1244</td> <td>    0.187</td> <td>   -0.667</td> <td> 0.506</td> <td>   -0.493</td> <td>    0.244</td>\n",
              "</tr>\n",
              "<tr>\n",
              "  <th>6</th>                                           <td>    0.0865</td> <td>    0.187</td> <td>    0.463</td> <td> 0.644</td> <td>   -0.283</td> <td>    0.456</td>\n",
              "</tr>\n",
              "<tr>\n",
              "  <th>7</th>                                           <td>    0.0433</td> <td>    0.187</td> <td>    0.231</td> <td> 0.818</td> <td>   -0.327</td> <td>    0.414</td>\n",
              "</tr>\n",
              "<tr>\n",
              "  <th>8</th>                                           <td>   -0.7005</td> <td>    0.200</td> <td>   -3.504</td> <td> 0.001</td> <td>   -1.095</td> <td>   -0.306</td>\n",
              "</tr>\n",
              "<tr>\n",
              "  <th>9</th>                                           <td>   -0.0826</td> <td>    0.200</td> <td>   -0.414</td> <td> 0.679</td> <td>   -0.477</td> <td>    0.312</td>\n",
              "</tr>\n",
              "<tr>\n",
              "  <th>10</th>                                          <td>   -0.0413</td> <td>    0.207</td> <td>   -0.200</td> <td> 0.842</td> <td>   -0.450</td> <td>    0.367</td>\n",
              "</tr>\n",
              "<tr>\n",
              "  <th>11</th>                                          <td>   -0.4080</td> <td>    0.247</td> <td>   -1.654</td> <td> 0.100</td> <td>   -0.895</td> <td>    0.079</td>\n",
              "</tr>\n",
              "<tr>\n",
              "  <th>12</th>                                          <td>   -0.1170</td> <td>    0.213</td> <td>   -0.550</td> <td> 0.583</td> <td>   -0.537</td> <td>    0.303</td>\n",
              "</tr>\n",
              "<tr>\n",
              "  <th>13</th>                                          <td>   -0.7016</td> <td>    0.245</td> <td>   -2.861</td> <td> 0.005</td> <td>   -1.186</td> <td>   -0.217</td>\n",
              "</tr>\n",
              "<tr>\n",
              "  <th>14</th>                                          <td>    0.2104</td> <td>    0.245</td> <td>    0.860</td> <td> 0.391</td> <td>   -0.273</td> <td>    0.694</td>\n",
              "</tr>\n",
              "<tr>\n",
              "  <th>15</th>                                          <td>   -0.1969</td> <td>    0.225</td> <td>   -0.874</td> <td> 0.383</td> <td>   -0.642</td> <td>    0.248</td>\n",
              "</tr>\n",
              "<tr>\n",
              "  <th>16</th>                                          <td>   -0.0596</td> <td>    0.240</td> <td>   -0.248</td> <td> 0.804</td> <td>   -0.534</td> <td>    0.414</td>\n",
              "</tr>\n",
              "<tr>\n",
              "  <th>17</th>                                          <td>   -0.2223</td> <td>    0.240</td> <td>   -0.928</td> <td> 0.355</td> <td>   -0.696</td> <td>    0.251</td>\n",
              "</tr>\n",
              "<tr>\n",
              "  <th>18</th>                                          <td>    0.2259</td> <td>    0.225</td> <td>    1.003</td> <td> 0.317</td> <td>   -0.219</td> <td>    0.671</td>\n",
              "</tr>\n",
              "<tr>\n",
              "  <th>19</th>                                          <td>    0.0800</td> <td>    0.236</td> <td>    0.339</td> <td> 0.735</td> <td>   -0.386</td> <td>    0.546</td>\n",
              "</tr>\n",
              "<tr>\n",
              "  <th>20</th>                                          <td>    0.2588</td> <td>    0.262</td> <td>    0.988</td> <td> 0.325</td> <td>   -0.259</td> <td>    0.777</td>\n",
              "</tr>\n",
              "<tr>\n",
              "  <th>21</th>                                          <td>    0.3135</td> <td>    0.266</td> <td>    1.177</td> <td> 0.241</td> <td>   -0.213</td> <td>    0.840</td>\n",
              "</tr>\n",
              "<tr>\n",
              "  <th>22</th>                                          <td>    0.0133</td> <td>    0.265</td> <td>    0.050</td> <td> 0.960</td> <td>   -0.510</td> <td>    0.537</td>\n",
              "</tr>\n",
              "<tr>\n",
              "  <th>23</th>                                          <td>   -0.1322</td> <td>    0.281</td> <td>   -0.471</td> <td> 0.638</td> <td>   -0.687</td> <td>    0.422</td>\n",
              "</tr>\n",
              "<tr>\n",
              "  <th>Category_Bridges</th>                            <td>   -0.2208</td> <td>    0.132</td> <td>   -1.673</td> <td> 0.096</td> <td>   -0.481</td> <td>    0.040</td>\n",
              "</tr>\n",
              "<tr>\n",
              "  <th>Category_Bridges, Streets and Roadways</th>      <td>   -0.0039</td> <td>    0.121</td> <td>   -0.032</td> <td> 0.974</td> <td>   -0.243</td> <td>    0.235</td>\n",
              "</tr>\n",
              "<tr>\n",
              "  <th>Category_Ferries</th>                            <td>    0.1447</td> <td>    0.210</td> <td>    0.689</td> <td> 0.492</td> <td>   -0.270</td> <td>    0.559</td>\n",
              "</tr>\n",
              "<tr>\n",
              "  <th>Category_Health and Hospitals</th>               <td>   -0.1850</td> <td>    0.184</td> <td>   -1.007</td> <td> 0.315</td> <td>   -0.548</td> <td>    0.178</td>\n",
              "</tr>\n",
              "<tr>\n",
              "  <th>Category_Industrial Development</th>             <td>   -0.0187</td> <td>    0.089</td> <td>   -0.210</td> <td> 0.834</td> <td>   -0.195</td> <td>    0.158</td>\n",
              "</tr>\n",
              "<tr>\n",
              "  <th>Category_Other Government Facilities</th>        <td>    0.1069</td> <td>    0.133</td> <td>    0.801</td> <td> 0.424</td> <td>   -0.157</td> <td>    0.370</td>\n",
              "</tr>\n",
              "<tr>\n",
              "  <th>Category_Parks</th>                              <td>   -0.3790</td> <td>    0.219</td> <td>   -1.730</td> <td> 0.086</td> <td>   -0.812</td> <td>    0.054</td>\n",
              "</tr>\n",
              "<tr>\n",
              "  <th>Category_Public Safety and Criminal Justice</th> <td>    0.1539</td> <td>    0.160</td> <td>    0.964</td> <td> 0.337</td> <td>   -0.162</td> <td>    0.469</td>\n",
              "</tr>\n",
              "<tr>\n",
              "  <th>Category_Sanitation</th>                         <td>   -0.0430</td> <td>    0.205</td> <td>   -0.209</td> <td> 0.834</td> <td>   -0.448</td> <td>    0.362</td>\n",
              "</tr>\n",
              "<tr>\n",
              "  <th>Category_Schools</th>                            <td>   -0.8143</td> <td>    0.316</td> <td>   -2.574</td> <td> 0.011</td> <td>   -1.439</td> <td>   -0.189</td>\n",
              "</tr>\n",
              "<tr>\n",
              "  <th>Category_Sewers</th>                             <td>   -0.1060</td> <td>    0.120</td> <td>   -0.880</td> <td> 0.380</td> <td>   -0.344</td> <td>    0.132</td>\n",
              "</tr>\n",
              "<tr>\n",
              "  <th>Category_Wastewater Treatment</th>               <td>   -0.0429</td> <td>    0.114</td> <td>   -0.376</td> <td> 0.707</td> <td>   -0.268</td> <td>    0.182</td>\n",
              "</tr>\n",
              "<tr>\n",
              "  <th>Category_Water Supply</th>                       <td>   -0.1639</td> <td>    0.132</td> <td>   -1.245</td> <td> 0.215</td> <td>   -0.424</td> <td>    0.096</td>\n",
              "</tr>\n",
              "<tr>\n",
              "  <th>Borough_Bronx, Manhattan</th>                    <td>    0.4108</td> <td>    0.328</td> <td>    1.251</td> <td> 0.213</td> <td>   -0.238</td> <td>    1.060</td>\n",
              "</tr>\n",
              "<tr>\n",
              "  <th>Borough_Brooklyn</th>                            <td>    0.1218</td> <td>    0.072</td> <td>    1.690</td> <td> 0.093</td> <td>   -0.021</td> <td>    0.264</td>\n",
              "</tr>\n",
              "<tr>\n",
              "  <th>Borough_Citywide</th>                            <td>   -0.1774</td> <td>    0.155</td> <td>   -1.144</td> <td> 0.254</td> <td>   -0.484</td> <td>    0.129</td>\n",
              "</tr>\n",
              "<tr>\n",
              "  <th>Borough_Manhattan</th>                           <td>    0.0385</td> <td>    0.090</td> <td>    0.429</td> <td> 0.668</td> <td>   -0.139</td> <td>    0.216</td>\n",
              "</tr>\n",
              "<tr>\n",
              "  <th>Borough_Manhattan, Bronx</th>                    <td>    0.3286</td> <td>    0.245</td> <td>    1.339</td> <td> 0.182</td> <td>   -0.156</td> <td>    0.813</td>\n",
              "</tr>\n",
              "<tr>\n",
              "  <th>Borough_Manhattan, Staten Island</th>            <td>   -0.3097</td> <td>    0.383</td> <td>   -0.809</td> <td> 0.420</td> <td>   -1.066</td> <td>    0.447</td>\n",
              "</tr>\n",
              "<tr>\n",
              "  <th>Borough_Manhatten</th>                           <td>   -0.0796</td> <td>    0.320</td> <td>   -0.249</td> <td> 0.804</td> <td>   -0.711</td> <td>    0.552</td>\n",
              "</tr>\n",
              "<tr>\n",
              "  <th>Borough_Queens</th>                              <td>   -0.0029</td> <td>    0.076</td> <td>   -0.038</td> <td> 0.969</td> <td>   -0.152</td> <td>    0.146</td>\n",
              "</tr>\n",
              "<tr>\n",
              "  <th>Borough_Staten Island</th>                       <td>    0.1829</td> <td>    0.113</td> <td>    1.615</td> <td> 0.108</td> <td>   -0.041</td> <td>    0.407</td>\n",
              "</tr>\n",
              "<tr>\n",
              "  <th>Borough_Upstate</th>                             <td>    0.2664</td> <td>    0.264</td> <td>    1.009</td> <td> 0.314</td> <td>   -0.255</td> <td>    0.788</td>\n",
              "</tr>\n",
              "<tr>\n",
              "  <th>Borough_Valhalla</th>                            <td>   -1.2124</td> <td>    0.328</td> <td>   -3.695</td> <td> 0.000</td> <td>   -1.861</td> <td>   -0.564</td>\n",
              "</tr>\n",
              "</table>\n",
              "<table class=\"simpletable\">\n",
              "<tr>\n",
              "  <th>Omnibus:</th>       <td>40.071</td> <th>  Durbin-Watson:     </th> <td>   1.999</td>\n",
              "</tr>\n",
              "<tr>\n",
              "  <th>Prob(Omnibus):</th> <td> 0.000</td> <th>  Jarque-Bera (JB):  </th> <td> 128.059</td>\n",
              "</tr>\n",
              "<tr>\n",
              "  <th>Skew:</th>          <td>-0.755</td> <th>  Prob(JB):          </th> <td>1.56e-28</td>\n",
              "</tr>\n",
              "<tr>\n",
              "  <th>Kurtosis:</th>      <td> 6.545</td> <th>  Cond. No.          </th> <td>    607.</td>\n",
              "</tr>\n",
              "</table><br/><br/>Warnings:<br/>[1] Standard Errors assume that the covariance matrix of the errors is correctly specified."
            ],
            "text/plain": [
              "<class 'statsmodels.iolib.summary.Summary'>\n",
              "\"\"\"\n",
              "                            OLS Regression Results                            \n",
              "==============================================================================\n",
              "Dep. Variable:     Budget Change Norm   R-squared:                       0.357\n",
              "Model:                            OLS   Adj. R-squared:                  0.150\n",
              "Method:                 Least Squares   F-statistic:                     1.729\n",
              "Date:                Sat, 09 May 2020   Prob (F-statistic):            0.00587\n",
              "Time:                        03:05:43   Log-Likelihood:                -12.049\n",
              "No. Observations:                 207   AIC:                             126.1\n",
              "Df Residuals:                     156   BIC:                             296.1\n",
              "Df Model:                          50                                         \n",
              "Covariance Type:            nonrobust                                         \n",
              "===============================================================================================================\n",
              "                                                  coef    std err          t      P>|t|      [0.025      0.975]\n",
              "---------------------------------------------------------------------------------------------------------------\n",
              "const                                          -1.3468      0.668     -2.016      0.046      -2.667      -0.027\n",
              "Budget Forecast                                 0.0856      0.037      2.296      0.023       0.012       0.159\n",
              "Schedule Change Norm                            0.0337      0.121      0.279      0.780      -0.204       0.272\n",
              "0                                               0.1725      0.183      0.940      0.348      -0.190       0.535\n",
              "1                                               0.2929      0.183      1.597      0.112      -0.069       0.655\n",
              "2                                               0.2934      0.193      1.524      0.130      -0.087       0.674\n",
              "3                                              -0.4670      0.191     -2.449      0.015      -0.844      -0.090\n",
              "4                                              -0.3308      0.161     -2.054      0.042      -0.649      -0.013\n",
              "5                                              -0.1244      0.187     -0.667      0.506      -0.493       0.244\n",
              "6                                               0.0865      0.187      0.463      0.644      -0.283       0.456\n",
              "7                                               0.0433      0.187      0.231      0.818      -0.327       0.414\n",
              "8                                              -0.7005      0.200     -3.504      0.001      -1.095      -0.306\n",
              "9                                              -0.0826      0.200     -0.414      0.679      -0.477       0.312\n",
              "10                                             -0.0413      0.207     -0.200      0.842      -0.450       0.367\n",
              "11                                             -0.4080      0.247     -1.654      0.100      -0.895       0.079\n",
              "12                                             -0.1170      0.213     -0.550      0.583      -0.537       0.303\n",
              "13                                             -0.7016      0.245     -2.861      0.005      -1.186      -0.217\n",
              "14                                              0.2104      0.245      0.860      0.391      -0.273       0.694\n",
              "15                                             -0.1969      0.225     -0.874      0.383      -0.642       0.248\n",
              "16                                             -0.0596      0.240     -0.248      0.804      -0.534       0.414\n",
              "17                                             -0.2223      0.240     -0.928      0.355      -0.696       0.251\n",
              "18                                              0.2259      0.225      1.003      0.317      -0.219       0.671\n",
              "19                                              0.0800      0.236      0.339      0.735      -0.386       0.546\n",
              "20                                              0.2588      0.262      0.988      0.325      -0.259       0.777\n",
              "21                                              0.3135      0.266      1.177      0.241      -0.213       0.840\n",
              "22                                              0.0133      0.265      0.050      0.960      -0.510       0.537\n",
              "23                                             -0.1322      0.281     -0.471      0.638      -0.687       0.422\n",
              "Category_Bridges                               -0.2208      0.132     -1.673      0.096      -0.481       0.040\n",
              "Category_Bridges, Streets and Roadways         -0.0039      0.121     -0.032      0.974      -0.243       0.235\n",
              "Category_Ferries                                0.1447      0.210      0.689      0.492      -0.270       0.559\n",
              "Category_Health and Hospitals                  -0.1850      0.184     -1.007      0.315      -0.548       0.178\n",
              "Category_Industrial Development                -0.0187      0.089     -0.210      0.834      -0.195       0.158\n",
              "Category_Other Government Facilities            0.1069      0.133      0.801      0.424      -0.157       0.370\n",
              "Category_Parks                                 -0.3790      0.219     -1.730      0.086      -0.812       0.054\n",
              "Category_Public Safety and Criminal Justice     0.1539      0.160      0.964      0.337      -0.162       0.469\n",
              "Category_Sanitation                            -0.0430      0.205     -0.209      0.834      -0.448       0.362\n",
              "Category_Schools                               -0.8143      0.316     -2.574      0.011      -1.439      -0.189\n",
              "Category_Sewers                                -0.1060      0.120     -0.880      0.380      -0.344       0.132\n",
              "Category_Wastewater Treatment                  -0.0429      0.114     -0.376      0.707      -0.268       0.182\n",
              "Category_Water Supply                          -0.1639      0.132     -1.245      0.215      -0.424       0.096\n",
              "Borough_Bronx, Manhattan                        0.4108      0.328      1.251      0.213      -0.238       1.060\n",
              "Borough_Brooklyn                                0.1218      0.072      1.690      0.093      -0.021       0.264\n",
              "Borough_Citywide                               -0.1774      0.155     -1.144      0.254      -0.484       0.129\n",
              "Borough_Manhattan                               0.0385      0.090      0.429      0.668      -0.139       0.216\n",
              "Borough_Manhattan, Bronx                        0.3286      0.245      1.339      0.182      -0.156       0.813\n",
              "Borough_Manhattan, Staten Island               -0.3097      0.383     -0.809      0.420      -1.066       0.447\n",
              "Borough_Manhatten                              -0.0796      0.320     -0.249      0.804      -0.711       0.552\n",
              "Borough_Queens                                 -0.0029      0.076     -0.038      0.969      -0.152       0.146\n",
              "Borough_Staten Island                           0.1829      0.113      1.615      0.108      -0.041       0.407\n",
              "Borough_Upstate                                 0.2664      0.264      1.009      0.314      -0.255       0.788\n",
              "Borough_Valhalla                               -1.2124      0.328     -3.695      0.000      -1.861      -0.564\n",
              "==============================================================================\n",
              "Omnibus:                       40.071   Durbin-Watson:                   1.999\n",
              "Prob(Omnibus):                  0.000   Jarque-Bera (JB):              128.059\n",
              "Skew:                          -0.755   Prob(JB):                     1.56e-28\n",
              "Kurtosis:                       6.545   Cond. No.                         607.\n",
              "==============================================================================\n",
              "\n",
              "Warnings:\n",
              "[1] Standard Errors assume that the covariance matrix of the errors is correctly specified.\n",
              "\"\"\""
            ]
          },
          "metadata": {
            "tags": []
          },
          "execution_count": 26
        }
      ]
    },
    {
      "cell_type": "code",
      "metadata": {
        "colab_type": "code",
        "id": "iGk8PFHsXcj3",
        "outputId": "5369ff90-73b1-4507-a418-588d314c78d4",
        "colab": {
          "base_uri": "https://localhost:8080/",
          "height": 945
        }
      },
      "source": [
        "# Multi-collinearity\n",
        "X_train_save = X_train.copy()\n",
        "from statsmodels.stats.outliers_influence import variance_inflation_factor\n",
        "pd.Series([variance_inflation_factor(X_train.values, i) \n",
        "               for i in range(X_train.shape[1])], \n",
        "               index=X_train.columns)"
      ],
      "execution_count": 27,
      "outputs": [
        {
          "output_type": "execute_result",
          "data": {
            "text/plain": [
              "Budget Forecast                                10.445943\n",
              "Schedule Change Norm                            2.739868\n",
              "0                                               5.621318\n",
              "1                                               4.447691\n",
              "2                                               3.453736\n",
              "3                                               2.787452\n",
              "4                                               1.815250\n",
              "5                                               1.881001\n",
              "6                                               1.553832\n",
              "7                                               1.575150\n",
              "8                                               1.424632\n",
              "9                                               1.373496\n",
              "10                                              1.396004\n",
              "11                                              1.910346\n",
              "12                                              1.375273\n",
              "13                                              1.618494\n",
              "14                                              1.512181\n",
              "15                                              1.310221\n",
              "16                                              1.462112\n",
              "17                                              1.294556\n",
              "18                                              1.218223\n",
              "19                                              1.230363\n",
              "20                                              1.430914\n",
              "21                                              1.384079\n",
              "22                                              1.363875\n",
              "23                                              1.376880\n",
              "Category_Bridges                                3.576586\n",
              "Category_Bridges, Streets and Roadways          1.996147\n",
              "Category_Ferries                                2.013257\n",
              "Category_Health and Hospitals                   1.535281\n",
              "Category_Industrial Development                 2.272437\n",
              "Category_Other Government Facilities            1.614825\n",
              "Category_Parks                                  1.636017\n",
              "Category_Public Safety and Criminal Justice     2.317944\n",
              "Category_Sanitation                             1.403287\n",
              "Category_Schools                               12.092425\n",
              "Category_Sewers                                 4.485808\n",
              "Category_Wastewater Treatment                   3.232901\n",
              "Category_Water Supply                           3.766415\n",
              "Borough_Bronx, Manhattan                        1.225999\n",
              "Borough_Brooklyn                                1.956243\n",
              "Borough_Citywide                                1.377375\n",
              "Borough_Manhattan                               1.835537\n",
              "Borough_Manhattan, Bronx                        1.377858\n",
              "Borough_Manhattan, Staten Island                1.676741\n",
              "Borough_Manhatten                               1.167116\n",
              "Borough_Queens                                  1.627624\n",
              "Borough_Staten Island                           1.469908\n",
              "Borough_Upstate                                 1.580651\n",
              "Borough_Valhalla                                1.219379\n",
              "dtype: float64"
            ]
          },
          "metadata": {
            "tags": []
          },
          "execution_count": 27
        }
      ]
    },
    {
      "cell_type": "code",
      "metadata": {
        "colab_type": "code",
        "id": "KuWRkrrRGys6",
        "outputId": "1a615e64-b7e2-4afb-b8fc-cbb0d57b00d5",
        "colab": {
          "base_uri": "https://localhost:8080/",
          "height": 252
        }
      },
      "source": [
        "# Residual Plots\n",
        "y_hat_train = results.predict()\n",
        "residuals = (y_train - y_hat_train)\n",
        "fig, axes = plt.subplots(1,2,figsize=(8,3))\n",
        "axes[0].set_title('Plot of Residuals')\n",
        "axes[0].scatter((y_hat_train), residuals, alpha=0.1)\n",
        "axes[0].axhline(0, c='black', lw=2)\n",
        "axes[0].set_xlabel(r'$\\hat{y}$')\n",
        "axes[1].set_title('Histogram of Residual Magnitudes')\n",
        "axes[1].hist(residuals, alpha=0.8)\n",
        "axes[1].axhline(0, c='black', lw=2)\n",
        "axes[1].set_xlabel(r'residuals')\n",
        "plt.show()\n"
      ],
      "execution_count": 28,
      "outputs": [
        {
          "output_type": "display_data",
          "data": {
            "image/png": "[encoded data removed]",
            "text/plain": [
              "<Figure size 576x216 with 2 Axes>"
            ]
          },
          "metadata": {
            "tags": []
          }
        }
      ]
    },
    {
      "cell_type": "code",
      "metadata": {
        "colab_type": "code",
        "id": "N5D7pSF9Rb9i",
        "outputId": "79d502ef-326f-42d3-9aa2-efe9d5c14d5d",
        "colab": {
          "base_uri": "https://localhost:8080/",
          "height": 301
        }
      },
      "source": [
        "import pylab \n",
        "import scipy.stats as stats\n",
        "stats.probplot(residuals, dist=\"norm\", plot=pylab)\n",
        "pylab.show()"
      ],
      "execution_count": 29,
      "outputs": [
        {
          "output_type": "display_data",
          "data": {
            "image/png": "[encoded data removed]",
            "text/plain": [
              "<Figure size 432x288 with 1 Axes>"
            ]
          },
          "metadata": {
            "tags": []
          }
        }
      ]
    },
    {
      "cell_type": "code",
      "metadata": {
        "colab_type": "code",
        "id": "fkwYE1LeS5d7",
        "outputId": "84fa91ce-09dc-4bcd-8a1e-f09067366362",
        "colab": {
          "base_uri": "https://localhost:8080/",
          "height": 252
        }
      },
      "source": [
        "# Residual Plots\n",
        "X_colms = ['Project Duration','Schedule Change Norm','Budget Forecast']\n",
        "y_hat_train = results.predict()\n",
        "residuals = y_train - y_hat_train\n",
        "\n",
        "fig, axes = plt.subplots(1,3,figsize=(9,3))\n",
        "fig.suptitle('Plot of Residuals', fontsize=18)\n",
        "for i in range(3):\n",
        "  x_val = y_hat_train\n",
        "  x_lbl = r'$\\hat{y}$'\n",
        "  if i > -1:\n",
        "    x_val = nyc_train[X_colms[i]].ravel()\n",
        "    x_lbl = X_colms[i]\n",
        "  row_idx = np.mod(i,3)\n",
        "  col_idx = int(i / 3) \n",
        "  axes[row_idx].scatter(x_val, residuals, alpha=0.1)\n",
        "  axes[row_idx].axhline(0, c='black', lw=2)\n",
        "  axes[row_idx].set_xlabel(x_lbl, fontsize=12)\n",
        "plt.show()"
      ],
      "execution_count": 30,
      "outputs": [
        {
          "output_type": "display_data",
          "data": {
            "image/png": "[encoded data removed]",
            "text/plain": [
              "<Figure size 648x216 with 3 Axes>"
            ]
          },
          "metadata": {
            "tags": []
          }
        }
      ]
    },
    {
      "cell_type": "markdown",
      "metadata": {
        "id": "fLuAnc646AcM",
        "colab_type": "text"
      },
      "source": [
        "#### Schedule Change Model"
      ]
    },
    {
      "cell_type": "markdown",
      "metadata": {
        "id": "Z5ExWBHE6DZe",
        "colab_type": "text"
      },
      "source": [
        "##### Training and Test Data"
      ]
    },
    {
      "cell_type": "code",
      "metadata": {
        "colab_type": "code",
        "id": "cWlNx_eRfalR",
        "colab": {}
      },
      "source": [
        "# Schedule change\n",
        "nyc_train_trunc2 = nyc_train.copy()\n",
        "#nyc_train_trunc = nyc_train_trunc[qual_columns]\n",
        "y_train2 = (nyc_train_trunc2['Schedule Change Norm'])\n",
        "X_train2 = nyc_train_trunc2.drop(['Schedule Change Norm', 'Budget Forecast'], axis=1)\n",
        "# Remove redundant columns: found through VIF (multi-collinearity analysis in below cell)\n",
        "X_train2 = X_train2.drop(drop_mc_columns, axis=1, errors='ignore')\n",
        "\n",
        "nyc_test_trunc2 = nyc_test.copy()\n",
        "y_test2 = nyc_test_trunc2['Schedule Change Norm']\n",
        "X_test2 = nyc_test_trunc2.drop(['Schedule Change Norm', 'Budget Forecast'], axis=1)\n",
        "X_test2 = X_test2.drop(drop_mc_columns, axis=1, errors='ignore')"
      ],
      "execution_count": 0,
      "outputs": []
    },
    {
      "cell_type": "markdown",
      "metadata": {
        "id": "CdWRzLdx6H2U",
        "colab_type": "text"
      },
      "source": [
        "##### Linear Regression, LassoCV and RidgeCV"
      ]
    },
    {
      "cell_type": "code",
      "metadata": {
        "id": "gVuAP63R6QKg",
        "colab_type": "code",
        "outputId": "153aa4c9-2091-4bb9-efb7-4c97a98df948",
        "colab": {
          "base_uri": "https://localhost:8080/",
          "height": 72
        }
      },
      "source": [
        "np.random.seed(49)\n",
        "lr_time_model = LinearRegression().fit(X_train2, y_train2)\n",
        "ridge_time_model = RidgeCV(alphas=alphas, cv=20).fit(X_train2, y_train2)\n",
        "lasso_time_model = LassoCV(alphas=alphas, max_iter=100000).fit(X_train2, y_train2)\n",
        "\n",
        "print(f'LinearRegression train score: {lr_time_model.score(X_train2, y_train2)}')\n",
        "print(f'Lasso train score: {lasso_time_model.score(X_train2, y_train2)}')\n",
        "print(f'Ridge train score: {ridge_time_model.score(X_train2, y_train2)}')"
      ],
      "execution_count": 32,
      "outputs": [
        {
          "output_type": "stream",
          "text": [
            "LinearRegression train score: 0.3581206937633412\n",
            "Lasso train score: 0.0\n",
            "Ridge train score: 0.25829210258732305\n"
          ],
          "name": "stdout"
        }
      ]
    },
    {
      "cell_type": "code",
      "metadata": {
        "colab_type": "code",
        "id": "SshE2k8tyf7E",
        "outputId": "e522f7a4-60a8-4515-d6ee-f0a9d12598e3",
        "colab": {
          "base_uri": "https://localhost:8080/",
          "height": 72
        }
      },
      "source": [
        "print(f'LinearRegression test score: {lr_time_model.score(X_test2, y_test2)}')\n",
        "print(f'Lasso test score: {lasso_time_model.score(X_test2, y_test2)}')\n",
        "print(f'Ridge test score: {ridge_time_model.score(X_test2, y_test2)}')"
      ],
      "execution_count": 33,
      "outputs": [
        {
          "output_type": "stream",
          "text": [
            "LinearRegression test score: 0.11613251335295471\n",
            "Lasso test score: -0.09056901439333886\n",
            "Ridge test score: 0.01174789259241238\n"
          ],
          "name": "stdout"
        }
      ]
    },
    {
      "cell_type": "markdown",
      "metadata": {
        "id": "lXkTP7MQcQuk",
        "colab_type": "text"
      },
      "source": [
        "##### BAGGING TECHNIQUES FOR Schedule Change Model"
      ]
    },
    {
      "cell_type": "code",
      "metadata": {
        "id": "UVXGC_RHcQBq",
        "colab_type": "code",
        "colab": {
          "base_uri": "https://localhost:8080/",
          "height": 54
        },
        "outputId": "f2ace5a3-de68-4225-96b0-31d17c45e298"
      },
      "source": [
        "# BAGGING TECHNIQUES\n",
        "from sklearn.utils import resample\n",
        "from sklearn.metrics import mean_squared_error\n",
        "np.random.seed(49)\n",
        "bagging_train = np.zeros((X_train2.shape[0], num_bags))\n",
        "bagging_test = np.zeros((X_test2.shape[0], num_bags))\n",
        "bagging_models = []\n",
        "for i in range(num_bags):\n",
        "  bootstrapped_X, bootstrapped_y = resample(X_train2, y_train2)\n",
        "  fitted_model = RidgeCV(alphas=alphas,normalize=True, cv=5).fit(bootstrapped_X, bootstrapped_y)\n",
        "  bagging_models.append(fitted_model)\n",
        "  bagging_train[:,i] = fitted_model.predict(X_train2)\n",
        "  bagging_test[:,i] = fitted_model.predict(X_test2)\n",
        "\n",
        "bagging_train_predicts = np.mean(bagging_train[:,:], axis=1)\n",
        "bagging_test_predicts = np.mean(bagging_test[:,:], axis=1)\n",
        "print(f'Training score: {mean_squared_error(y_train, bagging_train_predicts)}')\n",
        "print(f'Test score: {mean_squared_error(y_test, bagging_test_predicts)}')"
      ],
      "execution_count": 95,
      "outputs": [
        {
          "output_type": "stream",
          "text": [
            "Training score: 0.10960724369819454\n",
            "Test score: 0.3393465926098566\n"
          ],
          "name": "stdout"
        }
      ]
    },
    {
      "cell_type": "code",
      "metadata": {
        "id": "vy9uXuxJ7pmJ",
        "colab_type": "code",
        "outputId": "cfffae5f-d6d1-410c-f6c1-ef3b3ccb686b",
        "colab": {
          "base_uri": "https://localhost:8080/",
          "height": 945
        }
      },
      "source": [
        "# Multi-collinearity\n",
        "X_train2_save = X_train2.copy()\n",
        "from statsmodels.stats.outliers_influence import variance_inflation_factor\n",
        "pd.Series([variance_inflation_factor(X_train2.values, i) \n",
        "               for i in range(X_train2.shape[1])], \n",
        "               index=X_train2.columns)"
      ],
      "execution_count": 34,
      "outputs": [
        {
          "output_type": "execute_result",
          "data": {
            "text/plain": [
              "Project Duration                               10.145830\n",
              "Budget Change Norm                              1.762836\n",
              "0                                               5.714191\n",
              "1                                               4.528574\n",
              "2                                               3.483833\n",
              "3                                               2.936809\n",
              "4                                               1.858385\n",
              "5                                               1.891581\n",
              "6                                               1.545941\n",
              "7                                               1.572131\n",
              "8                                               1.523429\n",
              "9                                               1.355632\n",
              "10                                              1.391013\n",
              "11                                              1.944937\n",
              "12                                              1.370756\n",
              "13                                              1.719967\n",
              "14                                              1.493974\n",
              "15                                              1.277127\n",
              "16                                              1.457656\n",
              "17                                              1.297870\n",
              "18                                              1.223557\n",
              "19                                              1.221522\n",
              "20                                              1.440586\n",
              "21                                              1.387720\n",
              "22                                              1.363610\n",
              "23                                              1.365692\n",
              "Category_Bridges                                3.569331\n",
              "Category_Bridges, Streets and Roadways          1.955591\n",
              "Category_Ferries                                1.996152\n",
              "Category_Health and Hospitals                   1.525538\n",
              "Category_Industrial Development                 2.229174\n",
              "Category_Other Government Facilities            1.613504\n",
              "Category_Parks                                  1.635574\n",
              "Category_Public Safety and Criminal Justice     2.282468\n",
              "Category_Sanitation                             1.381473\n",
              "Category_Schools                               12.604941\n",
              "Category_Sewers                                 4.439621\n",
              "Category_Wastewater Treatment                   3.124044\n",
              "Category_Water Supply                           3.760324\n",
              "Borough_Bronx, Manhattan                        1.240430\n",
              "Borough_Brooklyn                                1.991632\n",
              "Borough_Citywide                                1.340451\n",
              "Borough_Manhattan                               1.714100\n",
              "Borough_Manhattan, Bronx                        1.389436\n",
              "Borough_Manhattan, Staten Island                1.684834\n",
              "Borough_Manhatten                               1.173144\n",
              "Borough_Queens                                  1.572530\n",
              "Borough_Staten Island                           1.467368\n",
              "Borough_Upstate                                 1.592416\n",
              "Borough_Valhalla                                1.338362\n",
              "dtype: float64"
            ]
          },
          "metadata": {
            "tags": []
          },
          "execution_count": 34
        }
      ]
    },
    {
      "cell_type": "code",
      "metadata": {
        "colab_type": "code",
        "id": "qTG8QJ6ffpx4",
        "outputId": "70f4f81d-4681-4fa7-ad81-6f5b90e3f72e",
        "colab": {
          "base_uri": "https://localhost:8080/",
          "height": 1000
        }
      },
      "source": [
        "X_train2_ols = sm.add_constant(X_train2)\n",
        "results = OLS(y_train2, X_train2_ols).fit()\n",
        "results.summary()"
      ],
      "execution_count": 35,
      "outputs": [
        {
          "output_type": "execute_result",
          "data": {
            "text/html": [
              "<table class=\"simpletable\">\n",
              "<caption>OLS Regression Results</caption>\n",
              "<tr>\n",
              "  <th>Dep. Variable:</th>    <td>Schedule Change Norm</td> <th>  R-squared:         </th> <td>   0.358</td>\n",
              "</tr>\n",
              "<tr>\n",
              "  <th>Model:</th>                     <td>OLS</td>         <th>  Adj. R-squared:    </th> <td>   0.152</td>\n",
              "</tr>\n",
              "<tr>\n",
              "  <th>Method:</th>               <td>Least Squares</td>    <th>  F-statistic:       </th> <td>   1.741</td>\n",
              "</tr>\n",
              "<tr>\n",
              "  <th>Date:</th>               <td>Sat, 09 May 2020</td>   <th>  Prob (F-statistic):</th>  <td>0.00537</td>\n",
              "</tr>\n",
              "<tr>\n",
              "  <th>Time:</th>                   <td>03:05:45</td>       <th>  Log-Likelihood:    </th> <td>  72.716</td>\n",
              "</tr>\n",
              "<tr>\n",
              "  <th>No. Observations:</th>        <td>   207</td>        <th>  AIC:               </th> <td>  -43.43</td>\n",
              "</tr>\n",
              "<tr>\n",
              "  <th>Df Residuals:</th>            <td>   156</td>        <th>  BIC:               </th> <td>   126.5</td>\n",
              "</tr>\n",
              "<tr>\n",
              "  <th>Df Model:</th>                <td>    50</td>        <th>                     </th>     <td> </td>   \n",
              "</tr>\n",
              "<tr>\n",
              "  <th>Covariance Type:</th>        <td>nonrobust</td>      <th>                     </th>     <td> </td>   \n",
              "</tr>\n",
              "</table>\n",
              "<table class=\"simpletable\">\n",
              "<tr>\n",
              "                       <td></td>                          <th>coef</th>     <th>std err</th>      <th>t</th>      <th>P>|t|</th>  <th>[0.025</th>    <th>0.975]</th>  \n",
              "</tr>\n",
              "<tr>\n",
              "  <th>const</th>                                       <td>    0.0982</td> <td>    0.376</td> <td>    0.261</td> <td> 0.794</td> <td>   -0.644</td> <td>    0.840</td>\n",
              "</tr>\n",
              "<tr>\n",
              "  <th>Project Duration</th>                            <td>    0.0025</td> <td>    0.047</td> <td>    0.053</td> <td> 0.958</td> <td>   -0.091</td> <td>    0.096</td>\n",
              "</tr>\n",
              "<tr>\n",
              "  <th>Budget Change Norm</th>                          <td>    0.0145</td> <td>    0.052</td> <td>    0.277</td> <td> 0.782</td> <td>   -0.089</td> <td>    0.118</td>\n",
              "</tr>\n",
              "<tr>\n",
              "  <th>0</th>                                           <td>   -0.0821</td> <td>    0.120</td> <td>   -0.684</td> <td> 0.495</td> <td>   -0.319</td> <td>    0.155</td>\n",
              "</tr>\n",
              "<tr>\n",
              "  <th>1</th>                                           <td>   -0.0823</td> <td>    0.122</td> <td>   -0.673</td> <td> 0.502</td> <td>   -0.324</td> <td>    0.159</td>\n",
              "</tr>\n",
              "<tr>\n",
              "  <th>2</th>                                           <td>   -0.1467</td> <td>    0.128</td> <td>   -1.144</td> <td> 0.255</td> <td>   -0.400</td> <td>    0.107</td>\n",
              "</tr>\n",
              "<tr>\n",
              "  <th>3</th>                                           <td>   -0.1234</td> <td>    0.127</td> <td>   -0.969</td> <td> 0.334</td> <td>   -0.375</td> <td>    0.128</td>\n",
              "</tr>\n",
              "<tr>\n",
              "  <th>4</th>                                           <td>    0.0043</td> <td>    0.111</td> <td>    0.039</td> <td> 0.969</td> <td>   -0.215</td> <td>    0.223</td>\n",
              "</tr>\n",
              "<tr>\n",
              "  <th>5</th>                                           <td>    0.0506</td> <td>    0.128</td> <td>    0.395</td> <td> 0.693</td> <td>   -0.203</td> <td>    0.304</td>\n",
              "</tr>\n",
              "<tr>\n",
              "  <th>6</th>                                           <td>    0.1383</td> <td>    0.123</td> <td>    1.120</td> <td> 0.264</td> <td>   -0.106</td> <td>    0.382</td>\n",
              "</tr>\n",
              "<tr>\n",
              "  <th>7</th>                                           <td>    0.0235</td> <td>    0.125</td> <td>    0.189</td> <td> 0.851</td> <td>   -0.223</td> <td>    0.270</td>\n",
              "</tr>\n",
              "<tr>\n",
              "  <th>8</th>                                           <td>    0.1126</td> <td>    0.138</td> <td>    0.816</td> <td> 0.416</td> <td>   -0.160</td> <td>    0.385</td>\n",
              "</tr>\n",
              "<tr>\n",
              "  <th>9</th>                                           <td>    0.1951</td> <td>    0.134</td> <td>    1.456</td> <td> 0.147</td> <td>   -0.069</td> <td>    0.460</td>\n",
              "</tr>\n",
              "<tr>\n",
              "  <th>10</th>                                          <td>   -0.1074</td> <td>    0.137</td> <td>   -0.782</td> <td> 0.435</td> <td>   -0.378</td> <td>    0.164</td>\n",
              "</tr>\n",
              "<tr>\n",
              "  <th>11</th>                                          <td>    0.0733</td> <td>    0.165</td> <td>    0.444</td> <td> 0.658</td> <td>   -0.253</td> <td>    0.400</td>\n",
              "</tr>\n",
              "<tr>\n",
              "  <th>12</th>                                          <td>    0.1296</td> <td>    0.141</td> <td>    0.917</td> <td> 0.361</td> <td>   -0.150</td> <td>    0.409</td>\n",
              "</tr>\n",
              "<tr>\n",
              "  <th>13</th>                                          <td>   -0.0121</td> <td>    0.167</td> <td>   -0.073</td> <td> 0.942</td> <td>   -0.342</td> <td>    0.318</td>\n",
              "</tr>\n",
              "<tr>\n",
              "  <th>14</th>                                          <td>   -0.2598</td> <td>    0.162</td> <td>   -1.604</td> <td> 0.111</td> <td>   -0.580</td> <td>    0.060</td>\n",
              "</tr>\n",
              "<tr>\n",
              "  <th>15</th>                                          <td>    0.2551</td> <td>    0.152</td> <td>    1.674</td> <td> 0.096</td> <td>   -0.046</td> <td>    0.556</td>\n",
              "</tr>\n",
              "<tr>\n",
              "  <th>16</th>                                          <td>    0.1193</td> <td>    0.159</td> <td>    0.748</td> <td> 0.456</td> <td>   -0.196</td> <td>    0.434</td>\n",
              "</tr>\n",
              "<tr>\n",
              "  <th>17</th>                                          <td>   -0.0960</td> <td>    0.159</td> <td>   -0.604</td> <td> 0.547</td> <td>   -0.410</td> <td>    0.218</td>\n",
              "</tr>\n",
              "<tr>\n",
              "  <th>18</th>                                          <td>   -0.0188</td> <td>    0.150</td> <td>   -0.126</td> <td> 0.900</td> <td>   -0.314</td> <td>    0.277</td>\n",
              "</tr>\n",
              "<tr>\n",
              "  <th>19</th>                                          <td>    0.1494</td> <td>    0.156</td> <td>    0.960</td> <td> 0.338</td> <td>   -0.158</td> <td>    0.457</td>\n",
              "</tr>\n",
              "<tr>\n",
              "  <th>20</th>                                          <td>    0.0578</td> <td>    0.176</td> <td>    0.329</td> <td> 0.743</td> <td>   -0.289</td> <td>    0.405</td>\n",
              "</tr>\n",
              "<tr>\n",
              "  <th>21</th>                                          <td>    0.2190</td> <td>    0.178</td> <td>    1.233</td> <td> 0.219</td> <td>   -0.132</td> <td>    0.570</td>\n",
              "</tr>\n",
              "<tr>\n",
              "  <th>22</th>                                          <td>    0.0161</td> <td>    0.176</td> <td>    0.091</td> <td> 0.927</td> <td>   -0.332</td> <td>    0.365</td>\n",
              "</tr>\n",
              "<tr>\n",
              "  <th>23</th>                                          <td>    0.2201</td> <td>    0.184</td> <td>    1.197</td> <td> 0.233</td> <td>   -0.143</td> <td>    0.583</td>\n",
              "</tr>\n",
              "<tr>\n",
              "  <th>Category_Bridges</th>                            <td>    0.0761</td> <td>    0.087</td> <td>    0.870</td> <td> 0.386</td> <td>   -0.097</td> <td>    0.249</td>\n",
              "</tr>\n",
              "<tr>\n",
              "  <th>Category_Bridges, Streets and Roadways</th>      <td>    0.0616</td> <td>    0.080</td> <td>    0.774</td> <td> 0.440</td> <td>   -0.096</td> <td>    0.219</td>\n",
              "</tr>\n",
              "<tr>\n",
              "  <th>Category_Ferries</th>                            <td>   -0.0029</td> <td>    0.139</td> <td>   -0.021</td> <td> 0.983</td> <td>   -0.278</td> <td>    0.273</td>\n",
              "</tr>\n",
              "<tr>\n",
              "  <th>Category_Health and Hospitals</th>               <td>    0.0368</td> <td>    0.121</td> <td>    0.303</td> <td> 0.763</td> <td>   -0.203</td> <td>    0.277</td>\n",
              "</tr>\n",
              "<tr>\n",
              "  <th>Category_Industrial Development</th>             <td>   -0.0151</td> <td>    0.060</td> <td>   -0.252</td> <td> 0.801</td> <td>   -0.133</td> <td>    0.103</td>\n",
              "</tr>\n",
              "<tr>\n",
              "  <th>Category_Other Government Facilities</th>        <td>   -0.0417</td> <td>    0.089</td> <td>   -0.470</td> <td> 0.639</td> <td>   -0.217</td> <td>    0.133</td>\n",
              "</tr>\n",
              "<tr>\n",
              "  <th>Category_Parks</th>                              <td>    0.0565</td> <td>    0.145</td> <td>    0.389</td> <td> 0.698</td> <td>   -0.230</td> <td>    0.343</td>\n",
              "</tr>\n",
              "<tr>\n",
              "  <th>Category_Public Safety and Criminal Justice</th> <td>   -0.1509</td> <td>    0.106</td> <td>   -1.420</td> <td> 0.158</td> <td>   -0.361</td> <td>    0.059</td>\n",
              "</tr>\n",
              "<tr>\n",
              "  <th>Category_Sanitation</th>                         <td>   -0.0561</td> <td>    0.133</td> <td>   -0.420</td> <td> 0.675</td> <td>   -0.319</td> <td>    0.207</td>\n",
              "</tr>\n",
              "<tr>\n",
              "  <th>Category_Schools</th>                            <td>   -0.0672</td> <td>    0.218</td> <td>   -0.308</td> <td> 0.759</td> <td>   -0.498</td> <td>    0.364</td>\n",
              "</tr>\n",
              "<tr>\n",
              "  <th>Category_Sewers</th>                             <td>   -0.0052</td> <td>    0.080</td> <td>   -0.065</td> <td> 0.949</td> <td>   -0.163</td> <td>    0.153</td>\n",
              "</tr>\n",
              "<tr>\n",
              "  <th>Category_Wastewater Treatment</th>               <td>    0.1055</td> <td>    0.074</td> <td>    1.417</td> <td> 0.159</td> <td>   -0.042</td> <td>    0.253</td>\n",
              "</tr>\n",
              "<tr>\n",
              "  <th>Category_Water Supply</th>                       <td>    0.0355</td> <td>    0.088</td> <td>    0.404</td> <td> 0.687</td> <td>   -0.138</td> <td>    0.209</td>\n",
              "</tr>\n",
              "<tr>\n",
              "  <th>Borough_Bronx, Manhattan</th>                    <td>   -0.0986</td> <td>    0.220</td> <td>   -0.447</td> <td> 0.655</td> <td>   -0.534</td> <td>    0.337</td>\n",
              "</tr>\n",
              "<tr>\n",
              "  <th>Borough_Brooklyn</th>                            <td>    0.0552</td> <td>    0.049</td> <td>    1.136</td> <td> 0.257</td> <td>   -0.041</td> <td>    0.151</td>\n",
              "</tr>\n",
              "<tr>\n",
              "  <th>Borough_Citywide</th>                            <td>    0.2372</td> <td>    0.102</td> <td>    2.335</td> <td> 0.021</td> <td>    0.037</td> <td>    0.438</td>\n",
              "</tr>\n",
              "<tr>\n",
              "  <th>Borough_Manhattan</th>                           <td>    0.2003</td> <td>    0.058</td> <td>    3.455</td> <td> 0.001</td> <td>    0.086</td> <td>    0.315</td>\n",
              "</tr>\n",
              "<tr>\n",
              "  <th>Borough_Manhattan, Bronx</th>                    <td>    0.0437</td> <td>    0.165</td> <td>    0.265</td> <td> 0.791</td> <td>   -0.281</td> <td>    0.369</td>\n",
              "</tr>\n",
              "<tr>\n",
              "  <th>Borough_Manhattan, Staten Island</th>            <td>    0.0813</td> <td>    0.256</td> <td>    0.317</td> <td> 0.752</td> <td>   -0.425</td> <td>    0.587</td>\n",
              "</tr>\n",
              "<tr>\n",
              "  <th>Borough_Manhatten</th>                           <td>   -0.0087</td> <td>    0.215</td> <td>   -0.041</td> <td> 0.968</td> <td>   -0.433</td> <td>    0.416</td>\n",
              "</tr>\n",
              "<tr>\n",
              "  <th>Borough_Queens</th>                              <td>    0.1214</td> <td>    0.050</td> <td>    2.421</td> <td> 0.017</td> <td>    0.022</td> <td>    0.220</td>\n",
              "</tr>\n",
              "<tr>\n",
              "  <th>Borough_Staten Island</th>                       <td>    0.1252</td> <td>    0.075</td> <td>    1.665</td> <td> 0.098</td> <td>   -0.023</td> <td>    0.274</td>\n",
              "</tr>\n",
              "<tr>\n",
              "  <th>Borough_Upstate</th>                             <td>   -0.0323</td> <td>    0.177</td> <td>   -0.182</td> <td> 0.856</td> <td>   -0.383</td> <td>    0.318</td>\n",
              "</tr>\n",
              "<tr>\n",
              "  <th>Borough_Valhalla</th>                            <td>    0.1193</td> <td>    0.227</td> <td>    0.525</td> <td> 0.600</td> <td>   -0.329</td> <td>    0.568</td>\n",
              "</tr>\n",
              "</table>\n",
              "<table class=\"simpletable\">\n",
              "<tr>\n",
              "  <th>Omnibus:</th>       <td>22.825</td> <th>  Durbin-Watson:     </th> <td>   1.963</td>\n",
              "</tr>\n",
              "<tr>\n",
              "  <th>Prob(Omnibus):</th> <td> 0.000</td> <th>  Jarque-Bera (JB):  </th> <td>  74.313</td>\n",
              "</tr>\n",
              "<tr>\n",
              "  <th>Skew:</th>          <td>-0.339</td> <th>  Prob(JB):          </th> <td>7.30e-17</td>\n",
              "</tr>\n",
              "<tr>\n",
              "  <th>Kurtosis:</th>      <td> 5.856</td> <th>  Cond. No.          </th> <td>    240.</td>\n",
              "</tr>\n",
              "</table><br/><br/>Warnings:<br/>[1] Standard Errors assume that the covariance matrix of the errors is correctly specified."
            ],
            "text/plain": [
              "<class 'statsmodels.iolib.summary.Summary'>\n",
              "\"\"\"\n",
              "                             OLS Regression Results                             \n",
              "================================================================================\n",
              "Dep. Variable:     Schedule Change Norm   R-squared:                       0.358\n",
              "Model:                              OLS   Adj. R-squared:                  0.152\n",
              "Method:                   Least Squares   F-statistic:                     1.741\n",
              "Date:                  Sat, 09 May 2020   Prob (F-statistic):            0.00537\n",
              "Time:                          03:05:45   Log-Likelihood:                 72.716\n",
              "No. Observations:                   207   AIC:                            -43.43\n",
              "Df Residuals:                       156   BIC:                             126.5\n",
              "Df Model:                            50                                         \n",
              "Covariance Type:              nonrobust                                         \n",
              "===============================================================================================================\n",
              "                                                  coef    std err          t      P>|t|      [0.025      0.975]\n",
              "---------------------------------------------------------------------------------------------------------------\n",
              "const                                           0.0982      0.376      0.261      0.794      -0.644       0.840\n",
              "Project Duration                                0.0025      0.047      0.053      0.958      -0.091       0.096\n",
              "Budget Change Norm                              0.0145      0.052      0.277      0.782      -0.089       0.118\n",
              "0                                              -0.0821      0.120     -0.684      0.495      -0.319       0.155\n",
              "1                                              -0.0823      0.122     -0.673      0.502      -0.324       0.159\n",
              "2                                              -0.1467      0.128     -1.144      0.255      -0.400       0.107\n",
              "3                                              -0.1234      0.127     -0.969      0.334      -0.375       0.128\n",
              "4                                               0.0043      0.111      0.039      0.969      -0.215       0.223\n",
              "5                                               0.0506      0.128      0.395      0.693      -0.203       0.304\n",
              "6                                               0.1383      0.123      1.120      0.264      -0.106       0.382\n",
              "7                                               0.0235      0.125      0.189      0.851      -0.223       0.270\n",
              "8                                               0.1126      0.138      0.816      0.416      -0.160       0.385\n",
              "9                                               0.1951      0.134      1.456      0.147      -0.069       0.460\n",
              "10                                             -0.1074      0.137     -0.782      0.435      -0.378       0.164\n",
              "11                                              0.0733      0.165      0.444      0.658      -0.253       0.400\n",
              "12                                              0.1296      0.141      0.917      0.361      -0.150       0.409\n",
              "13                                             -0.0121      0.167     -0.073      0.942      -0.342       0.318\n",
              "14                                             -0.2598      0.162     -1.604      0.111      -0.580       0.060\n",
              "15                                              0.2551      0.152      1.674      0.096      -0.046       0.556\n",
              "16                                              0.1193      0.159      0.748      0.456      -0.196       0.434\n",
              "17                                             -0.0960      0.159     -0.604      0.547      -0.410       0.218\n",
              "18                                             -0.0188      0.150     -0.126      0.900      -0.314       0.277\n",
              "19                                              0.1494      0.156      0.960      0.338      -0.158       0.457\n",
              "20                                              0.0578      0.176      0.329      0.743      -0.289       0.405\n",
              "21                                              0.2190      0.178      1.233      0.219      -0.132       0.570\n",
              "22                                              0.0161      0.176      0.091      0.927      -0.332       0.365\n",
              "23                                              0.2201      0.184      1.197      0.233      -0.143       0.583\n",
              "Category_Bridges                                0.0761      0.087      0.870      0.386      -0.097       0.249\n",
              "Category_Bridges, Streets and Roadways          0.0616      0.080      0.774      0.440      -0.096       0.219\n",
              "Category_Ferries                               -0.0029      0.139     -0.021      0.983      -0.278       0.273\n",
              "Category_Health and Hospitals                   0.0368      0.121      0.303      0.763      -0.203       0.277\n",
              "Category_Industrial Development                -0.0151      0.060     -0.252      0.801      -0.133       0.103\n",
              "Category_Other Government Facilities           -0.0417      0.089     -0.470      0.639      -0.217       0.133\n",
              "Category_Parks                                  0.0565      0.145      0.389      0.698      -0.230       0.343\n",
              "Category_Public Safety and Criminal Justice    -0.1509      0.106     -1.420      0.158      -0.361       0.059\n",
              "Category_Sanitation                            -0.0561      0.133     -0.420      0.675      -0.319       0.207\n",
              "Category_Schools                               -0.0672      0.218     -0.308      0.759      -0.498       0.364\n",
              "Category_Sewers                                -0.0052      0.080     -0.065      0.949      -0.163       0.153\n",
              "Category_Wastewater Treatment                   0.1055      0.074      1.417      0.159      -0.042       0.253\n",
              "Category_Water Supply                           0.0355      0.088      0.404      0.687      -0.138       0.209\n",
              "Borough_Bronx, Manhattan                       -0.0986      0.220     -0.447      0.655      -0.534       0.337\n",
              "Borough_Brooklyn                                0.0552      0.049      1.136      0.257      -0.041       0.151\n",
              "Borough_Citywide                                0.2372      0.102      2.335      0.021       0.037       0.438\n",
              "Borough_Manhattan                               0.2003      0.058      3.455      0.001       0.086       0.315\n",
              "Borough_Manhattan, Bronx                        0.0437      0.165      0.265      0.791      -0.281       0.369\n",
              "Borough_Manhattan, Staten Island                0.0813      0.256      0.317      0.752      -0.425       0.587\n",
              "Borough_Manhatten                              -0.0087      0.215     -0.041      0.968      -0.433       0.416\n",
              "Borough_Queens                                  0.1214      0.050      2.421      0.017       0.022       0.220\n",
              "Borough_Staten Island                           0.1252      0.075      1.665      0.098      -0.023       0.274\n",
              "Borough_Upstate                                -0.0323      0.177     -0.182      0.856      -0.383       0.318\n",
              "Borough_Valhalla                                0.1193      0.227      0.525      0.600      -0.329       0.568\n",
              "==============================================================================\n",
              "Omnibus:                       22.825   Durbin-Watson:                   1.963\n",
              "Prob(Omnibus):                  0.000   Jarque-Bera (JB):               74.313\n",
              "Skew:                          -0.339   Prob(JB):                     7.30e-17\n",
              "Kurtosis:                       5.856   Cond. No.                         240.\n",
              "==============================================================================\n",
              "\n",
              "Warnings:\n",
              "[1] Standard Errors assume that the covariance matrix of the errors is correctly specified.\n",
              "\"\"\""
            ]
          },
          "metadata": {
            "tags": []
          },
          "execution_count": 35
        }
      ]
    },
    {
      "cell_type": "code",
      "metadata": {
        "colab_type": "code",
        "id": "gbFO8ihuf8vC",
        "outputId": "1606b5bf-31fc-421c-bc79-a9e63d644406",
        "colab": {
          "base_uri": "https://localhost:8080/",
          "height": 252
        }
      },
      "source": [
        "# Residual Plots\n",
        "y_hat_train = results.predict()\n",
        "residuals = y_train - y_hat_train\n",
        "fig, axes = plt.subplots(1,2,figsize=(8,3))\n",
        "axes[0].set_title('Plot of Residuals')\n",
        "axes[0].scatter(y_hat_train, residuals, alpha=0.1)\n",
        "axes[0].axhline(0, c='black', lw=2)\n",
        "axes[0].set_xlabel(r'$\\hat{y}$')\n",
        "axes[1].set_title('Histogram of Residual Magnitudes')\n",
        "axes[1].hist(residuals, alpha=0.8)\n",
        "axes[1].axhline(0, c='black', lw=2)\n",
        "axes[1].set_xlabel(r'residuals')\n",
        "plt.show()"
      ],
      "execution_count": 36,
      "outputs": [
        {
          "output_type": "display_data",
          "data": {
            "image/png": "[encoded data removed]",
            "text/plain": [
              "<Figure size 576x216 with 2 Axes>"
            ]
          },
          "metadata": {
            "tags": []
          }
        }
      ]
    },
    {
      "cell_type": "code",
      "metadata": {
        "colab_type": "code",
        "id": "d3NKGIwygJfK",
        "outputId": "e6e465a3-aad5-44c4-9e02-6d112a9e53c6",
        "colab": {
          "base_uri": "https://localhost:8080/",
          "height": 301
        }
      },
      "source": [
        "import pylab \n",
        "import scipy.stats as stats\n",
        "\n",
        "stats.probplot(residuals, dist=\"norm\", plot=pylab)\n",
        "pylab.show()\n",
        "plt.show()"
      ],
      "execution_count": 37,
      "outputs": [
        {
          "output_type": "display_data",
          "data": {
            "image/png": "[encoded data removed]",
            "text/plain": [
              "<Figure size 432x288 with 1 Axes>"
            ]
          },
          "metadata": {
            "tags": []
          }
        }
      ]
    },
    {
      "cell_type": "code",
      "metadata": {
        "colab_type": "code",
        "id": "NUizYnGpgUMP",
        "outputId": "4834e3d2-8102-4711-feae-35fa0616be6f",
        "colab": {
          "base_uri": "https://localhost:8080/",
          "height": 252
        }
      },
      "source": [
        "# Residual Plots\n",
        "X_colms = ['Project Duration','Budget Change Norm','Budget Forecast']\n",
        "y_hat_train = results.predict()\n",
        "residuals = y_train - y_hat_train\n",
        "\n",
        "fig, axes = plt.subplots(1,3,figsize=(9,3))\n",
        "fig.suptitle('Plot of Residuals', fontsize=18)\n",
        "for i in range(3):\n",
        "  x_val = y_hat_train\n",
        "  x_lbl = r'$\\hat{y}$'\n",
        "  if i > -1:\n",
        "    x_val = nyc_train[X_colms[i]].ravel()\n",
        "    x_lbl = X_colms[i]\n",
        "  row_idx = np.mod(i,3)\n",
        "  col_idx = int(i / 3) \n",
        "  axes[row_idx].scatter(x_val, residuals, alpha=0.1)\n",
        "  axes[row_idx].axhline(0, c='black', lw=2)\n",
        "  axes[row_idx].set_xlabel(x_lbl, fontsize=12)\n",
        "plt.show()"
      ],
      "execution_count": 38,
      "outputs": [
        {
          "output_type": "display_data",
          "data": {
            "image/png": "[encoded data removed]",
            "text/plain": [
              "<Figure size 648x216 with 3 Axes>"
            ]
          },
          "metadata": {
            "tags": []
          }
        }
      ]
    },
    {
      "cell_type": "markdown",
      "metadata": {
        "colab_type": "text",
        "id": "goVYrgFUi_GZ"
      },
      "source": [
        "#### GAM Model"
      ]
    },
    {
      "cell_type": "code",
      "metadata": {
        "colab_type": "code",
        "id": "jd3-j1RKjBWW",
        "outputId": "f39691d7-0807-4c98-a18e-2f0d31af565c",
        "colab": {
          "base_uri": "https://localhost:8080/",
          "height": 145
        }
      },
      "source": [
        "!pip install pygam\n",
        "from pygam import LinearGAM, s, f\n",
        "from sklearn.preprocessing import LabelEncoder"
      ],
      "execution_count": 39,
      "outputs": [
        {
          "output_type": "stream",
          "text": [
            "Requirement already satisfied: pygam in /usr/local/lib/python3.6/dist-packages (0.8.0)\n",
            "Requirement already satisfied: future in /usr/local/lib/python3.6/dist-packages (from pygam) (0.16.0)\n",
            "Requirement already satisfied: scipy in /usr/local/lib/python3.6/dist-packages (from pygam) (1.4.1)\n",
            "Requirement already satisfied: progressbar2 in /usr/local/lib/python3.6/dist-packages (from pygam) (3.38.0)\n",
            "Requirement already satisfied: numpy in /usr/local/lib/python3.6/dist-packages (from pygam) (1.18.4)\n",
            "Requirement already satisfied: six in /usr/local/lib/python3.6/dist-packages (from progressbar2->pygam) (1.12.0)\n",
            "Requirement already satisfied: python-utils>=2.3.0 in /usr/local/lib/python3.6/dist-packages (from progressbar2->pygam) (2.4.0)\n"
          ],
          "name": "stdout"
        }
      ]
    },
    {
      "cell_type": "markdown",
      "metadata": {
        "id": "ZAThdzk-DVor",
        "colab_type": "text"
      },
      "source": [
        "##### Training and Test Data\n",
        "Using the same training and test data as derived above.\n",
        "\n",
        "1.   Budget Schedule Change Model: (X_train, Y_train)\n",
        "2.   Schedule Change Model: (X_train2, Y_train2)"
      ]
    },
    {
      "cell_type": "code",
      "metadata": {
        "id": "S9enB06rEszk",
        "colab_type": "code",
        "outputId": "37f1272e-6c1a-46b0-eaef-f6286b03310c",
        "colab": {
          "base_uri": "https://localhost:8080/",
          "height": 35
        }
      },
      "source": [
        "####  (4)  #### Handle Categorical Columns using dummy variables\n",
        "#categorical_columns = ['Category', 'Borough'] # not including Agencies nor Decription\n",
        "#nyc_df = pd.get_dummies(df, columns=categorical_columns, drop_first=True)\n",
        "nyc_df_gam = df.copy()\n",
        "\n",
        "#### (5) #### Drop redundant or useless columns, and drop NaNs\n",
        "drop_columns = ['Date Reported As Of', 'PID', 'Project Name', 'Description','Managing Agency', \n",
        "                'Client Agency', 'Design Start', 'Total Budget Norm', 'Latest Budget Changes', \n",
        "                'Latest Schedule Changes', 'Total Schedule Changes', 'Total Budget Changes', \n",
        "                'Forecast Completion', 'Current Phase', 'Normalized Description',\n",
        "                'normal_joined']\n",
        "nyc_df_gam = nyc_df_gam.drop(drop_columns, axis=1, errors='ignore')\n",
        "\n",
        "# TRANSFORMATION\n",
        "# Log of both Project Duration and Budget Forecast\n",
        "nyc_df_gam['Budget Forecast'] = np.log(nyc_df_gam['Budget Forecast'])\n",
        "nyc_df_gam['Project Duration'] = np.log(nyc_df_gam['Project Duration'])\n",
        "nyc_df_gam = nyc_df_gam.dropna()\n",
        "nyc_df_gam = nyc_df_gam.iloc[:,0:(24 + 6)] # CHANGE HERE FOR PCA COMPONENTS\n",
        "# Label Encoder\n",
        "categorical_columns = ['Category', 'Borough']\n",
        "def get_gam_x(df):\n",
        "  X = df.loc[:,:]\n",
        "  for name in categorical_columns:\n",
        "      le =  LabelEncoder().fit(df[name].values)\n",
        "      X[name] = le.transform(X[name])\n",
        "  return X\n",
        "\n",
        "nyc_df_gam = get_gam_x(nyc_df_gam)\n",
        "\n",
        "np.random.seed(49)\n",
        "nyc_train_gam, nyc_test_gam = train_test_split(nyc_df_gam, test_size=.2, random_state=49)\n",
        "np.shape(nyc_df_gam)\n",
        "nyc_train_g1 = nyc_train_gam.copy()\n",
        "#nyc_train_trunc = nyc_train_trunc[qual_columns]\n",
        "y_train_g1 = (nyc_train_g1['Budget Change Norm'])\n",
        "X_train_g1 = nyc_train_g1.drop(['Budget Change Norm', 'Project Duration'], axis=1)\n",
        "nyc_test_g1 = nyc_test_gam.copy()\n",
        "#nyc_train_trunc = nyc_train_trunc[qual_columns]\n",
        "y_test_g1 = (nyc_test_g1['Budget Change Norm'])\n",
        "X_test_g1 = nyc_test_g1.drop(['Budget Change Norm', 'Project Duration'], axis=1)\n",
        "np.shape(nyc_train_g1)"
      ],
      "execution_count": 40,
      "outputs": [
        {
          "output_type": "execute_result",
          "data": {
            "text/plain": [
              "(113, 30)"
            ]
          },
          "metadata": {
            "tags": []
          },
          "execution_count": 40
        }
      ]
    },
    {
      "cell_type": "code",
      "metadata": {
        "colab_type": "code",
        "id": "a8c0zWlVEMJU",
        "outputId": "14cb2308-ec65-4494-bb9f-d282030cff13",
        "colab": {
          "base_uri": "https://localhost:8080/",
          "height": 35
        }
      },
      "source": [
        "smoothings = np.logspace(-5, 6, 9)\n",
        "formula = f(0) + f(1)\n",
        "for i in range(2, 28, 1):\n",
        "  formula += s(i)\n",
        "np.random.seed(49)\n",
        "X_trn, X_val, y_trn, y_val = train_test_split(X_train_g1, y_train_g1, test_size=0.2)\n",
        "scores = np.zeros((len(smoothings)))\n",
        "for j, smoothing in enumerate(smoothings):\n",
        "    cur_model = LinearGAM(formula, lam = smoothing).fit(X_trn, y_trn)\n",
        "    scores[j] = r2_score(y_val, cur_model.predict(X_val))\n",
        "                              \n",
        "best_lambda = smoothings[np.argmax(scores, axis = 0)]\n",
        "best_lambda"
      ],
      "execution_count": 41,
      "outputs": [
        {
          "output_type": "execute_result",
          "data": {
            "text/plain": [
              "3.1622776601683795"
            ]
          },
          "metadata": {
            "tags": []
          },
          "execution_count": 41
        }
      ]
    },
    {
      "cell_type": "code",
      "metadata": {
        "colab_type": "code",
        "id": "BFvrv7teF--Z",
        "outputId": "8cd9a669-2ba8-4b50-ea03-9d199aaee93e",
        "colab": {
          "base_uri": "https://localhost:8080/",
          "height": 290
        }
      },
      "source": [
        "np.random.seed(49)\n",
        "nyc_gam1 = LinearGAM(formula, lam=best_lambda).fit(X_train_g1, y_train_g1)\n",
        "r_score_train = r2_score(y_train_g1, nyc_gam1.predict(X_train_g1))\n",
        "r_score_test = r2_score(y_test_g1, nyc_gam1.predict(X_test_g1))\n",
        "\n",
        "\n",
        "print('\\n###########################################################\\n')\n",
        "print('\\n########        Budget Change Model         #############\\n')\n",
        "print('\\n###########################################################\\n')\n",
        "print('Lambda = {:0.3f}'.format(best_lambda))\n",
        "print('Training R-Squared = {:0.5f}'.format(r_score_train))\n",
        "print('Testing R-Squared = {:0.5f}'.format(r_score_test))\n",
        "print('\\n###########################################################\\n')"
      ],
      "execution_count": 42,
      "outputs": [
        {
          "output_type": "stream",
          "text": [
            "\n",
            "###########################################################\n",
            "\n",
            "\n",
            "########        Budget Change Model         #############\n",
            "\n",
            "\n",
            "###########################################################\n",
            "\n",
            "Lambda = 3.162\n",
            "Training R-Squared = 0.10208\n",
            "Testing R-Squared = 0.02383\n",
            "\n",
            "###########################################################\n",
            "\n"
          ],
          "name": "stdout"
        }
      ]
    },
    {
      "cell_type": "code",
      "metadata": {
        "id": "3byfvw68bloj",
        "colab_type": "code",
        "outputId": "0a6ce57b-6540-4d3b-b23d-25db789244be",
        "colab": {
          "base_uri": "https://localhost:8080/",
          "height": 1000
        }
      },
      "source": [
        "print(nyc_gam1.summary())"
      ],
      "execution_count": 43,
      "outputs": [
        {
          "output_type": "stream",
          "text": [
            "LinearGAM                                                                                                 \n",
            "=============================================== ==========================================================\n",
            "Distribution:                        NormalDist Effective DoF:                                      8.8794\n",
            "Link Function:                     IdentityLink Log Likelihood:                                  -252.4037\n",
            "Number of Samples:                          113 AIC:                                              524.5661\n",
            "                                                AICc:                                             526.6711\n",
            "                                                GCV:                                                0.1636\n",
            "                                                Scale:                                              0.1406\n",
            "                                                Pseudo R-Squared:                                   0.1021\n",
            "==========================================================================================================\n",
            "Feature Function                  Lambda               Rank         EDoF         P > x        Sig. Code   \n",
            "================================= ==================== ============ ============ ============ ============\n",
            "f(0)                              [3.1623]             15                        4.66e-08     ***         \n",
            "f(1)                              [3.1623]             15                        2.14e-14     ***         \n",
            "s(2)                              [3.1623]             20                        1.11e-16     ***         \n",
            "s(3)                              [3.1623]             20                        1.11e-16     ***         \n",
            "s(4)                              [3.1623]             20                        1.11e-16     ***         \n",
            "s(5)                              [3.1623]             20                        1.11e-16     ***         \n",
            "s(6)                              [3.1623]             20                        1.11e-16     ***         \n",
            "s(7)                              [3.1623]             20                        1.11e-16     ***         \n",
            "s(8)                              [3.1623]             20                        1.11e-16     ***         \n",
            "s(9)                              [3.1623]             20                        1.11e-16     ***         \n",
            "s(10)                             [3.1623]             20                        1.11e-16     ***         \n",
            "s(11)                             [3.1623]             20                        1.11e-16     ***         \n",
            "s(12)                             [3.1623]             20                        1.11e-16     ***         \n",
            "s(13)                             [3.1623]             20                        1.11e-16     ***         \n",
            "s(14)                             [3.1623]             20                        1.11e-16     ***         \n",
            "s(15)                             [3.1623]             20                        1.11e-16     ***         \n",
            "s(16)                             [3.1623]             20                        1.11e-16     ***         \n",
            "s(17)                             [3.1623]             20                        1.11e-16     ***         \n",
            "s(18)                             [3.1623]             20                        1.11e-16     ***         \n",
            "s(19)                             [3.1623]             20                        1.11e-16     ***         \n",
            "s(20)                             [3.1623]             20                        1.11e-16     ***         \n",
            "s(21)                             [3.1623]             20                        1.11e-16     ***         \n",
            "s(22)                             [3.1623]             20                        1.11e-16     ***         \n",
            "s(23)                             [3.1623]             20                        1.11e-16     ***         \n",
            "s(24)                             [3.1623]             20                        1.11e-16     ***         \n",
            "s(25)                             [3.1623]             20                        1.11e-16     ***         \n",
            "s(26)                             [3.1623]             20                        1.11e-16     ***         \n",
            "s(27)                             [3.1623]             20                        1.11e-16     ***         \n",
            "intercept                                              1                         4.65e-05     ***         \n",
            "==========================================================================================================\n",
            "Significance codes:  0 '***' 0.001 '**' 0.01 '*' 0.05 '.' 0.1 ' ' 1\n",
            "\n",
            "WARNING: Fitting splines and a linear function to a feature introduces a model identifiability problem\n",
            "         which can cause p-values to appear significant when they are not.\n",
            "\n",
            "WARNING: p-values calculated in this manner behave correctly for un-penalized models or models with\n",
            "         known smoothing parameters, but when smoothing parameters have been estimated, the p-values\n",
            "         are typically lower than they should be, meaning that the tests reject the null too readily.\n",
            "None\n"
          ],
          "name": "stdout"
        },
        {
          "output_type": "stream",
          "text": [
            "/usr/local/lib/python3.6/dist-packages/ipykernel_launcher.py:1: UserWarning: KNOWN BUG: p-values computed in this summary are likely much smaller than they should be. \n",
            " \n",
            "Please do not make inferences based on these values! \n",
            "\n",
            "Collaborate on a solution, and stay up to date at: \n",
            "github.com/dswah/pyGAM/issues/163 \n",
            "\n",
            "  \"\"\"Entry point for launching an IPython kernel.\n"
          ],
          "name": "stderr"
        }
      ]
    },
    {
      "cell_type": "markdown",
      "metadata": {
        "colab_type": "text",
        "id": "ABYj7zvAC5Ob"
      },
      "source": [
        "#### Schedule Change GAM Model"
      ]
    },
    {
      "cell_type": "code",
      "metadata": {
        "colab_type": "code",
        "id": "glhaaukkCu90",
        "colab": {}
      },
      "source": [
        "nyc_train_g2 = nyc_train_gam.copy()\n",
        "#nyc_train_trunc = nyc_train_trunc[qual_columns]\n",
        "y_train_g2 = (nyc_train_g2['Schedule Change Norm'])\n",
        "X_train_g2 = nyc_train_g2.drop(['Schedule Change Norm', 'Budget Forecast'], axis=1)\n",
        "nyc_test_g2 = nyc_test_gam.copy()\n",
        "#nyc_train_trunc = nyc_train_trunc[qual_columns]\n",
        "y_test_g2 = (nyc_test_g2['Schedule Change Norm'])\n",
        "X_test_g2 = nyc_test_g2.drop(['Schedule Change Norm', 'Budget Forecast'], axis=1)"
      ],
      "execution_count": 0,
      "outputs": []
    },
    {
      "cell_type": "code",
      "metadata": {
        "id": "sGjRyPC7a4ju",
        "colab_type": "code",
        "colab": {}
      },
      "source": [
        "np.random.seed(49)\n",
        "X_trn2, X_val2, y_trn2, y_val2 = train_test_split(X_train_g2, y_train_g2, test_size=0.2)\n",
        "scores = np.zeros((len(smoothings)))\n",
        "for j, smoothing in enumerate(smoothings):\n",
        "    cur_model2 = LinearGAM(formula, lam = smoothing).fit(X_trn2, y_trn2)\n",
        "    scores[j] = r2_score(y_val2, cur_model2.predict(X_val2))\n",
        "                              \n",
        "best_lambda2 = smoothings[np.argmax(scores, axis = 0)]"
      ],
      "execution_count": 0,
      "outputs": []
    },
    {
      "cell_type": "code",
      "metadata": {
        "id": "D-Vb_YSQbEHU",
        "colab_type": "code",
        "outputId": "c8fc389c-da65-48b2-9d4f-69c64b464634",
        "colab": {
          "base_uri": "https://localhost:8080/",
          "height": 290
        }
      },
      "source": [
        "np.random.seed(49)\n",
        "nyc_gam2 = LinearGAM(formula, lam=best_lambda).fit(X_train_g2, y_train_g2)\n",
        "r_score_train = r2_score(y_train_g2, nyc_gam2.predict(X_train_g2))\n",
        "r_score_test = r2_score(y_test_g2, nyc_gam2.predict(X_test_g2))\n",
        "\n",
        "\n",
        "print('\\n###########################################################\\n')\n",
        "print('\\n########        Schedule Change Model         #############\\n')\n",
        "print('\\n###########################################################\\n')\n",
        "print('Lambda = {:0.3f}'.format(best_lambda))\n",
        "print('Training R-Squared = {:0.5f}'.format(r_score_train))\n",
        "print('Testing R-Squared = {:0.5f}'.format(r_score_test))\n",
        "print('\\n###########################################################\\n')"
      ],
      "execution_count": 94,
      "outputs": [
        {
          "output_type": "stream",
          "text": [
            "\n",
            "###########################################################\n",
            "\n",
            "\n",
            "########        Schedule Change Model         #############\n",
            "\n",
            "\n",
            "###########################################################\n",
            "\n",
            "Lambda = 3.162\n",
            "Training R-Squared = 0.20463\n",
            "Testing R-Squared = -0.00884\n",
            "\n",
            "###########################################################\n",
            "\n"
          ],
          "name": "stdout"
        }
      ]
    },
    {
      "cell_type": "code",
      "metadata": {
        "id": "j3O7K13tbWb6",
        "colab_type": "code",
        "outputId": "00755d9f-7a6b-4dc1-d4e8-6e7cee68ba32",
        "colab": {
          "base_uri": "https://localhost:8080/",
          "height": 1000
        }
      },
      "source": [
        "print(nyc_gam2.summary())"
      ],
      "execution_count": 89,
      "outputs": [
        {
          "output_type": "stream",
          "text": [
            "LinearGAM                                                                                                 \n",
            "=============================================== ==========================================================\n",
            "Distribution:                        NormalDist Effective DoF:                                      9.2698\n",
            "Link Function:                     IdentityLink Log Likelihood:                                  -920.2749\n",
            "Number of Samples:                          113 AIC:                                             1861.0894\n",
            "                                                AICc:                                            1863.3647\n",
            "                                                GCV:                                                 0.052\n",
            "                                                Scale:                                              0.0444\n",
            "                                                Pseudo R-Squared:                                   0.2046\n",
            "==========================================================================================================\n",
            "Feature Function                  Lambda               Rank         EDoF         P > x        Sig. Code   \n",
            "================================= ==================== ============ ============ ============ ============\n",
            "f(0)                              [3.1623]             15                        1.86e-08     ***         \n",
            "f(1)                              [3.1623]             15                        3.87e-02     *           \n",
            "s(2)                              [3.1623]             20                        1.11e-16     ***         \n",
            "s(3)                              [3.1623]             20                        1.11e-16     ***         \n",
            "s(4)                              [3.1623]             20                        1.11e-16     ***         \n",
            "s(5)                              [3.1623]             20                        3.20e-08     ***         \n",
            "s(6)                              [3.1623]             20                        3.77e-04     ***         \n",
            "s(7)                              [3.1623]             20                        5.49e-09     ***         \n",
            "s(8)                              [3.1623]             20                        2.42e-03     **          \n",
            "s(9)                              [3.1623]             20                        5.90e-06     ***         \n",
            "s(10)                             [3.1623]             20                        1.11e-02     *           \n",
            "s(11)                             [3.1623]             20                        1.11e-16     ***         \n",
            "s(12)                             [3.1623]             20                        1.11e-16     ***         \n",
            "s(13)                             [3.1623]             20                        1.40e-12     ***         \n",
            "s(14)                             [3.1623]             20                        4.55e-15     ***         \n",
            "s(15)                             [3.1623]             20                        6.99e-12     ***         \n",
            "s(16)                             [3.1623]             20                        1.11e-16     ***         \n",
            "s(17)                             [3.1623]             20                        1.44e-07     ***         \n",
            "s(18)                             [3.1623]             20                        9.71e-07     ***         \n",
            "s(19)                             [3.1623]             20                        3.22e-04     ***         \n",
            "s(20)                             [3.1623]             20                        1.60e-02     *           \n",
            "s(21)                             [3.1623]             20                        1.26e-04     ***         \n",
            "s(22)                             [3.1623]             20                        1.11e-16     ***         \n",
            "s(23)                             [3.1623]             20                        1.11e-16     ***         \n",
            "s(24)                             [3.1623]             20                        6.58e-08     ***         \n",
            "s(25)                             [3.1623]             20                        2.52e-07     ***         \n",
            "s(26)                             [3.1623]             20                        9.94e-06     ***         \n",
            "s(27)                             [3.1623]             20                        2.82e-08     ***         \n",
            "intercept                                              1                         1.14e-01                 \n",
            "==========================================================================================================\n",
            "Significance codes:  0 '***' 0.001 '**' 0.01 '*' 0.05 '.' 0.1 ' ' 1\n",
            "\n",
            "WARNING: Fitting splines and a linear function to a feature introduces a model identifiability problem\n",
            "         which can cause p-values to appear significant when they are not.\n",
            "\n",
            "WARNING: p-values calculated in this manner behave correctly for un-penalized models or models with\n",
            "         known smoothing parameters, but when smoothing parameters have been estimated, the p-values\n",
            "         are typically lower than they should be, meaning that the tests reject the null too readily.\n",
            "None\n"
          ],
          "name": "stdout"
        },
        {
          "output_type": "stream",
          "text": [
            "/usr/local/lib/python3.6/dist-packages/ipykernel_launcher.py:1: UserWarning: KNOWN BUG: p-values computed in this summary are likely much smaller than they should be. \n",
            " \n",
            "Please do not make inferences based on these values! \n",
            "\n",
            "Collaborate on a solution, and stay up to date at: \n",
            "github.com/dswah/pyGAM/issues/163 \n",
            "\n",
            "  \"\"\"Entry point for launching an IPython kernel.\n"
          ],
          "name": "stderr"
        }
      ]
    },
    {
      "cell_type": "markdown",
      "metadata": {
        "id": "m_MevKlZcETE",
        "colab_type": "text"
      },
      "source": [
        "## Neural Network"
      ]
    },
    {
      "cell_type": "code",
      "metadata": {
        "id": "UXIJ46Fac5YU",
        "colab_type": "code",
        "outputId": "2eb4b9ca-7cf6-4af1-b92a-a7a7a078d8ac",
        "colab": {
          "base_uri": "https://localhost:8080/",
          "height": 108
        }
      },
      "source": [
        "%tensorflow_version 2.0.0"
      ],
      "execution_count": 48,
      "outputs": [
        {
          "output_type": "stream",
          "text": [
            "`%tensorflow_version` only switches the major version: 1.x or 2.x.\n",
            "You set: `2.0.0`. This will be interpreted as: `2.x`.\n",
            "\n",
            "\n",
            "TensorFlow is already loaded. Please restart the runtime to change versions.\n"
          ],
          "name": "stdout"
        }
      ]
    },
    {
      "cell_type": "code",
      "metadata": {
        "id": "2wZDUaKlc-lx",
        "colab_type": "code",
        "outputId": "86f99f65-a120-4396-ac11-36e7dddcca1a",
        "colab": {
          "base_uri": "https://localhost:8080/",
          "height": 746
        }
      },
      "source": [
        "!pip install tensorflow==2.0.0\n",
        "!pip install tf_keras_vis\n",
        "#Getting all pip packages\n",
        "import subprocess\n",
        "import sys\n",
        "reqs = subprocess.check_output([sys.executable, '-m', 'pip', 'freeze'])\n",
        "installed_packages = [r.decode().split('==') for r in reqs.split()]\n",
        "#installing tensorflow-datasets==2.1.0\n",
        "if ['tensorflow-datasets', '2.1.0'] not in installed_packages:\n",
        "  !pip uninstall tensorflow-datasets -y\n",
        "  !pip install tensorflow-datasets==2.1.0 \n",
        "#installing tensorflow-addons==0.6.0\n",
        "if ['tensorflow-addons', '0.6.0'] not in installed_packages:\n",
        "  !pip uninstall tensorflow-addons -y\n",
        "  !pip install tensorflow-addons==0.6.0"
      ],
      "execution_count": 49,
      "outputs": [
        {
          "output_type": "stream",
          "text": [
            "Requirement already satisfied: tensorflow==2.0.0 in /usr/local/lib/python3.6/dist-packages (2.0.0)\n",
            "Requirement already satisfied: tensorboard<2.1.0,>=2.0.0 in /usr/local/lib/python3.6/dist-packages (from tensorflow==2.0.0) (2.0.2)\n",
            "Requirement already satisfied: keras-preprocessing>=1.0.5 in /usr/local/lib/python3.6/dist-packages (from tensorflow==2.0.0) (1.1.0)\n",
            "Requirement already satisfied: keras-applications>=1.0.8 in /usr/local/lib/python3.6/dist-packages (from tensorflow==2.0.0) (1.0.8)\n",
            "Requirement already satisfied: six>=1.10.0 in /usr/local/lib/python3.6/dist-packages (from tensorflow==2.0.0) (1.12.0)\n",
            "Requirement already satisfied: numpy<2.0,>=1.16.0 in /usr/local/lib/python3.6/dist-packages (from tensorflow==2.0.0) (1.18.4)\n",
            "Requirement already satisfied: wheel>=0.26 in /usr/local/lib/python3.6/dist-packages (from tensorflow==2.0.0) (0.34.2)\n",
            "Requirement already satisfied: absl-py>=0.7.0 in /usr/local/lib/python3.6/dist-packages (from tensorflow==2.0.0) (0.9.0)\n",
            "Requirement already satisfied: google-pasta>=0.1.6 in /usr/local/lib/python3.6/dist-packages (from tensorflow==2.0.0) (0.2.0)\n",
            "Requirement already satisfied: opt-einsum>=2.3.2 in /usr/local/lib/python3.6/dist-packages (from tensorflow==2.0.0) (3.2.1)\n",
            "Requirement already satisfied: astor>=0.6.0 in /usr/local/lib/python3.6/dist-packages (from tensorflow==2.0.0) (0.8.1)\n",
            "Requirement already satisfied: gast==0.2.2 in /usr/local/lib/python3.6/dist-packages (from tensorflow==2.0.0) (0.2.2)\n",
            "Requirement already satisfied: wrapt>=1.11.1 in /usr/local/lib/python3.6/dist-packages (from tensorflow==2.0.0) (1.12.1)\n",
            "Requirement already satisfied: termcolor>=1.1.0 in /usr/local/lib/python3.6/dist-packages (from tensorflow==2.0.0) (1.1.0)\n",
            "Requirement already satisfied: protobuf>=3.6.1 in /usr/local/lib/python3.6/dist-packages (from tensorflow==2.0.0) (3.10.0)\n",
            "Requirement already satisfied: grpcio>=1.8.6 in /usr/local/lib/python3.6/dist-packages (from tensorflow==2.0.0) (1.28.1)\n",
            "Requirement already satisfied: tensorflow-estimator<2.1.0,>=2.0.0 in /usr/local/lib/python3.6/dist-packages (from tensorflow==2.0.0) (2.0.1)\n",
            "Requirement already satisfied: google-auth<2,>=1.6.3 in /usr/local/lib/python3.6/dist-packages (from tensorboard<2.1.0,>=2.0.0->tensorflow==2.0.0) (1.7.2)\n",
            "Requirement already satisfied: google-auth-oauthlib<0.5,>=0.4.1 in /usr/local/lib/python3.6/dist-packages (from tensorboard<2.1.0,>=2.0.0->tensorflow==2.0.0) (0.4.1)\n",
            "Requirement already satisfied: setuptools>=41.0.0 in /usr/local/lib/python3.6/dist-packages (from tensorboard<2.1.0,>=2.0.0->tensorflow==2.0.0) (46.1.3)\n",
            "Requirement already satisfied: markdown>=2.6.8 in /usr/local/lib/python3.6/dist-packages (from tensorboard<2.1.0,>=2.0.0->tensorflow==2.0.0) (3.2.1)\n",
            "Requirement already satisfied: requests<3,>=2.21.0 in /usr/local/lib/python3.6/dist-packages (from tensorboard<2.1.0,>=2.0.0->tensorflow==2.0.0) (2.23.0)\n",
            "Requirement already satisfied: werkzeug>=0.11.15 in /usr/local/lib/python3.6/dist-packages (from tensorboard<2.1.0,>=2.0.0->tensorflow==2.0.0) (1.0.1)\n",
            "Requirement already satisfied: h5py in /usr/local/lib/python3.6/dist-packages (from keras-applications>=1.0.8->tensorflow==2.0.0) (2.10.0)\n",
            "Requirement already satisfied: pyasn1-modules>=0.2.1 in /usr/local/lib/python3.6/dist-packages (from google-auth<2,>=1.6.3->tensorboard<2.1.0,>=2.0.0->tensorflow==2.0.0) (0.2.8)\n",
            "Requirement already satisfied: cachetools<3.2,>=2.0.0 in /usr/local/lib/python3.6/dist-packages (from google-auth<2,>=1.6.3->tensorboard<2.1.0,>=2.0.0->tensorflow==2.0.0) (3.1.1)\n",
            "Requirement already satisfied: rsa<4.1,>=3.1.4 in /usr/local/lib/python3.6/dist-packages (from google-auth<2,>=1.6.3->tensorboard<2.1.0,>=2.0.0->tensorflow==2.0.0) (4.0)\n",
            "Requirement already satisfied: requests-oauthlib>=0.7.0 in /usr/local/lib/python3.6/dist-packages (from google-auth-oauthlib<0.5,>=0.4.1->tensorboard<2.1.0,>=2.0.0->tensorflow==2.0.0) (1.3.0)\n",
            "Requirement already satisfied: certifi>=2017.4.17 in /usr/local/lib/python3.6/dist-packages (from requests<3,>=2.21.0->tensorboard<2.1.0,>=2.0.0->tensorflow==2.0.0) (2020.4.5.1)\n",
            "Requirement already satisfied: chardet<4,>=3.0.2 in /usr/local/lib/python3.6/dist-packages (from requests<3,>=2.21.0->tensorboard<2.1.0,>=2.0.0->tensorflow==2.0.0) (3.0.4)\n",
            "Requirement already satisfied: urllib3!=1.25.0,!=1.25.1,<1.26,>=1.21.1 in /usr/local/lib/python3.6/dist-packages (from requests<3,>=2.21.0->tensorboard<2.1.0,>=2.0.0->tensorflow==2.0.0) (1.24.3)\n",
            "Requirement already satisfied: idna<3,>=2.5 in /usr/local/lib/python3.6/dist-packages (from requests<3,>=2.21.0->tensorboard<2.1.0,>=2.0.0->tensorflow==2.0.0) (2.9)\n",
            "Requirement already satisfied: pyasn1<0.5.0,>=0.4.6 in /usr/local/lib/python3.6/dist-packages (from pyasn1-modules>=0.2.1->google-auth<2,>=1.6.3->tensorboard<2.1.0,>=2.0.0->tensorflow==2.0.0) (0.4.8)\n",
            "Requirement already satisfied: oauthlib>=3.0.0 in /usr/local/lib/python3.6/dist-packages (from requests-oauthlib>=0.7.0->google-auth-oauthlib<0.5,>=0.4.1->tensorboard<2.1.0,>=2.0.0->tensorflow==2.0.0) (3.1.0)\n",
            "Requirement already satisfied: tf_keras_vis in /usr/local/lib/python3.6/dist-packages (0.2.5)\n",
            "Requirement already satisfied: pillow in /usr/local/lib/python3.6/dist-packages (from tf_keras_vis) (7.0.0)\n",
            "Requirement already satisfied: imageio in /usr/local/lib/python3.6/dist-packages (from tf_keras_vis) (2.4.1)\n",
            "Requirement already satisfied: scipy in /usr/local/lib/python3.6/dist-packages (from tf_keras_vis) (1.4.1)\n",
            "Requirement already satisfied: numpy in /usr/local/lib/python3.6/dist-packages (from tf_keras_vis) (1.18.4)\n"
          ],
          "name": "stdout"
        }
      ]
    },
    {
      "cell_type": "code",
      "metadata": {
        "id": "w0n_mXJekRth",
        "colab_type": "code",
        "colab": {}
      },
      "source": [
        "\n",
        "# TensorFlow and tf.keras\n",
        "import tensorflow as tf\n",
        "from tensorflow.keras import backend as K\n",
        "from tensorflow.keras import layers\n",
        "from tensorflow.keras import models\n",
        "from tensorflow.keras import losses\n",
        "from tensorflow.keras import optimizers\n",
        "from tensorflow.keras import initializers\n",
        "from tensorflow.keras.metrics import *\n",
        "\n",
        "from tensorflow.keras import Input\n",
        "from tensorflow.keras.models import Sequential, Model\n",
        "from tensorflow.keras.layers import Dense, Dropout, Flatten, Activation, Reshape, Concatenate, Lambda\n",
        "from tensorflow.keras.optimizers import Adam, SGD"
      ],
      "execution_count": 0,
      "outputs": []
    },
    {
      "cell_type": "markdown",
      "metadata": {
        "id": "nO21H8eqyT84",
        "colab_type": "text"
      },
      "source": [
        "\n",
        "\n",
        "```\n",
        "# This is formatted as code\n",
        "```\n",
        "\n",
        "#### Neural Network with PCA"
      ]
    },
    {
      "cell_type": "code",
      "metadata": {
        "id": "Z3ngQq9pkZpy",
        "colab_type": "code",
        "outputId": "63347276-6939-4ab7-c823-34a3586dae81",
        "colab": {
          "base_uri": "https://localhost:8080/",
          "height": 435
        }
      },
      "source": [
        "input = Input(shape=(28,))\n",
        "input_1 = Lambda(lambda x: x[:, 0:4])(input)\n",
        "input_2 = Lambda(lambda x: x[:, 4:28])(input)\n",
        "dense1 = Dense(8, name='description', activation='linear')(input_2)\n",
        "dense2 = Dense(2, activation='linear')(input_1)\n",
        "conc1 = Concatenate(axis = 1)([dense1, dense2])\n",
        "output = Dense(1, activation='linear')(conc1)\n",
        "model = tf.keras.Model(input, output)\n",
        "model.compile(optimizer='adam', loss='mse',metrics=['accuracy'])\n",
        "model.summary()"
      ],
      "execution_count": 51,
      "outputs": [
        {
          "output_type": "stream",
          "text": [
            "Model: \"model\"\n",
            "__________________________________________________________________________________________________\n",
            "Layer (type)                    Output Shape         Param #     Connected to                     \n",
            "==================================================================================================\n",
            "input_1 (InputLayer)            [(None, 28)]         0                                            \n",
            "__________________________________________________________________________________________________\n",
            "lambda_1 (Lambda)               (None, 24)           0           input_1[0][0]                    \n",
            "__________________________________________________________________________________________________\n",
            "lambda (Lambda)                 (None, 4)            0           input_1[0][0]                    \n",
            "__________________________________________________________________________________________________\n",
            "description (Dense)             (None, 8)            200         lambda_1[0][0]                   \n",
            "__________________________________________________________________________________________________\n",
            "dense (Dense)                   (None, 2)            10          lambda[0][0]                     \n",
            "__________________________________________________________________________________________________\n",
            "concatenate (Concatenate)       (None, 10)           0           description[0][0]                \n",
            "                                                                 dense[0][0]                      \n",
            "__________________________________________________________________________________________________\n",
            "dense_1 (Dense)                 (None, 1)            11          concatenate[0][0]                \n",
            "==================================================================================================\n",
            "Total params: 221\n",
            "Trainable params: 221\n",
            "Non-trainable params: 0\n",
            "__________________________________________________________________________________________________\n"
          ],
          "name": "stdout"
        }
      ]
    },
    {
      "cell_type": "code",
      "metadata": {
        "id": "E9_x0cnIxv43",
        "colab_type": "code",
        "outputId": "91d25eb3-c3ee-497b-ccf2-75dd40ead4c1",
        "colab": {
          "base_uri": "https://localhost:8080/",
          "height": 35
        }
      },
      "source": [
        "np.random.seed(49)\n",
        "nyc_train_gam, nyc_test_gam = train_test_split(nyc_df_gam, test_size=.1, random_state=49)\n",
        "np.shape(nyc_df_gam)\n",
        "nyc_train_nn1 = nyc_train_gam.copy()\n",
        "#nyc_train_trunc = nyc_train_trunc[qual_columns]\n",
        "y_train_nn1 = (nyc_train_nn1['Budget Change Norm'])\n",
        "X_train_nn1 = nyc_train_nn1.drop(['Budget Change Norm', 'Project Duration'], axis=1)\n",
        "nyc_test_nn1 = nyc_test_gam.copy()\n",
        "#nyc_train_trunc = nyc_train_trunc[qual_columns]\n",
        "y_test_nn1 = (nyc_test_nn1['Budget Change Norm'])\n",
        "X_test_nn1 = nyc_test_nn1.drop(['Budget Change Norm', 'Project Duration'], axis=1)\n",
        "np.shape(nyc_train_gam)"
      ],
      "execution_count": 52,
      "outputs": [
        {
          "output_type": "execute_result",
          "data": {
            "text/plain": [
              "(127, 30)"
            ]
          },
          "metadata": {
            "tags": []
          },
          "execution_count": 52
        }
      ]
    },
    {
      "cell_type": "code",
      "metadata": {
        "id": "SH459HBBmlOP",
        "colab_type": "code",
        "outputId": "999bff76-a81b-4d69-9cb3-4cac8b9c8a6d",
        "colab": {
          "base_uri": "https://localhost:8080/",
          "height": 337
        }
      },
      "source": [
        "history = model.fit(X_train_nn1.values, y_train_nn1.values, epochs=256, batch_size=32, verbose=False, shuffle=True, validation_split=0.2)\n",
        "def plot_training_history(history):\n",
        "    loss = history.history['loss']\n",
        "    val_loss = history.history['val_loss']\n",
        "    epochs = range(1,len(loss)+1)\n",
        "\n",
        "    plt.figure()\n",
        "    plt.plot(epochs, loss, 'bo', label='Training loss')\n",
        "    plt.plot(epochs, val_loss, 'b', label='Validation loss')\n",
        "    plt.title('Training and validation loss')\n",
        "    plt.xlabel('epoch')\n",
        "    plt.legend()\n",
        "    plt.show()\n",
        "    final_train_loss = history.history['loss'][-1]\n",
        "    final_val_loss = history.history['val_loss'][-1]\n",
        "    print(f'Final Training Loss: {final_train_loss}')\n",
        "    print(f'Final Validation Loss: {final_val_loss}')\n",
        "plot_training_history(history)"
      ],
      "execution_count": 53,
      "outputs": [
        {
          "output_type": "display_data",
          "data": {
            "image/png": "[encoded data removed]",
            "text/plain": [
              "<Figure size 432x288 with 1 Axes>"
            ]
          },
          "metadata": {
            "tags": []
          }
        },
        {
          "output_type": "stream",
          "text": [
            "Final Training Loss: 0.15572775546276924\n",
            "Final Validation Loss: 0.1571592390537262\n"
          ],
          "name": "stdout"
        }
      ]
    },
    {
      "cell_type": "code",
      "metadata": {
        "id": "BX0yHkEjsNua",
        "colab_type": "code",
        "outputId": "39f5058d-d3b5-4993-8cb6-95d9f768f0dd",
        "colab": {
          "base_uri": "https://localhost:8080/",
          "height": 74
        }
      },
      "source": [
        "score, _ = model.evaluate(X_test_nn1.values, y_test_nn1.values,batch_size=32)\n",
        "print('Test score:', score)"
      ],
      "execution_count": 54,
      "outputs": [
        {
          "output_type": "stream",
          "text": [
            "\r15/1 [==================================================================================================================================================================================================================================================================================================================================================================================================================================================================] - 0s 213us/sample - loss: 0.3172 - accuracy: 0.0000e+00\n",
            "Test score: 0.31724172830581665\n"
          ],
          "name": "stdout"
        }
      ]
    },
    {
      "cell_type": "markdown",
      "metadata": {
        "id": "Gmb0h_y1yYQk",
        "colab_type": "text"
      },
      "source": [
        "#### Schedule Change Model"
      ]
    },
    {
      "cell_type": "code",
      "metadata": {
        "id": "wUUrH2Vmyajq",
        "colab_type": "code",
        "outputId": "58e82d6e-a971-498f-9351-a1ae06742a19",
        "colab": {
          "base_uri": "https://localhost:8080/",
          "height": 435
        }
      },
      "source": [
        "model2 = tf.keras.models.clone_model(model)\n",
        "model2.compile(optimizer='adam', loss='mse',metrics=['accuracy'])\n",
        "model2.summary()"
      ],
      "execution_count": 55,
      "outputs": [
        {
          "output_type": "stream",
          "text": [
            "Model: \"model\"\n",
            "__________________________________________________________________________________________________\n",
            "Layer (type)                    Output Shape         Param #     Connected to                     \n",
            "==================================================================================================\n",
            "input_1 (InputLayer)            [(None, 28)]         0                                            \n",
            "__________________________________________________________________________________________________\n",
            "lambda_1 (Lambda)               (None, 24)           0           input_1[0][0]                    \n",
            "__________________________________________________________________________________________________\n",
            "lambda (Lambda)                 (None, 4)            0           input_1[0][0]                    \n",
            "__________________________________________________________________________________________________\n",
            "description (Dense)             (None, 8)            200         lambda_1[0][0]                   \n",
            "__________________________________________________________________________________________________\n",
            "dense (Dense)                   (None, 2)            10          lambda[0][0]                     \n",
            "__________________________________________________________________________________________________\n",
            "concatenate (Concatenate)       (None, 10)           0           description[0][0]                \n",
            "                                                                 dense[0][0]                      \n",
            "__________________________________________________________________________________________________\n",
            "dense_1 (Dense)                 (None, 1)            11          concatenate[0][0]                \n",
            "==================================================================================================\n",
            "Total params: 221\n",
            "Trainable params: 221\n",
            "Non-trainable params: 0\n",
            "__________________________________________________________________________________________________\n"
          ],
          "name": "stdout"
        }
      ]
    },
    {
      "cell_type": "code",
      "metadata": {
        "id": "CeIEYMdZyyBJ",
        "colab_type": "code",
        "colab": {}
      },
      "source": [
        "nyc_train_nn2 = nyc_train_gam.copy()\n",
        "y_train_nn2 = (nyc_train_nn2['Schedule Change Norm'])\n",
        "X_train_nn2 = nyc_train_nn2.drop(['Schedule Change Norm', 'Budget Forecast'], axis=1)\n",
        "nyc_test_nn2 = nyc_test_gam.copy()\n",
        "y_test_nn2 = (nyc_test_nn2['Schedule Change Norm'])\n",
        "X_test_nn2 = nyc_test_nn2.drop(['Schedule Change Norm', 'Budget Forecast'], axis=1)"
      ],
      "execution_count": 0,
      "outputs": []
    },
    {
      "cell_type": "code",
      "metadata": {
        "id": "OurCNA1NzVqk",
        "colab_type": "code",
        "outputId": "c10179fe-818c-46d9-a679-60bc70b75869",
        "colab": {
          "base_uri": "https://localhost:8080/",
          "height": 337
        }
      },
      "source": [
        "history2 = model2.fit(X_train_nn2.values, y_train_nn2.values, epochs=256, batch_size=32, verbose=False, shuffle=True, validation_split=0.2)\n",
        "plot_training_history(history2)"
      ],
      "execution_count": 57,
      "outputs": [
        {
          "output_type": "display_data",
          "data": {
            "image/png": "[encoded data removed]",
            "text/plain": [
              "<Figure size 432x288 with 1 Axes>"
            ]
          },
          "metadata": {
            "tags": []
          }
        },
        {
          "output_type": "stream",
          "text": [
            "Final Training Loss: 0.02494051665215209\n",
            "Final Validation Loss: 0.10478058457374573\n"
          ],
          "name": "stdout"
        }
      ]
    },
    {
      "cell_type": "code",
      "metadata": {
        "id": "SF26nWVEzIBA",
        "colab_type": "code",
        "outputId": "511c20ab-b64e-4c79-e4f5-4bf40b5d8d30",
        "colab": {
          "base_uri": "https://localhost:8080/",
          "height": 74
        }
      },
      "source": [
        "score, _ = model2.evaluate(X_test_nn2.values, y_test_nn2.values,batch_size=32)\n",
        "print('Test score:', score)"
      ],
      "execution_count": 58,
      "outputs": [
        {
          "output_type": "stream",
          "text": [
            "\r15/1 [==================================================================================================================================================================================================================================================================================================================================================================================================================================================================] - 0s 220us/sample - loss: 0.0334 - accuracy: 0.0667\n",
            "Test score: 0.03341232240200043\n"
          ],
          "name": "stdout"
        }
      ]
    },
    {
      "cell_type": "markdown",
      "metadata": {
        "id": "Vckyesu5h3ft",
        "colab_type": "text"
      },
      "source": [
        "### Neural Network with AutoEncoder"
      ]
    },
    {
      "cell_type": "markdown",
      "metadata": {
        "id": "FOhpRWjsigDC",
        "colab_type": "text"
      },
      "source": [
        "#### Training and test data"
      ]
    },
    {
      "cell_type": "code",
      "metadata": {
        "id": "EKdOMW_TiCp1",
        "colab_type": "code",
        "outputId": "5a7aacd1-a41e-4bef-ce95-77d85c81ff47",
        "colab": {
          "base_uri": "https://localhost:8080/",
          "height": 35
        }
      },
      "source": [
        "qual_nn_cols = ['Category', 'Borough', 'Budget Forecast','Project Duration','Schedule Change Norm','Budget Change Norm']\n",
        "nn_df = df[qual_nn_cols].copy()\n",
        "nn_df = nn_df.reset_index(drop=True).merge(df_embed.reset_index(drop=True), left_index=True, right_index=True)\n",
        "nn_df = nn_df.dropna()\n",
        "# TRANSFORM\n",
        "nn_df['Budget Forecast'] = np.log(nn_df['Budget Forecast'])\n",
        "nn_df['Project Duration'] = np.log(nn_df['Project Duration'])\n",
        "nn_df = get_gam_x(nn_df)\n",
        "np.shape(nn_df)"
      ],
      "execution_count": 59,
      "outputs": [
        {
          "output_type": "execute_result",
          "data": {
            "text/plain": [
              "(142, 518)"
            ]
          },
          "metadata": {
            "tags": []
          },
          "execution_count": 59
        }
      ]
    },
    {
      "cell_type": "code",
      "metadata": {
        "id": "i8pKloxRidhx",
        "colab_type": "code",
        "outputId": "b138b4f0-c492-485a-d72b-9014be33bebb",
        "colab": {
          "base_uri": "https://localhost:8080/",
          "height": 35
        }
      },
      "source": [
        "np.random.seed(49)\n",
        "nn_train, nn_test = train_test_split(nn_df, test_size=.1, random_state=49)\n",
        "nyc_train_nn3 = nn_train.copy()\n",
        "y_train_nn3 = (nyc_train_nn3['Budget Change Norm'])\n",
        "X_train_nn3 = nyc_train_nn3.drop(['Budget Change Norm', 'Project Duration'], axis=1)\n",
        "\n",
        "nyc_test_nn3 = nn_test.copy()\n",
        "y_test_nn3 = (nyc_test_nn3['Budget Change Norm'])\n",
        "X_test_nn3 = nyc_test_nn3.drop(['Budget Change Norm', 'Project Duration'], axis=1)\n",
        "np.shape(X_train_nn3)"
      ],
      "execution_count": 60,
      "outputs": [
        {
          "output_type": "execute_result",
          "data": {
            "text/plain": [
              "(127, 516)"
            ]
          },
          "metadata": {
            "tags": []
          },
          "execution_count": 60
        }
      ]
    },
    {
      "cell_type": "code",
      "metadata": {
        "id": "ogCJ2cvHqckj",
        "colab_type": "code",
        "outputId": "172c0da8-1179-4a8e-d93c-eb96efbf8588",
        "colab": {
          "base_uri": "https://localhost:8080/",
          "height": 472
        }
      },
      "source": [
        "input = Input(shape=(516,))\n",
        "input_1 = Lambda(lambda x: x[:, 0:4])(input)\n",
        "input_2 = Lambda(lambda x: x[:, 4:516])(input)\n",
        "dense1 = Dense(8, activation='relu')(input_2)\n",
        "dense2 = Dense(4, activation='linear')(dense1)\n",
        "dense3 = Dense(2, activation='linear')(input_1)\n",
        "conc1 = Concatenate(axis = 1)([dense2, dense3])\n",
        "output = Dense(1, activation='linear')(conc1)\n",
        "model3 = tf.keras.Model(input, output)\n",
        "model3.compile(optimizer='adam', loss='mse',metrics=['accuracy'])\n",
        "model3.summary()"
      ],
      "execution_count": 61,
      "outputs": [
        {
          "output_type": "stream",
          "text": [
            "Model: \"model_1\"\n",
            "__________________________________________________________________________________________________\n",
            "Layer (type)                    Output Shape         Param #     Connected to                     \n",
            "==================================================================================================\n",
            "input_2 (InputLayer)            [(None, 516)]        0                                            \n",
            "__________________________________________________________________________________________________\n",
            "lambda_3 (Lambda)               (None, 512)          0           input_2[0][0]                    \n",
            "__________________________________________________________________________________________________\n",
            "dense_2 (Dense)                 (None, 8)            4104        lambda_3[0][0]                   \n",
            "__________________________________________________________________________________________________\n",
            "lambda_2 (Lambda)               (None, 4)            0           input_2[0][0]                    \n",
            "__________________________________________________________________________________________________\n",
            "dense_3 (Dense)                 (None, 4)            36          dense_2[0][0]                    \n",
            "__________________________________________________________________________________________________\n",
            "dense_4 (Dense)                 (None, 2)            10          lambda_2[0][0]                   \n",
            "__________________________________________________________________________________________________\n",
            "concatenate_1 (Concatenate)     (None, 6)            0           dense_3[0][0]                    \n",
            "                                                                 dense_4[0][0]                    \n",
            "__________________________________________________________________________________________________\n",
            "dense_5 (Dense)                 (None, 1)            7           concatenate_1[0][0]              \n",
            "==================================================================================================\n",
            "Total params: 4,157\n",
            "Trainable params: 4,157\n",
            "Non-trainable params: 0\n",
            "__________________________________________________________________________________________________\n"
          ],
          "name": "stdout"
        }
      ]
    },
    {
      "cell_type": "code",
      "metadata": {
        "id": "-MwN48B8q1Pn",
        "colab_type": "code",
        "outputId": "70cf2495-e0c8-418a-9899-f4b2b2032d07",
        "colab": {
          "base_uri": "https://localhost:8080/",
          "height": 272
        }
      },
      "source": [
        "# Auto-encoder\n",
        "decoder = Dense(512,activation='relu', use_bias=True, bias_initializer='zeros')(input_2)\n",
        "ae = Model(input, decoder)\n",
        "ae.compile(optimizer='adam', loss='mse', metrics=['accuracy'])\n",
        "ae.summary()"
      ],
      "execution_count": 62,
      "outputs": [
        {
          "output_type": "stream",
          "text": [
            "Model: \"model_2\"\n",
            "_________________________________________________________________\n",
            "Layer (type)                 Output Shape              Param #   \n",
            "=================================================================\n",
            "input_2 (InputLayer)         [(None, 516)]             0         \n",
            "_________________________________________________________________\n",
            "lambda_3 (Lambda)            (None, 512)               0         \n",
            "_________________________________________________________________\n",
            "dense_6 (Dense)              (None, 512)               262656    \n",
            "=================================================================\n",
            "Total params: 262,656\n",
            "Trainable params: 262,656\n",
            "Non-trainable params: 0\n",
            "_________________________________________________________________\n"
          ],
          "name": "stdout"
        }
      ]
    },
    {
      "cell_type": "code",
      "metadata": {
        "id": "aUBxv49ttPyj",
        "colab_type": "code",
        "outputId": "3a70181a-4aa6-435a-e9e7-f479be9f2033",
        "colab": {
          "base_uri": "https://localhost:8080/",
          "height": 337
        }
      },
      "source": [
        "ae_history = ae.fit(X_train_nn3.values, X_train_nn3.iloc[:,4:516].values, epochs=50, batch_size=64, shuffle=True, verbose=0, validation_split=0.2)\n",
        "plot_training_history(ae_history)"
      ],
      "execution_count": 63,
      "outputs": [
        {
          "output_type": "display_data",
          "data": {
            "image/png": "[encoded data removed]",
            "text/plain": [
              "<Figure size 432x288 with 1 Axes>"
            ]
          },
          "metadata": {
            "tags": []
          }
        },
        {
          "output_type": "stream",
          "text": [
            "Final Training Loss: 0.0013566228070084265\n",
            "Final Validation Loss: 0.0017687053186818957\n"
          ],
          "name": "stdout"
        }
      ]
    },
    {
      "cell_type": "code",
      "metadata": {
        "id": "tzW6hCRwudLx",
        "colab_type": "code",
        "outputId": "5da753db-de12-4030-d5fc-a5b06b76fd78",
        "colab": {
          "base_uri": "https://localhost:8080/",
          "height": 337
        }
      },
      "source": [
        "# Don't train AE Encoder layer\n",
        "dense1.trainable=False\n",
        "history3 = model3.fit(X_train_nn3.values, y_train_nn3.values, epochs=512, batch_size=32, verbose=False, shuffle=True, validation_split=0.2)\n",
        "plot_training_history(history3)"
      ],
      "execution_count": 64,
      "outputs": [
        {
          "output_type": "display_data",
          "data": {
            "image/png": "[encoded data removed]",
            "text/plain": [
              "<Figure size 432x288 with 1 Axes>"
            ]
          },
          "metadata": {
            "tags": []
          }
        },
        {
          "output_type": "stream",
          "text": [
            "Final Training Loss: 0.00489773821013076\n",
            "Final Validation Loss: 0.4516488313674927\n"
          ],
          "name": "stdout"
        }
      ]
    },
    {
      "cell_type": "code",
      "metadata": {
        "id": "6ChMnMRtwmss",
        "colab_type": "code",
        "outputId": "a40bd2e6-4319-45c2-cef7-a8a13ff3d47b",
        "colab": {
          "base_uri": "https://localhost:8080/",
          "height": 74
        }
      },
      "source": [
        "score, _ = model3.evaluate(X_test_nn3.values, y_test_nn3.values,batch_size=32)\n",
        "print('Test score:', score)"
      ],
      "execution_count": 65,
      "outputs": [
        {
          "output_type": "stream",
          "text": [
            "\r15/1 [==================================================================================================================================================================================================================================================================================================================================================================================================================================================================] - 0s 314us/sample - loss: 0.2554 - accuracy: 0.0000e+00\n",
            "Test score: 0.2554185688495636\n"
          ],
          "name": "stdout"
        }
      ]
    },
    {
      "cell_type": "markdown",
      "metadata": {
        "id": "TQTdJS9_y5Ug",
        "colab_type": "text"
      },
      "source": [
        "##### Schedule Change Model"
      ]
    },
    {
      "cell_type": "code",
      "metadata": {
        "id": "_6BhCcOwy7_e",
        "colab_type": "code",
        "outputId": "4dff9bb9-0a3d-4c5b-d5cf-cbcf05ba764d",
        "colab": {
          "base_uri": "https://localhost:8080/",
          "height": 35
        }
      },
      "source": [
        "y_train_nn4 = (nyc_train_nn3['Schedule Change Norm'])\n",
        "X_train_nn4 = nyc_train_nn3.drop(['Schedule Change Norm', 'Budget Forecast'], axis=1)\n",
        "\n",
        "y_test_nn4 = (nyc_test_nn3['Schedule Change Norm'])\n",
        "X_test_nn4 = nyc_test_nn3.drop(['Schedule Change Norm', 'Budget Forecast'], axis=1)\n",
        "np.shape(X_train_nn4)"
      ],
      "execution_count": 66,
      "outputs": [
        {
          "output_type": "execute_result",
          "data": {
            "text/plain": [
              "(127, 516)"
            ]
          },
          "metadata": {
            "tags": []
          },
          "execution_count": 66
        }
      ]
    },
    {
      "cell_type": "code",
      "metadata": {
        "id": "9TiHUJmZzSnp",
        "colab_type": "code",
        "outputId": "687ca389-65ff-4b71-f5eb-0ddfd6b2780a",
        "colab": {
          "base_uri": "https://localhost:8080/",
          "height": 472
        }
      },
      "source": [
        "input = Input(shape=(516,))\n",
        "input_1 = Lambda(lambda x: x[:, 0:4])(input)\n",
        "input_2 = Lambda(lambda x: x[:, 4:516])(input)\n",
        "dense1 = Dense(8, activation='relu')(input_2)\n",
        "dense2 = Dense(4, activation='linear')(dense1)\n",
        "dense3 = Dense(2, activation='linear')(input_1)\n",
        "conc1 = Concatenate(axis = 1)([dense2, dense3])\n",
        "output = Dense(1, activation='linear')(conc1)\n",
        "model4 = tf.keras.Model(input, output)\n",
        "model4.compile(optimizer='adam', loss='mse',metrics=['accuracy'])\n",
        "model4.summary()"
      ],
      "execution_count": 72,
      "outputs": [
        {
          "output_type": "stream",
          "text": [
            "Model: \"model_5\"\n",
            "__________________________________________________________________________________________________\n",
            "Layer (type)                    Output Shape         Param #     Connected to                     \n",
            "==================================================================================================\n",
            "input_4 (InputLayer)            [(None, 516)]        0                                            \n",
            "__________________________________________________________________________________________________\n",
            "lambda_7 (Lambda)               (None, 512)          0           input_4[0][0]                    \n",
            "__________________________________________________________________________________________________\n",
            "dense_12 (Dense)                (None, 8)            4104        lambda_7[0][0]                   \n",
            "__________________________________________________________________________________________________\n",
            "lambda_6 (Lambda)               (None, 4)            0           input_4[0][0]                    \n",
            "__________________________________________________________________________________________________\n",
            "dense_13 (Dense)                (None, 4)            36          dense_12[0][0]                   \n",
            "__________________________________________________________________________________________________\n",
            "dense_14 (Dense)                (None, 2)            10          lambda_6[0][0]                   \n",
            "__________________________________________________________________________________________________\n",
            "concatenate_3 (Concatenate)     (None, 6)            0           dense_13[0][0]                   \n",
            "                                                                 dense_14[0][0]                   \n",
            "__________________________________________________________________________________________________\n",
            "dense_15 (Dense)                (None, 1)            7           concatenate_3[0][0]              \n",
            "==================================================================================================\n",
            "Total params: 4,157\n",
            "Trainable params: 4,157\n",
            "Non-trainable params: 0\n",
            "__________________________________________________________________________________________________\n"
          ],
          "name": "stdout"
        }
      ]
    },
    {
      "cell_type": "code",
      "metadata": {
        "id": "4eq7SBt_zb4U",
        "colab_type": "code",
        "outputId": "5007ddfc-c606-45ba-d0dc-6efd9ba759fa",
        "colab": {
          "base_uri": "https://localhost:8080/",
          "height": 272
        }
      },
      "source": [
        "# Auto-encoder\n",
        "decoder = Dense(512,activation='relu', use_bias=True, bias_initializer='zeros')(input_2)\n",
        "ae2 = Model(input, decoder)\n",
        "ae2.compile(optimizer='adam', loss='mse', metrics=['accuracy'])\n",
        "ae2.summary()"
      ],
      "execution_count": 73,
      "outputs": [
        {
          "output_type": "stream",
          "text": [
            "Model: \"model_6\"\n",
            "_________________________________________________________________\n",
            "Layer (type)                 Output Shape              Param #   \n",
            "=================================================================\n",
            "input_4 (InputLayer)         [(None, 516)]             0         \n",
            "_________________________________________________________________\n",
            "lambda_7 (Lambda)            (None, 512)               0         \n",
            "_________________________________________________________________\n",
            "dense_16 (Dense)             (None, 512)               262656    \n",
            "=================================================================\n",
            "Total params: 262,656\n",
            "Trainable params: 262,656\n",
            "Non-trainable params: 0\n",
            "_________________________________________________________________\n"
          ],
          "name": "stdout"
        }
      ]
    },
    {
      "cell_type": "code",
      "metadata": {
        "id": "6MBIczEyzgLY",
        "colab_type": "code",
        "outputId": "7a15197f-da24-4237-a14d-ecf8d223abd4",
        "colab": {
          "base_uri": "https://localhost:8080/",
          "height": 337
        }
      },
      "source": [
        "ae2_history = ae2.fit(X_train_nn4.values, X_train_nn4.iloc[:,4:516].values, epochs=50, batch_size=64, shuffle=True, verbose=0, validation_split=0.2)\n",
        "plot_training_history(ae2_history)"
      ],
      "execution_count": 74,
      "outputs": [
        {
          "output_type": "display_data",
          "data": {
            "image/png": "[encoded data removed]",
            "text/plain": [
              "<Figure size 432x288 with 1 Axes>"
            ]
          },
          "metadata": {
            "tags": []
          }
        },
        {
          "output_type": "stream",
          "text": [
            "Final Training Loss: 0.001335999536521659\n",
            "Final Validation Loss: 0.0017576980171725154\n"
          ],
          "name": "stdout"
        }
      ]
    },
    {
      "cell_type": "code",
      "metadata": {
        "id": "NcKyBBdrzmt_",
        "colab_type": "code",
        "outputId": "befffa56-8e8d-4a9c-d15f-36fc6e9d0706",
        "colab": {
          "base_uri": "https://localhost:8080/",
          "height": 337
        }
      },
      "source": [
        "# Don't train AE Encoder layer\n",
        "dense1.trainable=False\n",
        "history4 = model4.fit(X_train_nn4.values, y_train_nn4.values, epochs=512, batch_size=32, verbose=False, shuffle=True, validation_split=0.2)\n",
        "plot_training_history(history4)"
      ],
      "execution_count": 75,
      "outputs": [
        {
          "output_type": "display_data",
          "data": {
            "image/png": "[encoded data removed]",
            "text/plain": [
              "<Figure size 432x288 with 1 Axes>"
            ]
          },
          "metadata": {
            "tags": []
          }
        },
        {
          "output_type": "stream",
          "text": [
            "Final Training Loss: 0.021155164899802445\n",
            "Final Validation Loss: 0.40183496475219727\n"
          ],
          "name": "stdout"
        }
      ]
    },
    {
      "cell_type": "code",
      "metadata": {
        "id": "QU7z-SoRzr0n",
        "colab_type": "code",
        "outputId": "c3cea3bb-7056-4f54-a329-07653f980ea6",
        "colab": {
          "base_uri": "https://localhost:8080/",
          "height": 74
        }
      },
      "source": [
        "score, _ = model4.evaluate(X_test_nn4.values, y_test_nn4.values,batch_size=32)\n",
        "print('Test score:', score)"
      ],
      "execution_count": 76,
      "outputs": [
        {
          "output_type": "stream",
          "text": [
            "\r15/1 [==================================================================================================================================================================================================================================================================================================================================================================================================================================================================] - 0s 226us/sample - loss: 0.2217 - accuracy: 0.0667\n",
            "Test score: 0.22166737914085388\n"
          ],
          "name": "stdout"
        }
      ]
    },
    {
      "cell_type": "markdown",
      "metadata": {
        "id": "CahhKxYbzp1E",
        "colab_type": "text"
      },
      "source": [
        ""
      ]
    }
  ]
}